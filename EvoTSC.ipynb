{
 "cells": [
  {
   "cell_type": "code",
   "execution_count": null,
   "metadata": {},
   "outputs": [],
   "source": [
    "import numpy as np\n",
    "import matplotlib as mpl\n",
    "import matplotlib.pyplot as plt"
   ]
  },
  {
   "cell_type": "code",
   "execution_count": null,
   "metadata": {},
   "outputs": [],
   "source": [
    "import cProfile"
   ]
  },
  {
   "cell_type": "code",
   "execution_count": null,
   "metadata": {},
   "outputs": [],
   "source": [
    "import copy"
   ]
  },
  {
   "cell_type": "code",
   "execution_count": null,
   "metadata": {},
   "outputs": [],
   "source": [
    "import autoreload\n",
    "import evotsc\n",
    "autoreload.reload(evotsc)"
   ]
  },
  {
   "cell_type": "code",
   "execution_count": null,
   "metadata": {},
   "outputs": [],
   "source": [
    "# Population-level constants\n",
    "intergene = 1000\n",
    "interaction_dist = 2500"
   ]
  },
  {
   "cell_type": "code",
   "execution_count": null,
   "metadata": {},
   "outputs": [],
   "source": [
    "def plot_expr(indiv, plot_title, plot_name):\n",
    "    \n",
    "    temporal_expr, fitness = indiv.evaluate()\n",
    "    \n",
    "    nb_genes, nb_steps = temporal_expr.shape\n",
    "    \n",
    "    colors = plt.rcParams['axes.prop_cycle'].by_key()['color']\n",
    "    \n",
    "    plt.figure(figsize=(9, 6), dpi=200)\n",
    "    \n",
    "    plt.ylim(-0.1, 2.1)\n",
    "    \n",
    "    for gene in range(nb_genes):\n",
    "        linestyle = 'solid' if indiv.genes[gene].orientation == 0 else 'dashed'\n",
    "        plt.plot(temporal_expr[indiv.genes[gene].id, :],\n",
    "                 linestyle=linestyle,\n",
    "                 color=colors[indiv.genes[gene].id],\n",
    "                 label=f'Gene {indiv.genes[gene].id}')\n",
    "    \n",
    "    plt.grid(linestyle=':')\n",
    "    plt.xlabel('Time', fontsize='large')\n",
    "    plt.ylabel('Expression level', fontsize='large')\n",
    "    \n",
    "    plt.legend(loc='center right')\n",
    "    plt.title(plot_title + f' fitness: {fitness:.5}')\n",
    "        \n",
    "    plt.savefig(plot_name, dpi=300, bbox_inches='tight')"
   ]
  },
  {
   "cell_type": "code",
   "execution_count": null,
   "metadata": {},
   "outputs": [],
   "source": [
    "def switch_1_gene(individual): # Evaluate all the individuals obtained by switching 1 gene of the given individual\n",
    "    for i_switched_gene in range(len(genes)):\n",
    "        # Switch the current gene \n",
    "        to_switch = individual.genes[i_switched_gene]\n",
    "        to_switch.orientation = 1 - to_switch.orientation\n",
    "\n",
    "        # Run the switched system and plot\n",
    "        switch_res, switch_fit = individual.evaluate()\n",
    "        print(f'Switched gene {i_switched_gene}, fitness: {switch_fit}')\n",
    "        plot_expr(switch_res, switch_fit, f'switched_{i_switched_gene}')\n",
    "\n",
    "        # Reset the gene to its former orientation\n",
    "        to_switch.orientation = 1 - to_switch.orientation"
   ]
  },
  {
   "cell_type": "code",
   "execution_count": null,
   "metadata": {},
   "outputs": [],
   "source": [
    "def linear_activation(arr):\n",
    "    return np.maximum(0.0, np.minimum(arr, 2.0))"
   ]
  },
  {
   "cell_type": "code",
   "execution_count": null,
   "metadata": {},
   "outputs": [],
   "source": [
    "def tanh_activation(beta, arr):\n",
    "    return np.tanh(arr - 1.0 + beta) + 1.0"
   ]
  },
  {
   "cell_type": "code",
   "execution_count": null,
   "metadata": {},
   "outputs": [],
   "source": [
    "def tanh_2x_activation(beta, arr):\n",
    "    return np.tanh(2*(arr - 1.0) + beta) + 1.0"
   ]
  },
  {
   "cell_type": "code",
   "execution_count": null,
   "metadata": {},
   "outputs": [],
   "source": [
    "init_genes = evotsc.Gene.generate(intergene=intergene, nb_genes=10)"
   ]
  },
  {
   "cell_type": "code",
   "execution_count": null,
   "metadata": {},
   "outputs": [],
   "source": [
    "init_indiv = evotsc.Individual(genes=init_genes,\n",
    "                               interaction_dist=interaction_dist,\n",
    "                               interaction_coef=0.3,\n",
    "                               nb_eval_steps=51,\n",
    "                               activation=lambda arr: tanh_2x_activation(0.0, arr))"
   ]
  },
  {
   "cell_type": "code",
   "execution_count": null,
   "metadata": {},
   "outputs": [],
   "source": [
    "mutation = evotsc.Mutation(intergene_mutation_prob=1e-2,\n",
    "                           intergene_mutation_var=50,\n",
    "                           inversion_prob=1e-3)"
   ]
  },
  {
   "cell_type": "code",
   "execution_count": null,
   "metadata": {},
   "outputs": [],
   "source": [
    "population = evotsc.Population(init_indiv=init_indiv, nb_indivs=1000, mutation=mutation)"
   ]
  },
  {
   "cell_type": "code",
   "execution_count": null,
   "metadata": {},
   "outputs": [],
   "source": [
    "inversion_only = evotsc.Mutation(intergene_mutation_prob=0.0,\n",
    "                                 intergene_mutation_var=0.0,\n",
    "                                 inversion_prob=1.0)"
   ]
  },
  {
   "cell_type": "code",
   "execution_count": null,
   "metadata": {},
   "outputs": [],
   "source": [
    "test_genes = evotsc.Gene.generate(intergene=intergene, nb_genes=10)"
   ]
  },
  {
   "cell_type": "code",
   "execution_count": null,
   "metadata": {},
   "outputs": [],
   "source": [
    "for i_gene, gene in enumerate(test_genes):\n",
    "    gene.intergene += 100 * i_gene"
   ]
  },
  {
   "cell_type": "code",
   "execution_count": null,
   "metadata": {},
   "outputs": [],
   "source": [
    "test_genes"
   ]
  },
  {
   "cell_type": "code",
   "execution_count": null,
   "metadata": {},
   "outputs": [],
   "source": [
    "test_indiv = evotsc.Individual(genes=test_genes,\n",
    "                               interaction_dist=interaction_dist,\n",
    "                               interaction_coef=0.3,\n",
    "                               nb_eval_steps=51,\n",
    "                               activation=linear_activation)"
   ]
  },
  {
   "cell_type": "code",
   "execution_count": null,
   "metadata": {},
   "outputs": [],
   "source": [
    "real_indiv = test_indiv.clone()"
   ]
  },
  {
   "cell_type": "code",
   "execution_count": null,
   "metadata": {},
   "outputs": [],
   "source": [
    "plot_expr(real_indiv, plot_title='individual', plot_name='individual 0')"
   ]
  },
  {
   "cell_type": "code",
   "execution_count": null,
   "metadata": {},
   "outputs": [],
   "source": [
    "for i in range(1, 11):\n",
    "    real_indiv.mutate(inversion_only)\n",
    "    plot_expr(real_indiv, plot_title='individual', plot_name=f'individual {i}')\n",
    "    print(real_indiv)"
   ]
  },
  {
   "cell_type": "code",
   "execution_count": null,
   "metadata": {},
   "outputs": [],
   "source": [
    "real_indiv.generate_inversion(mutation=inversion_only)"
   ]
  },
  {
   "cell_type": "code",
   "execution_count": null,
   "metadata": {},
   "outputs": [],
   "source": [
    "real_indiv"
   ]
  },
  {
   "cell_type": "code",
   "execution_count": null,
   "metadata": {},
   "outputs": [],
   "source": []
  }
 ],
 "metadata": {
  "kernelspec": {
   "display_name": "Python 3",
   "language": "python",
   "name": "python3"
  },
  "language_info": {
   "codemirror_mode": {
    "name": "ipython",
    "version": 3
   },
   "file_extension": ".py",
   "mimetype": "text/x-python",
   "name": "python",
   "nbconvert_exporter": "python",
   "pygments_lexer": "ipython3",
   "version": "3.7.9"
  }
 },
 "nbformat": 4,
 "nbformat_minor": 4
}
