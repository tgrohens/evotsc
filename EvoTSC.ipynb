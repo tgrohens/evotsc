{
 "cells": [
  {
   "cell_type": "code",
   "execution_count": null,
   "metadata": {},
   "outputs": [],
   "source": [
    "import numpy as np\n",
    "import matplotlib as mpl\n",
    "import matplotlib.pyplot as plt"
   ]
  },
  {
   "cell_type": "code",
   "execution_count": null,
   "metadata": {},
   "outputs": [],
   "source": [
    "import copy"
   ]
  },
  {
   "cell_type": "code",
   "execution_count": null,
   "metadata": {},
   "outputs": [],
   "source": [
    "import autoreload\n",
    "import evotsc\n",
    "autoreload.reload(evotsc)"
   ]
  },
  {
   "cell_type": "code",
   "execution_count": null,
   "metadata": {},
   "outputs": [],
   "source": [
    "# Population-level constants\n",
    "intergene = 1000\n",
    "interaction_dist = 2500\n",
    "beta_A = 0.0\n",
    "beta_B = 0.25"
   ]
  },
  {
   "cell_type": "code",
   "execution_count": null,
   "metadata": {},
   "outputs": [],
   "source": [
    "def plot_expr(indiv, plot_title, plot_name):\n",
    "    \n",
    "    temporal_expr, fitness = indiv.evaluate()\n",
    "    \n",
    "    nb_genes, nb_steps = temporal_expr.shape\n",
    "    \n",
    "    colors = mpl.cm.get_cmap('viridis', nb_genes)(range(nb_genes))\n",
    "    \n",
    "    plt.figure(figsize=(9, 8), dpi=200)\n",
    "    \n",
    "    plt.ylim(-0.1, 2.1)\n",
    "    \n",
    "    for gene in range(nb_genes):\n",
    "        linestyle = 'solid' if indiv.genes[gene].orientation == 0 else 'dashed'\n",
    "        plt.plot(temporal_expr[indiv.genes[gene].id, :],\n",
    "                 linestyle=linestyle,\n",
    "                 color=colors[indiv.genes[gene].id],\n",
    "                 label=f'Gene {indiv.genes[gene].id}')\n",
    "    \n",
    "    plt.grid(linestyle=':')\n",
    "    plt.xlabel('Time', fontsize='large')\n",
    "    plt.ylabel('Expression level', fontsize='large')\n",
    "    \n",
    "    plt.legend(loc='center right')\n",
    "    plt.title(plot_title + f' fitness: {fitness:.5}')\n",
    "        \n",
    "    plt.savefig(plot_name, dpi=300, bbox_inches='tight')"
   ]
  },
  {
   "cell_type": "code",
   "execution_count": null,
   "metadata": {},
   "outputs": [],
   "source": [
    "def plot_expr_AB(indiv, plot_title, plot_name):\n",
    "    \n",
    "    (temporal_expr_A, temporal_expr_B), fitness = indiv.evaluate(beta_A=beta_A, beta_B=beta_B)\n",
    "        \n",
    "    colors_A = ['tab:green', 'tab:green', 'tab:red'] # A & B or A are valid\n",
    "    colors_B = ['tab:green', 'tab:red', 'tab:green'] # A & B or B are valid\n",
    "    \n",
    "    plt.figure(figsize=(9, 6), dpi=200)\n",
    "\n",
    "    ## First subplot: environment A\n",
    "    plt.subplot(2, 1, 1)\n",
    "    plt.ylim(-0.1, 2.1)\n",
    "    \n",
    "    for gene in range(indiv.nb_genes):\n",
    "        linestyle = 'solid' if indiv.genes[gene].orientation == 0 else 'dashed'\n",
    "        plt.plot(temporal_expr_A[indiv.genes[gene].id, :],\n",
    "                 linestyle=linestyle,\n",
    "                 color=colors_A[indiv.genes[gene].gene_type],\n",
    "                 label=f'Gene {indiv.genes[gene].id}')\n",
    "    \n",
    "    plt.grid(linestyle=':')\n",
    "    #plt.xlabel('Time', fontsize='large')\n",
    "    plt.ylabel('Expression level', fontsize='large')\n",
    "    \n",
    "    #plt.legend(loc='center right')\n",
    "    plt.title('Environment A')\n",
    "    \n",
    "    ## Second subplot: environment B\n",
    "    plt.subplot(2, 1, 2)\n",
    "    plt.ylim(-0.1, 2.1)\n",
    "    \n",
    "    for gene in range(indiv.nb_genes):\n",
    "        linestyle = 'solid' if indiv.genes[gene].orientation == 0 else 'dashed'\n",
    "        plt.plot(temporal_expr_B[indiv.genes[gene].id, :],\n",
    "                 linestyle=linestyle,\n",
    "                 color=colors_B[indiv.genes[gene].gene_type],\n",
    "                 label=f'Gene {indiv.genes[gene].id}')\n",
    "    \n",
    "    plt.grid(linestyle=':')\n",
    "    plt.xlabel('Time', fontsize='large')\n",
    "    plt.ylabel('Expression level', fontsize='large')\n",
    "    \n",
    "    #plt.legend(loc='center right')\n",
    "    plt.title('Environment B')\n",
    "    \n",
    "    ## Final stuff\n",
    "    plt.suptitle(f'{plot_title} fitness: {fitness:.5}')\n",
    "    \n",
    "    plt.tight_layout()\n",
    "\n",
    "        \n",
    "    plt.savefig(plot_name, dpi=300, bbox_inches='tight')"
   ]
  },
  {
   "cell_type": "code",
   "execution_count": null,
   "metadata": {},
   "outputs": [],
   "source": [
    "init_genes = evotsc.Gene.generate(intergene=intergene, nb_genes=20, default_basal_expression=1.0)"
   ]
  },
  {
   "cell_type": "code",
   "execution_count": null,
   "metadata": {},
   "outputs": [],
   "source": [
    "init_indiv = evotsc.Individual(genes=init_genes,\n",
    "                               interaction_dist=interaction_dist,\n",
    "                               interaction_coef=0.3,\n",
    "                               nb_eval_steps=51)"
   ]
  },
  {
   "cell_type": "code",
   "execution_count": null,
   "metadata": {},
   "outputs": [],
   "source": [
    "mutation = evotsc.Mutation(intergene_mutation_prob=0.0,\n",
    "                           intergene_mutation_var=0.0,\n",
    "                           inversion_prob=1e-2)"
   ]
  },
  {
   "cell_type": "code",
   "execution_count": null,
   "metadata": {},
   "outputs": [],
   "source": [
    "plot_expr_AB(indiv=init_indiv, plot_title='best generation 0', plot_name='best generation 0')"
   ]
  },
  {
   "cell_type": "code",
   "execution_count": null,
   "metadata": {},
   "outputs": [],
   "source": [
    "population = evotsc.Population(init_indiv=init_indiv, nb_indivs=1000, mutation=mutation)"
   ]
  },
  {
   "cell_type": "code",
   "execution_count": null,
   "metadata": {},
   "outputs": [],
   "source": [
    "step = 50\n",
    "\n",
    "best_indivs = []\n",
    "gen = 0\n",
    "for i in range(10):\n",
    "    best_indivs += population.evolve(step, beta_A, beta_B)\n",
    "    gen += step\n",
    "    plot_expr_AB(best_indivs[-1], f'best generation {gen}', f'best generation {gen}.png')"
   ]
  },
  {
   "cell_type": "code",
   "execution_count": null,
   "metadata": {},
   "outputs": [],
   "source": []
  }
 ],
 "metadata": {
  "kernelspec": {
   "display_name": "Python 3",
   "language": "python",
   "name": "python3"
  },
  "language_info": {
   "codemirror_mode": {
    "name": "ipython",
    "version": 3
   },
   "file_extension": ".py",
   "mimetype": "text/x-python",
   "name": "python",
   "nbconvert_exporter": "python",
   "pygments_lexer": "ipython3",
   "version": "3.7.9"
  }
 },
 "nbformat": 4,
 "nbformat_minor": 4
}
