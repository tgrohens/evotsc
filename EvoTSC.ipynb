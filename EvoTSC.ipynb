{
 "cells": [
  {
   "cell_type": "code",
   "execution_count": null,
   "metadata": {},
   "outputs": [],
   "source": [
    "import numpy as np\n",
    "import matplotlib as mpl\n",
    "import matplotlib.pyplot as plt"
   ]
  },
  {
   "cell_type": "code",
   "execution_count": null,
   "metadata": {},
   "outputs": [],
   "source": [
    "import evotsc"
   ]
  },
  {
   "cell_type": "code",
   "execution_count": null,
   "metadata": {},
   "outputs": [],
   "source": [
    "# Population-level constants\n",
    "genome_size = 10_000\n",
    "gene_length = 100\n",
    "intergene = 900\n",
    "interaction_dist = 2500"
   ]
  },
  {
   "cell_type": "code",
   "execution_count": null,
   "metadata": {},
   "outputs": [],
   "source": [
    "def generate_genes(nb_genes, gene_length, intergene):\n",
    "    genes = []\n",
    "\n",
    "    for gene in range(nb_genes):\n",
    "        new_gene = evotsc.Gene(length=gene_length,\n",
    "                               intergene=intergene,\n",
    "                               orientation=np.random.randint(2),\n",
    "                               basal_expression=np.random.random()) \n",
    "        genes.append(new_gene)\n",
    "\n",
    "    return genes"
   ]
  },
  {
   "cell_type": "code",
   "execution_count": null,
   "metadata": {},
   "outputs": [],
   "source": [
    "def plot_expr(temporal_expr, fitness, plot_name):\n",
    "    nb_genes, nb_steps = temporal_expr.shape\n",
    "    \n",
    "    #colormap = mpl.cm.get_cmap('viridis', nb_genes)(range(nb_genes))\n",
    "    \n",
    "    plt.figure(figsize=(9, 6), dpi=200)\n",
    "    \n",
    "    for gene in range(nb_genes):\n",
    "        linestyle = 'solid' if genes[gene].orientation == 0 else 'dashed'\n",
    "        plt.plot(temporal_expr[gene, :],\n",
    "                 linestyle=linestyle,\n",
    "                 #color=colormap[gene],\n",
    "                 label=f'Gene {gene}')\n",
    "    \n",
    "    plt.grid(linestyle=':')\n",
    "    plt.xlabel('Time', fontsize='large')\n",
    "    plt.ylabel('Expression level', fontsize='large')\n",
    "    \n",
    "    plt.legend(loc='center right')\n",
    "    plt.title(f'Fitness: {fitness:.2}')\n",
    "        \n",
    "    plt.savefig(plot_name, dpi=300, bbox_inches='tight')"
   ]
  },
  {
   "cell_type": "code",
   "execution_count": null,
   "metadata": {},
   "outputs": [],
   "source": [
    "genes = generate_genes(nb_genes=10, gene_length=gene_length, intergene=intergene)"
   ]
  },
  {
   "cell_type": "code",
   "execution_count": null,
   "metadata": {},
   "outputs": [],
   "source": [
    "indiv = evotsc.Individual(genes=genes, interaction_dist=interaction_dist, nb_eval_steps=16)"
   ]
  },
  {
   "cell_type": "code",
   "execution_count": null,
   "metadata": {},
   "outputs": [],
   "source": [
    "res, fitness = indiv.evaluate()"
   ]
  },
  {
   "cell_type": "code",
   "execution_count": null,
   "metadata": {},
   "outputs": [],
   "source": [
    "plot_expr(res, fitness, 'baseline')"
   ]
  },
  {
   "cell_type": "code",
   "execution_count": null,
   "metadata": {},
   "outputs": [],
   "source": [
    "def switch_1_gene(individual):\n",
    "    for i_switched_gene in range(len(genes)):\n",
    "        # Switch the current gene \n",
    "        to_switch = individual.genes[i_switched_gene]\n",
    "        to_switch.orientation = 1 - to_switch.orientation\n",
    "\n",
    "        # Run the switched system and plot\n",
    "        switch_res, switch_fit = individual.evaluate()\n",
    "        print(f'Switched gene {i_switched_gene}, fitness: {switch_fit}')\n",
    "        plot_expr(switch_res, switch_fit, f'switched_{i_switched_gene}')\n",
    "\n",
    "        # Reset the gene to its former orientation\n",
    "        to_switch.orientation = 1 - to_switch.orientation"
   ]
  },
  {
   "cell_type": "code",
   "execution_count": null,
   "metadata": {},
   "outputs": [],
   "source": [
    "switch_1_gene(indiv)"
   ]
  },
  {
   "cell_type": "code",
   "execution_count": null,
   "metadata": {},
   "outputs": [],
   "source": []
  }
 ],
 "metadata": {
  "kernelspec": {
   "display_name": "Python 3",
   "language": "python",
   "name": "python3"
  },
  "language_info": {
   "codemirror_mode": {
    "name": "ipython",
    "version": 3
   },
   "file_extension": ".py",
   "mimetype": "text/x-python",
   "name": "python",
   "nbconvert_exporter": "python",
   "pygments_lexer": "ipython3",
   "version": "3.7.9"
  }
 },
 "nbformat": 4,
 "nbformat_minor": 4
}
