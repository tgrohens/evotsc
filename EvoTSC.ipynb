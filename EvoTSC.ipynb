{
 "cells": [
  {
   "cell_type": "code",
   "execution_count": null,
   "metadata": {},
   "outputs": [],
   "source": [
    "import numpy as np\n",
    "import matplotlib as mpl\n",
    "import matplotlib.pyplot as plt"
   ]
  },
  {
   "cell_type": "code",
   "execution_count": null,
   "metadata": {},
   "outputs": [],
   "source": [
    "import pickle"
   ]
  },
  {
   "cell_type": "code",
   "execution_count": null,
   "metadata": {},
   "outputs": [],
   "source": [
    "import autoreload\n",
    "import evotsc\n",
    "import evotsc_plot\n",
    "autoreload.reload(evotsc)\n",
    "autoreload.reload(evotsc_plot)"
   ]
  },
  {
   "cell_type": "code",
   "execution_count": null,
   "metadata": {},
   "outputs": [],
   "source": [
    "# Constants\n",
    "intergene = 1000\n",
    "interaction_dist = 2500\n",
    "interaction_coef = 0.3\n",
    "default_basal_expression = 1.0\n",
    "nb_eval_steps=51\n",
    "beta_A = 0.15\n",
    "beta_B = 0.30\n",
    "nb_genes = 60\n",
    "nb_indivs = 100\n",
    "inversion_prob=0.75"
   ]
  },
  {
   "cell_type": "code",
   "execution_count": null,
   "metadata": {},
   "outputs": [],
   "source": [
    "init_genes = evotsc.Gene.generate(intergene=intergene,\n",
    "                                  nb_genes=nb_genes,\n",
    "                                  default_basal_expression=default_basal_expression)"
   ]
  },
  {
   "cell_type": "code",
   "execution_count": null,
   "metadata": {},
   "outputs": [],
   "source": [
    "init_indiv = evotsc.Individual(genes=init_genes,\n",
    "                               interaction_dist=interaction_dist,\n",
    "                               interaction_coef=interaction_coef,\n",
    "                               nb_eval_steps=nb_eval_steps,\n",
    "                               beta_A=beta_A,\n",
    "                               beta_B=beta_B)"
   ]
  },
  {
   "cell_type": "code",
   "execution_count": null,
   "metadata": {},
   "outputs": [],
   "source": [
    "mutation = evotsc.Mutation(intergene_mutation_prob=0.0,\n",
    "                           intergene_mutation_var=0.0,\n",
    "                           inversion_prob=inversion_prob)"
   ]
  },
  {
   "cell_type": "code",
   "execution_count": null,
   "metadata": {},
   "outputs": [],
   "source": [
    "evotsc_plot.plot_expr_AB(indiv=init_indiv, plot_title='best generation 0', plot_name=f'best generation {0:05}')\n",
    "evotsc_plot.explain(init_indiv)"
   ]
  },
  {
   "cell_type": "code",
   "execution_count": null,
   "metadata": {},
   "outputs": [],
   "source": [
    "population = evotsc.Population(init_indiv=init_indiv, nb_indivs=nb_indivs, mutation=mutation)"
   ]
  },
  {
   "cell_type": "code",
   "execution_count": null,
   "metadata": {},
   "outputs": [],
   "source": [
    "step = 50"
   ]
  },
  {
   "cell_type": "code",
   "execution_count": null,
   "metadata": {},
   "outputs": [],
   "source": [
    "for gen in range(1001):\n",
    "    best_indiv, avg_fit = population.step()\n",
    "    \n",
    "    if gen % 10 == 0:\n",
    "        print(f'Generation {gen:05}: best fit {best_indiv.fitness:.5}, avg fit {avg_fit:.5}')\n",
    "    \n",
    "    if gen % step == 0:\n",
    "        evotsc_plot.plot_expr_AB(best_indiv, f'best generation {gen:05}', f'best generation {gen:05}.png')\n",
    "        evotsc_plot.explain(best_indiv)\n",
    "        print()"
   ]
  },
  {
   "cell_type": "code",
   "execution_count": null,
   "metadata": {},
   "outputs": [],
   "source": [
    "last, avg = population.step()"
   ]
  },
  {
   "cell_type": "code",
   "execution_count": null,
   "metadata": {},
   "outputs": [],
   "source": [
    "evotsc_plot.explain(last)"
   ]
  },
  {
   "cell_type": "code",
   "execution_count": null,
   "metadata": {},
   "outputs": [],
   "source": []
  }
 ],
 "metadata": {
  "kernelspec": {
   "display_name": "Python 3",
   "language": "python",
   "name": "python3"
  },
  "language_info": {
   "codemirror_mode": {
    "name": "ipython",
    "version": 3
   },
   "file_extension": ".py",
   "mimetype": "text/x-python",
   "name": "python",
   "nbconvert_exporter": "python",
   "pygments_lexer": "ipython3",
   "version": "3.7.9"
  }
 },
 "nbformat": 4,
 "nbformat_minor": 4
}
