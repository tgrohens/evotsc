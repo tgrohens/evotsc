{
 "cells": [
  {
   "cell_type": "code",
   "execution_count": null,
   "metadata": {},
   "outputs": [],
   "source": [
    "import numpy as np\n",
    "import matplotlib as mpl\n",
    "import matplotlib.pyplot as plt"
   ]
  },
  {
   "cell_type": "code",
   "execution_count": null,
   "metadata": {},
   "outputs": [],
   "source": [
    "import autoreload\n",
    "import evotsc\n",
    "autoreload.reload(evotsc)"
   ]
  },
  {
   "cell_type": "code",
   "execution_count": null,
   "metadata": {},
   "outputs": [],
   "source": [
    "# Population-level constants\n",
    "genome_size = 10_000\n",
    "gene_length = 100\n",
    "intergene = 900\n",
    "interaction_dist = 2500"
   ]
  },
  {
   "cell_type": "code",
   "execution_count": null,
   "metadata": {},
   "outputs": [],
   "source": [
    "def plot_expr(temporal_expr, fitness, plot_name):\n",
    "    nb_genes, nb_steps = temporal_expr.shape\n",
    "    \n",
    "    #colormap = mpl.cm.get_cmap('viridis', nb_genes)(range(nb_genes))\n",
    "    \n",
    "    plt.figure(figsize=(9, 6), dpi=200)\n",
    "    \n",
    "    plt.ylim(-0.1, 2.1)\n",
    "    \n",
    "    for gene in range(nb_genes):\n",
    "        linestyle = 'solid' if genes[gene].orientation == 0 else 'dashed'\n",
    "        plt.plot(temporal_expr[gene, :],\n",
    "                 linestyle=linestyle,\n",
    "                 #color=colormap[gene],\n",
    "                 label=f'Gene {gene}')\n",
    "    \n",
    "    plt.grid(linestyle=':')\n",
    "    plt.xlabel('Time', fontsize='large')\n",
    "    plt.ylabel('Expression level', fontsize='large')\n",
    "    \n",
    "    plt.legend(loc='center right')\n",
    "    plt.title(f'Fitness: {fitness:.2}')\n",
    "        \n",
    "    plt.savefig(plot_name, dpi=300, bbox_inches='tight')"
   ]
  },
  {
   "cell_type": "code",
   "execution_count": null,
   "metadata": {},
   "outputs": [],
   "source": [
    "def switch_1_gene(individual): # Evaluate all the individuals obtained by switching 1 gene of the given individual\n",
    "    for i_switched_gene in range(len(genes)):\n",
    "        # Switch the current gene \n",
    "        to_switch = individual.genes[i_switched_gene]\n",
    "        to_switch.orientation = 1 - to_switch.orientation\n",
    "\n",
    "        # Run the switched system and plot\n",
    "        switch_res, switch_fit = individual.evaluate()\n",
    "        print(f'Switched gene {i_switched_gene}, fitness: {switch_fit}')\n",
    "        plot_expr(switch_res, switch_fit, f'switched_{i_switched_gene}')\n",
    "\n",
    "        # Reset the gene to its former orientation\n",
    "        to_switch.orientation = 1 - to_switch.orientation"
   ]
  },
  {
   "cell_type": "code",
   "execution_count": null,
   "metadata": {},
   "outputs": [],
   "source": [
    "genes = evotsc.Gene.generate(gene_length=gene_length, intergene=intergene, nb_genes=10)\n",
    "for test_intergene in np.linspace(100, 1000, 10, dtype=int):\n",
    "    for gene in genes:\n",
    "        gene.intergene = test_intergene\n",
    "    indiv = evotsc.Individual(genes=genes, interaction_dist=interaction_dist,\n",
    "                              interaction_coef=0.3, nb_eval_steps=10)\n",
    "    plot_expr(*indiv.evaluate(), f\"intergene {test_intergene}.png\")"
   ]
  },
  {
   "cell_type": "code",
   "execution_count": null,
   "metadata": {},
   "outputs": [],
   "source": [
    "zero_indiv = evotsc.Individual(genes=genes,\n",
    "                               interaction_dist=interaction_dist,\n",
    "                               interaction_coef=0.0,\n",
    "                               nb_eval_steps=16)"
   ]
  },
  {
   "cell_type": "code",
   "execution_count": null,
   "metadata": {},
   "outputs": [],
   "source": [
    "plot_expr(*zero_indiv.evaluate(), \"interaction coef 0.0.png\")"
   ]
  },
  {
   "cell_type": "code",
   "execution_count": null,
   "metadata": {},
   "outputs": [],
   "source": [
    "for i in np.linspace(0.1, 1, 10):\n",
    "    indiv = evotsc.Individual(genes=genes,\n",
    "                               interaction_dist=interaction_dist,\n",
    "                               interaction_coef=i,\n",
    "                               nb_eval_steps=int(16/i))\n",
    "    res, fit = indiv.evaluate()\n",
    "    plot_expr(res, fit, f'interaction coef {i:.1}.png')"
   ]
  }
 ],
 "metadata": {
  "kernelspec": {
   "display_name": "Python 3",
   "language": "python",
   "name": "python3"
  },
  "language_info": {
   "codemirror_mode": {
    "name": "ipython",
    "version": 3
   },
   "file_extension": ".py",
   "mimetype": "text/x-python",
   "name": "python",
   "nbconvert_exporter": "python",
   "pygments_lexer": "ipython3",
   "version": "3.7.9"
  }
 },
 "nbformat": 4,
 "nbformat_minor": 4
}
