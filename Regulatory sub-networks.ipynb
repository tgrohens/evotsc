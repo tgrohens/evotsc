{
 "cells": [
  {
   "cell_type": "code",
   "execution_count": null,
   "id": "50a38260",
   "metadata": {},
   "outputs": [],
   "source": [
    "import matplotlib as mpl\n",
    "import matplotlib.pyplot as plt\n",
    "import numpy as np\n",
    "import pandas as pd\n",
    "import pathlib"
   ]
  },
  {
   "cell_type": "code",
   "execution_count": null,
   "id": "037c7763",
   "metadata": {},
   "outputs": [],
   "source": [
    "import importlib\n",
    "import evotsc\n",
    "import evotsc_lib\n",
    "import evotsc_plot\n",
    "importlib.reload(evotsc)\n",
    "importlib.reload(evotsc_lib)\n",
    "importlib.reload(evotsc_plot)"
   ]
  },
  {
   "cell_type": "code",
   "execution_count": null,
   "id": "3db62f37",
   "metadata": {},
   "outputs": [],
   "source": [
    "exp_path = pathlib.Path('/Users/theotime/Desktop/evotsc/pci/main/')\n",
    "gen=1_000_000\n",
    "gene_types = ['AB', 'A', 'B'] # Name of each gene type\n",
    "gene_type_color = ['tab:blue', 'tab:red', 'tab:green'] #AB, A, B\n",
    "orient_name = ['leading', 'lagging'] # Name of each gene orientation\n",
    "dpi=300"
   ]
  },
  {
   "cell_type": "code",
   "execution_count": null,
   "id": "963c4fc3",
   "metadata": {},
   "outputs": [],
   "source": [
    "rep_dirs = sorted([d for d in exp_path.iterdir() if (d.is_dir() and d.name.startswith(\"rep\"))])\n",
    "nb_rep = len(rep_dirs)\n",
    "params = evotsc_lib.read_params(rep_dirs[0])\n",
    "params['m'] = 2.5 # Temporary fix because the parameter wasn't saved"
   ]
  },
  {
   "cell_type": "code",
   "execution_count": null,
   "id": "e147fd0b",
   "metadata": {},
   "outputs": [],
   "source": [
    "rng = np.random.default_rng(seed=123456)"
   ]
  },
  {
   "cell_type": "code",
   "execution_count": null,
   "id": "af67f8f5",
   "metadata": {},
   "outputs": [],
   "source": [
    "indiv = evotsc_lib.get_best_indiv(rep_dirs[0], gen)"
   ]
  },
  {
   "cell_type": "code",
   "execution_count": null,
   "id": "484c0fc3",
   "metadata": {},
   "outputs": [],
   "source": [
    "for env in ['A', 'B']:\n",
    "    evotsc_plot.plot_genome_and_tsc(indiv, sigma=params[f'sigma_{env}'], coloring_type='on-off', id_interval=1,\n",
    "                                print_ids=True, naming_type='pos',\n",
    "                                plot_name=exp_path.joinpath(f'sub_rep00/init_env_{env}.pdf'))"
   ]
  },
  {
   "cell_type": "code",
   "execution_count": null,
   "id": "a94c3c13",
   "metadata": {},
   "outputs": [],
   "source": [
    "def extract_subnetwork(indiv, i_start, size, keep_ids=False):\n",
    "    \n",
    "    orig_pos, indiv_len = indiv.compute_gene_positions(include_coding=True)\n",
    "    \n",
    "    new_genes = []\n",
    "    for i_gene in range(i_start, i_start + size):\n",
    "        new_gene = indiv.genes[(i_gene % indiv.nb_genes)].clone()\n",
    "        if keep_ids == False:\n",
    "            new_gene.id = i_gene % indiv.nb_genes\n",
    "        new_genes.append(new_gene)\n",
    "\n",
    "\n",
    "    clone = evotsc.Individual(genes=new_genes,\n",
    "                              interaction_dist=indiv.interaction_dist,\n",
    "                              interaction_coef=indiv.interaction_coef,\n",
    "                              sigma_basal=indiv.sigma_basal,\n",
    "                              sigma_opt=indiv.sigma_opt,\n",
    "                              epsilon=indiv.epsilon,\n",
    "                              m=indiv.m,\n",
    "                              selection_coef=indiv.selection_coef,\n",
    "                              rng=indiv.rng)\n",
    "\n",
    "    _, clone_len = clone.compute_gene_positions(include_coding=True)\n",
    "\n",
    "    new_genes[-1].intergene += indiv_len - clone_len\n",
    "\n",
    "    return clone"
   ]
  },
  {
   "cell_type": "code",
   "execution_count": null,
   "id": "094ada6a",
   "metadata": {},
   "outputs": [],
   "source": [
    "def plot_subnetworks(indiv, segment_sizes):\n",
    "    \n",
    "    indiv = evotsc_lib.get_best_indiv(exp_path.joinpath(f'rep{rep:02}'), gen)\n",
    "    \n",
    "    orig_pos, indiv_len = indiv.compute_gene_positions(include_coding=True)\n",
    "    \n",
    "    sub_path = exp_path.joinpath(f'sub_rep{rep:02}')\n",
    "    sub_path.mkdir(exist_ok=True)\n",
    "\n",
    "    for segment_size in segment_sizes:\n",
    "        for i_start in range(indiv.nb_genes):\n",
    "            clone = extract_subnetwork(indiv, i_start, segment_size)\n",
    "            \n",
    "            # For plotting at the same position as the original individual\n",
    "            shift = orig_pos[i_start]\n",
    "            if indiv.genes[i_start].orientation == 1: # Lagging\n",
    "                shift -= (indiv.genes[i_start].length - 1)\n",
    "                \n",
    "            for env in ['A', 'B']:\n",
    "                sigma = params[f'sigma_{env}']\n",
    "                name = sub_path.joinpath(f'sub_{segment_size}_genes_{i_start:02}_env_{env}.pdf')\n",
    "\n",
    "                evotsc_plot.plot_genome_and_tsc(clone, sigma=sigma, coloring_type='on-off',\n",
    "                                                id_interval=1, print_ids=True, naming_type='id',\n",
    "                                                shift=-shift, plot_name=name, show_plot=False)   "
   ]
  },
  {
   "cell_type": "code",
   "execution_count": null,
   "id": "5a9e3d20",
   "metadata": {},
   "outputs": [],
   "source": [
    "#plot_subnetworks(rep=0, gen=gen, segment_sizes=[6])"
   ]
  },
  {
   "cell_type": "code",
   "execution_count": null,
   "id": "a1cae518",
   "metadata": {},
   "outputs": [],
   "source": [
    "def compute_subnetwork_stats(exp_path, gen, max_network_size):\n",
    "    \n",
    "    rep_dirs = sorted([d for d in exp_path.iterdir() if (d.is_dir() and d.name.startswith(\"rep\"))])\n",
    "    \n",
    "    full_stats = pd.DataFrame()\n",
    "        \n",
    "    for rep, rep_dir in enumerate(rep_dirs):\n",
    "        \n",
    "        indiv = evotsc_lib.get_best_indiv(rep_dir, gen)\n",
    "        \n",
    "        result_dict = {'Replicate': [],\n",
    "               'network_size': [],\n",
    "               'gene_id': [],\n",
    "               'gene_type': [],\n",
    "               'gene_orient': [],\n",
    "               'final_expr_A': [],\n",
    "               'final_expr_B': []}\n",
    "    \n",
    "        for size in range(1, max_network_size+1):\n",
    "\n",
    "            for i_start in range(indiv.nb_genes):\n",
    "                sub_indiv = extract_subnetwork(indiv, i_start, size, keep_ids=True)\n",
    "\n",
    "                (expr_A, expr_B), fitness = sub_indiv.evaluate(params['sigma_A'], params['sigma_B'])\n",
    "\n",
    "                for i_gene, gene in enumerate(sub_indiv.genes):\n",
    "                    result_dict['Replicate'].append(rep)\n",
    "                    result_dict['gene_id'].append(gene.id)\n",
    "                    result_dict['gene_type'].append(gene_types[gene.gene_type])\n",
    "                    result_dict['gene_orient'].append(orient_name[gene.orientation])\n",
    "                    result_dict['final_expr_A'].append(expr_A[-1, i_gene])\n",
    "                    result_dict['final_expr_B'].append(expr_B[-1, i_gene])\n",
    "                    result_dict['network_size'].append(size)\n",
    "\n",
    "\n",
    "        indiv_stats = pd.DataFrame.from_dict(result_dict)\n",
    "\n",
    "        full_stats = pd.concat([full_stats, indiv_stats])\n",
    "            \n",
    "    return full_stats"
   ]
  },
  {
   "cell_type": "code",
   "execution_count": null,
   "id": "995553c4",
   "metadata": {},
   "outputs": [],
   "source": [
    "stats = compute_subnetwork_stats(exp_path, gen, max_network_size=60)"
   ]
  },
  {
   "cell_type": "code",
   "execution_count": null,
   "id": "cf84d8f5",
   "metadata": {},
   "outputs": [],
   "source": [
    "stats"
   ]
  },
  {
   "cell_type": "code",
   "execution_count": null,
   "id": "6fb089f0",
   "metadata": {},
   "outputs": [],
   "source": [
    "def plot_expr_by_network_size(stats, plot_name=None):\n",
    "    \n",
    "    mean_stats = stats.groupby(['gene_type', 'network_size']).mean()\n",
    "    med_stats = stats.groupby(['gene_type', 'network_size']).median()\n",
    "    \n",
    "    plt.figure(figsize=(9, 8), dpi=dpi)\n",
    "\n",
    "    custom_lines = [mpl.lines.Line2D([0], [0], color='k', linewidth=2),\n",
    "                    mpl.lines.Line2D([0], [0], color='k', linestyle=':', linewidth=2)]\n",
    "    \n",
    "    for i_env, env in enumerate(['A', 'B']):\n",
    "        plt.subplot(2, 1, i_env+1)\n",
    "        plt.grid(linestyle=':')\n",
    "        plt.ylim(-0.05, 1.05)\n",
    "        for i_gene_type, gene_type in enumerate(gene_types):\n",
    "            plt.plot(med_stats.loc[(gene_type)][f'final_expr_{env}'],\n",
    "                     color=gene_type_color[i_gene_type], linewidth=2)\n",
    "            plt.plot(mean_stats.loc[(gene_type)][f'final_expr_{env}'],\n",
    "                     color=gene_type_color[i_gene_type], linewidth=2, linestyle=':')\n",
    "    \n",
    "        plt.ylabel('Expression level')    \n",
    "        \n",
    "    plt.xlabel('Subnetwork size')\n",
    "    plt.legend(custom_lines, ['Medians', 'Means'])\n",
    "     \n",
    "    if plot_name:\n",
    "        plt.savefig(plot_name, bbox_inches='tight')\n",
    "    plt.show()"
   ]
  },
  {
   "cell_type": "code",
   "execution_count": null,
   "id": "09de07b8",
   "metadata": {},
   "outputs": [],
   "source": [
    "plot_expr_by_network_size(stats, plot_name=exp_path.joinpath('med_expr_by_network_size_all.pdf'))"
   ]
  },
  {
   "cell_type": "code",
   "execution_count": null,
   "id": "08325bd2",
   "metadata": {},
   "outputs": [],
   "source": [
    "#for i_rep in range(nb_rep):\n",
    "#    plot_expr_by_network_size(stats[stats['Replicate'] == i_rep], \n",
    "#                               plot_name=exp_path.joinpath(f'med_expr_by_network_size_rep{i_rep}.pdf'))"
   ]
  },
  {
   "cell_type": "code",
   "execution_count": null,
   "id": "e93c8da1",
   "metadata": {},
   "outputs": [],
   "source": [
    "def plot_distrib_by_network_size(stats, network_size):\n",
    "    \n",
    "    for env in ['A', 'B']:\n",
    "    \n",
    "        # Data\n",
    "        size_stats = stats[stats['network_size'] == network_size].copy().reindex()\n",
    "\n",
    "        median_stats = size_stats.groupby('gene_type').median()[f'final_expr_{env}']\n",
    "        mean_stats = size_stats.groupby('gene_type').mean()[f'final_expr_{env}']\n",
    "\n",
    "        x = range(1, 4)\n",
    "\n",
    "        # Plot\n",
    "        fig, ax = plt.subplots(dpi=300)\n",
    "\n",
    "        colors = plt.cm.get_cmap('tab20').colors\n",
    "        light_type_color = [colors[1], colors[7], colors[5]]\n",
    "        dark_type_color = [colors[0], colors[6], colors[4]]\n",
    "\n",
    "        violins = []\n",
    "        for i_gene_type, gene_type in enumerate(gene_types):\n",
    "            type_stats = size_stats[size_stats['gene_type'] == gene_type][f'final_expr_{env}']\n",
    "            violins.append(ax.violinplot(type_stats, positions=[x[i_gene_type]],\n",
    "                                         showmeans=True, showmedians=True))\n",
    "\n",
    "            if i_gene_type == 0:\n",
    "                ax.scatter([x[i_gene_type]], median_stats.loc[gene_type], marker='o', \n",
    "                            color=dark_type_color[i_gene_type], label='Medians')\n",
    "                ax.scatter([x[i_gene_type]], mean_stats.loc[gene_type], marker='x',\n",
    "                            color=dark_type_color[i_gene_type], label='Means')\n",
    "            else:\n",
    "                ax.scatter([x[i_gene_type]], median_stats.loc[gene_type], marker='o', \n",
    "                            color=dark_type_color[i_gene_type])\n",
    "                ax.scatter([x[i_gene_type]], mean_stats.loc[gene_type], marker='x',\n",
    "                            color=dark_type_color[i_gene_type])\n",
    "\n",
    "\n",
    "        for i_violin, violin in enumerate(violins):\n",
    "            for i_pc, pc in enumerate(violin['bodies']):\n",
    "                pc.set_facecolor(light_type_color[i_violin])\n",
    "\n",
    "            for partname in ['cbars','cmins','cmaxes','cmeans','cmedians']:\n",
    "                violin[partname].set_edgecolor(dark_type_color[i_violin])\n",
    "\n",
    "        ax.set_ylim(-0.05, 1.05)\n",
    "        ax.set_ylabel('Expression level')\n",
    "        ax.set_xticks(x)\n",
    "        ax.set_xticklabels(gene_types)\n",
    "        ax.set_xlabel('Gene type')\n",
    "        ax.grid(axis='y', linestyle=':')\n",
    "\n",
    "        plt.legend(loc='lower left')\n",
    "\n",
    "        plt.savefig(f'distrib_expr_size_env_{env}_{network_size}.pdf', bbox_inches='tight')\n",
    "\n",
    "        plt.show()\n",
    "        plt.close()"
   ]
  },
  {
   "cell_type": "code",
   "execution_count": null,
   "id": "71f31544",
   "metadata": {},
   "outputs": [],
   "source": [
    "plot_distrib_by_network_size(stats, network_size=59)"
   ]
  },
  {
   "cell_type": "code",
   "execution_count": null,
   "id": "8fb589de",
   "metadata": {},
   "outputs": [],
   "source": [
    "def plot_nb_activ_by_network_size(stats, plot_name=None):\n",
    "    \n",
    "    stats = stats.copy()\n",
    "    \n",
    "    half_expr = (1 + np.exp(- params['m'])) / 2\n",
    "    for env in ['A', 'B']:\n",
    "        stats[f'activ_{env}'] = stats[f'final_expr_{env}'] > half_expr\n",
    "\n",
    "    mean_stats = stats.groupby(['gene_type', 'network_size']).mean()\n",
    "        \n",
    "    plt.figure(figsize=(9, 8), dpi=dpi)\n",
    "    \n",
    "    for i_env, env in enumerate(['A', 'B']):\n",
    "        plt.subplot(2, 1, i_env+1)\n",
    "        plt.grid(linestyle=':')\n",
    "        plt.ylim(-0.05, 1.05)\n",
    "        for i_gene_type, gene_type in enumerate(gene_types):\n",
    "            plt.plot(mean_stats.loc[(gene_type)][f'activ_{env}'],\n",
    "                     color=gene_type_color[i_gene_type], linewidth=2)\n",
    "    \n",
    "        plt.ylabel('Proportion of activated genes')\n",
    "    plt.xlabel('Subnetwork size')\n",
    "     \n",
    "    if plot_name:\n",
    "        plt.savefig(plot_name, bbox_inches='tight')\n",
    "    plt.show()"
   ]
  },
  {
   "cell_type": "code",
   "execution_count": null,
   "id": "653a0ad9",
   "metadata": {},
   "outputs": [],
   "source": [
    "plot_nb_activ_by_network_size(stats, plot_name=exp_path.joinpath('med_activ_by_network_size_all.pdf'))"
   ]
  },
  {
   "cell_type": "code",
   "execution_count": null,
   "id": "5455076f",
   "metadata": {},
   "outputs": [],
   "source": []
  }
 ],
 "metadata": {
  "kernelspec": {
   "display_name": "Python 3 (ipykernel)",
   "language": "python",
   "name": "python3"
  },
  "language_info": {
   "codemirror_mode": {
    "name": "ipython",
    "version": 3
   },
   "file_extension": ".py",
   "mimetype": "text/x-python",
   "name": "python",
   "nbconvert_exporter": "python",
   "pygments_lexer": "ipython3",
   "version": "3.9.7"
  }
 },
 "nbformat": 4,
 "nbformat_minor": 5
}
