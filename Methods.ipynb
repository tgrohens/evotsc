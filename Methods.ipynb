{
 "cells": [
  {
   "cell_type": "markdown",
   "id": "bdc5e382",
   "metadata": {},
   "source": [
    "# Figures for the paper that do not use data from evolutionary runs"
   ]
  },
  {
   "cell_type": "code",
   "execution_count": null,
   "id": "a43097c8",
   "metadata": {},
   "outputs": [],
   "source": [
    "import matplotlib as mpl\n",
    "import matplotlib.pyplot as plt\n",
    "import numpy as np\n",
    "import pathlib\n",
    "import pickle\n",
    "import itertools"
   ]
  },
  {
   "cell_type": "code",
   "execution_count": null,
   "id": "17a5ee8c",
   "metadata": {},
   "outputs": [],
   "source": [
    "import importlib\n",
    "import evotsc\n",
    "import evotsc_run\n",
    "import evotsc_plot\n",
    "importlib.reload(evotsc)\n",
    "importlib.reload(evotsc_run)\n",
    "importlib.reload(evotsc_plot)"
   ]
  },
  {
   "cell_type": "code",
   "execution_count": null,
   "id": "7cca8c7b",
   "metadata": {},
   "outputs": [],
   "source": [
    "## Constants\n",
    "# Population\n",
    "nb_indivs = 100\n",
    "nb_genes = 60\n",
    "\n",
    "# Genome\n",
    "intergene = 1000\n",
    "gene_length = 1000\n",
    "interaction_dist = 5000\n",
    "interaction_coef = 0.03\n",
    "sigma_basal = -0.066\n",
    "sigma_opt = -0.042\n",
    "epsilon = 0.005\n",
    "m = 2.5\n",
    "default_basal_expression = (1 + np.exp(- m)) / 2 # Average of the maximum and minimum expression levels in the model\n",
    "\n",
    "# Fitness\n",
    "selection_coef = 50\n",
    "\n",
    "# Selection\n",
    "selection_method = \"fit-prop\" # Choices: \"fit-prop\", \"rank\", \"exp-rank\"\n",
    "\n",
    "# Environment\n",
    "sigma_A = 0.01\n",
    "sigma_B = -0.01\n",
    "\n",
    "# Mutations\n",
    "inversion_poisson_lam = 2.0\n",
    "intergene_poisson_lam = 0.0 #2.0\n",
    "intergene_mutation_var = 0.0 #1e1\n",
    "basal_sc_mutation_prob = 0.0 #1e-1\n",
    "basal_sc_mutation_var = 0.0 #1e-4"
   ]
  },
  {
   "cell_type": "code",
   "execution_count": null,
   "id": "f7b2f4e9",
   "metadata": {},
   "outputs": [],
   "source": [
    "gene_types = ['AB', 'A', 'B'] # Name of each gene type\n",
    "gene_type_color = ['tab:blue', 'tab:red', 'tab:green'] #AB, A, B\n",
    "dpi = 300"
   ]
  },
  {
   "cell_type": "code",
   "execution_count": null,
   "id": "0abf279c",
   "metadata": {},
   "outputs": [],
   "source": [
    "rng = np.random.default_rng(seed=123456)"
   ]
  },
  {
   "cell_type": "markdown",
   "id": "a3adca56",
   "metadata": {},
   "source": [
    "# Helper functions"
   ]
  },
  {
   "cell_type": "code",
   "execution_count": null,
   "id": "6a1ef1dc",
   "metadata": {},
   "outputs": [],
   "source": [
    "def plot_expr(indiv, sigma_env, plot_title=None, plot_name=None):\n",
    "    \n",
    "    if not indiv.already_evaluated:\n",
    "        indiv.evaluate(sigma_env, sigma_env)\n",
    "    \n",
    "    # Plot only environment A\n",
    "    temporal_expr = indiv.run_system(sigma_env)\n",
    "\n",
    "    nb_genes, nb_steps = temporal_expr.shape\n",
    "\n",
    "    colors = mpl.cm.get_cmap('viridis', indiv.nb_genes)(range(indiv.nb_genes))\n",
    "\n",
    "    plt.figure(figsize=(8, 5), dpi=dpi)\n",
    "\n",
    "    plt.ylim(-0.05, 1.05)\n",
    "    \n",
    "    # Add 1/2 expression level\n",
    "    for gene in range(indiv.nb_genes):\n",
    "        linestyle = 'solid' if indiv.genes[gene].orientation == 0 else 'dashed'\n",
    "        plt.plot(temporal_expr[:, indiv.genes[gene].id],\n",
    "                 linestyle=linestyle,\n",
    "                 linewidth=2,\n",
    "                 zorder=3,\n",
    "                 color=colors[indiv.genes[gene].id]) #label=f'Gene {indiv.genes[gene].id}')\n",
    "\n",
    "    plt.grid(linestyle=':')\n",
    "    plt.xlabel('Iteration steps', fontsize='large')\n",
    "    plt.ylabel('Gene expression level', fontsize='large')\n",
    "    \n",
    "    xmin, xmax = plt.xlim()\n",
    "    half_expr = (1 + np.exp(-m)) / 2\n",
    "    plt.hlines(half_expr, xmin, xmax,\n",
    "               linestyle=':', linewidth=1.5, color='tab:pink')#, label='Activation threshold $e_{1/2}$')\n",
    "    plt.xlim(xmin, xmax)\n",
    "    \n",
    "    #plt.legend(fontsize='large')\n",
    "\n",
    "    if plot_title:\n",
    "        plt.title(plot_title)\n",
    "\n",
    "    plt.tight_layout()\n",
    "    if plot_name:\n",
    "        plt.savefig(plot_name + '.pdf', dpi=300, bbox_inches='tight')\n",
    "    plt.show()\n",
    "    plt.close()\n"
   ]
  },
  {
   "cell_type": "code",
   "execution_count": null,
   "id": "c6a7af11",
   "metadata": {},
   "outputs": [],
   "source": [
    "def make_random_indiv(nb_genes=nb_genes, default_basal_expression=None, nb_mut=0):\n",
    "    genes = evotsc.Gene.generate(intergene=intergene,\n",
    "                                 length=gene_length,\n",
    "                                 nb_genes=nb_genes,\n",
    "                                 default_basal_expression=default_basal_expression,\n",
    "                                 rng=rng)\n",
    "    \n",
    "    indiv = evotsc.Individual(genes=genes,\n",
    "                              interaction_dist=interaction_dist,\n",
    "                              interaction_coef=interaction_coef,\n",
    "                              sigma_basal=sigma_basal,\n",
    "                              sigma_opt=sigma_opt,\n",
    "                              epsilon=epsilon,\n",
    "                              m=m,\n",
    "                              selection_coef=selection_coef,\n",
    "                              rng=rng)\n",
    "    \n",
    "    mutation = evotsc.Mutation(basal_sc_mutation_prob=basal_sc_mutation_prob,\n",
    "                               basal_sc_mutation_var=basal_sc_mutation_var,\n",
    "                               intergene_poisson_lam=intergene_poisson_lam,\n",
    "                               intergene_mutation_var=intergene_mutation_var,\n",
    "                               inversion_poisson_lam=inversion_poisson_lam)\n",
    "    \n",
    "    for i_mut in range(nb_mut):\n",
    "        indiv.mutate(mutation)\n",
    "    \n",
    "    return indiv"
   ]
  },
  {
   "cell_type": "markdown",
   "id": "691fcc9e",
   "metadata": {},
   "source": [
    "# Random individual: influence of environmental supercoiling on final gene expression levels"
   ]
  },
  {
   "cell_type": "code",
   "execution_count": null,
   "id": "e653f8d4",
   "metadata": {},
   "outputs": [],
   "source": [
    "init_indiv = make_random_indiv(nb_genes=20, nb_mut=25)\n",
    "# Set initial expression to e1/2 but keep the individual obtained without passing \n",
    "# default_basal_expression to make_random_indiv, for RNG purposes\n",
    "for gene in init_indiv.genes:\n",
    "    gene.basal_expression = default_basal_expression"
   ]
  },
  {
   "cell_type": "code",
   "execution_count": null,
   "id": "3bab58b3",
   "metadata": {},
   "outputs": [],
   "source": [
    "plot_expr(init_indiv, sigma_env=0, plot_title='', plot_name='random_gene_expr')"
   ]
  },
  {
   "cell_type": "code",
   "execution_count": null,
   "id": "81308ce6",
   "metadata": {},
   "outputs": [],
   "source": [
    "evotsc_plot.plot_genome_and_tsc(init_indiv, sigma=0, coloring_type='by-id', print_ids=True, id_interval=1,\n",
    "                                mid_gene_id=True, naming_type='alpha', show_bar=True, \n",
    "                                plot_name='random_genome_and_tsc.png')"
   ]
  }
 ],
 "metadata": {
  "interpreter": {
   "hash": "4af4ad38b24e346bac4a01c43b89b341085d1000b7b93cf2ecd0ab0adb9a79f7"
  },
  "kernelspec": {
   "display_name": "Python 3 (ipykernel)",
   "language": "python",
   "name": "python3"
  },
  "language_info": {
   "codemirror_mode": {
    "name": "ipython",
    "version": 3
   },
   "file_extension": ".py",
   "mimetype": "text/x-python",
   "name": "python",
   "nbconvert_exporter": "python",
   "pygments_lexer": "ipython3",
   "version": "3.9.7"
  }
 },
 "nbformat": 4,
 "nbformat_minor": 5
}
