{
 "cells": [
  {
   "cell_type": "code",
   "execution_count": null,
   "metadata": {},
   "outputs": [],
   "source": [
    "import sys\n",
    "import pathlib\n",
    "import numpy as np\n",
    "import pandas as pd\n",
    "import matplotlib.pyplot as plt\n",
    "import matplotlib as mpl\n",
    "import pickle\n",
    "import itertools\n",
    "import networkx as nx\n",
    "from scipy import stats"
   ]
  },
  {
   "cell_type": "code",
   "execution_count": null,
   "metadata": {},
   "outputs": [],
   "source": [
    "from numba import jit"
   ]
  },
  {
   "cell_type": "code",
   "execution_count": null,
   "metadata": {},
   "outputs": [],
   "source": [
    "import met_brewer"
   ]
  },
  {
   "cell_type": "code",
   "execution_count": null,
   "metadata": {},
   "outputs": [],
   "source": [
    "import importlib\n",
    "import evotsc\n",
    "import evotsc_lib\n",
    "import evotsc_plot\n",
    "importlib.reload(evotsc)\n",
    "importlib.reload(evotsc_lib)\n",
    "importlib.reload(evotsc_plot)"
   ]
  },
  {
   "cell_type": "code",
   "execution_count": null,
   "metadata": {},
   "outputs": [],
   "source": [
    "label_fontsize=20\n",
    "tick_fontsize=15\n",
    "legend_fontsize=15\n",
    "dpi=300"
   ]
  },
  {
   "cell_type": "code",
   "execution_count": null,
   "metadata": {},
   "outputs": [],
   "source": [
    "exp_path = pathlib.Path('/Users/theotime/Desktop/evotsc/phd/epistasis/wt-with-sc/')\n",
    "main_path = pathlib.Path('/Users/theotime/Desktop/evotsc/phd/param-explor/main/')\n",
    "gen = 1_000_000 # mais passer à 1e6\n",
    "gene_types = ['AB', 'A', 'B'] # Name of each gene type\n",
    "gene_type_color = ['tab:blue', 'tab:red', 'tab:green'] #AB, A, B\n",
    "orient_name = ['leading', 'lagging'] # Name of each gene orientation\n",
    "rel_orients = ['conv', 'div', 'downstr', 'upstr'] # In alphabetical order\n",
    "envs = ['A', 'B'] # Environment names"
   ]
  },
  {
   "cell_type": "code",
   "execution_count": null,
   "metadata": {},
   "outputs": [],
   "source": [
    "rng = np.random.default_rng(seed=123456)"
   ]
  },
  {
   "cell_type": "code",
   "execution_count": null,
   "metadata": {},
   "outputs": [],
   "source": [
    "exp_rep_dirs = sorted([d for d in exp_path.iterdir() if (d.is_dir() and d.name.startswith(\"rep\"))])\n",
    "nb_exp_reps = len(exp_rep_dirs)\n",
    "exp_params = evotsc_lib.read_params(exp_rep_dirs[0])\n",
    "exp_params['m'] = 2.5 # Temporary fix because the parameter wasn't saved\n",
    "\n",
    "main_rep_dirs = sorted([d for d in main_path.iterdir() if (d.is_dir() and d.name.startswith(\"rep\"))])\n",
    "main_params = evotsc_lib.read_params(main_rep_dirs[0])\n",
    "main_params['m'] = 2.5 # Temporary fix because the parameter wasn't saved"
   ]
  },
  {
   "cell_type": "code",
   "execution_count": null,
   "metadata": {},
   "outputs": [],
   "source": [
    "nb_exp_reps"
   ]
  },
  {
   "cell_type": "code",
   "execution_count": null,
   "metadata": {},
   "outputs": [],
   "source": [
    "len(main_rep_dirs)"
   ]
  },
  {
   "cell_type": "code",
   "execution_count": null,
   "metadata": {},
   "outputs": [],
   "source": [
    "exp_params"
   ]
  },
  {
   "cell_type": "code",
   "execution_count": null,
   "metadata": {},
   "outputs": [],
   "source": [
    "genes_per_type = exp_params[\"nb_genes\"] / len(gene_types)"
   ]
  },
  {
   "cell_type": "markdown",
   "metadata": {},
   "source": [
    "# Make random individuals (reused throughout)"
   ]
  },
  {
   "cell_type": "code",
   "execution_count": null,
   "metadata": {},
   "outputs": [],
   "source": [
    "def make_random_indivs(nb_indiv, params):\n",
    "    \n",
    "    mutation = evotsc.Mutation(inversion_poisson_lam=params['inversion_poisson_lam'])\n",
    "    \n",
    "    rand_indivs = []\n",
    "    \n",
    "    for rep in range(nb_indiv):\n",
    "        indiv = evotsc_lib.make_random_indiv(intergene=int(params['intergene']),\n",
    "                                             gene_length=int(params['gene_length']),\n",
    "                                             nb_genes=int(params['nb_genes']),\n",
    "                                             default_basal_expression=params['default_basal_expression'],\n",
    "                                             interaction_dist=params['interaction_dist'],\n",
    "                                             interaction_coef=params['interaction_coef'],\n",
    "                                             sigma_basal=params['sigma_basal'],\n",
    "                                             sigma_opt=params['sigma_opt'],\n",
    "                                             epsilon=params['epsilon'],\n",
    "                                             m=params['m'],\n",
    "                                             selection_coef=params['selection_coef'],\n",
    "                                             mutation=mutation,\n",
    "                                             rng=rng,\n",
    "                                             nb_mutations=100)\n",
    "        \n",
    "        indiv.inter_matrix = indiv.compute_inter_matrix()\n",
    "\n",
    "        rand_indivs.append(indiv)\n",
    "        \n",
    "    return rand_indivs"
   ]
  },
  {
   "cell_type": "code",
   "execution_count": null,
   "metadata": {},
   "outputs": [],
   "source": [
    "rand_indivs = make_random_indivs(nb_indiv=nb_exp_reps, params=exp_params)"
   ]
  },
  {
   "cell_type": "markdown",
   "metadata": {},
   "source": [
    "# Evolutionary stats"
   ]
  },
  {
   "cell_type": "code",
   "execution_count": null,
   "metadata": {},
   "outputs": [],
   "source": [
    "def get_stats(exp_name, params, gen):\n",
    "    \n",
    "    exp_name = pathlib.Path(exp_name)\n",
    "        \n",
    "    rep_dirs = sorted([d for d in exp_name.iterdir() if (d.is_dir() and d.name.startswith(\"rep\"))])\n",
    "    \n",
    "    res = pd.DataFrame()\n",
    "    \n",
    "    cols = ['Gen', 'Fitness', 'ABon_A', 'ABon_B', 'Aon_A', 'Aon_B', 'Bon_A', 'Bon_B']\n",
    "    \n",
    "    if not (params['intergene_poisson_lam'] is None or params['intergene_poisson_lam'] == 0.0):\n",
    "        cols += ['Genome size']\n",
    "\n",
    "    if not (params['basal_sc_mutation_prob'] is None or params['basal_sc_mutation_prob'] == 0.0):\n",
    "        cols += ['Basal SC']\n",
    "    \n",
    "    for i_rep, rep_dir in enumerate(rep_dirs):\n",
    "        \n",
    "        res_dir = pd.read_csv(rep_dir.joinpath('stats.csv'), usecols=cols)\n",
    "\n",
    "        res_dir.insert(0, 'Replicate', i_rep)\n",
    "        \n",
    "        res = pd.concat([res, res_dir])\n",
    "    \n",
    "    res['Log Fitness'] = np.log(res['Fitness'])\n",
    "    \n",
    "    res = res[res['Gen'] <= gen]\n",
    "    \n",
    "    return res"
   ]
  },
  {
   "cell_type": "code",
   "execution_count": null,
   "metadata": {},
   "outputs": [],
   "source": [
    "exp_stats = get_stats(exp_path, exp_params, gen)"
   ]
  },
  {
   "cell_type": "code",
   "execution_count": null,
   "metadata": {},
   "outputs": [],
   "source": [
    "main_stats = get_stats(main_path, main_params, gen)"
   ]
  },
  {
   "cell_type": "markdown",
   "metadata": {},
   "source": [
    "## Plot fitness over evolutionary time"
   ]
  },
  {
   "cell_type": "code",
   "execution_count": null,
   "metadata": {},
   "outputs": [],
   "source": [
    "def plot_fitness(exp_stats, main_stats, exp_path):\n",
    "    \n",
    "    all_stats = [main_stats[main_stats[\"Gen\"] > 0][['Gen', 'Log Fitness', 'Fitness']].copy(),\n",
    "                 exp_stats[exp_stats[\"Gen\"] > 0][['Gen', 'Log Fitness', 'Fitness']].copy()]\n",
    "    \n",
    "    name = ['No SC mutations', 'SC mutations']\n",
    "        \n",
    "    all_colors = met_brewer.met_brew(name='Hokusai3', n=6, brew_type='continuous')\n",
    "    colors = [all_colors[5], all_colors[3]]\n",
    "    \n",
    "    plt.figure(figsize=(9, 4), dpi=dpi)\n",
    "    \n",
    "    plt.xscale('log')\n",
    "    plt.yscale('log')\n",
    "    plt.grid(linestyle=':')\n",
    "    plt.grid(visible=True, which=\"minor\", axis='x', linestyle=':')\n",
    "    \n",
    "    plt.xlabel('Generation', fontsize=label_fontsize)\n",
    "    plt.ylabel('Fitness', fontsize=label_fontsize)\n",
    "    \n",
    "    plt.tick_params(axis='both', which='major', labelsize=tick_fontsize)\n",
    "    \n",
    "    for i_exp in range(2):\n",
    "        \n",
    "        mean_data = all_stats[i_exp].groupby('Gen').mean().reset_index()\n",
    "        first_dec = all_stats[i_exp].groupby('Gen').quantile(0.1)\n",
    "        last_dec = all_stats[i_exp].groupby('Gen').quantile(0.9)\n",
    "        \n",
    "        # Average fitness\n",
    "        plt.plot(mean_data['Gen'],\n",
    "                 np.exp(mean_data['Log Fitness']),\n",
    "                 color=colors[i_exp],\n",
    "                 linewidth=2,\n",
    "                 zorder=10,\n",
    "                 label=name[i_exp]) \n",
    "\n",
    "        # Quantiles\n",
    "        plt.plot(mean_data['Gen'],\n",
    "                 first_dec['Fitness'],\n",
    "                 color=colors[i_exp],\n",
    "                 alpha=0.3)\n",
    "\n",
    "        plt.plot(mean_data['Gen'],\n",
    "                 last_dec['Fitness'],\n",
    "                 color=colors[i_exp],\n",
    "                 alpha=0.3)\n",
    "\n",
    "    #plt.title(exp_path.name)\n",
    "    plt.legend(loc='lower right', fontsize=legend_fontsize)\n",
    "        \n",
    "    plt.savefig(f'{exp_path}/fitness_all_with_main.pdf', dpi=dpi, bbox_inches='tight')"
   ]
  },
  {
   "cell_type": "code",
   "execution_count": null,
   "metadata": {
    "scrolled": true
   },
   "outputs": [],
   "source": [
    "plot_fitness(exp_stats, main_stats, exp_path)"
   ]
  },
  {
   "cell_type": "code",
   "execution_count": null,
   "metadata": {},
   "outputs": [],
   "source": [
    "stats.ttest_ind(exp_stats[exp_stats['Gen'] == gen]['Fitness'],\n",
    "                main_stats[main_stats['Gen'] == gen]['Fitness'])"
   ]
  },
  {
   "cell_type": "markdown",
   "metadata": {},
   "source": [
    "### Plot mean intergenic distance"
   ]
  },
  {
   "cell_type": "code",
   "execution_count": null,
   "metadata": {},
   "outputs": [],
   "source": [
    "def plot_basal_sc(full_stats):\n",
    "    \n",
    "    max_gen = full_stats.groupby('Replicate').max()['Gen'].min()\n",
    "    \n",
    "    stats = full_stats[(full_stats[\"Gen\"] > 0) & (full_stats['Gen'] <= max_gen)][['Gen', 'Basal SC']].copy()\n",
    "        \n",
    "    mean_data = stats.groupby('Gen').mean().reset_index()\n",
    "    \n",
    "    # Note: for the fitness, the mean can be above the quantile\n",
    "    first_dec = stats.groupby('Gen').quantile(0.1)\n",
    "    last_dec = stats.groupby('Gen').quantile(0.9)\n",
    "    \n",
    "    all_colors = met_brewer.met_brew(name='Hokusai3', n=6, brew_type='continuous')\n",
    "    colors = [all_colors[5], all_colors[3]]\n",
    "    \n",
    "    plt.figure(figsize=(9,4), dpi=dpi)\n",
    "    \n",
    "    plt.xscale('log')\n",
    "    #plt.yscale('log')\n",
    "    plt.grid(linestyle=':')\n",
    "    plt.grid(visible=True, which=\"minor\", axis='x', linestyle=':')\n",
    "    \n",
    "    plt.xlabel('Generation', fontsize=label_fontsize)\n",
    "    plt.ylabel('Basal supercoiling', fontsize=label_fontsize)\n",
    "    \n",
    "    plt.tick_params(axis='both', which='major', labelsize=tick_fontsize)\n",
    "        \n",
    "    # Add main\n",
    "    plt.hlines(main_params['sigma_basal'], 1e0, gen, linewidth=2, color=colors[0],\n",
    "               zorder=10, label='No SC mutations')\n",
    "    \n",
    "    # Average\n",
    "    plt.plot(mean_data['Gen'],\n",
    "             mean_data['Basal SC'],\n",
    "             color=colors[1],\n",
    "             linewidth=2,\n",
    "             zorder=10,\n",
    "             label='SC mutations') \n",
    "    \n",
    "    # Quantiles\n",
    "    plt.plot(mean_data['Gen'],\n",
    "             first_dec['Basal SC'],\n",
    "             color=colors[1],\n",
    "             alpha=0.3)\n",
    "    \n",
    "    plt.plot(mean_data['Gen'],\n",
    "             last_dec['Basal SC'],\n",
    "             color=colors[1],\n",
    "             alpha=0.3)\n",
    "\n",
    "    plt.legend(fontsize=legend_fontsize)\n",
    "    \n",
    "    # Limits: (-0.06835996833066642, -0.059463889737949686)\n",
    "    plt.ylim(-0.069, -0.059)\n",
    "    print(f'Limits: {plt.ylim()}')\n",
    "    \n",
    "    plt.savefig(f'{exp_path}/basal_sc_all.pdf', dpi=dpi, bbox_inches='tight')"
   ]
  },
  {
   "cell_type": "code",
   "execution_count": null,
   "metadata": {},
   "outputs": [],
   "source": [
    "plot_basal_sc(exp_stats)"
   ]
  },
  {
   "cell_type": "markdown",
   "metadata": {},
   "source": [
    "# Plot the number of active genes of each type over evolutionary time"
   ]
  },
  {
   "cell_type": "code",
   "execution_count": null,
   "metadata": {},
   "outputs": [],
   "source": [
    "def plot_gene_activity_all(full_stats, exp_path, var_type='quantile'):\n",
    "    \n",
    "    mean_data = full_stats.groupby('Gen').mean().reset_index()\n",
    "    if var_type == 'sigma':\n",
    "        std_data = full_stats.groupby('Gen').std()\n",
    "    elif var_type == 'quantile':\n",
    "        first_dec = full_stats.groupby('Gen').quantile(0.1)\n",
    "        last_dec = full_stats.groupby('Gen').quantile(0.9)\n",
    "    elif var_type == 'minmax':\n",
    "        min_data = full_stats.groupby('Gen').min()\n",
    "        max_data = full_stats.groupby('Gen').max()\n",
    "    \n",
    "    for env in [\"A\", \"B\"]:\n",
    "\n",
    "        fig, ax1 = plt.subplots(figsize=(9, 4), dpi=dpi)\n",
    "        delta_y = exp_params[\"nb_genes\"] / 3 * 0.05 \n",
    "        ax1.set_ylim(-delta_y, exp_params[\"nb_genes\"] / 3 + delta_y)\n",
    "        ax1.set_ylabel('Activated genes', fontsize=label_fontsize)\n",
    "        ax1.set_xlabel('Generation', fontsize=label_fontsize)\n",
    "        ax1.set_xscale('log')\n",
    "        ax1.grid(linestyle=':')\n",
    "        ax1.grid(visible=True, which=\"minor\", axis='x', linestyle=':')\n",
    "\n",
    "        for i_gene_type, gene_type in enumerate(gene_types):\n",
    "\n",
    "            ax1.plot(mean_data['Gen'], mean_data[f\"{gene_type}on_{env}\"],\n",
    "                     color=gene_type_color[i_gene_type],\n",
    "                     linewidth=2,\n",
    "                     label=gene_type)\n",
    "            \n",
    "            # Show 2-sigma (95%) confidence intervals\n",
    "            if var_type == 'sigma':\n",
    "                ax1.plot(mean_data['Gen'],\n",
    "                         mean_data[f\"{gene_type}on_{env}\"] - 2 * std_data[f\"{gene_type}on_{env}\"],\n",
    "                         color=gene_type_color[i_gene_type],\n",
    "                         alpha=0.3)\n",
    "                ax1.plot(mean_data['Gen'],\n",
    "                         mean_data[f\"{gene_type}on_{env}\"] + 2 * std_data[f\"{gene_type}on_{env}\"],\n",
    "                         color=gene_type_color[i_gene_type],\n",
    "                         alpha=0.3)\n",
    "            # Show first and last deciles\n",
    "            elif var_type == 'quantile':\n",
    "                ax1.plot(mean_data['Gen'],\n",
    "                         first_dec[f\"{gene_type}on_{env}\"],\n",
    "                         color=gene_type_color[i_gene_type],\n",
    "                         alpha=0.3)\n",
    "                ax1.plot(mean_data['Gen'],\n",
    "                         last_dec[f\"{gene_type}on_{env}\"],\n",
    "                         color=gene_type_color[i_gene_type],\n",
    "                         alpha=0.3)\n",
    "            # Show min and max values\n",
    "            elif var_type == 'minmax':\n",
    "                ax1.plot(mean_data['Gen'],\n",
    "                         min_data[f\"{gene_type}on_{env}\"],\n",
    "                         color=gene_type_color[i_gene_type],\n",
    "                         alpha=0.3)\n",
    "                ax1.plot(mean_data['Gen'],\n",
    "                         max_data[f\"{gene_type}on_{env}\"],\n",
    "                         color=gene_type_color[i_gene_type],\n",
    "                         alpha=0.3)\n",
    "\n",
    "\n",
    "        \n",
    "        ax1.tick_params(axis='both', which='major', labelsize=tick_fontsize)\n",
    "\n",
    "\n",
    "        #plt.title(f\"Environment {env}\")\n",
    "        fig.legend(bbox_to_anchor=(0, 1),\n",
    "                   bbox_transform=ax1.transAxes,\n",
    "                   loc=\"upper left\",\n",
    "                   fontsize=legend_fontsize)   \n",
    "\n",
    "        plt.savefig(f'{exp_path}/gene_activity_env_{env}.pdf', dpi=dpi, bbox_inches='tight')\n",
    "\n",
    "        plt.show()"
   ]
  },
  {
   "cell_type": "code",
   "execution_count": null,
   "metadata": {},
   "outputs": [],
   "source": [
    "plot_gene_activity_all(exp_stats, exp_path)"
   ]
  },
  {
   "cell_type": "markdown",
   "metadata": {},
   "source": [
    "# Influence of enviromental supercoiling on final gene expression levels"
   ]
  },
  {
   "cell_type": "code",
   "execution_count": null,
   "metadata": {},
   "outputs": [],
   "source": [
    "nb_sigmas = 250\n",
    "sigma_min = -0.061\n",
    "sigma_max = 0.061"
   ]
  },
  {
   "cell_type": "code",
   "execution_count": null,
   "metadata": {},
   "outputs": [],
   "source": [
    "def compute_activity_sigma_per_type(indiv, sigmas):\n",
    "    \n",
    "    # Initialize the individual\n",
    "    indiv.evaluate(0.0, 0.0)\n",
    "\n",
    "    activ = np.zeros((3, len(sigmas))) # Compute activity for each gene type\n",
    "\n",
    "    for i_sigma, sigma_env in enumerate(sigmas):\n",
    "        # Evaluate the individual in the environment with sigma\n",
    "        temporal_expr = indiv.run_system(sigma_env)\n",
    "\n",
    "        # Compute total gene activation levels        \n",
    "        for i_gene, gene in enumerate(indiv.genes):\n",
    "            activ[gene.gene_type][i_sigma] += temporal_expr[-1, i_gene]\n",
    "            \n",
    "    activ /= (indiv.nb_genes / 3)\n",
    "    \n",
    "    return activ"
   ]
  },
  {
   "cell_type": "code",
   "execution_count": null,
   "metadata": {},
   "outputs": [],
   "source": [
    "def compute_avg_best_activ_by_sigma():\n",
    "    \n",
    "    sigmas = np.linspace(sigma_min, sigma_max, nb_sigmas)\n",
    "    activ = np.zeros((3, len(sigmas)))\n",
    "\n",
    "    nb_indivs = 0\n",
    "\n",
    "    for i_rep, rep_dir in enumerate(exp_rep_dirs):\n",
    "        try:\n",
    "            indiv = evotsc_lib.get_best_indiv(rep_dir, gen=gen)\n",
    "        except FileNotFoundError:\n",
    "            continue\n",
    "            \n",
    "        activ += compute_activity_sigma_per_type(indiv, sigmas)\n",
    "        nb_indivs += 1\n",
    "            \n",
    "    return activ / nb_indivs"
   ]
  },
  {
   "cell_type": "code",
   "execution_count": null,
   "metadata": {},
   "outputs": [],
   "source": [
    "activ = compute_avg_best_activ_by_sigma()"
   ]
  },
  {
   "cell_type": "code",
   "execution_count": null,
   "metadata": {},
   "outputs": [],
   "source": [
    "def generate_rand_activ_by_sigma():\n",
    "\n",
    "    sigmas = np.linspace(sigma_min, sigma_max, nb_sigmas)\n",
    "    activ = np.zeros(len(sigmas))  # Average over all genes, not gene types\n",
    "    \n",
    "    for i_rand, rand_indiv in enumerate(rand_indivs):\n",
    "        activ += np.mean(compute_activity_sigma_per_type(rand_indiv, sigmas), axis=0)\n",
    "        \n",
    "    return activ / len(rand_indivs)"
   ]
  },
  {
   "cell_type": "code",
   "execution_count": null,
   "metadata": {},
   "outputs": [],
   "source": [
    "rand_activ = generate_rand_activ_by_sigma()"
   ]
  },
  {
   "cell_type": "code",
   "execution_count": null,
   "metadata": {},
   "outputs": [],
   "source": [
    "# See how gene activity levels depend on environmental supercoiling\n",
    "def plot_activity_sigma_per_type(activ, rand_activ, params, plot_title=None, plot_name=None):\n",
    "    \n",
    "    sigma_basal = params['sigma_basal']\n",
    "    sigma_opt = params['sigma_opt']      \n",
    "    \n",
    "    sigmas_env = np.linspace(sigma_min, sigma_max, nb_sigmas)\n",
    "\n",
    "    colors = ['tab:blue', 'tab:red', 'tab:green'] # AB: blue, A: red, B: green\n",
    "    \n",
    "    fig, ax = plt.subplots(figsize=(7, 4), dpi=dpi)\n",
    "    \n",
    "    plt.xlabel('Background supercoiling ($\\sigma_{basal} + \\delta\\sigma_{env}$)')\n",
    "    plt.ylabel('Average gene expression by type')\n",
    "    plt.ylim(-0.05, 1.10)\n",
    "    plt.xlim(sigmas_env[0] + sigma_basal, sigmas_env[-1] + sigma_basal)\n",
    "    plt.grid(linestyle=':')\n",
    "    \n",
    "    # Add 1/2 expression level\n",
    "    half_expr = (1 + np.exp(- params['m'])) / 2\n",
    "    plt.hlines(half_expr, sigmas_env[0] + sigma_basal, sigmas_env[-1] + sigma_basal,\n",
    "               linestyle=':', linewidth=1.5, color='tab:pink')#, label='Activation threshold')\n",
    "    \n",
    "    \n",
    "    # Add average expression per gene type\n",
    "    for i_gene_type, gene_type in enumerate(gene_types):\n",
    "        plt.plot(sigmas_env + sigma_basal, activ[i_gene_type, :],\n",
    "                 color=gene_type_color[i_gene_type],\n",
    "                 linewidth=2,\n",
    "                 label=gene_type)\n",
    "\n",
    "    # Add sigma_A and sigma_B\n",
    "    y_min, y_max = plt.ylim()\n",
    "    plt.vlines(params['sigma_A'] + sigma_basal, y_min, y_max, linestyle='--', linewidth=1, color='black')\n",
    "    plt.vlines(params['sigma_B'] + sigma_basal, y_min, y_max, linestyle='--', linewidth=1, color='black')\n",
    "    \n",
    "    plt.text(params['sigma_A'] + sigma_basal, y_max + 0.005, '$\\sigma_A$',\n",
    "             va='bottom', ha='center', fontsize='large') # Use \\mathbf{} for bold\n",
    "    plt.text(params['sigma_B'] + sigma_basal, y_max + 0.005, '$\\sigma_B$',\n",
    "             va='bottom', ha='center', fontsize='large')\n",
    "    plt.ylim(y_min, y_max)\n",
    "    \n",
    "    # Add expression for a random genome\n",
    "    plt.plot(sigmas_env + sigma_basal, rand_activ,\n",
    "         linewidth=2, color='tab:cyan', zorder=0, linestyle=(0, (3, 1, 1, 1)), label='Random')\n",
    "    \n",
    "    # Add expression for an isolated gene\n",
    "    sigmas_total = sigmas_env + sigma_basal\n",
    "    activities = 1.0 / (1.0 + np.exp((sigmas_total - sigma_opt)/ params['epsilon']))\n",
    "    plt.plot(sigmas_env + sigma_basal, np.exp(params['m'] * (activities - 1)),\n",
    "             linewidth=2, color='tab:cyan', zorder=0, linestyle='--', label='Isolated gene')\n",
    "\n",
    "    plt.legend(loc='lower left')\n",
    "    \n",
    "    # Add other ax with other sc\n",
    "    ax2 = ax.twiny()\n",
    "    xmin, xmax = ax.get_xlim()\n",
    "    ax2.set_xlim(xmin - params['sigma_basal'], xmax - params['sigma_basal'])\n",
    "    ax2.set_xlabel('Environmental shift in supercoiling ($\\delta\\sigma_{env}$)')\n",
    "    \n",
    "    # Wrap up            \n",
    "    if plot_name:\n",
    "        plt.savefig(plot_name, dpi=dpi, bbox_inches='tight')\n",
    "        \n",
    "    plt.show()\n",
    "    plt.close()"
   ]
  },
  {
   "cell_type": "code",
   "execution_count": null,
   "metadata": {
    "scrolled": false
   },
   "outputs": [],
   "source": [
    "plot_activity_sigma_per_type(activ, rand_activ, params=exp_params,\n",
    "                             plot_name=exp_path.joinpath(f'activity_sigmas_avg.pdf'))"
   ]
  }
 ],
 "metadata": {
  "kernelspec": {
   "display_name": "Python 3 (ipykernel)",
   "language": "python",
   "name": "python3"
  },
  "language_info": {
   "codemirror_mode": {
    "name": "ipython",
    "version": 3
   },
   "file_extension": ".py",
   "mimetype": "text/x-python",
   "name": "python",
   "nbconvert_exporter": "python",
   "pygments_lexer": "ipython3",
   "version": "3.9.7"
  }
 },
 "nbformat": 4,
 "nbformat_minor": 4
}
