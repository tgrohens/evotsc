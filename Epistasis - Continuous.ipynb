{
 "cells": [
  {
   "cell_type": "code",
   "execution_count": null,
   "metadata": {},
   "outputs": [],
   "source": [
    "import sys\n",
    "import pathlib\n",
    "import numpy as np\n",
    "import pandas as pd\n",
    "import matplotlib.pyplot as plt\n",
    "import matplotlib as mpl\n",
    "import pickle"
   ]
  },
  {
   "cell_type": "code",
   "execution_count": null,
   "metadata": {},
   "outputs": [],
   "source": [
    "from scipy import stats"
   ]
  },
  {
   "cell_type": "code",
   "execution_count": null,
   "metadata": {},
   "outputs": [],
   "source": [
    "import importlib\n",
    "import evotsc_lib\n",
    "import evotsc_plot\n",
    "importlib.reload(evotsc_lib)\n",
    "importlib.reload(evotsc_plot)"
   ]
  },
  {
   "cell_type": "code",
   "execution_count": null,
   "metadata": {},
   "outputs": [],
   "source": [
    "label_fontsize=20\n",
    "tick_fontsize=15\n",
    "legend_fontsize=15\n",
    "dpi=300"
   ]
  },
  {
   "cell_type": "code",
   "execution_count": null,
   "metadata": {},
   "outputs": [],
   "source": [
    "sc_path = pathlib.Path('/Users/theotime/Desktop/evotsc/phd/continuous-epistasis/with-sc/')\n",
    "control_path = pathlib.Path('/Users/theotime/Desktop/evotsc/phd/continuous-epistasis/control/')\n",
    "gen = 250_000\n",
    "gene_types = ['AB', 'A', 'B'] # Name of each gene type\n",
    "gene_type_color = ['tab:blue', 'tab:red', 'tab:green'] #AB, A, B\n",
    "sc_color = 'tab:green'\n",
    "control_color = 'tab:red'"
   ]
  },
  {
   "cell_type": "code",
   "execution_count": null,
   "metadata": {},
   "outputs": [],
   "source": [
    "sc_wt_dirs = sorted([d for d in sc_path.iterdir() if (d.is_dir() and d.name.startswith(sc_path.name))])\n",
    "nb_sc_wt = len(sc_wt_dirs)"
   ]
  },
  {
   "cell_type": "code",
   "execution_count": null,
   "metadata": {},
   "outputs": [],
   "source": [
    "control_wt_dirs = sorted([d for d in control_path.iterdir() if (d.is_dir() and d.name.startswith(control_path.name))])\n",
    "nb_control_wt = len(control_wt_dirs)"
   ]
  },
  {
   "cell_type": "code",
   "execution_count": null,
   "metadata": {},
   "outputs": [],
   "source": [
    "sc_rep_dirs = [sorted([d for d in wt_dir.iterdir() if (d.is_dir() and d.name.startswith(\"rep\"))])\n",
    "               for wt_dir in sc_wt_dirs]\n",
    "sc_params = evotsc_lib.read_params(sc_rep_dirs[0][0]) # Only the seed is different"
   ]
  },
  {
   "cell_type": "code",
   "execution_count": null,
   "metadata": {},
   "outputs": [],
   "source": [
    "control_rep_dirs = [sorted([d for d in wt_dir.iterdir() if (d.is_dir() and d.name.startswith(\"rep\"))])\n",
    "                    for wt_dir in control_wt_dirs]\n",
    "control_params = evotsc_lib.read_params(control_rep_dirs[0][0]) "
   ]
  },
  {
   "cell_type": "code",
   "execution_count": null,
   "metadata": {},
   "outputs": [],
   "source": [
    "genes_per_type = sc_params[\"nb_genes\"] / len(gene_types) # Doesn't change"
   ]
  },
  {
   "cell_type": "code",
   "execution_count": null,
   "metadata": {},
   "outputs": [],
   "source": [
    "def get_stats(exp_name, params):\n",
    "            \n",
    "    wt_dirs = sorted([d for d in exp_name.iterdir() if (d.is_dir() and d.name.startswith(exp_name.name))])\n",
    "        \n",
    "    res = pd.DataFrame()\n",
    "    \n",
    "    data_cols = ['Gen', 'Fitness']\n",
    "        \n",
    "    if params['intergene_poisson_lam'] != 0.0:\n",
    "        data_cols += ['Genome size']\n",
    "\n",
    "    if params['basal_sc_mutation_prob'] != 0.0:\n",
    "        data_cols += ['Basal SC']\n",
    "\n",
    "    \n",
    "    for i_wt, wt_dir in enumerate(wt_dirs):\n",
    "        rep_dirs = sorted([d for d in wt_dir.iterdir() if (d.is_dir() and d.name.startswith('rep'))])\n",
    "        \n",
    "\n",
    "        for i_rep, rep_dir in enumerate(rep_dirs):\n",
    "\n",
    "            res_dir = pd.read_csv(rep_dir.joinpath('stats.csv'), usecols=data_cols)\n",
    "\n",
    "            res_dir.insert(0, 'WT', i_wt)\n",
    "            res_dir.insert(1, 'Replicate', i_rep)\n",
    "\n",
    "            res = pd.concat([res, res_dir])\n",
    "\n",
    "    res['Log Fitness'] = np.log(res['Fitness'])\n",
    "            \n",
    "    return res"
   ]
  },
  {
   "cell_type": "code",
   "execution_count": null,
   "metadata": {},
   "outputs": [],
   "source": [
    "def get_orig_indivs(exp_path):\n",
    "    wt_dirs = sorted([d for d in exp_path.iterdir() if (d.is_dir() and d.name.startswith(exp_path.name))])\n",
    "    \n",
    "    indivs = []\n",
    "    \n",
    "    for i_wt, wt_dir in enumerate(wt_dirs):\n",
    "        indiv_path = [p for p in wt_dir.iterdir() if ('best_rep' in p.name)][0]\n",
    "        \n",
    "        with open(indiv_path, 'rb') as indiv_file:\n",
    "            indivs.append(pickle.load(indiv_file))\n",
    "        \n",
    "    return indivs"
   ]
  },
  {
   "cell_type": "code",
   "execution_count": null,
   "metadata": {},
   "outputs": [],
   "source": [
    "sc_orig_indivs = get_orig_indivs(sc_path)"
   ]
  },
  {
   "cell_type": "code",
   "execution_count": null,
   "metadata": {},
   "outputs": [],
   "source": [
    "control_orig_indivs = get_orig_indivs(control_path)"
   ]
  },
  {
   "cell_type": "markdown",
   "metadata": {},
   "source": [
    "# Plot the number of active genes of each type over evolutionary time"
   ]
  },
  {
   "cell_type": "code",
   "execution_count": null,
   "metadata": {},
   "outputs": [],
   "source": [
    "sc_stats = get_stats(sc_path, sc_params)"
   ]
  },
  {
   "cell_type": "code",
   "execution_count": null,
   "metadata": {},
   "outputs": [],
   "source": [
    "control_stats = get_stats(control_path, control_params)"
   ]
  },
  {
   "cell_type": "markdown",
   "metadata": {},
   "source": [
    "# Plot fitness, genome size, and basal supercoiling over evolutionary time"
   ]
  },
  {
   "cell_type": "code",
   "execution_count": null,
   "metadata": {},
   "outputs": [],
   "source": [
    "def plot_fitness_per_wt(exp_path, full_stats):\n",
    "    \n",
    "    nb_wt = full_stats['WT'].nunique()\n",
    "    \n",
    "    colors = mpl.cm.get_cmap('viridis', nb_wt)(range(nb_wt))\n",
    "\n",
    "    plt.figure(figsize=(9, 4), dpi=dpi)\n",
    "    \n",
    "    for i_wt in range(nb_wt):\n",
    "        wt_stats = full_stats[(full_stats[\"Gen\"] > 0) & (full_stats['WT'] == i_wt)]\n",
    "        \n",
    "        mean_data = wt_stats.groupby('Gen').mean().reset_index()\n",
    "        plt.plot(mean_data['Gen'],\n",
    "                 np.exp(mean_data['Log Fitness']),\n",
    "                 color=colors[i_wt],\n",
    "                 label=f'WT {i_wt}',\n",
    "                 linewidth=2) \n",
    "\n",
    "        # Min and max (5 is not enough for quantiles)\n",
    "        min_data = wt_stats.groupby('Gen').min()\n",
    "        plt.plot(mean_data['Gen'],\n",
    "                 min_data['Fitness'],\n",
    "                 color=colors[i_wt],\n",
    "                 alpha=0.3)\n",
    "\n",
    "        max_data = wt_stats.groupby('Gen').max()\n",
    "        plt.plot(mean_data['Gen'],\n",
    "                 max_data['Fitness'],\n",
    "                 color=colors[i_wt],\n",
    "                 alpha=0.3)\n",
    "\n",
    "    plt.xscale('log')\n",
    "    plt.yscale('log')\n",
    "    plt.grid(linestyle=':')\n",
    "    plt.grid(visible=True, which=\"minor\", axis='x', linestyle=':')\n",
    "\n",
    "    plt.xlabel('Generation', fontsize=label_fontsize)\n",
    "    plt.ylabel('Fitness', fontsize=label_fontsize)\n",
    "    \n",
    "    plt.ylim(1e-10, 1e0)\n",
    "    \n",
    "    plt.legend()\n",
    "\n",
    "    plt.tick_params(axis='both', which='major', labelsize=tick_fontsize)\n",
    "        \n",
    "    plt.savefig(f'{exp_path}/fitness_per_wt.pdf', dpi=dpi, bbox_inches='tight')"
   ]
  },
  {
   "cell_type": "code",
   "execution_count": null,
   "metadata": {},
   "outputs": [],
   "source": [
    "plot_fitness_per_wt(sc_path, sc_stats)"
   ]
  },
  {
   "cell_type": "code",
   "execution_count": null,
   "metadata": {},
   "outputs": [],
   "source": [
    "plot_fitness_per_wt(control_path, control_stats)"
   ]
  },
  {
   "cell_type": "code",
   "execution_count": null,
   "metadata": {},
   "outputs": [],
   "source": [
    "def plot_fitness_grouped(sc_stats, control_stats, exp_path):\n",
    "\n",
    "    stats = [control_stats[control_stats[\"Gen\"] > 0].copy(),\n",
    "             sc_stats[sc_stats[\"Gen\"] > 0].copy(),]\n",
    "    \n",
    "    name = ['Control runs', 'Supercoiling runs']\n",
    "    \n",
    "    colors = mpl.cm.get_cmap('viridis', 2)(range(2))\n",
    "\n",
    "    plt.figure(figsize=(9, 4), dpi=dpi)\n",
    "    \n",
    "    for i_exp in range(2):\n",
    "        mean_data = stats[i_exp].groupby('Gen').mean().reset_index()\n",
    "        plt.plot(mean_data['Gen'],\n",
    "                 np.exp(mean_data['Log Fitness']),\n",
    "                 color=colors[i_exp],\n",
    "                 linewidth=2,\n",
    "                 label=name[i_exp]) \n",
    "\n",
    "        # 5*5 = 25 replicates so let's use qa\n",
    "        first_dec = stats[i_exp].groupby('Gen').quantile(0.1)\n",
    "        plt.plot(mean_data['Gen'],\n",
    "                 first_dec['Fitness'],\n",
    "                 color=colors[i_exp],\n",
    "                 alpha=0.3)\n",
    "\n",
    "        last_dec = stats[i_exp].groupby('Gen').quantile(0.9)\n",
    "        plt.plot(mean_data['Gen'],\n",
    "                 last_dec['Fitness'],\n",
    "                 color=colors[i_exp],\n",
    "                 alpha=0.3)\n",
    "\n",
    "    plt.xscale('log')\n",
    "    plt.yscale('log')\n",
    "    plt.grid(linestyle=':')\n",
    "    plt.grid(visible=True, which=\"minor\", axis='x', linestyle=':')\n",
    "\n",
    "    plt.xlabel('Generation', fontsize=label_fontsize)\n",
    "    plt.ylabel('Fitness', fontsize=label_fontsize)\n",
    "    plt.ylim(1e-10, 1e0)\n",
    "    \n",
    "    plt.legend(fontsize=legend_fontsize)\n",
    "    \n",
    "    plt.tick_params(axis='both', which='major', labelsize=tick_fontsize)\n",
    "        \n",
    "    plt.savefig(f'{exp_path}/fitness_grouped.pdf', dpi=dpi, bbox_inches='tight')"
   ]
  },
  {
   "cell_type": "code",
   "execution_count": null,
   "metadata": {},
   "outputs": [],
   "source": [
    "plot_fitness_grouped(sc_stats, control_stats, sc_path)"
   ]
  },
  {
   "cell_type": "code",
   "execution_count": null,
   "metadata": {},
   "outputs": [],
   "source": [
    "def plot_relative_fitness_per_wt(full_stats, orig_indivs, exp_path):\n",
    "    \n",
    "    nb_wt = full_stats['WT'].nunique()\n",
    "    \n",
    "    colors = mpl.cm.get_cmap('viridis', nb_wt)(range(nb_wt))\n",
    "\n",
    "    plt.figure(figsize=(9, 4), dpi=dpi)\n",
    "    \n",
    "    for i_wt in range(nb_wt):\n",
    "        wt_stats = full_stats[(full_stats[\"Gen\"] > 0) & (full_stats['WT'] == i_wt)]\n",
    "        \n",
    "        orig_fitness = orig_indivs[i_wt].fitness\n",
    "        \n",
    "        mean_data = wt_stats.groupby('Gen').mean().reset_index()\n",
    "        plt.plot(mean_data['Gen'],\n",
    "                 np.exp(mean_data['Log Fitness']) / orig_fitness,\n",
    "                 color=colors[i_wt],\n",
    "                 label=f'WT {i_wt}',\n",
    "                 linewidth=2) \n",
    "\n",
    "        # Min and max (5 is not enough for quantiles)\n",
    "        min_data = wt_stats.groupby('Gen').min()\n",
    "        #plt.plot(mean_data['Gen'],\n",
    "        #         min_data['Fitness'] / orig_fitness,\n",
    "        #         color=colors[i_wt],\n",
    "        #         alpha=0.3)\n",
    "\n",
    "        max_data = wt_stats.groupby('Gen').max()\n",
    "        #plt.plot(mean_data['Gen'],\n",
    "        #         max_data['Fitness'] / orig_fitness,\n",
    "        #         color=colors[i_wt],\n",
    "        #         alpha=0.3)\n",
    "\n",
    "    plt.xscale('log')\n",
    "    plt.yscale('log')\n",
    "    plt.grid(linestyle=':')\n",
    "    plt.grid(visible=True, which=\"minor\", axis='x', linestyle=':')\n",
    "\n",
    "    plt.xlabel('Generation', fontsize=label_fontsize)\n",
    "    plt.ylabel('Relative fitness', fontsize=label_fontsize)\n",
    "    plt.ylim(1e-7, 0.5e1)\n",
    "\n",
    "    plt.legend()\n",
    "\n",
    "    plt.tick_params(axis='both', which='major', labelsize=tick_fontsize)\n",
    "        \n",
    "    plt.savefig(f'{exp_path}/all_relative_fitness_per_wt.pdf', dpi=dpi, bbox_inches='tight')"
   ]
  },
  {
   "cell_type": "code",
   "execution_count": null,
   "metadata": {},
   "outputs": [],
   "source": [
    "plot_relative_fitness_per_wt(sc_stats, sc_orig_indivs, sc_path)"
   ]
  },
  {
   "cell_type": "code",
   "execution_count": null,
   "metadata": {},
   "outputs": [],
   "source": [
    "plot_relative_fitness_per_wt(control_stats, control_orig_indivs, control_path)"
   ]
  },
  {
   "cell_type": "code",
   "execution_count": null,
   "metadata": {},
   "outputs": [],
   "source": [
    "def plot_basal_sc_per_wt(full_stats, exp_path):\n",
    "    \n",
    "    nb_wt = full_stats['WT'].nunique()\n",
    "    \n",
    "    colors = mpl.cm.get_cmap('viridis', nb_wt)(range(nb_wt))\n",
    "\n",
    "    plt.figure(figsize=(8, 5), dpi=dpi)\n",
    "    \n",
    "    for i_wt in range(nb_wt):\n",
    "        wt_stats = full_stats[(full_stats[\"Gen\"] > 0) & (full_stats['WT'] == i_wt)][['Gen', 'Replicate', 'Basal SC']]\n",
    "\n",
    "        # plot by replicate fitness\n",
    "        #for i_rep in wt_stats['Replicate'].unique():\n",
    "        #    rep_stats = wt_stats[wt_stats['Replicate'] == i_rep]\n",
    "        #    if i_rep == 0:\n",
    "        #        label = f'WT {i_wt}'\n",
    "        #    else:\n",
    "        #        label = None\n",
    "        \n",
    "        mean_data = wt_stats.groupby('Gen').mean().reset_index()\n",
    "        plt.plot(mean_data['Gen'],\n",
    "                 mean_data['Basal SC'],\n",
    "                 color=colors[i_wt],\n",
    "                 label=f'WT {i_wt}',\n",
    "                 linewidth=2) \n",
    "\n",
    "        # Min and max (5 is not enough for quantiles)\n",
    "        min_data = wt_stats.groupby('Gen').min()\n",
    "        plt.plot(mean_data['Gen'],\n",
    "                 min_data['Basal SC'],\n",
    "                 color=colors[i_wt],\n",
    "                 alpha=0.3)\n",
    "\n",
    "        max_data = wt_stats.groupby('Gen').max()\n",
    "        plt.plot(mean_data['Gen'],\n",
    "                 max_data['Basal SC'],\n",
    "                 color=colors[i_wt],\n",
    "                 alpha=0.3)\n",
    "\n",
    "    plt.xscale('log')\n",
    "    #plt.yscale('log')\n",
    "    plt.grid(linestyle=':')\n",
    "    plt.grid(visible=True, which=\"minor\", axis='x', linestyle=':')\n",
    "\n",
    "    plt.xlabel('Generation', fontsize=label_fontsize)\n",
    "    plt.ylabel('Basal SC', fontsize=label_fontsize)\n",
    "    plt.ylim(-0.0675, -0.053)\n",
    "    \n",
    "    plt.legend(loc='lower left')\n",
    "\n",
    "    plt.tick_params(axis='both', which='major', labelsize=tick_fontsize)\n",
    "        \n",
    "    plt.savefig(f'{exp_path}/sc_per_wt.pdf', dpi=dpi, bbox_inches='tight')"
   ]
  },
  {
   "cell_type": "code",
   "execution_count": null,
   "metadata": {},
   "outputs": [],
   "source": [
    "plot_basal_sc_per_wt(sc_stats, sc_path)"
   ]
  },
  {
   "cell_type": "code",
   "execution_count": null,
   "metadata": {},
   "outputs": [],
   "source": [
    "def plot_basal_sc_all(full_stats, exp_path):\n",
    "        \n",
    "    color = mpl.cm.get_cmap('viridis', 1)(range(1))[0]\n",
    "\n",
    "    plt.figure(figsize=(8, 5), dpi=dpi)\n",
    "    \n",
    "    mean_stats = full_stats.groupby('Gen').mean().reset_index()\n",
    "        \n",
    "    plt.plot(mean_stats['Gen'],\n",
    "             mean_stats['Basal SC'],\n",
    "             color=color,\n",
    "             linewidth=2) \n",
    "\n",
    "    # 5*5 = 25 replicates so let's use qa\n",
    "    first_dec = full_stats.groupby('Gen').quantile(0.1)\n",
    "    plt.plot(mean_stats['Gen'],\n",
    "             first_dec['Basal SC'],\n",
    "             color=color,\n",
    "             alpha=0.3)\n",
    "\n",
    "    last_dec = full_stats.groupby('Gen').quantile(0.9)\n",
    "    plt.plot(mean_stats['Gen'],\n",
    "             last_dec['Basal SC'],\n",
    "             color=color,\n",
    "             alpha=0.3)\n",
    "\n",
    "    plt.xscale('log')\n",
    "    #plt.yscale('log')\n",
    "    plt.grid(linestyle=':')\n",
    "    plt.grid(visible=True, which=\"minor\", axis='x', linestyle=':')\n",
    "\n",
    "    plt.xlabel('Generation', fontsize=label_fontsize)\n",
    "    plt.ylabel('Basal SC', fontsize=label_fontsize)\n",
    "    plt.ylim(-0.0675, -0.053)\n",
    "    \n",
    "    plt.tick_params(axis='both', which='major', labelsize=tick_fontsize)\n",
    "        \n",
    "    plt.savefig(f'{exp_path}/sc_all.pdf', dpi=dpi, bbox_inches='tight')"
   ]
  },
  {
   "cell_type": "code",
   "execution_count": null,
   "metadata": {},
   "outputs": [],
   "source": [
    "plot_basal_sc_all(sc_stats, sc_path)"
   ]
  },
  {
   "cell_type": "markdown",
   "metadata": {},
   "source": [
    "## Interesting stats: fitness relative to the ancestor at the last generation"
   ]
  },
  {
   "cell_type": "code",
   "execution_count": null,
   "metadata": {},
   "outputs": [],
   "source": [
    "def compute_rel_fitness_at(full_stats, orig_indivs, gen):\n",
    "    last_stats_by_wt = full_stats[full_stats['Gen'] == gen].groupby('WT').mean()[['Replicate', 'Gen', 'Fitness']]\n",
    "\n",
    "    nb_wt = full_stats['Replicate'].nunique()\n",
    "    \n",
    "    for i_wt in range(nb_wt):\n",
    "        orig_fitness = orig_indivs[i_wt].fitness\n",
    "        rel_fitness = last_stats_by_wt.iloc[i_wt] / orig_fitness\n",
    "\n",
    "    orig_df = pd.DataFrame({'WT': list(range(nb_wt)),\n",
    "                            'Orig Fitness': [i.fitness for i in orig_indivs]}).set_index('WT')\n",
    "\n",
    "    full_df = pd.concat([last_stats_by_wt, orig_df], axis='columns')\n",
    "\n",
    "    full_df['Rel Fitness'] = full_df['Fitness'] / full_df['Orig Fitness']\n",
    "\n",
    "    return full_df"
   ]
  },
  {
   "cell_type": "code",
   "execution_count": null,
   "metadata": {},
   "outputs": [],
   "source": [
    "sc_rel_data = compute_rel_fitness_at(sc_stats, sc_orig_indivs, gen)"
   ]
  },
  {
   "cell_type": "code",
   "execution_count": null,
   "metadata": {},
   "outputs": [],
   "source": [
    "sc_rel_data.mean()"
   ]
  },
  {
   "cell_type": "code",
   "execution_count": null,
   "metadata": {},
   "outputs": [],
   "source": [
    "control_rel_data = compute_rel_fitness_at(control_stats, control_orig_indivs, gen)"
   ]
  },
  {
   "cell_type": "code",
   "execution_count": null,
   "metadata": {},
   "outputs": [],
   "source": [
    "control_rel_data.mean()"
   ]
  },
  {
   "cell_type": "code",
   "execution_count": null,
   "metadata": {},
   "outputs": [],
   "source": [
    "stats.ttest_ind(sc_rel_data['Rel Fitness'], control_rel_data['Rel Fitness'])"
   ]
  },
  {
   "cell_type": "code",
   "execution_count": null,
   "metadata": {},
   "outputs": [],
   "source": [
    "def plot_rel_fitness_agrege(sc_stats, sc_orig_indivs, control_stats, control_orig_indivs, exp_path):\n",
    "            \n",
    "    fig, (ax1, ax2) = plt.subplots(1, 2, gridspec_kw={'width_ratios': [5, 1]},\n",
    "                                   figsize=(8,5), dpi=dpi)\n",
    "    \n",
    "    # Left figure: over time\n",
    "    ax1.set_yscale('log')\n",
    "    ax1.set_xscale('log')\n",
    "    #plt.ylim(1e-2, 1e-1)\n",
    "    ax1.grid(linestyle=':', which='both')\n",
    "    ax1.set_xlabel('Generation', fontsize='large')\n",
    "    ax1.set_ylabel('Relative fitness', fontsize='large')\n",
    "    \n",
    "    sc_last_fitness = []\n",
    "    for i_wt in sc_stats['WT'].unique():\n",
    "        wt_rep = sc_stats[(sc_stats['WT'] == i_wt) & (sc_stats['Gen'] > 0)].copy()\n",
    "        wt_rep['Rel Fitness'] = wt_rep['Fitness'] / sc_orig_indivs[i_wt].fitness\n",
    "        mean_data = wt_rep.groupby(['Gen']).mean()\n",
    "        sc_last_fitness.append(mean_data.iloc[-1]['Rel Fitness'])\n",
    "        if i_wt == 0:\n",
    "            label = \"Supercoiling runs\"\n",
    "        else:\n",
    "            label = None\n",
    "        ax1.plot(mean_data['Rel Fitness'], label=label, lw=2, color=sc_color)\n",
    "        \n",
    "\n",
    "    control_last_fitness = []\n",
    "    for i_wt in control_stats['WT'].unique():\n",
    "        wt_rep = control_stats[(control_stats['WT'] == i_wt) & (control_stats['Gen'] > 0)].copy()\n",
    "        wt_rep['Rel Fitness'] = wt_rep['Fitness'] / control_orig_indivs[i_wt].fitness\n",
    "        mean_data = wt_rep.groupby(['Gen']).mean()\n",
    "        control_last_fitness.append(mean_data.iloc[-1]['Rel Fitness'])\n",
    "        if i_wt == 0:\n",
    "            label = \"Control runs\"\n",
    "        else:\n",
    "            label = None\n",
    "        ax1.plot(mean_data['Rel Fitness'], label=label, lw=2, color=control_color)\n",
    "\n",
    "    ax1.legend()\n",
    "    \n",
    "    # Right figure: last time point\n",
    "    # Replicates\n",
    "    \n",
    "    ax2.plot(np.zeros(5), sc_last_fitness,\n",
    "             linestyle=' ', marker='o', color=sc_color)\n",
    "    ax2.plot(np.ones(5), control_last_fitness,\n",
    "             linestyle=' ', marker='o', color=control_color)\n",
    "    \n",
    "    #ax2.set_yscale('log')\n",
    "    ax2.yaxis.tick_right()\n",
    "    ax2.yaxis.set_label_position(\"right\")\n",
    "    #ax2.set_ylim(-0.1, 1.55)\n",
    "    ax2.set_ylabel('Final relative fitness', fontsize='large')\n",
    "    ax2.set_xlim(-0.5, 1.5)\n",
    "    ax2.set_xticks(ticks=[0, 1])\n",
    "    ax2.set_xticklabels(labels=['SC', 'Control'])\n",
    "    ax2.grid(linestyle=':', axis='y', which='both')\n",
    "\n",
    "    # Save and show\n",
    "    plt.tight_layout()\n",
    "    \n",
    "    plt.savefig(exp_path.joinpath('rel_fitness_sc_control.pdf'), dpi=dpi, bbox_inches='tight')\n",
    "    \n",
    "    plt.show()"
   ]
  },
  {
   "cell_type": "code",
   "execution_count": null,
   "metadata": {},
   "outputs": [],
   "source": [
    "plot_rel_fitness_agrege(sc_stats, sc_orig_indivs, control_stats, control_orig_indivs, sc_path)"
   ]
  },
  {
   "cell_type": "code",
   "execution_count": null,
   "metadata": {},
   "outputs": [],
   "source": []
  }
 ],
 "metadata": {
  "kernelspec": {
   "display_name": "Python 3 (ipykernel)",
   "language": "python",
   "name": "python3"
  },
  "language_info": {
   "codemirror_mode": {
    "name": "ipython",
    "version": 3
   },
   "file_extension": ".py",
   "mimetype": "text/x-python",
   "name": "python",
   "nbconvert_exporter": "python",
   "pygments_lexer": "ipython3",
   "version": "3.9.7"
  }
 },
 "nbformat": 4,
 "nbformat_minor": 4
}
