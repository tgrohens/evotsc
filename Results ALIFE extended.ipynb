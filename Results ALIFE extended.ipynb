{
 "cells": [
  {
   "cell_type": "code",
   "execution_count": null,
   "metadata": {},
   "outputs": [],
   "source": [
    "import pathlib\n",
    "import numpy as np\n",
    "import pandas as pd\n",
    "import matplotlib.pyplot as plt\n",
    "import matplotlib as mpl\n",
    "import pickle\n",
    "import statsmodels.api as sm"
   ]
  },
  {
   "cell_type": "code",
   "execution_count": null,
   "metadata": {},
   "outputs": [],
   "source": [
    "from scipy import stats"
   ]
  },
  {
   "cell_type": "code",
   "execution_count": null,
   "metadata": {},
   "outputs": [],
   "source": [
    "import autoreload\n",
    "import evotsc_plot\n",
    "autoreload.reload(evotsc_plot)"
   ]
  },
  {
   "cell_type": "code",
   "execution_count": null,
   "metadata": {},
   "outputs": [],
   "source": [
    "label_fontsize=20\n",
    "tick_fontsize=15\n",
    "legend_fontsize=15\n",
    "dpi=300"
   ]
  },
  {
   "cell_type": "code",
   "execution_count": null,
   "metadata": {},
   "outputs": [],
   "source": [
    "exp_path = pathlib.Path('/Users/theotime/Desktop/evotsc/alife-journal/')\n",
    "gen = 250_000\n",
    "nb_genes_type = 20\n",
    "gene_types = ['AB', 'A', 'B'] # Name of each gene type\n",
    "gene_type_color = ['tab:blue', 'tab:red', 'tab:green'] #AB, A, B\n",
    "orient_name = ['leading', 'lagging'] # Name of each gene orientation\n",
    "rel_orient = ['conv', 'div', 'upstr', 'downstr']"
   ]
  },
  {
   "cell_type": "code",
   "execution_count": null,
   "metadata": {},
   "outputs": [],
   "source": [
    "def get_params(exp_path):\n",
    "    rep_dirs = sorted([d for d in exp_path.iterdir() if (d.is_dir() and d.name.startswith(\"rep\"))])\n",
    "    \n",
    "    with open(rep_dirs[0].joinpath('params.txt'), 'r') as params_file:\n",
    "        param_lines = params_file.readlines()\n",
    "        \n",
    "    params = {}\n",
    "    for line in param_lines:\n",
    "        param_name = line.split(':')[0]\n",
    "        if param_name == 'commit':\n",
    "            param_val = line.split(':')[1].strip()\n",
    "        else:\n",
    "            param_val = float(line.split(':')[1])\n",
    "        \n",
    "        params[param_name] = param_val\n",
    "        \n",
    "    return params"
   ]
  },
  {
   "cell_type": "code",
   "execution_count": null,
   "metadata": {},
   "outputs": [],
   "source": [
    "params = get_params(exp_path)"
   ]
  },
  {
   "cell_type": "code",
   "execution_count": null,
   "metadata": {},
   "outputs": [],
   "source": [
    "params"
   ]
  },
  {
   "cell_type": "code",
   "execution_count": null,
   "metadata": {},
   "outputs": [],
   "source": [
    "def get_stats(exp_name):\n",
    "    \n",
    "    exp_name = pathlib.Path(exp_name)\n",
    "        \n",
    "    rep_dirs = sorted([d for d in exp_name.iterdir() if (d.is_dir() and d.name.startswith(\"rep\"))])\n",
    "    \n",
    "    res = pd.DataFrame()\n",
    "    \n",
    "    for i_rep, rep_dir in enumerate(rep_dirs):\n",
    "                \n",
    "        res_dir = pd.read_csv(rep_dir.joinpath('stats.csv'))\n",
    "        \n",
    "        res_dir.insert(0, 'Replicate', i_rep)\n",
    "        \n",
    "        res = pd.concat([res, res_dir])\n",
    "    \n",
    "    return res"
   ]
  },
  {
   "cell_type": "markdown",
   "metadata": {},
   "source": [
    "# Plot the number of active genes of each type over evolutionary time"
   ]
  },
  {
   "cell_type": "code",
   "execution_count": null,
   "metadata": {},
   "outputs": [],
   "source": [
    "def plot_gene_activity(base_path, gen, plot_sc=False, plot_genome_size=False):\n",
    "    \n",
    "    base_path = pathlib.Path(base_path)\n",
    "    \n",
    "    rep_dirs = sorted([d for d in exp_path.iterdir() if (d.is_dir() and d.name.startswith(\"rep\"))])\n",
    "    \n",
    "    nb_rep = len(rep_dirs)\n",
    "    \n",
    "    for i_rep, rep_dir in enumerate(rep_dirs):\n",
    "        stats_path = rep_dir.joinpath('stats.csv')\n",
    "        if stats_path.stat().st_size > 0: # not an empty file\n",
    "\n",
    "            data = pd.read_csv(stats_path)\n",
    "            data = data[data['Gen'] > 0]\n",
    "            data = data[data['Gen'] <= gen]\n",
    "\n",
    "            for env in [\"A\", \"B\"]:\n",
    "\n",
    "                fig, ax1 = plt.subplots(figsize=(9, 4), dpi=dpi)\n",
    "                ax1.set_ylim(-1, 21)\n",
    "                ax1.set_ylabel('Activated genes', fontsize=label_fontsize)\n",
    "                ax1.set_xlabel('Generation', fontsize=label_fontsize)\n",
    "                ax1.set_xscale('log')\n",
    "                ax1.grid()\n",
    "\n",
    "                ax1.plot(data['Gen'], data[f\"ABon_{env}\"], #/ (data[f\"ABon_{env}\"] + data[f\"ABoff_{env}\"]),\n",
    "                         color=\"tab:blue\",\n",
    "                         linewidth=2,\n",
    "                         label=\"AB\")\n",
    "                ax1.plot(data['Gen'], data[f\"Aon_{env}\"], # / (data[f\"Aon_{env}\"] + data[f\"Aoff_{env}\"]),\n",
    "                         color=\"tab:red\",\n",
    "                         linewidth=2,\n",
    "                         label=\"A\")\n",
    "                ax1.plot(data['Gen'], data[f\"Bon_{env}\"], # / (data[f\"Bon_{env}\"] + data[f\"Boff_{env}\"]),\n",
    "                         color=\"tab:green\",\n",
    "                         linewidth=2,\n",
    "                         label=\"B\")\n",
    "                ax1.tick_params(axis='both', which='major', labelsize=tick_fontsize)\n",
    "\n",
    "\n",
    "                ## 2nd axis: fitness\n",
    "                ax2 = ax1.twinx()\n",
    "                ax2.set_yscale('log')\n",
    "                ax2.set_ylim(1e-25, 1e0)\n",
    "                ax2.set_ylabel('Fitness', fontsize=label_fontsize, color='tab:cyan')\n",
    "                ax2.plot(data['Gen'],\n",
    "                         data[\"Fitness\"],\n",
    "                         color=\"tab:cyan\",\n",
    "                         linewidth=2)\n",
    "                ax2.tick_params(axis='both', which='major', labelsize=tick_fontsize, colors='tab:cyan')\n",
    "\n",
    "                \n",
    "                ## 3rd axis: supercoiling\n",
    "                if plot_genome_size:\n",
    "                    ax3 = ax1.twinx()\n",
    "\n",
    "                    ax3.spines['right'].set_position(('outward', 80))\n",
    "                    ax3.set_ylim(0.7e4, 6.3e4)\n",
    "                    ax3.set_ylabel('Genome Size', fontsize=label_fontsize, color='tab:olive')\n",
    "                    ax3.plot(data['Gen'],\n",
    "                             data[\"Genome size\"],\n",
    "                             color=\"tab:olive\",\n",
    "                             linewidth=2)\n",
    "                    ax3.tick_params(axis='both', which='major', labelsize=tick_fontsize)\n",
    "                \n",
    "                #plt.title(f\"Environment {env}\")\n",
    "                fig.legend(bbox_to_anchor=(0, 1),\n",
    "                           bbox_transform=ax1.transAxes,\n",
    "                           loc=\"upper left\",\n",
    "                           fontsize=legend_fontsize)   \n",
    "\n",
    "                rep_num = rep_dir.name[3:] # add a `_` between the `rep` and the rep number \n",
    "                plt.savefig(f'{base_path}/rep_{rep_num}_env_{env}.pdf', dpi=dpi, bbox_inches='tight')\n",
    "                \n",
    "                plt.close('all')\n"
   ]
  },
  {
   "cell_type": "code",
   "execution_count": null,
   "metadata": {},
   "outputs": [],
   "source": [
    "plot_gene_activity(exp_path, gen)"
   ]
  },
  {
   "cell_type": "markdown",
   "metadata": {},
   "source": [
    "# Plot the mean and stddev of activated genes of each type in each environment over all replicas"
   ]
  },
  {
   "cell_type": "code",
   "execution_count": null,
   "metadata": {},
   "outputs": [],
   "source": [
    "full_stats = get_stats(exp_path)"
   ]
  },
  {
   "cell_type": "code",
   "execution_count": null,
   "metadata": {},
   "outputs": [],
   "source": [
    "# Compute error bars with a binomial proportion confidence interval\n",
    "# https://www.statsmodels.org/stable/generated/statsmodels.stats.proportion.proportion_confint.html\n",
    "def compute_error(count, mean, nobs, alpha, method):\n",
    "    lower, upper = sm.stats.proportion_confint(count, nobs, alpha, method)\n",
    "    return (mean - lower, upper - mean) "
   ]
  },
  {
   "cell_type": "code",
   "execution_count": null,
   "metadata": {},
   "outputs": [],
   "source": [
    "def plot_mean_std(full_stats, gen):\n",
    "    last_gen_stats = full_stats[full_stats[\"Gen\"] == gen] / nb_genes_type\n",
    "    mean_stats = last_gen_stats.mean()\n",
    "    std_stats = last_gen_stats.std()\n",
    "    fig, ax = plt.subplots(figsize=(9, 4), dpi=dpi)\n",
    "\n",
    "    x = np.arange(3)  # 3 types of genes\n",
    "    width = 0.35  # the width of the bars\n",
    "\n",
    "    env_A_means = np.array([mean_stats[\"ABon_A\"], mean_stats[\"Aon_A\"], mean_stats[\"Bon_A\"]])\n",
    "    env_B_means = np.array([mean_stats[\"ABon_B\"], mean_stats[\"Aon_B\"], mean_stats[\"Bon_B\"]])\n",
    "    \n",
    "\n",
    "    alpha = 0.05\n",
    "    ABon_A_err = compute_error(count=np.sum(last_gen_stats[\"ABon_A\"]),\n",
    "                               mean=mean_stats[\"ABon_A\"],\n",
    "                               nobs=np.sum(last_gen_stats[\"ABon_A\"] + last_gen_stats[\"ABoff_A\"]),\n",
    "                               alpha=alpha, method='wilson')\n",
    "    Aon_A_err = compute_error(count=np.sum(last_gen_stats[\"Aon_A\"]),\n",
    "                              mean=mean_stats[\"Aon_A\"],\n",
    "                              nobs=np.sum(last_gen_stats[\"Aon_A\"] + last_gen_stats[\"Aoff_A\"]),\n",
    "                              alpha=alpha, method='wilson')\n",
    "    Bon_A_err = compute_error(count=np.sum(last_gen_stats[\"Bon_A\"]),\n",
    "                              mean=mean_stats[\"Bon_A\"],\n",
    "                              nobs=np.sum(last_gen_stats[\"Bon_A\"] + last_gen_stats[\"Boff_A\"]),\n",
    "                              alpha=alpha, method='wilson')\n",
    "    env_A_err = np.transpose(np.array([ABon_A_err, Aon_A_err, Bon_A_err]))\n",
    "\n",
    "    \n",
    "    ABon_B_err = compute_error(count=np.sum(last_gen_stats[\"ABon_B\"]),\n",
    "                               mean=mean_stats[\"ABon_B\"],\n",
    "                               nobs=np.sum(last_gen_stats[\"ABon_B\"] + last_gen_stats[\"ABoff_B\"]),\n",
    "                               alpha=alpha, method='wilson')\n",
    "    Aon_B_err = compute_error(count=np.sum(last_gen_stats[\"Aon_B\"]),\n",
    "                              mean=mean_stats[\"Aon_B\"],\n",
    "                              nobs=np.sum(last_gen_stats[\"Aon_B\"] + last_gen_stats[\"Aoff_B\"]),\n",
    "                              alpha=alpha, method='wilson')\n",
    "    Bon_B_err = compute_error(count=np.sum(last_gen_stats[\"Bon_B\"]),\n",
    "                              mean=mean_stats[\"Bon_B\"],\n",
    "                              nobs=np.sum(last_gen_stats[\"Bon_B\"] + last_gen_stats[\"Boff_B\"]),\n",
    "                              alpha=alpha, method='wilson')\n",
    "    env_B_err = np.transpose(np.array([ABon_B_err, Aon_B_err, Bon_B_err]))\n",
    "    \n",
    "    \n",
    "    rects_A = ax.bar(x - width/2,\n",
    "                    env_A_means,\n",
    "                    width=width,\n",
    "                    label='Environment A',\n",
    "                    #yerr=[np.zeros_like(env_A_std), env_A_std],\n",
    "                    yerr=env_A_err,\n",
    "                    capsize=5)\n",
    "\n",
    "    rects_B = ax.bar(x + width/2,\n",
    "                     env_B_means,\n",
    "                     width=width,\n",
    "                     label='Environment B',\n",
    "                     yerr=env_B_err,\n",
    "                     capsize=5)\n",
    "\n",
    "    ax.set_ylabel('Fraction of activated genes', fontsize=legend_fontsize)\n",
    "    ax.set_xticks(x)\n",
    "    ax.set_xticklabels([\"AB genes on\", \"A genes on\", \"B genes on\"])\n",
    "\n",
    "    plt.grid(linestyle=':', axis='y')\n",
    "\n",
    "    plt.tick_params(axis='both', which='major', labelsize=tick_fontsize)\n",
    "\n",
    "    plt.legend(fontsize=legend_fontsize, loc='upper left', bbox_to_anchor=(0.46, 1))\n",
    "\n",
    "    plt.savefig(f'{exp_path}/mean_activation.pdf', bbox_inches='tight')"
   ]
  },
  {
   "cell_type": "code",
   "execution_count": null,
   "metadata": {},
   "outputs": [],
   "source": [
    "plot_mean_std(full_stats, gen)"
   ]
  },
  {
   "cell_type": "markdown",
   "metadata": {},
   "source": [
    "## Statistical significance tests for the above figure"
   ]
  },
  {
   "cell_type": "code",
   "execution_count": null,
   "metadata": {},
   "outputs": [],
   "source": [
    "def stats_tests(full_stats, gen):\n",
    "\n",
    "    last_gen_stats = full_stats[full_stats[\"Gen\"] == gen] / nb_genes_type\n",
    "    stats_AB = stats.ttest_rel(last_gen_stats[\"ABon_A\"], last_gen_stats[\"ABon_B\"])\n",
    "    stats_Aon = stats.ttest_rel(last_gen_stats[\"Aon_A\"], last_gen_stats[\"Aon_B\"])\n",
    "    stats_Bon = stats.ttest_rel(last_gen_stats[\"Bon_A\"], last_gen_stats[\"Bon_B\"])\n",
    "    print(f'AB genes: {stats_AB}')\n",
    "    print(f'A genes on: {stats_Aon}')\n",
    "    print(f'B genes on: {stats_Bon}')"
   ]
  },
  {
   "cell_type": "code",
   "execution_count": null,
   "metadata": {},
   "outputs": [],
   "source": [
    "stats_tests(full_stats, gen)"
   ]
  },
  {
   "cell_type": "markdown",
   "metadata": {},
   "source": [
    "# Plot fitness, genome size, and basal supercoiling over evolutionary time"
   ]
  },
  {
   "cell_type": "code",
   "execution_count": null,
   "metadata": {},
   "outputs": [],
   "source": [
    "def plot_fitness(full_stats, gen):\n",
    "    nb_rep = full_stats[\"Replicate\"].nunique()\n",
    "    \n",
    "    full_stats = full_stats[full_stats[\"Gen\"] <= gen]\n",
    "    \n",
    "    colors = mpl.cm.get_cmap('viridis', nb_rep)(range(nb_rep))\n",
    "    \n",
    "    plt.figure(figsize=(9,4), dpi=dpi)\n",
    "    \n",
    "    plt.xscale('log')\n",
    "    plt.yscale('log')\n",
    "    plt.grid(linestyle=':')\n",
    "    \n",
    "    plt.xlabel('Generation', fontsize=label_fontsize)\n",
    "    plt.ylabel('Fitness', fontsize=label_fontsize)\n",
    "    \n",
    "    plt.tick_params(axis='both', which='major', labelsize=tick_fontsize)\n",
    "    \n",
    "    for rep in range(nb_rep):\n",
    "        stats_rep = full_stats[full_stats[\"Replicate\"] == rep]\n",
    "        stats_rep = stats_rep[stats_rep[\"Gen\"] > 0]\n",
    "        plt.plot(stats_rep['Gen'],\n",
    "                 stats_rep[\"Fitness\"],\n",
    "                 linewidth=2,\n",
    "                 color=colors[rep])\n",
    "        \n",
    "    plt.savefig(f'{exp_path}/all_fitness.pdf', dpi=dpi, bbox_inches='tight')"
   ]
  },
  {
   "cell_type": "code",
   "execution_count": null,
   "metadata": {},
   "outputs": [],
   "source": [
    "plot_fitness(full_stats, gen)"
   ]
  },
  {
   "cell_type": "markdown",
   "metadata": {},
   "source": [
    "# Plot gene activities over the lifecycle of the best individual in each replica"
   ]
  },
  {
   "cell_type": "code",
   "execution_count": null,
   "metadata": {},
   "outputs": [],
   "source": [
    "def plot_expr(indiv, sigma, plot_title, plot_name):\n",
    "\n",
    "    indiv.already_evaluated = False\n",
    "    (temporal_expr, _), fitness = indiv.evaluate(sigma, sigma)\n",
    "\n",
    "    colors = ['tab:blue', 'tab:red', 'tab:green'] # AB: blue, A: red, B: green\n",
    "\n",
    "    plt.figure(figsize=(9, 5), dpi=dpi)\n",
    "\n",
    "    ## First subplot: environment A\n",
    "    plt.subplot(1, 1, 1)\n",
    "    plt.ylim(-0.05, 1.05)\n",
    "\n",
    "    for i_gene, gene in enumerate(indiv.genes):\n",
    "        linestyle = 'solid' if gene.orientation == 0 else 'dashed'\n",
    "        plt.plot(temporal_expr[i_gene, :],\n",
    "                 linestyle=linestyle,\n",
    "                 linewidth=2,\n",
    "                 color=colors[gene.gene_type],\n",
    "                 #alpha=0.25,\n",
    "                 label=f'Gene {gene.id}')\n",
    "\n",
    "    plt.grid(linestyle=':')\n",
    "    plt.xlabel('Iteration steps', fontsize=label_fontsize)\n",
    "    plt.ylabel('Expression level', fontsize=label_fontsize)\n",
    "\n",
    "    plt.tick_params(axis='both', which='major', labelsize=tick_fontsize)\n",
    "\n",
    "    #plt.legend(loc='center right')\n",
    "    #plt.title('Environment A')\n",
    "    ## Final stuff\n",
    "\n",
    "    plt.tight_layout()\n",
    "    plt.savefig(plot_name, dpi=dpi, bbox_inches='tight')\n",
    "    \n",
    "    plt.show()\n",
    "    plt.close()"
   ]
  },
  {
   "cell_type": "code",
   "execution_count": null,
   "metadata": {},
   "outputs": [],
   "source": [
    "def get_best_indiv(rep_path, gen):\n",
    "    \n",
    "    with open(rep_path.joinpath(f'pop_gen_{gen:06}.evotsc'), 'rb') as save_file:\n",
    "        pop_rep = pickle.load(save_file)\n",
    "        \n",
    "    pop_rep.evaluate()\n",
    "    \n",
    "    best_fit = 0\n",
    "    best_indiv = pop_rep.individuals[0]\n",
    "    \n",
    "    try:\n",
    "        for indiv in pop_rep.individuals:\n",
    "            if indiv.fitness > best_fit:\n",
    "                best_fit = indiv.fitness\n",
    "                best_indiv = indiv\n",
    "    except AttributeError: # In the neutral control, individuals are not evaluated so there is no fitness field\n",
    "        pass\n",
    "    \n",
    "    return best_indiv"
   ]
  },
  {
   "cell_type": "code",
   "execution_count": null,
   "metadata": {},
   "outputs": [],
   "source": [
    "def plot_best(gen):\n",
    "    rep_dirs = sorted([d for d in exp_path.iterdir() if (d.is_dir() and d.name.startswith(\"rep\"))])\n",
    "\n",
    "    for rep, rep_dir in enumerate(rep_dirs):\n",
    "        best_rep = get_best_indiv(rep_dir, gen)\n",
    "        plot_expr(best_rep, sigma=params['sigma_A'],\n",
    "                     plot_title='', plot_name=f'{exp_path}/best_rep{rep}_env_A.pdf')\n",
    "        plot_expr(best_rep, sigma=params['sigma_B'],\n",
    "                     plot_title='', plot_name=f'{exp_path}/best_rep{rep}_env_B.pdf')\n",
    "        #evotsc_plot.plot_genome(best_rep, name=f'{exp_path}/genome_rep{rep}')"
   ]
  },
  {
   "cell_type": "code",
   "execution_count": null,
   "metadata": {},
   "outputs": [],
   "source": [
    "plot_best(gen)"
   ]
  },
  {
   "cell_type": "markdown",
   "metadata": {},
   "source": [
    "# Plot the genomes and SC values of the best individual in each run"
   ]
  },
  {
   "cell_type": "code",
   "execution_count": null,
   "metadata": {},
   "outputs": [],
   "source": [
    "def plot_best_genome_and_tsc(exp_path, gen):\n",
    "    rep_dirs = sorted([d for d in exp_path.iterdir() if (d.is_dir() and d.name.startswith(\"rep\"))])\n",
    "    \n",
    "    for rep, rep_dir in enumerate(rep_dirs):\n",
    "        \n",
    "        best_indiv = get_best_indiv(rep_dir, gen)\n",
    "\n",
    "        evotsc_plot.plot_genome_and_tsc(best_indiv, params['sigma_A'], show_bar=True,\n",
    "                            name=exp_path.joinpath(f'genome_and_tsc_rep{rep:02}_env_A.pdf'), print_ids=True)\n",
    "        evotsc_plot.plot_genome_and_tsc(best_indiv, params['sigma_B'], show_bar=True,\n",
    "                            name=exp_path.joinpath(f'genome_and_tsc_rep{rep:02}_env_B.pdf'), print_ids=True)"
   ]
  },
  {
   "cell_type": "code",
   "execution_count": null,
   "metadata": {},
   "outputs": [],
   "source": [
    "plot_best_genome_and_tsc(exp_path, gen)"
   ]
  }
 ],
 "metadata": {
  "kernelspec": {
   "display_name": "Python 3 (ipykernel)",
   "language": "python",
   "name": "python3"
  },
  "language_info": {
   "codemirror_mode": {
    "name": "ipython",
    "version": 3
   },
   "file_extension": ".py",
   "mimetype": "text/x-python",
   "name": "python",
   "nbconvert_exporter": "python",
   "pygments_lexer": "ipython3",
   "version": "3.9.7"
  }
 },
 "nbformat": 4,
 "nbformat_minor": 4
}
