{
 "cells": [
  {
   "cell_type": "code",
   "execution_count": null,
   "metadata": {},
   "outputs": [],
   "source": [
    "import sys\n",
    "import pathlib\n",
    "import numpy as np\n",
    "import pandas as pd\n",
    "import matplotlib.pyplot as plt\n",
    "import matplotlib as mpl\n",
    "import pickle\n",
    "import itertools\n",
    "import networkx as nx"
   ]
  },
  {
   "cell_type": "code",
   "execution_count": null,
   "metadata": {},
   "outputs": [],
   "source": [
    "from mpl_toolkits.axes_grid1.inset_locator import inset_axes"
   ]
  },
  {
   "cell_type": "code",
   "execution_count": null,
   "metadata": {},
   "outputs": [],
   "source": [
    "from numba import jit"
   ]
  },
  {
   "cell_type": "code",
   "execution_count": null,
   "metadata": {},
   "outputs": [],
   "source": [
    "import importlib\n",
    "import evotsc\n",
    "import evotsc_lib\n",
    "import evotsc_plot\n",
    "importlib.reload(evotsc)\n",
    "importlib.reload(evotsc_lib)\n",
    "importlib.reload(evotsc_plot)"
   ]
  },
  {
   "cell_type": "code",
   "execution_count": null,
   "metadata": {},
   "outputs": [],
   "source": [
    "label_fontsize=20\n",
    "tick_fontsize=15\n",
    "legend_fontsize=15\n",
    "dpi=300"
   ]
  },
  {
   "cell_type": "code",
   "execution_count": null,
   "metadata": {},
   "outputs": [],
   "source": [
    "base_path = pathlib.Path('/Users/tgrohens/Desktop/evotsc')"
   ]
  },
  {
   "cell_type": "code",
   "execution_count": null,
   "metadata": {},
   "outputs": [],
   "source": [
    "gen = 250_000\n",
    "gene_types = ['AB', 'A', 'B'] # Name of each gene type\n",
    "gene_type_color = ['tab:blue', 'tab:red', 'tab:green'] #AB, A, B\n",
    "genes_per_type = 20\n",
    "orient_name = ['leading', 'lagging'] # Name of each gene orientation\n",
    "rel_orients = ['conv', 'div', 'downstr', 'upstr'] # In alphabetical order\n",
    "envs = ['A', 'B'] # Environment names"
   ]
  },
  {
   "cell_type": "code",
   "execution_count": null,
   "metadata": {},
   "outputs": [],
   "source": [
    "rng = np.random.default_rng(seed=123456)"
   ]
  },
  {
   "cell_type": "markdown",
   "metadata": {},
   "source": [
    "## Main functions"
   ]
  },
  {
   "cell_type": "markdown",
   "metadata": {},
   "source": [
    "### Generate random individuals"
   ]
  },
  {
   "cell_type": "code",
   "execution_count": null,
   "metadata": {},
   "outputs": [],
   "source": [
    "def make_random_indivs(nb_indiv, params):\n",
    "    \n",
    "    mutation = evotsc.Mutation(inversion_poisson_lam=params['inversion_poisson_lam'])\n",
    "    \n",
    "    rand_indivs = []\n",
    "    \n",
    "    \n",
    "    for rep in range(nb_indiv):\n",
    "        indiv = evotsc_lib.make_random_indiv(intergene=int(params['intergene']),\n",
    "                                             gene_length=int(params['gene_length']),\n",
    "                                             nb_genes=int(params['nb_genes']),\n",
    "                                             default_basal_expression=params['default_basal_expression'],\n",
    "                                             interaction_dist=params['interaction_dist'],\n",
    "                                             interaction_coef=params['interaction_coef'],\n",
    "                                             sigma_basal=params['sigma_basal'],\n",
    "                                             sigma_opt=params['sigma_opt'],\n",
    "                                             epsilon=params['epsilon'],\n",
    "                                             m=params['m'],\n",
    "                                             selection_coef=params['selection_coef'],\n",
    "                                             mutation=mutation,\n",
    "                                             rng=rng,\n",
    "                                             nb_mutations=100)\n",
    "        \n",
    "        indiv.inter_matrix = indiv.compute_inter_matrix()\n",
    "\n",
    "        rand_indivs.append(indiv)\n",
    "        \n",
    "    return rand_indivs"
   ]
  },
  {
   "cell_type": "markdown",
   "metadata": {},
   "source": [
    "### Load stats"
   ]
  },
  {
   "cell_type": "code",
   "execution_count": null,
   "metadata": {},
   "outputs": [],
   "source": [
    "def get_stats(exp_name, gen):\n",
    "    \n",
    "    exp_name = pathlib.Path(exp_name)\n",
    "        \n",
    "    rep_dirs = sorted([d for d in exp_name.iterdir() if (d.is_dir() and d.name.startswith(\"rep\"))])\n",
    "    \n",
    "    res = pd.DataFrame()\n",
    "    \n",
    "    for i_rep, rep_dir in enumerate(rep_dirs):\n",
    "        \n",
    "        res_dir = pd.read_csv(rep_dir.joinpath('stats.csv'),\n",
    "                              usecols=['Gen', 'Fitness',\n",
    "                                       'ABon_A', 'ABon_B', 'Aon_A', 'Aon_B', 'Bon_A', 'Bon_B'])\n",
    "\n",
    "        res_dir.insert(0, 'Replicate', i_rep)\n",
    "        \n",
    "        res = pd.concat([res, res_dir])\n",
    "    \n",
    "    res['Log Fitness'] = np.log(res['Fitness'])\n",
    "    \n",
    "    # Crop at generation `gen`\n",
    "    \n",
    "    res = res[res['Gen'] <= gen]\n",
    "    \n",
    "    return res"
   ]
  },
  {
   "cell_type": "markdown",
   "metadata": {},
   "source": [
    "### Plot fitness over evolutionary time"
   ]
  },
  {
   "cell_type": "code",
   "execution_count": null,
   "metadata": {},
   "outputs": [],
   "source": [
    "def plot_fitness(exp_stats, labels, exp_path):\n",
    "    \n",
    "    reduced_stats = [stats[stats['Gen'] > 0][['Gen', 'Log Fitness', 'Fitness']].copy() for stats in exp_stats]\n",
    "        \n",
    "    nb_stats = len(reduced_stats)\n",
    "        \n",
    "    colors = ['midnightblue', 'tab:blue', 'skyblue']\n",
    "    \n",
    "    plt.figure(figsize=(9, 4), dpi=dpi)\n",
    "    \n",
    "    plt.xscale('log')\n",
    "    plt.yscale('log')\n",
    "    plt.grid(linestyle=':')\n",
    "    plt.grid(visible=True, which='minor', axis='x', linestyle=':')\n",
    "    \n",
    "    plt.xlabel('Generation', fontsize=label_fontsize)\n",
    "    plt.ylabel('Fitness', fontsize=label_fontsize)\n",
    "    \n",
    "    plt.tick_params(axis='both', which='major', labelsize=tick_fontsize)\n",
    "    \n",
    "    for i_exp in range(nb_stats):\n",
    "        \n",
    "        mean_data = reduced_stats[i_exp].groupby('Gen').mean().reset_index()\n",
    "        first_dec = reduced_stats[i_exp].groupby('Gen').quantile(0.1)\n",
    "        last_dec = reduced_stats[i_exp].groupby('Gen').quantile(0.9)\n",
    "        \n",
    "        # Average fitness\n",
    "        plt.plot(mean_data['Gen'],\n",
    "                 np.exp(mean_data['Log Fitness']),\n",
    "                 color=colors[i_exp],\n",
    "                 linewidth=2,\n",
    "                 zorder=10,\n",
    "                 label=labels[i_exp]) \n",
    "\n",
    "        # Quantiles\n",
    "        plt.plot(mean_data['Gen'],\n",
    "                 first_dec['Fitness'],\n",
    "                 color=colors[i_exp],\n",
    "                 alpha=0.3)\n",
    "\n",
    "        plt.plot(mean_data['Gen'],\n",
    "                 last_dec['Fitness'],\n",
    "                 color=colors[i_exp],\n",
    "                 alpha=0.3)\n",
    "\n",
    "    #plt.title(exp_path.name)\n",
    "    plt.legend(loc='lower right', fontsize=legend_fontsize)\n",
    "        \n",
    "    plt.savefig(f'{exp_path}/fitness_all_with_main.pdf', dpi=dpi, bbox_inches='tight')"
   ]
  },
  {
   "cell_type": "markdown",
   "metadata": {},
   "source": [
    "### Plot the number of active genes of each type over evolutionary time"
   ]
  },
  {
   "cell_type": "code",
   "execution_count": null,
   "metadata": {},
   "outputs": [],
   "source": [
    "def plot_gene_activity_all(i_exp, full_stats, exp_path, title, var_type='quantile'):\n",
    "\n",
    "    stats = full_stats[full_stats[\"Gen\"] > 0].copy()\n",
    "    \n",
    "    mean_data = stats.groupby('Gen').mean().reset_index()\n",
    "    if var_type == 'sigma':\n",
    "        std_data = stats.groupby('Gen').std()\n",
    "    elif var_type == 'quantile':\n",
    "        first_dec = stats.groupby('Gen').quantile(0.1)\n",
    "        last_dec = stats.groupby('Gen').quantile(0.9)\n",
    "    elif var_type == 'minmax':\n",
    "        min_data = stats.groupby('Gen').min()\n",
    "        max_data = stats.groupby('Gen').max()\n",
    "    \n",
    "    for env in [\"A\", \"B\"]:\n",
    "\n",
    "        fig, ax1 = plt.subplots(figsize=(9, 4), dpi=dpi)\n",
    "        delta_y = genes_per_type * 0.05 \n",
    "        ax1.set_ylim(-delta_y, genes_per_type + delta_y)\n",
    "        ax1.set_ylabel('Activated genes', fontsize=label_fontsize)\n",
    "        ax1.set_xlabel('Generation', fontsize=label_fontsize)\n",
    "        ax1.set_xscale('log')\n",
    "        ax1.grid(linestyle=':')\n",
    "        ax1.grid(visible=True, which=\"minor\", axis='x', linestyle=':')\n",
    "\n",
    "        for i_gene_type, gene_type in enumerate(gene_types):\n",
    "\n",
    "            ax1.plot(mean_data['Gen'], mean_data[f\"{gene_type}on_{env}\"],\n",
    "                     color=gene_type_color[i_gene_type],\n",
    "                     linewidth=2,\n",
    "                     label=gene_type)\n",
    "            \n",
    "            # Show 2-sigma (95%) confidence intervals\n",
    "            if var_type == 'sigma':\n",
    "                ax1.plot(mean_data['Gen'],\n",
    "                         mean_data[f\"{gene_type}on_{env}\"] - 2 * std_data[f\"{gene_type}on_{env}\"],\n",
    "                         color=gene_type_color[i_gene_type],\n",
    "                         alpha=0.3)\n",
    "                ax1.plot(mean_data['Gen'],\n",
    "                         mean_data[f\"{gene_type}on_{env}\"] + 2 * std_data[f\"{gene_type}on_{env}\"],\n",
    "                         color=gene_type_color[i_gene_type],\n",
    "                         alpha=0.3)\n",
    "            # Show first and last deciles\n",
    "            elif var_type == 'quantile':\n",
    "                ax1.plot(mean_data['Gen'],\n",
    "                         first_dec[f\"{gene_type}on_{env}\"],\n",
    "                         color=gene_type_color[i_gene_type],\n",
    "                         alpha=0.3)\n",
    "                ax1.plot(mean_data['Gen'],\n",
    "                         last_dec[f\"{gene_type}on_{env}\"],\n",
    "                         color=gene_type_color[i_gene_type],\n",
    "                         alpha=0.3)\n",
    "            # Show min and max values\n",
    "            elif var_type == 'minmax':\n",
    "                ax1.plot(mean_data['Gen'],\n",
    "                         min_data[f\"{gene_type}on_{env}\"],\n",
    "                         color=gene_type_color[i_gene_type],\n",
    "                         alpha=0.3)\n",
    "                ax1.plot(mean_data['Gen'],\n",
    "                         max_data[f\"{gene_type}on_{env}\"],\n",
    "                         color=gene_type_color[i_gene_type],\n",
    "                         alpha=0.3)\n",
    "\n",
    "\n",
    "        \n",
    "        ax1.tick_params(axis='both', which='major', labelsize=tick_fontsize)\n",
    "\n",
    "\n",
    "        #plt.title(f\"Environment {env}\")\n",
    "        fig.legend(bbox_to_anchor=(0, 0),\n",
    "                   bbox_transform=ax1.transAxes,\n",
    "                   loc='lower left',\n",
    "                   title=title,\n",
    "                   title_fontsize=legend_fontsize - 2,\n",
    "                   fontsize=legend_fontsize)\n",
    "        \n",
    "        plt.savefig(f'{exp_path}/gene_activity_env_{env}.pdf', dpi=dpi, bbox_inches='tight')\n",
    "\n",
    "        plt.show()"
   ]
  },
  {
   "cell_type": "markdown",
   "metadata": {
    "jp-MarkdownHeadingCollapsed": true
   },
   "source": [
    "### Influence of enviromental supercoiling on final gene expression levels"
   ]
  },
  {
   "cell_type": "code",
   "execution_count": null,
   "metadata": {},
   "outputs": [],
   "source": [
    "def compute_activity_sigma_per_type(indiv, sigmas):\n",
    "    \n",
    "    # Initialize the individual\n",
    "    indiv.evaluate(0.0, 0.0)\n",
    "\n",
    "    activ = np.zeros((3, len(sigmas))) # Compute activity for each gene type\n",
    "\n",
    "    for i_sigma, sigma_env in enumerate(sigmas):\n",
    "        # Evaluate the individual in the environment with sigma\n",
    "        temporal_expr = indiv.run_system(sigma_env)\n",
    "\n",
    "        # Compute total gene activation levels        \n",
    "        for i_gene, gene in enumerate(indiv.genes):\n",
    "            activ[gene.gene_type][i_sigma] += temporal_expr[-1, i_gene]\n",
    "            \n",
    "    activ /= (indiv.nb_genes / 3)\n",
    "    \n",
    "    return activ"
   ]
  },
  {
   "cell_type": "code",
   "execution_count": null,
   "metadata": {},
   "outputs": [],
   "source": [
    "def compute_avg_best_activ_by_sigma(exp_path, sigmas):\n",
    "    rep_dirs = sorted([d for d in exp_path.iterdir() if (d.is_dir() and d.name.startswith(\"rep\"))])\n",
    "\n",
    "    activ = np.zeros((3, len(sigmas)))\n",
    "    \n",
    "    nb_indivs = 0\n",
    "\n",
    "    for i_rep, rep_dir in enumerate(rep_dirs):\n",
    "        try:\n",
    "            indiv = evotsc_lib.get_best_indiv(rep_dir, gen=gen)\n",
    "        except FileNotFoundError:\n",
    "            continue\n",
    "            \n",
    "        activ += compute_activity_sigma_per_type(indiv, sigmas)\n",
    "        nb_indivs += 1\n",
    "            \n",
    "    return activ / nb_indivs"
   ]
  },
  {
   "cell_type": "code",
   "execution_count": null,
   "metadata": {},
   "outputs": [],
   "source": [
    "def generate_rand_activ_by_sigma(params, sigmas):\n",
    "\n",
    "    activ = np.zeros(len(sigmas))  # Average over all genes, not gene types\n",
    "    \n",
    "    rand_indivs = make_random_indivs(nb_indiv=100, params=params)\n",
    "    \n",
    "    for i_rand, rand_indiv in enumerate(rand_indivs):\n",
    "        activ += np.mean(compute_activity_sigma_per_type(rand_indiv, sigmas), axis=0)\n",
    "        \n",
    "    return activ / len(rand_indivs)"
   ]
  },
  {
   "cell_type": "code",
   "execution_count": null,
   "metadata": {},
   "outputs": [],
   "source": [
    "def plot_activity_sigma_main(ax, sigmas_env, activ, rand_activ, params):\n",
    "    \n",
    "    sigma_basal = params['sigma_basal']\n",
    "    sigma_opt = params['sigma_opt']      \n",
    "\n",
    "    \n",
    "    colors = ['tab:blue', 'tab:red', 'tab:green'] # AB: blue, A: red, B: green\n",
    "\n",
    "    ax.set_xlabel('Background supercoiling ($\\sigma_{basal} + \\delta\\sigma_{env}$)')\n",
    "    ax.set_ylabel('Average gene expression by type')\n",
    "    ax.set_ylim(-0.05, 1.10)\n",
    "    ax.set_xlim(sigmas_env[0] + sigma_basal, sigmas_env[-1] + sigma_basal)\n",
    "    ax.grid(linestyle=':')\n",
    "    \n",
    "    # Add 1/2 expression level\n",
    "    half_expr = (1 + np.exp(- params['m'])) / 2\n",
    "    ax.hlines(half_expr, sigmas_env[0] + sigma_basal, sigmas_env[-1] + sigma_basal,\n",
    "               linestyle=':', linewidth=1.5, color='tab:pink')#, label='Activation threshold')\n",
    "    \n",
    "    \n",
    "    # Add average expression per gene type\n",
    "    for i_gene_type, gene_type in enumerate(gene_types):\n",
    "        ax.plot(sigmas_env + sigma_basal, activ[i_gene_type, :],\n",
    "                color=gene_type_color[i_gene_type],\n",
    "                linewidth=2,\n",
    "                label=gene_type)\n",
    "\n",
    "    # Add sigma_A and sigma_B\n",
    "    y_min, y_max = plt.ylim()\n",
    "    ax.vlines(params['sigma_A'] + sigma_basal, y_min, y_max, linestyle='--', linewidth=1, color='black') \n",
    "    ax.vlines(params['sigma_B'] + sigma_basal, y_min, y_max, linestyle='--', linewidth=1, color='black')\n",
    "\n",
    "    if np.abs(params['sigma_A'] - params['sigma_B']) > 0.01: # Default case\n",
    "        ax.text(params['sigma_A'] + sigma_basal, y_max + 0.005, '$\\sigma_A$',\n",
    "                 va='bottom', ha='center', fontsize='large') # Use \\mathbf{} for bold\n",
    "        ax.text(params['sigma_B'] + sigma_basal, y_max + 0.005, '$\\sigma_B$',\n",
    "                 va='bottom', ha='center', fontsize='large')\n",
    "        \n",
    "    elif np.abs(params['sigma_A'] - params['sigma_B']) > 0.001:\n",
    "        ax.text(params['sigma_A'] + sigma_basal, y_max + 0.002, '$\\sigma_A$',\n",
    "                 va='bottom', ha='left', fontsize='medium') # Use \\mathbf{} for bold\n",
    "        ax.text(params['sigma_B'] + sigma_basal, y_max + 0.002, '$\\sigma_B$',\n",
    "                 va='bottom', ha='right', fontsize='medium')\n",
    "\n",
    "    else: # Too close\n",
    "        ax.text(params['sigma_A'] + sigma_basal, y_max - 0.002, '$\\sigma_{B/A}$',\n",
    "                 va='bottom', ha='left', fontsize='medium') # Use \\mathbf{} for bold\n",
    "\n",
    "    ax.set_ylim(y_min, y_max)\n",
    "    \n",
    "    # Add expression for an isolated gene\n",
    "    sigmas_total = sigmas_env + sigma_basal\n",
    "    activities = 1.0 / (1.0 + np.exp((sigmas_total - sigma_opt)/ params['epsilon']))\n",
    "    ax.plot(sigmas_env + sigma_basal, np.exp(params['m'] * (activities - 1)),\n",
    "             linewidth=2, color='tab:cyan', zorder=0, linestyle='--', label='Isolated gene')\n",
    "\n",
    "    # Add expression for a random genome\n",
    "    ax.plot(sigmas_env + sigma_basal, rand_activ,\n",
    "            linewidth=2, color='tab:cyan', zorder=0, linestyle=(0, (3, 1, 1, 1)), label='Random')\n",
    "    \n",
    "    ax.legend(loc='lower left')\n",
    "    \n",
    "    # Add other ax with other sc\n",
    "    ax2 = ax.twiny()\n",
    "    xmin, xmax = ax.get_xlim()\n",
    "    ax2.set_xlim(xmin - params['sigma_basal'], xmax - params['sigma_basal'])\n",
    "    ax2.set_xlabel('Environmental shift in supercoiling ($\\delta\\sigma_{env}$)')"
   ]
  },
  {
   "cell_type": "code",
   "execution_count": null,
   "metadata": {},
   "outputs": [],
   "source": [
    "def plot_activity_sigma_inset(ax, sigmas_env, activ, rand_activ, params):\n",
    "    \n",
    "    inset_ax = inset_axes(ax, width=\"20%\", height=\"50%\", loc='upper right', borderpad=0.9)\n",
    "    \n",
    "    sigma_basal = params['sigma_basal']\n",
    "    sigma_opt = params['sigma_opt']      \n",
    "    \n",
    "    colors = ['tab:blue', 'tab:red', 'tab:green'] # AB: blue, A: red, B: green\n",
    "\n",
    "    #inset_ax.set_ylim(-0.05, 1.10)\n",
    "    inset_ax.set_ylim(0.25, 0.85)\n",
    "    inset_ax.set_xlim(sigmas_env[0] + sigma_basal, sigmas_env[-1] + sigma_basal)\n",
    "    inset_ax.grid(linestyle=':')\n",
    "    \n",
    "    inset_ax.tick_params(labelsize='small')\n",
    "    #inset_ax.ticklabel_format(axis='x', scilimits=(0,0))\n",
    "    inset_ax.tick_params(axis='x', labelrotation=-45)\n",
    "    #y_ticks = inset_ax.yaxis.get_major_ticks()\n",
    "    #for i_tick, tick in enumerate(y_ticks[:-2]):\n",
    "    #    if i_tick != 1:\n",
    "    #        tick.label1.set_visible(False)\n",
    "    \n",
    "    # Add 1/2 expression level\n",
    "    half_expr = (1 + np.exp(- params['m'])) / 2\n",
    "    inset_ax.hlines(half_expr, sigmas_env[0] + sigma_basal, sigmas_env[-1] + sigma_basal,\n",
    "               linestyle=':', linewidth=1.5, color='tab:pink')#, label='Activation threshold')\n",
    "    \n",
    "    \n",
    "    # Add average expression per gene type\n",
    "    for i_gene_type, gene_type in enumerate(gene_types):\n",
    "        inset_ax.plot(sigmas_env + sigma_basal, activ[i_gene_type, :],\n",
    "                color=gene_type_color[i_gene_type],\n",
    "                linewidth=2,\n",
    "                label=gene_type)\n",
    "\n",
    "    # Add sigma_A and sigma_B\n",
    "    y_min, y_max = plt.ylim()\n",
    "    inset_ax.vlines(params['sigma_A'] + sigma_basal, y_min, y_max, linestyle='--', linewidth=1, color='black')\n",
    "    inset_ax.vlines(params['sigma_B'] + sigma_basal, y_min, y_max, linestyle='--', linewidth=1, color='black')\n",
    "    \n",
    "    inset_ax.text(params['sigma_A'] + sigma_basal, y_max + 0.001, '$\\sigma_A$',\n",
    "             va='bottom', ha='center', fontsize='small') # Use \\mathbf{} for bold\n",
    "    inset_ax.text(params['sigma_B'] + sigma_basal, y_max + 0.001, '$\\sigma_B$',\n",
    "             va='bottom', ha='center', fontsize='small')\n",
    "    inset_ax.set_ylim(y_min, y_max)\n",
    "        \n",
    "    # Add expression for an isolated gene\n",
    "    sigmas_total = sigmas_env + sigma_basal\n",
    "    activities = 1.0 / (1.0 + np.exp((sigmas_total - sigma_opt)/ params['epsilon']))\n",
    "    inset_ax.plot(sigmas_env + sigma_basal, np.exp(params['m'] * (activities - 1)),\n",
    "             linewidth=2, color='tab:cyan', zorder=0, linestyle='--', label='Isolated gene')\n",
    "    \n",
    "    # Add expression for a random genome\n",
    "    inset_ax.plot(sigmas_env + sigma_basal, rand_activ,\n",
    "            linewidth=2, color='tab:cyan', zorder=0, linestyle=(0, (3, 1, 1, 1)), label='Random')\n",
    "\n"
   ]
  },
  {
   "cell_type": "code",
   "execution_count": null,
   "metadata": {},
   "outputs": [],
   "source": [
    "# See how gene activity levels depend on environmental supercoiling\n",
    "def plot_activity_sigma_per_type(exp_path, params, insert_inset=False, plot_name=None):\n",
    "\n",
    "    nb_sigmas = 250\n",
    "    sigma_min = -0.061\n",
    "    sigma_max = 0.061\n",
    "    \n",
    "    sigmas = np.linspace(sigma_min, sigma_max, nb_sigmas)\n",
    "    \n",
    "    activ = compute_avg_best_activ_by_sigma(exp_path, sigmas)\n",
    "    rand_activ = generate_rand_activ_by_sigma(params, sigmas)\n",
    "    \n",
    "    fig, ax = plt.subplots(figsize=(7, 4), dpi=dpi)\n",
    "    \n",
    "    plot_activity_sigma_main(ax, sigmas, activ, rand_activ, params)\n",
    "    \n",
    "    if insert_inset:\n",
    "        \n",
    "        sigmas_inset = np.linspace(sigma_min / 150, sigma_max / 150, nb_sigmas)\n",
    "        activ_inset = compute_avg_best_activ_by_sigma(exp_path, sigmas_inset)\n",
    "        rand_activ_inset = generate_rand_activ_by_sigma(params, sigmas_inset)\n",
    "\n",
    "        plot_activity_sigma_inset(ax, sigmas_inset, activ_inset, rand_activ_inset, params)\n",
    "    \n",
    "    # Wrap up            \n",
    "    if plot_name:\n",
    "        plt.savefig(exp_path.joinpath(plot_name), dpi=dpi, bbox_inches='tight')\n",
    "        \n",
    "    plt.show()\n",
    "    plt.close()"
   ]
  },
  {
   "cell_type": "markdown",
   "metadata": {},
   "source": [
    "## Sigma exploration"
   ]
  },
  {
   "cell_type": "code",
   "execution_count": null,
   "metadata": {},
   "outputs": [],
   "source": [
    "sigma_exp_paths = [base_path / 'main',  # 1e-2\n",
    "                   base_path / 'supp_mat/sigma-1e-3/',\n",
    "                   base_path / 'supp_mat/sigma-1e-4/']\n",
    "\n",
    "sigma_exp_names = ['$10^{-2}$ (main)', '$10^{-3}$', '$10^{-4}$']\n",
    "\n",
    "sigma_exp_rep_dirs = [sorted([d for d in exp_path.iterdir() if (d.is_dir() and d.name.startswith(\"rep\"))])\n",
    "                      for exp_path in sigma_exp_paths]\n",
    "\n",
    "sigma_exp_params = [evotsc_lib.read_params(rep_dirs[0]) for rep_dirs in sigma_exp_rep_dirs]\n",
    "for i_param in range(len(sigma_exp_params)):\n",
    "    sigma_exp_params[i_param]['m'] = 2.5 # Temporary fix because the parameter wasn't saved"
   ]
  },
  {
   "cell_type": "code",
   "execution_count": null,
   "metadata": {},
   "outputs": [],
   "source": [
    "for i_rep_dir, rep_dir in enumerate(sigma_exp_rep_dirs):\n",
    "    print(f'{sigma_exp_names[i_rep_dir]}: {len(rep_dir)} reps')"
   ]
  },
  {
   "cell_type": "code",
   "execution_count": null,
   "metadata": {},
   "outputs": [],
   "source": [
    "sigma_exp_stats = [get_stats(exp_path, gen) for exp_path in sigma_exp_paths]"
   ]
  },
  {
   "cell_type": "code",
   "execution_count": null,
   "metadata": {},
   "outputs": [],
   "source": [
    "plot_fitness(sigma_exp_stats,\n",
    "             labels=['$\\sigma_A = |\\sigma_B| = $' + name for name in sigma_exp_names], \n",
    "             exp_path=sigma_exp_paths[-1])"
   ]
  },
  {
   "cell_type": "code",
   "execution_count": null,
   "metadata": {
    "scrolled": true
   },
   "outputs": [],
   "source": [
    "for i_exp in range(len(sigma_exp_paths)):\n",
    "    plot_gene_activity_all(i_exp, sigma_exp_stats[i_exp], \n",
    "                           title='$\\sigma_A = |\\sigma_B| = $' + sigma_exp_names[i_exp],\n",
    "                           exp_path=sigma_exp_paths[i_exp])"
   ]
  },
  {
   "cell_type": "code",
   "execution_count": null,
   "metadata": {
    "scrolled": true
   },
   "outputs": [],
   "source": [
    "# Sigma_A = sigma_B = 10^-4\n",
    "plot_activity_sigma_per_type(sigma_exp_paths[2], sigma_exp_params[2], insert_inset=True,\n",
    "                             plot_name='activity_sigmas_avg.pdf')"
   ]
  },
  {
   "cell_type": "code",
   "execution_count": null,
   "metadata": {
    "scrolled": true
   },
   "outputs": [],
   "source": [
    "# Sigma_A = sigma_B = 10^-3\n",
    "plot_activity_sigma_per_type(sigma_exp_paths[1], sigma_exp_params[1],\n",
    "                             plot_name='activity_sigmas_avg.pdf')"
   ]
  },
  {
   "cell_type": "markdown",
   "metadata": {},
   "source": [
    "## $d_{max}$ exploration"
   ]
  },
  {
   "cell_type": "code",
   "execution_count": null,
   "metadata": {},
   "outputs": [],
   "source": [
    "dmax_exp_paths = [base_path / 'main', # dmax = 5k\n",
    "                  base_path / 'supp_mat/dmax_3k']\n",
    "\n",
    "dmax_exp_names = ['5k (main)', '3k']\n",
    "\n",
    "dmax_exp_rep_dirs = [sorted([d for d in exp_path.iterdir() if (d.is_dir() and d.name.startswith(\"rep\"))])\n",
    "                      for exp_path in dmax_exp_paths]\n",
    "\n",
    "dmax_exp_params = [evotsc_lib.read_params(rep_dirs[0]) for rep_dirs in sigma_exp_rep_dirs]\n",
    "for i_param in range(len(dmax_exp_params)):\n",
    "    dmax_exp_params[i_param]['m'] = 2.5 # Temporary fix because the parameter wasn't saved"
   ]
  },
  {
   "cell_type": "code",
   "execution_count": null,
   "metadata": {},
   "outputs": [],
   "source": [
    "for i_rep_dir, rep_dir in enumerate(dmax_exp_rep_dirs):\n",
    "    print(f'{dmax_exp_names[i_rep_dir]}: {len(rep_dir)} reps')"
   ]
  },
  {
   "cell_type": "code",
   "execution_count": null,
   "metadata": {},
   "outputs": [],
   "source": [
    "dmax_exp_stats = [get_stats(exp_path, gen) for exp_path in dmax_exp_paths]"
   ]
  },
  {
   "cell_type": "code",
   "execution_count": null,
   "metadata": {
    "scrolled": true
   },
   "outputs": [],
   "source": [
    "plot_fitness(dmax_exp_stats,\n",
    "             labels=['$ d_{max} = $' + name for name in dmax_exp_names], \n",
    "             exp_path=dmax_exp_paths[-1])"
   ]
  },
  {
   "cell_type": "code",
   "execution_count": null,
   "metadata": {
    "scrolled": true
   },
   "outputs": [],
   "source": [
    "for i_exp in range(len(dmax_exp_paths)):\n",
    "    plot_gene_activity_all(i_exp, dmax_exp_stats[i_exp], \n",
    "                           title='$d_{max} = $' + dmax_exp_names[i_exp],\n",
    "                           exp_path=dmax_exp_paths[i_exp])"
   ]
  },
  {
   "cell_type": "markdown",
   "metadata": {},
   "source": [
    "## $N$ and $\\lambda$ exploration"
   ]
  },
  {
   "cell_type": "markdown",
   "metadata": {},
   "source": [
    "### Load data"
   ]
  },
  {
   "cell_type": "code",
   "execution_count": null,
   "metadata": {},
   "outputs": [],
   "source": [
    "def get_nmu_stats(base_dir, gen):\n",
    "\n",
    "    base_dir = pathlib.Path(base_dir)\n",
    "    \n",
    "    pop_dirs = sorted([d for d in base_dir.iterdir() if d.is_dir()])\n",
    "    \n",
    "    res = pd.DataFrame()\n",
    "    \n",
    "    for pop_dir in pop_dirs:\n",
    "        \n",
    "        res_dir = get_stats(pop_dir, gen)\n",
    "\n",
    "        pop_N = int(float(pop_dir.name[1:4]))\n",
    "        mu_N = float(pop_dir.name[7:])\n",
    "\n",
    "        res_dir.insert(0, 'Pop size', pop_N)\n",
    "        res_dir.insert(1, 'Mutation rate', mu_N)\n",
    "        \n",
    "        res = pd.concat([res, res_dir])\n",
    "    \n",
    "    return res"
   ]
  },
  {
   "cell_type": "code",
   "execution_count": null,
   "metadata": {},
   "outputs": [],
   "source": [
    "nmu_base_path = base_path / 'supp_mat/Nmu'\n",
    "nmu_max_gen = 100_000"
   ]
  },
  {
   "cell_type": "code",
   "execution_count": null,
   "metadata": {},
   "outputs": [],
   "source": [
    "nmu_stats = get_nmu_stats(nmu_base_path, nmu_max_gen)"
   ]
  },
  {
   "cell_type": "markdown",
   "metadata": {},
   "source": [
    "### Fitness plot (a bit more complex because of the structure of the data)"
   ]
  },
  {
   "cell_type": "code",
   "execution_count": null,
   "metadata": {},
   "outputs": [],
   "source": [
    "def plot_all_nmu(data):\n",
    "\n",
    "    data = data[data['Gen'] > 0]\n",
    "    \n",
    "    colors = [['midnightblue', 'tab:green', 'tab:red'],\n",
    "              ['tab:blue', 'lightgreen', 'lightcoral'],\n",
    "              ['skyblue']]\n",
    "    \n",
    "    plt.figure(figsize=(9, 6), dpi=dpi)\n",
    "    \n",
    "    for i_pop_size, pop_size in enumerate(data['Pop size'].unique()):\n",
    "        data_pop = data[data['Pop size'] == pop_size]\n",
    "    \n",
    "        for i_mut_rate, mut_rate in enumerate(sorted(data_pop['Mutation rate'].unique(), reverse=True)):\n",
    "            data_run = data_pop[data_pop['Mutation rate'] == mut_rate]\n",
    "\n",
    "            data_rep = data_run.groupby('Gen').mean().reset_index()\n",
    "            \n",
    "            first_dec = data_run.groupby('Gen').quantile(0.1)\n",
    "            last_dec = data_run.groupby('Gen').quantile(0.9)\n",
    "\n",
    "            label = f'N = {pop_size}, µ = {mut_rate}'\n",
    "\n",
    "            if mut_rate * pop_size == 200.0:\n",
    "                linestyle = '-'\n",
    "            else:\n",
    "                linestyle = '--'\n",
    "            \n",
    "            plt.plot(data_rep['Gen'],\n",
    "                     data_rep['Fitness'], \n",
    "                     color=colors[i_mut_rate][i_pop_size], \n",
    "                     zorder=100,\n",
    "                     linestyle=linestyle, label=label)\n",
    "\n",
    "            # Quantiles\n",
    "            plt.plot(data_rep['Gen'],\n",
    "                     first_dec['Fitness'],\n",
    "                     color=colors[i_mut_rate][i_pop_size], \n",
    "                     linestyle=linestyle,\n",
    "                     alpha=0.3)\n",
    "    \n",
    "            plt.plot(data_rep['Gen'],\n",
    "                     last_dec['Fitness'],\n",
    "                     color=colors[i_mut_rate][i_pop_size],\n",
    "                     linestyle=linestyle,\n",
    "                     alpha=0.3)\n",
    "\n",
    "    \n",
    "    plt.xscale('log')\n",
    "    plt.yscale('log')\n",
    "    plt.grid(linestyle=':')\n",
    "    plt.grid(visible=True, which='minor', axis='x', linestyle=':')\n",
    "    \n",
    "    plt.xlabel('Generation', fontsize=label_fontsize)\n",
    "    plt.ylabel('Fitness', fontsize=label_fontsize)\n",
    "    \n",
    "    plt.legend(loc='lower right')\n",
    "    plt.show()"
   ]
  },
  {
   "cell_type": "code",
   "execution_count": null,
   "metadata": {},
   "outputs": [],
   "source": [
    "plot_all_nmu(nmu_stats)"
   ]
  },
  {
   "cell_type": "code",
   "execution_count": null,
   "metadata": {},
   "outputs": [],
   "source": [
    "constant_nmu_data = [nmu_stats[(nmu_stats['Pop size'] == 100) & (nmu_stats['Mutation rate'] == 2.0e0)],\n",
    "                     nmu_stats[(nmu_stats['Pop size'] == 1000) & (nmu_stats['Mutation rate'] == 2.0e-1)],\n",
    "                     nmu_stats[(nmu_stats['Pop size'] == 10000) & (nmu_stats['Mutation rate'] == 2.0e-2)]]\n",
    "constant_nmu_labels = [r'$N$ = 100, $\\lambda$ = 2.0',\n",
    "                       r'$N$ = 1000, $\\lambda$ = 0.2',\n",
    "                       r'$N$ = 10000, $\\lambda$ = 0.02']\n",
    "constant_nmu_paths = [nmu_base_path / 'N1e2_mu2e-0',\n",
    "                      nmu_base_path / 'N1e3_mu2e-1',\n",
    "                      nmu_base_path / 'N1e4_mu2e-2']"
   ]
  },
  {
   "cell_type": "code",
   "execution_count": null,
   "metadata": {},
   "outputs": [],
   "source": [
    "plot_fitness(constant_nmu_data,\n",
    "             labels=constant_nmu_labels,\n",
    "             exp_path=nmu_base_path)"
   ]
  },
  {
   "cell_type": "code",
   "execution_count": null,
   "metadata": {},
   "outputs": [],
   "source": [
    "for i_exp in range(len(constant_nmu_data)):\n",
    "    plot_gene_activity_all(i_exp, constant_nmu_data[i_exp], \n",
    "                           title=constant_nmu_labels[i_exp],\n",
    "                           exp_path=constant_nmu_paths[i_exp])"
   ]
  }
 ],
 "metadata": {
  "kernelspec": {
   "display_name": "Python 3 (ipykernel)",
   "language": "python",
   "name": "python3"
  },
  "language_info": {
   "codemirror_mode": {
    "name": "ipython",
    "version": 3
   },
   "file_extension": ".py",
   "mimetype": "text/x-python",
   "name": "python",
   "nbconvert_exporter": "python",
   "pygments_lexer": "ipython3",
   "version": "3.12.8"
  }
 },
 "nbformat": 4,
 "nbformat_minor": 4
}
