{
 "cells": [
  {
   "cell_type": "code",
   "execution_count": null,
   "metadata": {},
   "outputs": [],
   "source": [
    "import sys\n",
    "import pathlib\n",
    "import numpy as np\n",
    "import pandas as pd\n",
    "import matplotlib.pyplot as plt\n",
    "import matplotlib as mpl\n",
    "import pickle"
   ]
  },
  {
   "cell_type": "code",
   "execution_count": null,
   "metadata": {},
   "outputs": [],
   "source": [
    "from scipy import stats"
   ]
  },
  {
   "cell_type": "code",
   "execution_count": null,
   "metadata": {},
   "outputs": [],
   "source": [
    "import importlib\n",
    "import evotsc_lib\n",
    "import evotsc_plot\n",
    "importlib.reload(evotsc_lib)\n",
    "importlib.reload(evotsc_plot)"
   ]
  },
  {
   "cell_type": "code",
   "execution_count": null,
   "metadata": {},
   "outputs": [],
   "source": [
    "import met_brewer"
   ]
  },
  {
   "cell_type": "code",
   "execution_count": null,
   "metadata": {},
   "outputs": [],
   "source": [
    "label_fontsize=20\n",
    "tick_fontsize=15\n",
    "legend_fontsize=15\n",
    "dpi=300"
   ]
  },
  {
   "cell_type": "code",
   "execution_count": null,
   "metadata": {},
   "outputs": [],
   "source": [
    "sc_path = pathlib.Path('/Users/theotime/Desktop/evotsc/phd/epistasis/with-sc/')\n",
    "control_path = pathlib.Path('/Users/theotime/Desktop/evotsc/phd/epistasis/control/')\n",
    "only_sc_path = pathlib.Path('/Users/theotime/Desktop/evotsc/phd/epistasis/only-sc/')\n",
    "gen = 50_000\n",
    "gene_types = ['AB', 'A', 'B'] # Name of each gene type\n",
    "gene_type_color = ['tab:blue', 'tab:red', 'tab:green'] #AB, A, B\n",
    "sc_color = 'tab:green'\n",
    "control_color = 'tab:red'"
   ]
  },
  {
   "cell_type": "code",
   "execution_count": null,
   "metadata": {},
   "outputs": [],
   "source": [
    "sc_params = evotsc_lib.read_params(sc_path.joinpath('wt_00/shuffle_00/rep_00')) # Only the seed is different\n",
    "nb_sc_wt = len([d for d in sc_path.iterdir() if (d.is_dir() and d.name.startswith('wt'))])"
   ]
  },
  {
   "cell_type": "code",
   "execution_count": null,
   "metadata": {},
   "outputs": [],
   "source": [
    "only_sc_params = evotsc_lib.read_params(only_sc_path.joinpath('wt_00/shuffle_00/rep_00'))"
   ]
  },
  {
   "cell_type": "code",
   "execution_count": null,
   "metadata": {},
   "outputs": [],
   "source": [
    "control_params = evotsc_lib.read_params(control_path.joinpath('wt_00/shuffle_00/rep_00'))\n",
    "nb_control_wt = len([d for d in control_path.iterdir() if (d.is_dir() and d.name.startswith('wt'))])"
   ]
  },
  {
   "cell_type": "code",
   "execution_count": null,
   "metadata": {},
   "outputs": [],
   "source": [
    "genes_per_type = sc_params[\"nb_genes\"] / len(gene_types) # Doesn't change"
   ]
  },
  {
   "cell_type": "markdown",
   "metadata": {},
   "source": [
    "## Get the evolutionary statistics"
   ]
  },
  {
   "cell_type": "code",
   "execution_count": null,
   "metadata": {},
   "outputs": [],
   "source": [
    "def get_stats(exp_name, gen, params):\n",
    "            \n",
    "    wt_dirs = sorted([d for d in exp_name.iterdir() if (d.is_dir() and d.name.startswith('wt'))])\n",
    "        \n",
    "    res = pd.DataFrame()\n",
    "    \n",
    "    data_cols = ['Gen', 'Fitness', 'ABon_A', 'ABon_B', 'Aon_A', 'Aon_B', 'Bon_A', 'Bon_B']\n",
    "        \n",
    "    if params['intergene_poisson_lam'] != 0.0:\n",
    "        data_cols += ['Genome size']\n",
    "\n",
    "    if params['basal_sc_mutation_prob'] != 0.0:\n",
    "        data_cols += ['Basal SC']\n",
    "    \n",
    "    for i_wt, wt_dir in enumerate(wt_dirs):\n",
    "        shuffle_dirs = sorted([d for d in wt_dir.iterdir() if (d.is_dir() and d.name.startswith('shuffle'))])\n",
    "        \n",
    "        for i_shuffle, shuffle_dir in enumerate(shuffle_dirs):\n",
    "            rep_dirs = sorted([d for d in shuffle_dir.iterdir() if (d.is_dir() and d.name.startswith('rep'))])\n",
    "\n",
    "            for i_rep, rep_dir in enumerate(rep_dirs):\n",
    "                res_dir = pd.read_csv(rep_dir.joinpath('stats.csv'), usecols=data_cols)\n",
    "\n",
    "                res_dir.insert(0, 'WT', i_wt)\n",
    "                res_dir.insert(1, 'Shuffle', i_shuffle)\n",
    "                res_dir.insert(2, 'Replicate', i_rep)\n",
    "\n",
    "                res = pd.concat([res, res_dir])\n",
    "        \n",
    "    res = res[res['Gen'] <= gen].copy()\n",
    "            \n",
    "    res['Log Fitness'] = np.log(res['Fitness'])\n",
    "\n",
    "    return res"
   ]
  },
  {
   "cell_type": "code",
   "execution_count": null,
   "metadata": {},
   "outputs": [],
   "source": [
    "sc_stats = get_stats(sc_path, gen, sc_params)"
   ]
  },
  {
   "cell_type": "code",
   "execution_count": null,
   "metadata": {},
   "outputs": [],
   "source": [
    "only_sc_stats = get_stats(only_sc_path, gen, only_sc_params)"
   ]
  },
  {
   "cell_type": "code",
   "execution_count": null,
   "metadata": {},
   "outputs": [],
   "source": [
    "control_stats = get_stats(control_path, gen, control_params)"
   ]
  },
  {
   "cell_type": "markdown",
   "metadata": {},
   "source": [
    "### Get the original individuals"
   ]
  },
  {
   "cell_type": "code",
   "execution_count": null,
   "metadata": {},
   "outputs": [],
   "source": [
    "def get_orig_indivs(exp_path, params):\n",
    "    \n",
    "    indiv_dir = [d for d in exp_path.iterdir() if d.name.startswith('best_indivs')][0]\n",
    "    \n",
    "    indivs = []\n",
    "    \n",
    "    for indiv_path in sorted([d for d in indiv_dir.iterdir() if d.is_file()]):\n",
    "        \n",
    "        with open(indiv_path, 'rb') as indiv_file:\n",
    "            indiv = pickle.load(indiv_file)\n",
    "        \n",
    "        indiv.evaluate(params['sigma_A'], params['sigma_B'])\n",
    "        indivs.append(indiv)\n",
    "        \n",
    "    return indivs"
   ]
  },
  {
   "cell_type": "code",
   "execution_count": null,
   "metadata": {},
   "outputs": [],
   "source": [
    "sc_orig_indivs = get_orig_indivs(sc_path, sc_params)"
   ]
  },
  {
   "cell_type": "code",
   "execution_count": null,
   "metadata": {},
   "outputs": [],
   "source": [
    "control_orig_indivs = get_orig_indivs(control_path, control_params)"
   ]
  },
  {
   "cell_type": "markdown",
   "metadata": {},
   "source": [
    "### Add relative fitness (with regard to the original individuals) to the stats"
   ]
  },
  {
   "cell_type": "code",
   "execution_count": null,
   "metadata": {},
   "outputs": [],
   "source": [
    "def add_rel_fitness_to_stats(stats, orig_indivs):\n",
    "\n",
    "    stats_with_rel_fitness = pd.DataFrame()\n",
    "\n",
    "    for i_wt in stats['WT'].unique():\n",
    "        \n",
    "        wt_rep = stats[stats['WT'] == i_wt].copy()\n",
    "        wt_rep['Log Rel Fitness'] = wt_rep['Log Fitness'] - np.log(sc_orig_indivs[i_wt].fitness)\n",
    "        \n",
    "        stats_with_rel_fitness = pd.concat([stats_with_rel_fitness, wt_rep])\n",
    "\n",
    "    return stats_with_rel_fitness"
   ]
  },
  {
   "cell_type": "code",
   "execution_count": null,
   "metadata": {},
   "outputs": [],
   "source": [
    "sc_stats = add_rel_fitness_to_stats(sc_stats, sc_orig_indivs)"
   ]
  },
  {
   "cell_type": "code",
   "execution_count": null,
   "metadata": {},
   "outputs": [],
   "source": [
    "only_sc_stats = add_rel_fitness_to_stats(only_sc_stats, sc_orig_indivs)"
   ]
  },
  {
   "cell_type": "code",
   "execution_count": null,
   "metadata": {},
   "outputs": [],
   "source": [
    "control_stats = add_rel_fitness_to_stats(control_stats, control_orig_indivs)"
   ]
  },
  {
   "cell_type": "markdown",
   "metadata": {},
   "source": [
    "### Plot the genome of the best individual and one of its shuffled copies for example"
   ]
  },
  {
   "cell_type": "code",
   "execution_count": null,
   "metadata": {},
   "outputs": [],
   "source": [
    "def plot_orig_indivs(orig_indivs, exp_path):\n",
    "    for i_wt, orig_indiv in enumerate(orig_indivs):\n",
    "        \n",
    "        if i_wt != 1:\n",
    "            continue\n",
    "\n",
    "        plot_name = exp_path.joinpath(f'init_indiv_wt_{i_wt:02}_no_shuffle_env_A.pdf')\n",
    "        print(f'WT {i_wt}: Fitness {orig_indivs[i_wt].fitness:e}')\n",
    "        evotsc_plot.plot_genome_and_tsc(orig_indivs[i_wt].clone(), sigma=control_params['sigma_A'],\n",
    "                                        coloring_type='on-off', show_bar=True, print_ids=True,\n",
    "                                        id_interval=5, plot_name=plot_name)"
   ]
  },
  {
   "cell_type": "code",
   "execution_count": null,
   "metadata": {},
   "outputs": [],
   "source": [
    "plot_orig_indivs(sc_orig_indivs, sc_path)"
   ]
  },
  {
   "cell_type": "code",
   "execution_count": null,
   "metadata": {},
   "outputs": [],
   "source": [
    "def plot_initial_shuffled_indivs(params, exp_path):\n",
    "    \n",
    "    wt_dirs = sorted([d for d in exp_path.iterdir() if (d.is_dir() and d.name.startswith('wt'))])\n",
    "\n",
    "    for i_wt, wt_dir in enumerate(wt_dirs):\n",
    "        \n",
    "        if i_wt != 1:\n",
    "            continue\n",
    "        \n",
    "        shuffle_dirs = sorted([d for d in wt_dir.iterdir() if d.is_dir()])\n",
    "        \n",
    "        for i_shuffle, shuffle_dir in enumerate(shuffle_dirs):\n",
    "            \n",
    "            if i_shuffle != 0:\n",
    "                continue\n",
    "            \n",
    "            shuffle_indiv_path = [f for f in shuffle_dir.iterdir() if f.name.startswith('best')][0]\n",
    "            \n",
    "            with open(shuffle_indiv_path, 'rb') as shuffle_file:\n",
    "                shuffle_indiv = pickle.load(shuffle_file)\n",
    "\n",
    "            shuffle_indiv.evaluate(params['sigma_A'], params['sigma_B'])\n",
    "            print(f'wt {i_wt} shuffle {i_shuffle}: Fitness {shuffle_indiv.fitness}') \n",
    "            \n",
    "            plot_name = exp_path.joinpath(f'init_indiv_wt_{i_wt:02}_shuffle_{i_shuffle:02}_env_A.pdf')\n",
    "            evotsc_plot.plot_genome_and_tsc(shuffle_indiv, sigma=sc_params['sigma_A'], show_bar=False,\n",
    "                                            print_ids=True, coloring_type='on-off', id_interval=5,\n",
    "                                            plot_name=plot_name)"
   ]
  },
  {
   "cell_type": "code",
   "execution_count": null,
   "metadata": {},
   "outputs": [],
   "source": [
    "plot_initial_shuffled_indivs(sc_params, sc_path)"
   ]
  },
  {
   "cell_type": "markdown",
   "metadata": {},
   "source": [
    "### Get the shuffled individuals at the start of each replica"
   ]
  },
  {
   "cell_type": "code",
   "execution_count": null,
   "metadata": {},
   "outputs": [],
   "source": [
    "def get_shuffled_indivs(exp_path):\n",
    "    \n",
    "    indiv_dir = [d for d in exp_path.iterdir() if d.name.startswith('best_indivs')][0]\n",
    "    \n",
    "    indivs = []\n",
    "    \n",
    "    for shuffle_path in sorted([d for d in indiv_dir.iterdir() if d.is_dir()]):\n",
    "        wt_indivs = []\n",
    "    \n",
    "        for indiv_path in sorted([d for d in shuffle_path.iterdir() if d.is_file()]):\n",
    "            with open(indiv_path, 'rb') as indiv_file:\n",
    "                wt_indivs.append(pickle.load(indiv_file))\n",
    "                \n",
    "        indivs.append(wt_indivs)\n",
    "        \n",
    "    return indivs"
   ]
  },
  {
   "cell_type": "code",
   "execution_count": null,
   "metadata": {},
   "outputs": [],
   "source": [
    "# Load and initialize the individuals\n",
    "sc_shuffled_indivs = get_shuffled_indivs(sc_path)\n",
    "for wt_shuffled_indivs in sc_shuffled_indivs:\n",
    "    for indiv in wt_shuffled_indivs:\n",
    "        indiv.evaluate(sc_params['sigma_A'], sc_params['sigma_B'])"
   ]
  },
  {
   "cell_type": "code",
   "execution_count": null,
   "metadata": {},
   "outputs": [],
   "source": [
    "control_shuffled_indivs = get_shuffled_indivs(control_path)\n",
    "for wt_shuffled_indivs in control_shuffled_indivs:\n",
    "    for indiv in wt_shuffled_indivs:\n",
    "        indiv.evaluate(control_params['sigma_A'], control_params['sigma_B'])"
   ]
  },
  {
   "cell_type": "markdown",
   "metadata": {},
   "source": [
    "# Plot the number of active genes of each type over evolutionary time"
   ]
  },
  {
   "cell_type": "code",
   "execution_count": null,
   "metadata": {},
   "outputs": [],
   "source": [
    "def plot_gene_activity_all(full_stats, params, exp_path, legend_title, var_type='quantile'):\n",
    "    \n",
    "    mean_data = full_stats.groupby('Gen').mean().reset_index()\n",
    "    if var_type == 'sigma':\n",
    "        std_data = full_stats.groupby('Gen').std()\n",
    "    elif var_type == 'quantile':\n",
    "        first_dec = full_stats.groupby('Gen').quantile(0.1)\n",
    "        last_dec = full_stats.groupby('Gen').quantile(0.9)\n",
    "    elif var_type == 'minmax':\n",
    "        min_data = full_stats.groupby('Gen').min()\n",
    "        max_data = full_stats.groupby('Gen').max()\n",
    "    \n",
    "    for env in [\"A\", \"B\"]:\n",
    "\n",
    "        fig, ax1 = plt.subplots(figsize=(9, 4), dpi=dpi)\n",
    "        delta_y = params[\"nb_genes\"] / 3 * 0.05 \n",
    "        ax1.set_ylim(-delta_y, params[\"nb_genes\"] / 3 + delta_y)\n",
    "        ax1.set_ylabel('Activated genes', fontsize=label_fontsize)\n",
    "        ax1.set_xlabel('Generation', fontsize=label_fontsize)\n",
    "        ax1.set_xscale('log')\n",
    "        ax1.grid(linestyle=':')\n",
    "        ax1.grid(visible=True, which=\"minor\", axis='x', linestyle=':')\n",
    "\n",
    "        for i_gene_type, gene_type in enumerate(gene_types):\n",
    "\n",
    "            ax1.plot(mean_data['Gen'], mean_data[f\"{gene_type}on_{env}\"],\n",
    "                     color=gene_type_color[i_gene_type],\n",
    "                     linewidth=2,\n",
    "                     label=gene_type)\n",
    "            \n",
    "            # Show 2-sigma (95%) confidence intervals\n",
    "            if var_type == 'sigma':\n",
    "                ax1.plot(mean_data['Gen'],\n",
    "                         mean_data[f\"{gene_type}on_{env}\"] - 2 * std_data[f\"{gene_type}on_{env}\"],\n",
    "                         color=gene_type_color[i_gene_type],\n",
    "                         alpha=0.3)\n",
    "                ax1.plot(mean_data['Gen'],\n",
    "                         mean_data[f\"{gene_type}on_{env}\"] + 2 * std_data[f\"{gene_type}on_{env}\"],\n",
    "                         color=gene_type_color[i_gene_type],\n",
    "                         alpha=0.3)\n",
    "            # Show first and last deciles\n",
    "            elif var_type == 'quantile':\n",
    "                ax1.plot(mean_data['Gen'],\n",
    "                         first_dec[f\"{gene_type}on_{env}\"],\n",
    "                         color=gene_type_color[i_gene_type],\n",
    "                         alpha=0.3)\n",
    "                ax1.plot(mean_data['Gen'],\n",
    "                         last_dec[f\"{gene_type}on_{env}\"],\n",
    "                         color=gene_type_color[i_gene_type],\n",
    "                         alpha=0.3)\n",
    "            # Show min and max values\n",
    "            elif var_type == 'minmax':\n",
    "                ax1.plot(mean_data['Gen'],\n",
    "                         min_data[f\"{gene_type}on_{env}\"],\n",
    "                         color=gene_type_color[i_gene_type],\n",
    "                         alpha=0.3)\n",
    "                ax1.plot(mean_data['Gen'],\n",
    "                         max_data[f\"{gene_type}on_{env}\"],\n",
    "                         color=gene_type_color[i_gene_type],\n",
    "                         alpha=0.3)\n",
    "\n",
    "\n",
    "        \n",
    "        ax1.tick_params(axis='both', which='major', labelsize=tick_fontsize)\n",
    "\n",
    "\n",
    "        #plt.title(f\"Environment {env}\")\n",
    "        fig.legend(bbox_to_anchor=(0, 0),\n",
    "                   bbox_transform=ax1.transAxes,\n",
    "                   loc='lower left',\n",
    "                   title=legend_title,\n",
    "                   title_fontsize=legend_fontsize - 2,\n",
    "                   fontsize=legend_fontsize)\n",
    "        \n",
    "        plt.savefig(f'{exp_path}/gene_activity_env_{env}.pdf', dpi=dpi, bbox_inches='tight')\n",
    "\n",
    "        plt.show()"
   ]
  },
  {
   "cell_type": "code",
   "execution_count": null,
   "metadata": {},
   "outputs": [],
   "source": [
    "plot_gene_activity_all(sc_stats, sc_params, sc_path, 'SC mutations')"
   ]
  },
  {
   "cell_type": "code",
   "execution_count": null,
   "metadata": {},
   "outputs": [],
   "source": [
    "plot_gene_activity_all(control_stats, control_params, control_path, 'No SC mutations')"
   ]
  },
  {
   "cell_type": "code",
   "execution_count": null,
   "metadata": {},
   "outputs": [],
   "source": [
    "plot_gene_activity_all(only_sc_stats, only_sc_params, only_sc_path, 'Only SC mutations')"
   ]
  },
  {
   "cell_type": "markdown",
   "metadata": {},
   "source": [
    "# Plot fitness, genome size, and basal supercoiling over evolutionary time"
   ]
  },
  {
   "cell_type": "code",
   "execution_count": null,
   "metadata": {},
   "outputs": [],
   "source": [
    "def plot_fitness_per_wt(exp_path, full_stats):\n",
    "    \n",
    "    nb_wt = full_stats['WT'].nunique()\n",
    "    \n",
    "    all_colors = met_brewer.met_brew(name='Hokusai3', n=6, brew_type='continuous')\n",
    "    colors = [all_colors[5], all_colors[4], all_colors[3], all_colors[2], all_colors[1]]\n",
    "\n",
    "    plt.figure(figsize=(9, 4), dpi=dpi)\n",
    "    \n",
    "    for i_wt in range(nb_wt):\n",
    "        wt_stats = full_stats[(full_stats[\"Gen\"] > 0) & (full_stats['WT'] == i_wt)]\n",
    "\n",
    "        # plot by replicate fitness\n",
    "        #for i_rep in wt_stats['Replicate'].unique():\n",
    "        #    rep_stats = wt_stats[wt_stats['Replicate'] == i_rep]\n",
    "        #    if i_rep == 0:\n",
    "        #        label = f'WT {i_wt}'\n",
    "        #    else:\n",
    "        #        label = None\n",
    "        \n",
    "        mean_data = wt_stats.groupby('Gen').mean().reset_index()\n",
    "        plt.plot(mean_data['Gen'],\n",
    "                 np.exp(mean_data['Log Fitness']),\n",
    "                 color=colors[i_wt],\n",
    "                 label=f'WT {i_wt}',\n",
    "                 linewidth=2) \n",
    "\n",
    "        # Min and max (5 is not enough for quantiles)\n",
    "        min_data = wt_stats.groupby('Gen').min()\n",
    "        plt.plot(mean_data['Gen'],\n",
    "                 min_data['Fitness'],\n",
    "                 color=colors[i_wt],\n",
    "                 alpha=0.3)\n",
    "\n",
    "        max_data = wt_stats.groupby('Gen').max()\n",
    "        plt.plot(mean_data['Gen'],\n",
    "                 max_data['Fitness'],\n",
    "                 color=colors[i_wt],\n",
    "                 alpha=0.3)\n",
    "\n",
    "    plt.xscale('log')\n",
    "    plt.yscale('log')\n",
    "    plt.grid(linestyle=':')\n",
    "    plt.grid(visible=True, which=\"minor\", axis='x', linestyle=':')\n",
    "\n",
    "    plt.xlabel('Generation', fontsize=label_fontsize)\n",
    "    plt.ylabel('Fitness', fontsize=label_fontsize)\n",
    "    \n",
    "    plt.legend()\n",
    "\n",
    "    plt.tick_params(axis='both', which='major', labelsize=tick_fontsize)\n",
    "        \n",
    "    plt.savefig(f'{exp_path}/fitness_per_wt.pdf', dpi=dpi, bbox_inches='tight')"
   ]
  },
  {
   "cell_type": "code",
   "execution_count": null,
   "metadata": {},
   "outputs": [],
   "source": [
    "#plot_fitness_per_wt(sc_path, sc_stats)"
   ]
  },
  {
   "cell_type": "code",
   "execution_count": null,
   "metadata": {},
   "outputs": [],
   "source": [
    "#plot_fitness_per_wt(only_sc_path, only_sc_stats)"
   ]
  },
  {
   "cell_type": "code",
   "execution_count": null,
   "metadata": {},
   "outputs": [],
   "source": [
    "def plot_fitness_grouped(sc_stats, control_stats, exp_path):\n",
    "\n",
    "    stats = [control_stats[control_stats['Gen'] > 0].copy(),\n",
    "             sc_stats[sc_stats['Gen'] > 0].copy(),\n",
    "             only_sc_stats[only_sc_stats['Gen'] > 0].copy()]\n",
    "    \n",
    "    name = ['Control runs', 'Supercoiling runs', 'SC only runs']\n",
    "    \n",
    "    all_colors = met_brewer.met_brew(name='Hokusai3', n=6, brew_type='continuous')\n",
    "    colors = [all_colors[4], all_colors[3], all_colors[2]]\n",
    "\n",
    "    plt.figure(figsize=(9, 4), dpi=dpi)\n",
    "    \n",
    "    for i_exp in range(len(stats)):\n",
    "        mean_data = stats[i_exp].groupby('Gen').mean().reset_index()\n",
    "        plt.plot(mean_data['Gen'],\n",
    "                 np.exp(mean_data['Log Fitness']),\n",
    "                 color=colors[i_exp],\n",
    "                 linewidth=2,\n",
    "                 label=name[i_exp]) \n",
    "\n",
    "        # 5*5 = 25 replicates so let's use quantiles\n",
    "        first_dec = stats[i_exp].groupby('Gen').quantile(0.1)\n",
    "        plt.plot(mean_data['Gen'],\n",
    "                 first_dec['Fitness'],\n",
    "                 color=colors[i_exp],\n",
    "                 alpha=0.3)\n",
    "\n",
    "        last_dec = stats[i_exp].groupby('Gen').quantile(0.9)\n",
    "        plt.plot(mean_data['Gen'],\n",
    "                 last_dec['Fitness'],\n",
    "                 color=colors[i_exp],\n",
    "                 alpha=0.3)\n",
    "\n",
    "    plt.xscale('log')\n",
    "    plt.yscale('log')\n",
    "    plt.grid(linestyle=':')\n",
    "    plt.grid(visible=True, which=\"minor\", axis='x', linestyle=':')\n",
    "\n",
    "    plt.xlabel('Generation', fontsize=label_fontsize)\n",
    "    plt.ylabel('Fitness', fontsize=label_fontsize)\n",
    "    #plt.ylim(1e-10, 1e0)\n",
    "    \n",
    "    plt.legend(fontsize=legend_fontsize, loc='upper left')\n",
    "    \n",
    "    plt.tick_params(axis='both', which='major', labelsize=tick_fontsize)\n",
    "        \n",
    "    plt.savefig(f'{exp_path}/fitness_grouped.pdf', dpi=dpi, bbox_inches='tight')"
   ]
  },
  {
   "cell_type": "code",
   "execution_count": null,
   "metadata": {},
   "outputs": [],
   "source": [
    "plot_fitness_grouped(sc_stats, control_stats, sc_path)"
   ]
  },
  {
   "cell_type": "code",
   "execution_count": null,
   "metadata": {},
   "outputs": [],
   "source": [
    "def plot_relative_fitness_grouped(sc_stats, control_stats, exp_path, sc_only=False):\n",
    "\n",
    "    stats = [control_stats[control_stats[\"Gen\"] > 0].copy(),\n",
    "             sc_stats[sc_stats[\"Gen\"] > 0].copy()]\n",
    "\n",
    "    for i_exp in range(2):\n",
    "        stats[i_exp]['Rel Fitness'] = np.exp(stats[i_exp]['Log Rel Fitness'])\n",
    "    \n",
    "    name = ['No SC mutations', 'SC mutations']\n",
    "    \n",
    "    if sc_only:\n",
    "        name = ['SC mutations', 'SC mutations only']\n",
    "    \n",
    "    all_colors = met_brewer.met_brew(name='Hokusai3', n=6, brew_type='continuous')\n",
    "    colors = [all_colors[5], all_colors[3]]\n",
    "\n",
    "    plt.figure(figsize=(9, 4), dpi=dpi)\n",
    "    \n",
    "    for i_exp in range(2):\n",
    "        mean_data = stats[i_exp].groupby('Gen').mean().reset_index()\n",
    "        plt.plot(mean_data['Gen'],\n",
    "                 np.exp(mean_data['Log Rel Fitness']),\n",
    "                 color=colors[i_exp],\n",
    "                 linewidth=2,\n",
    "                 label=name[i_exp]) \n",
    "\n",
    "        first_dec = stats[i_exp].groupby('Gen').quantile(0.1)\n",
    "        plt.plot(mean_data['Gen'],\n",
    "                 first_dec['Rel Fitness'],\n",
    "                 color=colors[i_exp],\n",
    "                 alpha=0.3)\n",
    "\n",
    "        last_dec = stats[i_exp].groupby('Gen').quantile(0.9)\n",
    "        plt.plot(mean_data['Gen'],\n",
    "                 last_dec['Rel Fitness'],\n",
    "                 color=colors[i_exp],\n",
    "                 alpha=0.3)\n",
    "\n",
    "    plt.xscale('log')\n",
    "    plt.yscale('log')\n",
    "    plt.grid(linestyle=':')\n",
    "    plt.grid(visible=True, which=\"minor\", axis='x', linestyle=':')\n",
    "\n",
    "    plt.xlabel('Generation', fontsize=label_fontsize)\n",
    "    plt.ylabel('Relative fitness', fontsize=label_fontsize)\n",
    "    #plt.ylim(1e-10, 1e0)\n",
    "    \n",
    "    plt.legend(fontsize=legend_fontsize)\n",
    "    \n",
    "    plt.tick_params(axis='both', which='major', labelsize=tick_fontsize)\n",
    "        \n",
    "    plt.savefig(f'{exp_path}/relative_fitness_grouped.pdf', dpi=dpi, bbox_inches='tight')"
   ]
  },
  {
   "cell_type": "code",
   "execution_count": null,
   "metadata": {},
   "outputs": [],
   "source": [
    "plot_relative_fitness_grouped(sc_stats, control_stats, sc_path)"
   ]
  },
  {
   "cell_type": "code",
   "execution_count": null,
   "metadata": {},
   "outputs": [],
   "source": [
    "stats.ttest_ind(np.exp(sc_stats[sc_stats['Gen'] == gen]['Log Rel Fitness']),\n",
    "                np.exp(control_stats[control_stats['Gen'] == gen]['Log Rel Fitness']))"
   ]
  },
  {
   "cell_type": "code",
   "execution_count": null,
   "metadata": {},
   "outputs": [],
   "source": [
    "plot_relative_fitness_grouped(only_sc_stats, sc_stats, only_sc_path, sc_only=True)"
   ]
  },
  {
   "cell_type": "code",
   "execution_count": null,
   "metadata": {},
   "outputs": [],
   "source": [
    "def plot_relative_fitness_per_wt(full_stats, exp_path):\n",
    "    \n",
    "    nb_wt = full_stats['WT'].nunique()\n",
    "    \n",
    "    all_colors = met_brewer.met_brew(name='Hokusai3', n=6, brew_type='continuous')\n",
    "    colors = [all_colors[5], all_colors[4], all_colors[3], all_colors[2], all_colors[1]]\n",
    "\n",
    "    plt.figure(figsize=(9, 4), dpi=dpi)\n",
    "    \n",
    "    for i_wt in range(nb_wt):\n",
    "        wt_stats = full_stats[(full_stats[\"Gen\"] > 0) & (full_stats['WT'] == i_wt)]\n",
    "                \n",
    "        mean_data = wt_stats.groupby('Gen').mean().reset_index()\n",
    "        plt.plot(mean_data['Gen'],\n",
    "                 np.exp(mean_data['Log Rel Fitness']),\n",
    "                 color=colors[i_wt],\n",
    "                 label=f'WT {i_wt}',\n",
    "                 linewidth=2) \n",
    "\n",
    "        # Min and max (5 is not enough for quantiles)\n",
    "        #min_data = wt_stats.groupby('Gen').min()\n",
    "        #plt.plot(mean_data['Gen'],\n",
    "        #         np.exp(min_data['Log Rel Fitness']),\n",
    "        #         color=colors[i_wt],\n",
    "        #         alpha=0.3)\n",
    "\n",
    "        #max_data = wt_stats.groupby('Gen').max()\n",
    "        #plt.plot(mean_data['Gen'],\n",
    "        #         np.exp(min_data['Log Rel Fitness']),\n",
    "        #         color=colors[i_wt],\n",
    "        #         alpha=0.3)\n",
    "\n",
    "    plt.xscale('log')\n",
    "    plt.yscale('log')\n",
    "    plt.grid(linestyle=':')\n",
    "    plt.grid(visible=True, which=\"minor\", axis='x', linestyle=':')\n",
    "\n",
    "    plt.xlabel('Generation', fontsize=label_fontsize)\n",
    "    plt.ylabel('Relative fitness', fontsize=label_fontsize)\n",
    "    \n",
    "    plt.legend()\n",
    "\n",
    "    plt.tick_params(axis='both', which='major', labelsize=tick_fontsize)\n",
    "        \n",
    "    plt.savefig(f'{exp_path}/all_relative_fitness_per_wt_2.pdf', dpi=dpi, bbox_inches='tight')"
   ]
  },
  {
   "cell_type": "code",
   "execution_count": null,
   "metadata": {},
   "outputs": [],
   "source": [
    "#plot_relative_fitness_per_wt(sc_stats, sc_path)"
   ]
  },
  {
   "cell_type": "code",
   "execution_count": null,
   "metadata": {},
   "outputs": [],
   "source": [
    "#plot_relative_fitness_per_wt(control_stats, control_path)"
   ]
  },
  {
   "cell_type": "code",
   "execution_count": null,
   "metadata": {},
   "outputs": [],
   "source": [
    "def plot_basal_sc_grouped(full_stats, exp_path):\n",
    "    \n",
    "    max_gen = full_stats.groupby('Replicate').max()['Gen'].min()\n",
    "    \n",
    "    stats = full_stats[(full_stats[\"Gen\"] > 0) & (full_stats['Gen'] <= max_gen)][['Gen', 'Basal SC']].copy()\n",
    "        \n",
    "    mean_data = stats.groupby('Gen').mean().reset_index()\n",
    "    \n",
    "    # Note: for the fitness, the mean can be above the quantile\n",
    "    first_dec = stats.groupby('Gen').quantile(0.1)\n",
    "    last_dec = stats.groupby('Gen').quantile(0.9)\n",
    "    \n",
    "    all_colors = met_brewer.met_brew(name='Hokusai3', n=6, brew_type='continuous')\n",
    "    colors = [all_colors[5], all_colors[3]]\n",
    "    \n",
    "    plt.figure(figsize=(9,4), dpi=dpi)\n",
    "    \n",
    "    plt.xscale('log')\n",
    "    #plt.yscale('log')\n",
    "    plt.grid(linestyle=':')\n",
    "    plt.grid(visible=True, which=\"minor\", axis='x', linestyle=':')\n",
    "    \n",
    "    plt.xlabel('Generation', fontsize=label_fontsize)\n",
    "    plt.ylabel('Basal supercoiling', fontsize=label_fontsize)\n",
    "    \n",
    "    plt.tick_params(axis='both', which='major', labelsize=tick_fontsize)\n",
    "        \n",
    "    # Add main\n",
    "    plt.hlines(sc_params['sigma_basal'], 1e0, gen, linewidth=2, color=colors[0],\n",
    "               zorder=10, label='No SC mutations')\n",
    "    \n",
    "    # Average\n",
    "    plt.plot(mean_data['Gen'],\n",
    "             mean_data['Basal SC'],\n",
    "             color=colors[1],\n",
    "             linewidth=2,\n",
    "             zorder=10,\n",
    "             label='SC mutations') \n",
    "    \n",
    "    # Quantiles\n",
    "    plt.plot(mean_data['Gen'],\n",
    "             first_dec['Basal SC'],\n",
    "             color=colors[1],\n",
    "             alpha=0.3)\n",
    "    \n",
    "    plt.plot(mean_data['Gen'],\n",
    "             last_dec['Basal SC'],\n",
    "             color=colors[1],\n",
    "             alpha=0.3)\n",
    "\n",
    "    plt.legend(fontsize=legend_fontsize)\n",
    "    \n",
    "    plt.ylim(-0.069, -0.059)\n",
    "    \n",
    "    plt.savefig(f'{exp_path}/basal_sc_all.pdf', dpi=dpi, bbox_inches='tight')"
   ]
  },
  {
   "cell_type": "code",
   "execution_count": null,
   "metadata": {},
   "outputs": [],
   "source": [
    "plot_basal_sc_grouped(sc_stats, sc_path)"
   ]
  },
  {
   "cell_type": "code",
   "execution_count": null,
   "metadata": {},
   "outputs": [],
   "source": [
    "def plot_basal_sc_per_wt(full_stats, exp_path):\n",
    "    \n",
    "    nb_wt = full_stats['WT'].nunique()\n",
    "    \n",
    "    all_colors = met_brewer.met_brew(name='Hokusai3', n=6, brew_type='continuous')\n",
    "    colors = [all_colors[5], all_colors[4], all_colors[3], all_colors[2], all_colors[1]]\n",
    "\n",
    "    plt.figure(figsize=(9, 4), dpi=dpi)\n",
    "    \n",
    "    for i_wt in range(nb_wt):\n",
    "        wt_stats = full_stats[(full_stats[\"Gen\"] > 0) & (full_stats['WT'] == i_wt)]\n",
    "\n",
    "        # plot by replicate fitness\n",
    "        #for i_rep in wt_stats['Replicate'].unique():\n",
    "        #    rep_stats = wt_stats[wt_stats['Replicate'] == i_rep]\n",
    "        #    if i_rep == 0:\n",
    "        #        label = f'WT {i_wt}'\n",
    "        #    else:\n",
    "        #        label = None\n",
    "        \n",
    "        mean_data = wt_stats.groupby('Gen').mean().reset_index()\n",
    "        plt.plot(mean_data['Gen'],\n",
    "                 mean_data['Basal SC'],\n",
    "                 color=colors[i_wt],\n",
    "                 label=f'WT {i_wt}',\n",
    "                 linewidth=2) \n",
    "\n",
    "        # Min and max (5 is not enough for quantiles)\n",
    "        min_data = wt_stats.groupby('Gen').quantile(0.1)\n",
    "        plt.plot(mean_data['Gen'],\n",
    "                 min_data['Basal SC'],\n",
    "                 color=colors[i_wt],\n",
    "                 alpha=0.3)\n",
    "\n",
    "        max_data = wt_stats.groupby('Gen').quantile(0.9)\n",
    "        plt.plot(mean_data['Gen'],\n",
    "                 max_data['Basal SC'],\n",
    "                 color=colors[i_wt],\n",
    "                 alpha=0.3)\n",
    "\n",
    "    plt.xscale('log')\n",
    "    #plt.yscale('log')\n",
    "    plt.grid(linestyle=':')\n",
    "    plt.grid(visible=True, which=\"minor\", axis='x', linestyle=':')\n",
    "\n",
    "    plt.xlabel('Generation', fontsize=label_fontsize)\n",
    "    plt.ylabel('Basal SC', fontsize=label_fontsize)\n",
    "    \n",
    "    plt.legend(loc='lower left')\n",
    "\n",
    "    plt.tick_params(axis='both', which='major', labelsize=tick_fontsize)\n",
    "        \n",
    "    plt.savefig(f'{exp_path}/sc_per_wt.pdf', dpi=dpi, bbox_inches='tight')"
   ]
  },
  {
   "cell_type": "code",
   "execution_count": null,
   "metadata": {},
   "outputs": [],
   "source": [
    "plot_basal_sc_per_wt(sc_stats, sc_path)"
   ]
  },
  {
   "cell_type": "code",
   "execution_count": null,
   "metadata": {},
   "outputs": [],
   "source": [
    "plot_basal_sc_per_wt(only_sc_stats, only_sc_path)"
   ]
  },
  {
   "cell_type": "code",
   "execution_count": null,
   "metadata": {},
   "outputs": [],
   "source": [
    "def plot_relative_basal_sc_per_wt(full_stats, orig_indivs, exp_path):\n",
    "    \n",
    "    nb_wt = full_stats['WT'].nunique()\n",
    "    \n",
    "    all_colors = met_brewer.met_brew(name='Hokusai3', n=6, brew_type='continuous')\n",
    "    colors = [all_colors[5], all_colors[4], all_colors[3], all_colors[2], all_colors[1]]\n",
    "\n",
    "    plt.figure(figsize=(9, 4), dpi=dpi)\n",
    "    \n",
    "    for i_wt in range(nb_wt):\n",
    "        wt_stats = full_stats[(full_stats[\"Gen\"] > 0) & (full_stats['WT'] == i_wt)]\n",
    "\n",
    "        # plot by replicate fitness\n",
    "        #for i_rep in wt_stats['Replicate'].unique():\n",
    "        #    rep_stats = wt_stats[wt_stats['Replicate'] == i_rep]\n",
    "        #    if i_rep == 0:\n",
    "        #        label = f'WT {i_wt}'\n",
    "        #    else:\n",
    "        #        label = None\n",
    "        \n",
    "        mean_data = wt_stats.groupby('Gen').mean().reset_index()\n",
    "        plt.plot(mean_data['Gen'],\n",
    "                 mean_data['Basal SC'] / orig_indivs[i_wt].sigma_basal,\n",
    "                 color=colors[i_wt],\n",
    "                 label=f'WT {i_wt}',\n",
    "                 linewidth=2) \n",
    "\n",
    "        # Min and max (5 is not enough for quantiles)\n",
    "        min_data = wt_stats.groupby('Gen').min()\n",
    "        plt.plot(mean_data['Gen'] ,\n",
    "                 min_data['Basal SC'] / orig_indivs[i_wt].sigma_basal,\n",
    "                 color=colors[i_wt],\n",
    "                 alpha=0.3)\n",
    "\n",
    "        max_data = wt_stats.groupby('Gen').max()\n",
    "        plt.plot(mean_data['Gen'],\n",
    "                 max_data['Basal SC'] / orig_indivs[i_wt].sigma_basal,\n",
    "                 color=colors[i_wt],\n",
    "                 alpha=0.3)\n",
    "\n",
    "    #plt.xscale('log')\n",
    "    #plt.yscale('log')\n",
    "    plt.grid(linestyle=':')\n",
    "    plt.grid(visible=True, which=\"minor\", axis='x', linestyle=':')\n",
    "\n",
    "    plt.xlabel('Generation', fontsize=label_fontsize)\n",
    "    plt.ylabel('Basal SC', fontsize=label_fontsize)\n",
    "    \n",
    "    plt.legend(loc='lower left')\n",
    "\n",
    "    plt.tick_params(axis='both', which='major', labelsize=tick_fontsize)\n",
    "        \n",
    "    plt.savefig(f'{exp_path}/sc_relative_per_wt.pdf', dpi=dpi, bbox_inches='tight')"
   ]
  },
  {
   "cell_type": "code",
   "execution_count": null,
   "metadata": {},
   "outputs": [],
   "source": [
    "#plot_relative_basal_sc_per_wt(sc_stats, sc_orig_indivs, sc_path)"
   ]
  },
  {
   "cell_type": "code",
   "execution_count": null,
   "metadata": {},
   "outputs": [],
   "source": [
    "def plot_basal_sc_per_shuffle(full_stats, orig_indivs, exp_path):\n",
    "    \n",
    "    full_stats = full_stats[full_stats['Gen'] > 0] # For the log x-axis\n",
    "    nb_wt = full_stats['WT'].nunique()\n",
    "    \n",
    "    min_sc = full_stats['Basal SC'].min()\n",
    "    max_sc = full_stats['Basal SC'].max()\n",
    "    sc_range = max_sc - min_sc\n",
    "    \n",
    "    all_colors = met_brewer.met_brew(name='Hokusai3', n=6, brew_type='continuous')\n",
    "    colors = [all_colors[4], all_colors[3], all_colors[2], all_colors[1], all_colors[0]]\n",
    "    \n",
    "    for i_wt in range(nb_wt):\n",
    "        \n",
    "        if i_wt != 1:\n",
    "            continue\n",
    "               \n",
    "        wt_stats = full_stats[full_stats['WT'] == i_wt]\n",
    "        nb_shuffle = wt_stats['Shuffle'].nunique()\n",
    "        \n",
    "        plt.figure(figsize=(9, 4), dpi=dpi)\n",
    "        \n",
    "        plt.xscale('log')\n",
    "        #plt.yscale('log')\n",
    "        \n",
    "        for i_shuffle in range(nb_shuffle):\n",
    "                \n",
    "            shuffle_stats = wt_stats[wt_stats['Shuffle'] == i_shuffle]\n",
    "            nb_rep = shuffle_stats['Replicate'].nunique()\n",
    "        \n",
    "            # Plot the 5 reps of this shuffle in the same color\n",
    "            for i_rep in wt_stats['Replicate'].unique():\n",
    "                rep_stats = shuffle_stats[shuffle_stats['Replicate'] == i_rep]\n",
    "\n",
    "                if i_rep == 0:\n",
    "                    label = f'Shock {i_shuffle}'\n",
    "                else:\n",
    "                    label=None\n",
    "                \n",
    "                plt.plot(rep_stats['Gen'],\n",
    "                         rep_stats['Basal SC'],\n",
    "                         color=colors[i_shuffle],\n",
    "                         label=label,\n",
    "                         linewidth=2)\n",
    "                \n",
    "        #x_min, x_max = plt.xlim()\n",
    "        #orig_sc = orig_indivs[i_wt].sigma_basal\n",
    "        #plt.hlines(orig_sc, 1, wt_stats['Gen'].max(), linewidth=2, color=colors[nb_wt],\n",
    "        #           linestyle='--', label='WT')\n",
    "        #plt.xlim(x_min, x_max)\n",
    "\n",
    "        plt.grid(linestyle=':')\n",
    "        plt.grid(visible=True, which=\"minor\", axis='x', linestyle=':')\n",
    "\n",
    "        plt.xlabel('Generation', fontsize=label_fontsize)\n",
    "        plt.ylabel('Basal SC', fontsize=label_fontsize)\n",
    "\n",
    "        plt.legend(loc='lower left')\n",
    "\n",
    "        plt.tick_params(axis='both', which='major', labelsize=tick_fontsize)\n",
    "\n",
    "        plt.savefig(exp_path.joinpath(f'sc_wt_{i_wt:02}_all_shuffles.pdf'), dpi=dpi, bbox_inches='tight')\n",
    "        plt.show()\n",
    "        plt.close()"
   ]
  },
  {
   "cell_type": "code",
   "execution_count": null,
   "metadata": {},
   "outputs": [],
   "source": [
    "#plot_basal_sc_per_shuffle(sc_stats, sc_orig_indivs, sc_path)"
   ]
  },
  {
   "cell_type": "code",
   "execution_count": null,
   "metadata": {},
   "outputs": [],
   "source": [
    "plot_basal_sc_per_shuffle(only_sc_stats, sc_orig_indivs, only_sc_path)"
   ]
  },
  {
   "cell_type": "markdown",
   "metadata": {},
   "source": [
    "## Interesting stats: fitness relative to the ancestor at the last generation"
   ]
  },
  {
   "cell_type": "code",
   "execution_count": null,
   "metadata": {},
   "outputs": [],
   "source": [
    "def compute_rel_fitness_at(full_stats, orig_indivs, gen):\n",
    "    last_stats_by_wt = full_stats[full_stats['Gen'] == gen].groupby('WT').mean()[['Replicate', 'Gen', 'Fitness']]\n",
    "\n",
    "    nb_wt = full_stats['Replicate'].nunique()\n",
    "    \n",
    "    for i_wt in range(nb_wt):\n",
    "        orig_fitness = orig_indivs[i_wt].fitness\n",
    "        rel_fitness = last_stats_by_wt.iloc[i_wt] / orig_fitness\n",
    "\n",
    "    orig_df = pd.DataFrame({'WT': list(range(nb_wt)),\n",
    "                            'Orig Fitness': [i.fitness for i in orig_indivs]}).set_index('WT')\n",
    "\n",
    "    full_df = pd.concat([last_stats_by_wt, orig_df], axis='columns')\n",
    "\n",
    "    full_df['Rel Fitness'] = full_df['Fitness'] / full_df['Orig Fitness']\n",
    "\n",
    "    return full_df"
   ]
  },
  {
   "cell_type": "code",
   "execution_count": null,
   "metadata": {},
   "outputs": [],
   "source": [
    "sc_rel_data = compute_rel_fitness_at(sc_stats, sc_orig_indivs, gen)"
   ]
  },
  {
   "cell_type": "code",
   "execution_count": null,
   "metadata": {},
   "outputs": [],
   "source": [
    "sc_rel_data"
   ]
  },
  {
   "cell_type": "code",
   "execution_count": null,
   "metadata": {},
   "outputs": [],
   "source": [
    "control_rel_data = compute_rel_fitness_at(control_stats, control_orig_indivs, gen)"
   ]
  },
  {
   "cell_type": "code",
   "execution_count": null,
   "metadata": {},
   "outputs": [],
   "source": [
    "stats.ttest_ind(sc_rel_data['Rel Fitness'], control_rel_data['Rel Fitness'])"
   ]
  },
  {
   "cell_type": "code",
   "execution_count": null,
   "metadata": {},
   "outputs": [],
   "source": [
    "control_giga_mean = control_stats.groupby('Gen').mean()"
   ]
  },
  {
   "cell_type": "code",
   "execution_count": null,
   "metadata": {},
   "outputs": [],
   "source": [
    "def plot_rel_fitness_agrege(sc_stats, sc_orig_indivs, control_stats, control_orig_indivs, exp_path):\n",
    "            \n",
    "    fig, (ax1, ax2) = plt.subplots(1, 2, gridspec_kw={'width_ratios': [5, 1]},\n",
    "                                   figsize=(9, 4), dpi=dpi)\n",
    "    \n",
    "    # Left figure: over time\n",
    "    ax1.set_yscale('log')\n",
    "    ax1.set_xscale('log')\n",
    "    #plt.ylim(1e-2, 1e-1)\n",
    "    ax1.grid(linestyle=':', which='both')\n",
    "    ax1.set_xlabel('Generation', fontsize=15)\n",
    "    ax1.set_ylabel('Relative fitness', fontsize=15)\n",
    "    ax1.tick_params(axis='both', which='major', labelsize=12)\n",
    "    \n",
    "    sc_last_fitness = []\n",
    "    for i_wt in sc_stats['WT'].unique():\n",
    "        wt_rep = sc_stats[(sc_stats['WT'] == i_wt) & (sc_stats['Gen'] > 0)].copy()\n",
    "        wt_rep['Rel Fitness'] = wt_rep['Fitness'] / sc_orig_indivs[i_wt].fitness\n",
    "        mean_data = wt_rep.groupby(['Gen']).mean()\n",
    "        sc_last_fitness.append(mean_data.iloc[-1]['Rel Fitness'])\n",
    "        if i_wt == 0:\n",
    "            label = \"Supercoiling runs\"\n",
    "        else:\n",
    "            label = None\n",
    "        ax1.plot(mean_data['Rel Fitness'], label=label, lw=2, color=sc_color)\n",
    "        \n",
    "\n",
    "    control_last_fitness = []\n",
    "    for i_wt in control_stats['WT'].unique():\n",
    "        wt_rep = control_stats[(control_stats['WT'] == i_wt) & (control_stats['Gen'] > 0)].copy()\n",
    "        wt_rep['Rel Fitness'] = wt_rep['Fitness'] / control_orig_indivs[i_wt].fitness\n",
    "        mean_data = wt_rep.groupby(['Gen']).mean()\n",
    "        control_last_fitness.append(mean_data.iloc[-1]['Rel Fitness'])\n",
    "        if i_wt == 0:\n",
    "            label = \"Control runs\"\n",
    "        else:\n",
    "            label = None\n",
    "        ax1.plot(mean_data['Rel Fitness'], label=label, lw=2, color=control_color)\n",
    "\n",
    "    ax1.legend(fontsize=12)\n",
    "    \n",
    "    # Right figure: last time point\n",
    "    # Replicates\n",
    "    \n",
    "    ax2.plot(np.zeros(5), sc_last_fitness,\n",
    "             linestyle=' ', marker='o', color=sc_color)\n",
    "    ax2.plot(np.ones(5), control_last_fitness,\n",
    "             linestyle=' ', marker='o', color=control_color)\n",
    "    \n",
    "    #ax2.set_yscale('log')\n",
    "    ax2.yaxis.tick_right()\n",
    "    ax2.yaxis.set_label_position(\"right\")\n",
    "    #ax2.set_ylim(-0.05, 1.55)\n",
    "    ax2.set_ylabel('Final relative fitness', fontsize=15)\n",
    "    ax2.set_xlim(-0.5, 1.5)\n",
    "    ax2.set_xticks(ticks=[0, 1])\n",
    "    ax2.set_xticklabels(labels=['SC', 'Control'])\n",
    "    ax2.tick_params(axis='both', which='major', labelsize=12)\n",
    "    ax2.grid(linestyle=':', axis='y', which='both')\n",
    "\n",
    "    # Save and show\n",
    "    plt.tight_layout()\n",
    "    \n",
    "    plt.savefig(exp_path.joinpath('rel_fitness_sc_control.pdf'), dpi=dpi, bbox_inches='tight')\n",
    "    \n",
    "    plt.show()"
   ]
  },
  {
   "cell_type": "code",
   "execution_count": null,
   "metadata": {},
   "outputs": [],
   "source": [
    "#plot_rel_fitness_agrege(sc_stats, sc_orig_indivs, control_stats, control_orig_indivs, sc_path)"
   ]
  },
  {
   "cell_type": "markdown",
   "metadata": {},
   "source": [
    "# Plot fitness landscapes"
   ]
  },
  {
   "cell_type": "code",
   "execution_count": null,
   "metadata": {},
   "outputs": [],
   "source": [
    "sigma_basal = sc_params['sigma_basal']\n",
    "\n",
    "nb_sigmas = 1000\n",
    "sigma_min = sigma_basal - 0.015\n",
    "sigma_max = sigma_basal + 0.015\n",
    "\n",
    "sigmas = np.linspace(sigma_min, sigma_max, nb_sigmas)"
   ]
  },
  {
   "cell_type": "code",
   "execution_count": null,
   "metadata": {},
   "outputs": [],
   "source": [
    "def compute_fitness_landscape(base_indiv, params, sigmas):\n",
    "    \n",
    "    fitnesses = np.zeros(nb_sigmas)\n",
    "    \n",
    "    calc_indiv = base_indiv.clone()\n",
    "    calc_indiv.inter_matrix = calc_indiv.compute_inter_matrix()\n",
    "    for i_sigma, sigma in enumerate(sigmas):\n",
    "        calc_indiv.sigma_basal = sigma\n",
    "\n",
    "        calc_indiv.expr_levels = (calc_indiv.run_system(params['sigma_A']),\n",
    "                                  calc_indiv.run_system(params['sigma_B']))\n",
    "        \n",
    "        fitnesses[i_sigma] = calc_indiv.compute_fitness()\n",
    "\n",
    "    return fitnesses"
   ]
  },
  {
   "cell_type": "code",
   "execution_count": null,
   "metadata": {},
   "outputs": [],
   "source": [
    "# See how gene activity levels depend on environmental supercoiling\n",
    "def plot_sigma_fitness_landscape(all_fitnesses, base_indivs, indiv_type, plot_name=None):\n",
    "\n",
    "    fig, ax = plt.subplots(figsize=(7, 4), dpi=dpi)\n",
    "    \n",
    "    plt.xlabel('Basal supercoiling $\\sigma_{basal}$')\n",
    "    plt.ylabel('Fitness')\n",
    "    #plt.ylim(-0.05, 1.10)\n",
    "    plt.yscale('log')\n",
    "    plt.xlim(sigmas[0], sigmas[-1])\n",
    "    plt.ylim(1e-45, 1e1)\n",
    "    plt.grid(linestyle=':')\n",
    "    \n",
    "    all_colors = met_brewer.met_brew(name='Hokusai3', n=6, brew_type='continuous')\n",
    "    #colors = [all_colors[5], all_colors[4], all_colors[3], all_colors[2], all_colors[1]]\n",
    "    colors = [all_colors[4], all_colors[3], all_colors[2], all_colors[1], all_colors[0]]\n",
    "    \n",
    "    for i_indiv, indiv in enumerate(base_indivs):\n",
    "        # Plot fitness\n",
    "        plt.plot(sigmas, all_fitnesses[i_indiv], color=colors[i_indiv], linewidth=2,\n",
    "                 label=f'{indiv_type} {i_indiv}')\n",
    "\n",
    "        # Add the original SC\n",
    "        if indiv_type == 'Shock':\n",
    "            plt.plot(indiv.sigma_basal, indiv.fitness, color=colors[i_indiv],\n",
    "                     marker='o', markersize=5, markeredgecolor='black', markeredgewidth=1)\n",
    "        else:\n",
    "            plt.plot(indiv.sigma_basal, indiv.fitness, color=colors[i_indiv],\n",
    "                     marker='*', markersize=8, markeredgecolor='black', markeredgewidth=1)\n",
    "    \n",
    "    plt.legend(loc='upper left')\n",
    "    \n",
    "    # Wrap up            \n",
    "    if plot_name:\n",
    "        plt.savefig(plot_name, dpi=dpi, bbox_inches='tight')\n",
    "        \n",
    "    plt.show()\n",
    "    plt.close()"
   ]
  },
  {
   "cell_type": "markdown",
   "metadata": {},
   "source": [
    "## Initial fitness landscapes of the WT individuals"
   ]
  },
  {
   "cell_type": "code",
   "execution_count": null,
   "metadata": {},
   "outputs": [],
   "source": [
    "sc_fitnesses = [compute_fitness_landscape(indiv, sc_params, sigmas) for indiv in sc_orig_indivs]"
   ]
  },
  {
   "cell_type": "code",
   "execution_count": null,
   "metadata": {
    "scrolled": true
   },
   "outputs": [],
   "source": [
    "plot_sigma_fitness_landscape(sc_fitnesses, base_indivs=sc_orig_indivs, indiv_type='WT',\n",
    "                             plot_name=sc_path.joinpath('fitness_landscapes_wt.pdf'))"
   ]
  },
  {
   "cell_type": "code",
   "execution_count": null,
   "metadata": {},
   "outputs": [],
   "source": [
    "control_fitnesses = [compute_fitness_landscape(indiv, control_params, sigmas) for indiv in control_orig_indivs]"
   ]
  },
  {
   "cell_type": "code",
   "execution_count": null,
   "metadata": {},
   "outputs": [],
   "source": [
    "plot_sigma_fitness_landscape(control_fitnesses, base_indivs=control_orig_indivs, indiv_type='WT',\n",
    "                             plot_name=control_path.joinpath('fitness_landscapes_wt.pdf'))"
   ]
  },
  {
   "cell_type": "markdown",
   "metadata": {},
   "source": [
    "## Fitness landscapes of the shuffled WT individuals"
   ]
  },
  {
   "cell_type": "code",
   "execution_count": null,
   "metadata": {},
   "outputs": [],
   "source": [
    "def plot_shuffled_fitness_landscape(shuffled_indivs, params, exp_path):\n",
    "    for i_wt in range(len(shuffled_indivs)):\n",
    "        \n",
    "        if i_wt != 1:\n",
    "            continue\n",
    "        \n",
    "        fitnesses = [compute_fitness_landscape(indiv, sc_params, sigmas) for indiv in shuffled_indivs[i_wt]]\n",
    "        plot_name = exp_path.joinpath(f'fitness_landscapes_shuffled_wt_{i_wt:02}.pdf')\n",
    "        plot_sigma_fitness_landscape(fitnesses, shuffled_indivs[i_wt], indiv_type=\"Shock\",\n",
    "                                     plot_name=plot_name)"
   ]
  },
  {
   "cell_type": "code",
   "execution_count": null,
   "metadata": {},
   "outputs": [],
   "source": [
    "plot_shuffled_fitness_landscape(sc_shuffled_indivs, sc_params, sc_path)"
   ]
  },
  {
   "cell_type": "code",
   "execution_count": null,
   "metadata": {},
   "outputs": [],
   "source": [
    "plot_shuffled_fitness_landscape(control_shuffled_indivs, control_params, control_path)"
   ]
  },
  {
   "cell_type": "markdown",
   "metadata": {},
   "source": [
    "## Fitness landscapes of the evolved individuals"
   ]
  },
  {
   "cell_type": "code",
   "execution_count": null,
   "metadata": {},
   "outputs": [],
   "source": [
    "def plot_evolved_fitness_landscapes(exp_path):\n",
    "    \n",
    "    wt_dirs = sorted([d for d in exp_path.iterdir() if (d.is_dir() and d.name.startswith('wt'))])\n",
    "\n",
    "    for i_wt, wt_dir in enumerate(wt_dirs):\n",
    "\n",
    "        if i_wt != 1:\n",
    "            continue\n",
    "\n",
    "        shuffle_dirs = sorted([d for d in wt_dir.iterdir() if d.is_dir()])\n",
    "        \n",
    "        for i_shuffle, shuffle_dir in enumerate(shuffle_dirs):\n",
    "            \n",
    "            if i_shuffle != 0:\n",
    "                continue\n",
    "            \n",
    "            rep_dirs = sorted([d for d in shuffle_dir.iterdir() if d.is_dir()])\n",
    "                        \n",
    "            best_indivs = [evotsc_lib.get_best_indiv(rep_dir, gen) for rep_dir in rep_dirs]\n",
    "            fitnesses = [compute_fitness_landscape(indiv, sc_params, sigmas) for indiv in best_indivs]\n",
    "            \n",
    "            plot_name = exp_path.joinpath(f'fitness_landscapes_evolved_wt_{i_wt:02}_shuffle_{i_shuffle:02}.pdf')\n",
    "            plot_sigma_fitness_landscape(fitnesses, best_indivs, indiv_type=\"Rep\",\n",
    "                                         plot_name=plot_name)"
   ]
  },
  {
   "cell_type": "code",
   "execution_count": null,
   "metadata": {},
   "outputs": [],
   "source": [
    "plot_evolved_fitness_landscapes(sc_path)"
   ]
  },
  {
   "cell_type": "code",
   "execution_count": null,
   "metadata": {},
   "outputs": [],
   "source": [
    "plot_evolved_fitness_landscapes(control_path)"
   ]
  },
  {
   "cell_type": "code",
   "execution_count": null,
   "metadata": {},
   "outputs": [],
   "source": [
    "#plot_evolved_fitness_landscapes(only_sc_path)"
   ]
  },
  {
   "cell_type": "code",
   "execution_count": null,
   "metadata": {},
   "outputs": [],
   "source": [
    "def plot_sigma_fitness_landscape_sc_only(sigmas, all_fitnesses, shuffled_indivs, final_stats, plot_name=None):\n",
    "\n",
    "    fig, ax = plt.subplots(figsize=(7, 4), dpi=dpi)\n",
    "    \n",
    "    plt.xlabel('Background supercoiling $\\sigma_{basal}$')\n",
    "    plt.ylabel('Fitness')\n",
    "    #plt.ylim(-0.05, 1.10)\n",
    "    plt.yscale('log')\n",
    "    plt.xlim(sigmas[0], sigmas[-1])\n",
    "    #plt.ylim(1e-45, 1e1)\n",
    "    plt.grid(linestyle=':')\n",
    "    \n",
    "    all_colors = met_brewer.met_brew(name='Hokusai3', n=6, brew_type='continuous')\n",
    "    #colors = [all_colors[5], all_colors[4], all_colors[3], all_colors[2], all_colors[1]]\n",
    "    colors = [all_colors[4], all_colors[3], all_colors[2], all_colors[1], all_colors[0]]\n",
    "    #color = all_colors[4]\n",
    "    \n",
    "    for i_shuffle, indiv in enumerate(shuffled_indivs):\n",
    "        plt.plot(sigmas, all_fitnesses[i_shuffle], color=colors[i_shuffle], linewidth=2,\n",
    "                 label=f'Shock {i_shuffle}')\n",
    "\n",
    "        # Add the original SC\n",
    "        plt.plot(indiv.sigma_basal, indiv.fitness, color=colors[i_shuffle],\n",
    "                 marker='o', markersize=5, markeredgecolor='black', markeredgewidth=1, zorder=10)\n",
    "\n",
    "        # Add the evolved SC\n",
    "        for i_rep in final_stats['Replicate'].unique():\n",
    "            rep_stats = final_stats[(final_stats['Shuffle'] == i_shuffle) &\n",
    "                                    (final_stats['Replicate'] == i_rep)]\n",
    "            \n",
    "            plt.plot(rep_stats['Basal SC'], rep_stats['Fitness'], color=colors[i_shuffle],\n",
    "                     marker='*', markersize=8, markeredgecolor='black', markeredgewidth=1,\n",
    "                     zorder=10)\n",
    "\n",
    "    plt.legend(loc='upper left')\n",
    "    \n",
    "    # Wrap up            \n",
    "    if plot_name:\n",
    "        plt.savefig(plot_name, dpi=dpi, bbox_inches='tight')\n",
    "        \n",
    "    plt.show()\n",
    "    plt.close()"
   ]
  },
  {
   "cell_type": "code",
   "execution_count": null,
   "metadata": {},
   "outputs": [],
   "source": [
    "def plot_fitness_landscape_with_evolved():\n",
    "    \n",
    "    # Locally zoom\n",
    "    sigma_min = -0.071\n",
    "    sigma_max = -0.055\n",
    "\n",
    "    sigmas = np.linspace(sigma_min, sigma_max, nb_sigmas)   \n",
    "    \n",
    "    for i_wt, shuffled_indivs_wt in enumerate(sc_shuffled_indivs):\n",
    "\n",
    "        if i_wt != 1:\n",
    "            continue\n",
    "\n",
    "        all_fitnesses = [compute_fitness_landscape(indiv, sc_params, sigmas) for indiv in shuffled_indivs_wt]\n",
    "        plot_name = sc_path.joinpath(f'fitness_landscapes_wt_{i_wt:02}_with_evolved.pdf')\n",
    "        plot_sigma_fitness_landscape_sc_only(sigmas,\n",
    "                                             all_fitnesses,\n",
    "                                             shuffled_indivs_wt,\n",
    "                                             only_sc_stats[(only_sc_stats['Gen'] == gen) &\n",
    "                                                           (only_sc_stats['WT'] == i_wt)],\n",
    "                                             plot_name=plot_name)"
   ]
  },
  {
   "cell_type": "code",
   "execution_count": null,
   "metadata": {},
   "outputs": [],
   "source": [
    "plot_fitness_landscape_with_evolved()"
   ]
  }
 ],
 "metadata": {
  "kernelspec": {
   "display_name": "Python 3 (ipykernel)",
   "language": "python",
   "name": "python3"
  },
  "language_info": {
   "codemirror_mode": {
    "name": "ipython",
    "version": 3
   },
   "file_extension": ".py",
   "mimetype": "text/x-python",
   "name": "python",
   "nbconvert_exporter": "python",
   "pygments_lexer": "ipython3",
   "version": "3.9.7"
  }
 },
 "nbformat": 4,
 "nbformat_minor": 4
}
