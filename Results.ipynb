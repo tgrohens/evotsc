{
 "cells": [
  {
   "cell_type": "code",
   "execution_count": null,
   "metadata": {},
   "outputs": [],
   "source": [
    "import pathlib\n",
    "import numpy as np\n",
    "import pandas as pd\n",
    "import matplotlib.pyplot as plt\n",
    "import matplotlib as mpl"
   ]
  },
  {
   "cell_type": "code",
   "execution_count": null,
   "metadata": {},
   "outputs": [],
   "source": [
    "from scipy import stats"
   ]
  },
  {
   "cell_type": "code",
   "execution_count": null,
   "metadata": {},
   "outputs": [],
   "source": [
    "import pickle"
   ]
  },
  {
   "cell_type": "code",
   "execution_count": null,
   "metadata": {},
   "outputs": [],
   "source": [
    "import autoreload\n",
    "import evotsc_plot\n",
    "autoreload.reload(evotsc_plot)"
   ]
  },
  {
   "cell_type": "code",
   "execution_count": null,
   "metadata": {},
   "outputs": [],
   "source": [
    "nb_genes_type = 20"
   ]
  },
  {
   "cell_type": "code",
   "execution_count": null,
   "metadata": {},
   "outputs": [],
   "source": [
    "label_fontsize=20\n",
    "tick_fontsize=15\n",
    "legend_fontsize=15\n",
    "dpi=300"
   ]
  },
  {
   "cell_type": "code",
   "execution_count": null,
   "metadata": {},
   "outputs": [],
   "source": [
    "exp_path = pathlib.Path('/Users/theotime/Desktop/evotsc/change_inter_coef/inter_0.01')"
   ]
  },
  {
   "cell_type": "code",
   "execution_count": null,
   "metadata": {},
   "outputs": [],
   "source": [
    "def get_params(exp_path):\n",
    "    rep_dirs = sorted([d for d in exp_path.iterdir() if (d.is_dir() and d.name.startswith(\"rep\"))])\n",
    "    \n",
    "    with open(rep_dirs[0].joinpath('params.txt'), 'r') as params_file:\n",
    "        param_lines = params_file.readlines()\n",
    "        \n",
    "    params = {}\n",
    "    for line in param_lines:\n",
    "        param_name = line.split(':')[0]\n",
    "        if param_name == 'commit':\n",
    "            param_val = line.split(':')[1].strip()\n",
    "        else:\n",
    "            param_val = float(line.split(':')[1])\n",
    "        \n",
    "        params[param_name] = param_val\n",
    "        \n",
    "    return params"
   ]
  },
  {
   "cell_type": "code",
   "execution_count": null,
   "metadata": {},
   "outputs": [],
   "source": [
    "exp_params = get_params(exp_path)"
   ]
  },
  {
   "cell_type": "code",
   "execution_count": null,
   "metadata": {},
   "outputs": [],
   "source": [
    "exp_params"
   ]
  },
  {
   "cell_type": "code",
   "execution_count": null,
   "metadata": {},
   "outputs": [],
   "source": [
    "def get_stats(exp_name):\n",
    "    \n",
    "    exp_name = pathlib.Path(exp_name)\n",
    "        \n",
    "    rep_dirs = sorted([d for d in exp_name.iterdir() if (d.is_dir() and d.name.startswith(\"rep\"))])\n",
    "    \n",
    "    res = pd.DataFrame()\n",
    "    \n",
    "    for i_rep, rep_dir in enumerate(rep_dirs):\n",
    "                \n",
    "        res_dir = pd.read_csv(rep_dir.joinpath('stats.csv'))\n",
    "        \n",
    "        res_dir.insert(0, 'Replicate', i_rep)\n",
    "        \n",
    "        res = pd.concat([res, res_dir])\n",
    "    \n",
    "    return res"
   ]
  },
  {
   "cell_type": "code",
   "execution_count": null,
   "metadata": {},
   "outputs": [],
   "source": [
    "def plot_gene_activity(base_path, plot_sc=False, plot_genome_size=False):\n",
    "    \n",
    "    base_path = pathlib.Path(base_path)\n",
    "    \n",
    "    rep_dirs = sorted([d for d in exp_path.iterdir() if (d.is_dir() and d.name.startswith(\"rep\"))])\n",
    "    \n",
    "    nb_rep = len(rep_dirs)\n",
    "    \n",
    "    for i_rep, rep_dir in enumerate(rep_dirs):\n",
    "        stats_path = rep_dir.joinpath('stats.csv')\n",
    "        if stats_path.stat().st_size > 0: # not an empty file\n",
    "\n",
    "            data = pd.read_csv(stats_path)\n",
    "            data = data[data['Gen'] > 0]\n",
    "\n",
    "            for env in [\"A\", \"B\"]:\n",
    "\n",
    "                fig, ax1 = plt.subplots(figsize=(9, 4), dpi=dpi)\n",
    "                ax1.set_ylim(-0.05, 1.05)\n",
    "                ax1.set_ylabel('Proportion of activated genes', fontsize=label_fontsize)\n",
    "                ax1.set_xlabel('Generation', fontsize=label_fontsize)\n",
    "                ax1.set_xscale('log')\n",
    "                ax1.grid()\n",
    "\n",
    "                ax1.plot(data['Gen'], data[f\"ABon_{env}\"] / (data[f\"ABon_{env}\"] + data[f\"ABoff_{env}\"]),\n",
    "                         color=\"tab:blue\",\n",
    "                         linewidth=2,\n",
    "                         label=\"AB genes on\")\n",
    "                ax1.plot(data['Gen'], data[f\"Aon_{env}\"] / (data[f\"Aon_{env}\"] + data[f\"Aoff_{env}\"]),\n",
    "                         color=\"tab:red\",\n",
    "                         linewidth=2,\n",
    "                         label=\"A genes on\")\n",
    "                ax1.plot(data['Gen'], data[f\"Bon_{env}\"] / (data[f\"Bon_{env}\"] + data[f\"Boff_{env}\"]),\n",
    "                         color=\"tab:green\",\n",
    "                         linewidth=2,\n",
    "                         label=\"B genes on\")\n",
    "                ax1.tick_params(axis='both', which='major', labelsize=tick_fontsize)\n",
    "\n",
    "\n",
    "                ## 2nd axis: fitness\n",
    "                ax2 = ax1.twinx()\n",
    "                ax2.set_yscale('log')\n",
    "                ax2.set_ylim(1e-25, 1e0)\n",
    "                ax2.set_ylabel('Fitness', fontsize=label_fontsize, color='tab:cyan')\n",
    "                ax2.plot(data['Gen'],\n",
    "                         data[\"Fitness\"],\n",
    "                         color=\"tab:cyan\",\n",
    "                         linewidth=2)\n",
    "                ax2.tick_params(axis='both', which='major', labelsize=tick_fontsize)\n",
    "\n",
    "                \n",
    "                ## 3rd axis: supercoiling\n",
    "                if plot_genome_size:\n",
    "                    ax3 = ax1.twinx()\n",
    "\n",
    "                    ax3.spines['right'].set_position(('outward', 80))\n",
    "                    ax3.set_ylim(0.7e4, 6.3e4)\n",
    "                    ax3.set_ylabel('Genome Size', fontsize=label_fontsize, color='tab:olive')\n",
    "                    ax3.plot(data['Gen'],\n",
    "                             data[\"Genome size\"],\n",
    "                             color=\"tab:olive\",\n",
    "                             linewidth=2)\n",
    "                    ax3.tick_params(axis='both', which='major', labelsize=tick_fontsize)\n",
    "                \n",
    "                #plt.title(f\"Environment {env}\")\n",
    "                fig.legend(bbox_to_anchor=(0,0),\n",
    "                           bbox_transform=ax1.transAxes,\n",
    "                           loc=\"lower left\",\n",
    "                           fontsize=legend_fontsize)            \n",
    "\n",
    "                rep_num = rep_dir.name[3:] # add a `_` between the `rep` and the rep number \n",
    "                plt.savefig(f'{base_path}/rep_{rep_num}_env_{env}', dpi=dpi, bbox_inches='tight')\n",
    "                \n",
    "                plt.close('all')\n"
   ]
  },
  {
   "cell_type": "code",
   "execution_count": null,
   "metadata": {},
   "outputs": [],
   "source": [
    "plot_gene_activity(exp_path)"
   ]
  },
  {
   "cell_type": "code",
   "execution_count": null,
   "metadata": {},
   "outputs": [],
   "source": [
    "full_stats = get_stats(exp_path)"
   ]
  },
  {
   "cell_type": "code",
   "execution_count": null,
   "metadata": {},
   "outputs": [],
   "source": [
    "def plot_mean_std(full_stats):\n",
    "    last_gen = np.min(full_stats.groupby('Replicate').max()['Gen'])\n",
    "    last_gen_stats = full_stats[full_stats['Gen'] == last_gen] / nb_genes_type\n",
    "    mean_stats = last_gen_stats.mean()\n",
    "    std_stats = last_gen_stats.std()\n",
    "    fig, ax = plt.subplots(figsize=(9, 4), dpi=dpi)\n",
    "\n",
    "    x = np.arange(3)  # 3 types of genes\n",
    "    width = 0.35  # the width of the bars\n",
    "\n",
    "    env_A_means = np.array([mean_stats[\"ABon_A\"], mean_stats[\"Aon_A\"], mean_stats[\"Bon_A\"]])\n",
    "    env_B_means = np.array([mean_stats[\"ABon_B\"], mean_stats[\"Aon_B\"], mean_stats[\"Bon_B\"]])\n",
    "\n",
    "    env_A_std = np.array([std_stats[\"ABon_A\"], std_stats[\"Aon_A\"], std_stats[\"Bon_A\"]])\n",
    "    env_B_std = np.array([std_stats[\"ABon_B\"], std_stats[\"Aon_B\"], std_stats[\"Bon_B\"]])\n",
    "\n",
    "\n",
    "    rects_A = ax.bar(x - width/2,\n",
    "                    env_A_means,\n",
    "                    width=width,\n",
    "                    label='Environment A',\n",
    "                    #yerr=[np.zeros_like(env_A_std), env_A_std],\n",
    "                    yerr=env_A_std,\n",
    "                    capsize=5)\n",
    "\n",
    "    rects_B = ax.bar(x + width/2,\n",
    "                     env_B_means,\n",
    "                     width=width,\n",
    "                     label='Environment B',\n",
    "                     yerr=env_B_std,\n",
    "                     capsize=5)\n",
    "\n",
    "    ax.set_ylabel('Activated genes', fontsize=label_fontsize)\n",
    "    ax.set_xticks(x)\n",
    "    ax.set_xticklabels([\"AB genes on\", \"A genes on\", \"B genes on\"])\n",
    "\n",
    "    plt.grid(linestyle=':', axis='y')\n",
    "\n",
    "    plt.tick_params(axis='both', which='major', labelsize=tick_fontsize)\n",
    "\n",
    "    plt.legend(fontsize=legend_fontsize, loc='upper center')\n",
    "\n",
    "    plt.savefig(f'{exp_path}/mean_activation', bbox_inches='tight')\n"
   ]
  },
  {
   "cell_type": "code",
   "execution_count": null,
   "metadata": {},
   "outputs": [],
   "source": [
    "plot_mean_std(full_stats)"
   ]
  },
  {
   "cell_type": "code",
   "execution_count": null,
   "metadata": {},
   "outputs": [],
   "source": [
    "def stats_tests(full_stats):\n",
    "    last_gen = np.min(full_stats.groupby('Replicate').max()['Gen'])\n",
    "    last_gen_stats = full_stats[full_stats[\"Gen\"] == last_gen] / nb_genes_type\n",
    "    stats_AB = stats.ttest_rel(last_gen_stats[\"ABon_A\"], last_gen_stats[\"ABon_B\"])\n",
    "    stats_Aon = stats.ttest_rel(last_gen_stats[\"Aon_A\"], last_gen_stats[\"Aon_B\"])\n",
    "    stats_Bon = stats.ttest_rel(last_gen_stats[\"Bon_A\"], last_gen_stats[\"Bon_B\"])\n",
    "    print(f'AB genes: {stats_AB}')\n",
    "    print(f'A genes on: {stats_Aon}')\n",
    "    print(f'B genes on: {stats_Bon}')"
   ]
  },
  {
   "cell_type": "code",
   "execution_count": null,
   "metadata": {},
   "outputs": [],
   "source": [
    "stats_tests(full_stats)"
   ]
  },
  {
   "cell_type": "code",
   "execution_count": null,
   "metadata": {},
   "outputs": [],
   "source": [
    "def plot_expr_AB(indiv, sigma_A, sigma_B, plot_title, plot_name):\n",
    "\n",
    "    (temporal_expr_A, temporal_expr_B), fitness = indiv.evaluate(sigma_A, sigma_B)\n",
    "\n",
    "    colors = ['tab:blue', 'tab:red', 'tab:green'] # AB: blue, A: red, B: green\n",
    "\n",
    "    plt.figure(figsize=(9, 8), dpi=dpi)\n",
    "\n",
    "    ## First subplot: environment A\n",
    "    plt.subplot(2, 1, 1)\n",
    "    plt.ylim(-0.05, 1.05)\n",
    "\n",
    "    for gene in range(indiv.nb_genes):\n",
    "        linestyle = 'solid' if indiv.genes[gene].orientation == 0 else 'dashed'\n",
    "        plt.plot(temporal_expr_A[indiv.genes[gene].id, :],\n",
    "                 linestyle=linestyle,\n",
    "                 linewidth=2,\n",
    "                 color=colors[indiv.genes[gene].gene_type],\n",
    "                 #alpha=0.25,\n",
    "                 label=f'Gene {indiv.genes[gene].id}')\n",
    "\n",
    "    plt.grid(linestyle=':')\n",
    "    #plt.xlabel('Time', fontsize='large')\n",
    "    plt.ylabel('Expression level', fontsize=label_fontsize)\n",
    "\n",
    "    plt.tick_params(axis='both', which='major', labelsize=tick_fontsize)\n",
    "\n",
    "    #plt.legend(loc='center right')\n",
    "    #plt.title('Environment A')\n",
    "\n",
    "    ## Second subplot: environment B\n",
    "    plt.subplot(2, 1, 2)\n",
    "    plt.ylim(-0.05, 1.05)\n",
    "\n",
    "    for gene in range(indiv.nb_genes):\n",
    "        linestyle = 'solid' if indiv.genes[gene].orientation == 0 else 'dashed'\n",
    "        plt.plot(temporal_expr_B[indiv.genes[gene].id, :],\n",
    "                 linestyle=linestyle,\n",
    "                 linewidth=2,\n",
    "                 color=colors[indiv.genes[gene].gene_type],\n",
    "                 #alpha=0.25,\n",
    "                 label=f'Gene {indiv.genes[gene].id}')\n",
    "\n",
    "    plt.grid(linestyle=':')\n",
    "    plt.xlabel('Time', fontsize=label_fontsize)\n",
    "    plt.ylabel('Expression level', fontsize=label_fontsize)\n",
    "\n",
    "    plt.tick_params(axis='both', which='major', labelsize=tick_fontsize)\n",
    "\n",
    "    #plt.legend(loc='center right')\n",
    "    #plt.title('Environment B')\n",
    "\n",
    "    ## Final stuff\n",
    "\n",
    "    plt.tight_layout()\n",
    "    plt.savefig(plot_name, dpi=dpi, bbox_inches='tight')\n",
    "    plt.close()\n"
   ]
  },
  {
   "cell_type": "code",
   "execution_count": null,
   "metadata": {},
   "outputs": [],
   "source": [
    "def plot_fitness(full_stats):\n",
    "    nb_rep = full_stats[\"Replicate\"].nunique()\n",
    "    \n",
    "    colors = mpl.cm.get_cmap('viridis', nb_rep)(range(nb_rep))\n",
    "    \n",
    "    plt.figure(figsize=(9,4), dpi=dpi)\n",
    "    \n",
    "    plt.xscale('log')\n",
    "    plt.yscale('log')\n",
    "    plt.grid(linestyle=':')\n",
    "    \n",
    "    plt.xlabel('Generation', fontsize=label_fontsize)\n",
    "    plt.ylabel('Fitness', fontsize=label_fontsize)\n",
    "    \n",
    "    plt.tick_params(axis='both', which='major', labelsize=tick_fontsize)\n",
    "    \n",
    "    for rep in range(nb_rep):\n",
    "        stats_rep = full_stats[full_stats[\"Replicate\"] == rep]\n",
    "        stats_rep = stats_rep[stats_rep[\"Gen\"] > 0]\n",
    "        plt.plot(stats_rep['Gen'],\n",
    "                 stats_rep[\"Fitness\"],\n",
    "                 linewidth=2,\n",
    "                 color=colors[rep])\n",
    "        \n",
    "    plt.savefig(f'{exp_path}/all_fitness', dpi=dpi, bbox_inches='tight')"
   ]
  },
  {
   "cell_type": "code",
   "execution_count": null,
   "metadata": {},
   "outputs": [],
   "source": [
    "plot_fitness(full_stats)"
   ]
  },
  {
   "cell_type": "code",
   "execution_count": null,
   "metadata": {},
   "outputs": [],
   "source": [
    "def plot_sigma(full_stats):\n",
    "    \n",
    "    if 'basal_sc' not in full_stats.columns:\n",
    "        return\n",
    "    \n",
    "    nb_rep = full_stats[\"Replicate\"].nunique()\n",
    "    \n",
    "    colors = mpl.cm.get_cmap('viridis', nb_rep)(range(nb_rep))\n",
    "    \n",
    "    fig, ax1 = plt.subplots(figsize=(9,4), dpi=dpi)\n",
    "    \n",
    "    #plt.xscale('log')\n",
    "    #plt.yscale('log')\n",
    "    plt.grid(linestyle=':')\n",
    "    \n",
    "    ax1.set_xlabel('Generation', fontsize=label_fontsize)\n",
    "    ax1.set_ylabel('Basal SC', fontsize=label_fontsize)\n",
    "    \n",
    "    plt.tick_params(axis='both', which='major', labelsize=tick_fontsize)\n",
    "        \n",
    "    for rep in range(nb_rep):\n",
    "        stats_rep = full_stats[full_stats[\"Replicate\"] == rep]\n",
    "        stats_rep = stats_rep[stats_rep[\"Gen\"] > 0]\n",
    "        ax1.plot(stats_rep[\"Gen\"],\n",
    "                 stats_rep[\"basal_sc\"],\n",
    "                 linewidth=2,\n",
    "                 color=colors[rep])\n",
    "        \n",
    "    plt.savefig(f'{exp_path}/all_basal_sc', dpi=dpi, bbox_inches='tight')"
   ]
  },
  {
   "cell_type": "code",
   "execution_count": null,
   "metadata": {},
   "outputs": [],
   "source": [
    "plot_sigma(full_stats)"
   ]
  },
  {
   "cell_type": "code",
   "execution_count": null,
   "metadata": {},
   "outputs": [],
   "source": [
    "def plot_genome_size(full_stats):\n",
    "    \n",
    "    if 'Genome size' not in full_stats.columns:\n",
    "        return\n",
    "    \n",
    "    nb_rep = full_stats[\"Replicate\"].nunique()\n",
    "    \n",
    "    colors = mpl.cm.get_cmap('viridis', nb_rep)(range(nb_rep))\n",
    "    \n",
    "    fig, ax1 = plt.subplots(figsize=(9,4), dpi=dpi)\n",
    "    \n",
    "    #plt.xscale('log')\n",
    "    #plt.yscale('log')\n",
    "    plt.grid(linestyle=':')\n",
    "    \n",
    "    ax1.set_xlabel('Generation', fontsize=label_fontsize)\n",
    "    ax1.set_ylabel('Genome Size', fontsize=label_fontsize)\n",
    "    \n",
    "    ax1.set_ylim(0, 63000)\n",
    "    \n",
    "    plt.tick_params(axis='both', which='major', labelsize=tick_fontsize)\n",
    "        \n",
    "    for rep in range(nb_rep):\n",
    "        stats_rep = full_stats[full_stats[\"Replicate\"] == rep]\n",
    "        stats_rep = stats_rep[stats_rep[\"Gen\"] > 0]\n",
    "        ax1.plot(stats_rep[\"Gen\"],\n",
    "                 stats_rep[\"Genome size\"],\n",
    "                 linewidth=2,\n",
    "                 color=colors[rep])\n",
    "        \n",
    "    plt.savefig(f'{exp_path}/all_genome_size.png', dpi=dpi, bbox_inches='tight')"
   ]
  },
  {
   "cell_type": "code",
   "execution_count": null,
   "metadata": {},
   "outputs": [],
   "source": [
    "plot_genome_size(full_stats)"
   ]
  },
  {
   "cell_type": "code",
   "execution_count": null,
   "metadata": {},
   "outputs": [],
   "source": [
    "def plot_best(gen):\n",
    "    rep_dirs = sorted([d for d in exp_path.iterdir() if (d.is_dir() and d.name.startswith(\"rep\"))])\n",
    "\n",
    "    for rep, rep_dir in enumerate(rep_dirs):\n",
    "        with open(rep_dir.joinpath(f'best_gen_{gen:06}.evotsc'), 'rb') as save_file:\n",
    "            best_rep = pickle.load(save_file)\n",
    "            plot_expr_AB(best_rep, sigma_A=exp_params['sigma_A'], sigma_B=exp_params['sigma_B'],\n",
    "                         plot_title='', plot_name=f'{exp_path}/best_rep{rep}.png')\n",
    "            #evotsc_plot.plot_genome(best_rep, name=f'{exp_path}/genome_rep{rep}.png')"
   ]
  },
  {
   "cell_type": "code",
   "execution_count": null,
   "metadata": {},
   "outputs": [],
   "source": [
    "plot_best(20_000)"
   ]
  }
 ],
 "metadata": {
  "kernelspec": {
   "display_name": "Python 3",
   "language": "python",
   "name": "python3"
  },
  "language_info": {
   "codemirror_mode": {
    "name": "ipython",
    "version": 3
   },
   "file_extension": ".py",
   "mimetype": "text/x-python",
   "name": "python",
   "nbconvert_exporter": "python",
   "pygments_lexer": "ipython3",
   "version": "3.7.9"
  }
 },
 "nbformat": 4,
 "nbformat_minor": 4
}
