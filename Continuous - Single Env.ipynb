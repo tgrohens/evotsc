{
 "cells": [
  {
   "cell_type": "code",
   "execution_count": null,
   "metadata": {},
   "outputs": [],
   "source": [
    "import sys\n",
    "import pathlib\n",
    "import numpy as np\n",
    "import pandas as pd\n",
    "import matplotlib.pyplot as plt\n",
    "import matplotlib as mpl\n",
    "import pickle\n",
    "import itertools\n",
    "import networkx as nx"
   ]
  },
  {
   "cell_type": "code",
   "execution_count": null,
   "metadata": {},
   "outputs": [],
   "source": [
    "from numba import jit"
   ]
  },
  {
   "cell_type": "code",
   "execution_count": null,
   "metadata": {},
   "outputs": [],
   "source": [
    "import importlib\n",
    "import evotsc\n",
    "import evotsc_lib\n",
    "import evotsc_plot\n",
    "importlib.reload(evotsc)\n",
    "importlib.reload(evotsc_lib)\n",
    "importlib.reload(evotsc_plot)"
   ]
  },
  {
   "cell_type": "code",
   "execution_count": null,
   "metadata": {},
   "outputs": [],
   "source": [
    "label_fontsize=20\n",
    "tick_fontsize=15\n",
    "legend_fontsize=15\n",
    "dpi=300"
   ]
  },
  {
   "cell_type": "code",
   "execution_count": null,
   "metadata": {},
   "outputs": [],
   "source": [
    "control_path = pathlib.Path('/Users/theotime/Desktop/evotsc/phd/continuous-epistasis/wt-control/')\n",
    "sc_path = pathlib.Path('/Users/theotime/Desktop/evotsc/phd/continuous-epistasis/wt-with-sc/')\n",
    "\n",
    "gen = 1_000_000\n",
    "\n",
    "orient_name = ['leading', 'lagging'] # Name of each gene orientation\n",
    "rel_orients = ['conv', 'div', 'downstr', 'upstr'] # In alphabetical order"
   ]
  },
  {
   "cell_type": "code",
   "execution_count": null,
   "metadata": {},
   "outputs": [],
   "source": [
    "rng = np.random.default_rng(seed=123456)"
   ]
  },
  {
   "cell_type": "code",
   "execution_count": null,
   "metadata": {},
   "outputs": [],
   "source": [
    "control_rep_dirs = sorted([d for d in control_path.iterdir() if (d.is_dir() and d.name.startswith(\"rep\"))])\n",
    "sc_rep_dirs = sorted([d for d in sc_path.iterdir() if (d.is_dir() and d.name.startswith(\"rep\"))])\n",
    "\n",
    "control_params = evotsc_lib.read_params(control_rep_dirs[0])\n",
    "sc_params = evotsc_lib.read_params(sc_rep_dirs[0])"
   ]
  },
  {
   "cell_type": "code",
   "execution_count": null,
   "metadata": {},
   "outputs": [],
   "source": [
    "sc_params"
   ]
  },
  {
   "cell_type": "markdown",
   "metadata": {},
   "source": [
    "# Make random individuals (reused throughout)"
   ]
  },
  {
   "cell_type": "code",
   "execution_count": null,
   "metadata": {},
   "outputs": [],
   "source": [
    "def make_random_indivs(nb_indiv, params):\n",
    "    \n",
    "    mutation = evotsc.Mutation(inversion_poisson_lam=params['inversion_poisson_lam'])\n",
    "    \n",
    "    rand_indivs = []\n",
    "    \n",
    "    for rep in range(nb_indiv):\n",
    "        indiv = evotsc_lib.make_random_indiv(intergene=int(params['intergene']),\n",
    "                                             gene_length=int(params['gene_length']),\n",
    "                                             nb_genes=int(params['nb_genes']),\n",
    "                                             default_basal_expression=params['default_basal_expression'],\n",
    "                                             interaction_dist=params['interaction_dist'],\n",
    "                                             interaction_coef=params['interaction_coef'],\n",
    "                                             sigma_basal=params['sigma_basal'],\n",
    "                                             sigma_opt=params['sigma_opt'],\n",
    "                                             epsilon=params['epsilon'],\n",
    "                                             m=params['m'],\n",
    "                                             selection_coef=params['selection_coef'],\n",
    "                                             mutation=mutation,\n",
    "                                             rng=rng,\n",
    "                                             nb_mutations=100)\n",
    "        \n",
    "        indiv.inter_matrix = indiv.compute_inter_matrix()\n",
    "\n",
    "        rand_indivs.append(indiv)\n",
    "        \n",
    "    return rand_indivs"
   ]
  },
  {
   "cell_type": "code",
   "execution_count": null,
   "metadata": {},
   "outputs": [],
   "source": [
    "rand_indivs = make_random_indivs(nb_indiv=30, params=control_params)"
   ]
  },
  {
   "cell_type": "markdown",
   "metadata": {},
   "source": [
    "# Evolutionary stats"
   ]
  },
  {
   "cell_type": "code",
   "execution_count": null,
   "metadata": {},
   "outputs": [],
   "source": [
    "def get_stats(exp_name, params):\n",
    "    \n",
    "    exp_name = pathlib.Path(exp_name)\n",
    "        \n",
    "    rep_dirs = sorted([d for d in exp_name.iterdir() if (d.is_dir() and d.name.startswith(\"rep\"))])\n",
    "    \n",
    "    res = pd.DataFrame()\n",
    "    \n",
    "    cols = ['Gen', 'Fitness']\n",
    "    \n",
    "    if not(params['intergene_poisson_lam'] is None or params['intergene_poisson_lam'] == 0.0):\n",
    "        cols += ['Genome size']\n",
    "\n",
    "    if not(params['basal_sc_mutation_prob'] is None or params['basal_sc_mutation_prob'] == 0.0):\n",
    "        cols += ['Basal SC']\n",
    "    \n",
    "    for i_rep, rep_dir in enumerate(rep_dirs):\n",
    "        \n",
    "        res_dir = pd.read_csv(rep_dir.joinpath('stats.csv'), usecols=cols)\n",
    "\n",
    "        res_dir.insert(0, 'Replicate', i_rep)\n",
    "        \n",
    "        res = pd.concat([res, res_dir])\n",
    "    \n",
    "    res['Log Fitness'] = np.log(res['Fitness'])\n",
    "    \n",
    "    return res"
   ]
  },
  {
   "cell_type": "code",
   "execution_count": null,
   "metadata": {},
   "outputs": [],
   "source": [
    "control_stats = get_stats(control_path, control_params)"
   ]
  },
  {
   "cell_type": "code",
   "execution_count": null,
   "metadata": {},
   "outputs": [],
   "source": [
    "sc_stats = get_stats(sc_path, sc_params)"
   ]
  },
  {
   "cell_type": "markdown",
   "metadata": {},
   "source": [
    "## Plot fitness over evolutionary time"
   ]
  },
  {
   "cell_type": "code",
   "execution_count": null,
   "metadata": {},
   "outputs": [],
   "source": [
    "def plot_fitness(exp_stats, main_stats, exp_path):\n",
    "    \n",
    "    all_stats = [main_stats[main_stats[\"Gen\"] > 0][['Gen', 'Log Fitness', 'Fitness']].copy(),\n",
    "                 exp_stats[exp_stats[\"Gen\"] > 0][['Gen', 'Log Fitness', 'Fitness']].copy()]\n",
    "    \n",
    "    name = ['Control', 'SC mutations']\n",
    "    \n",
    "    \n",
    "    colors = mpl.cm.get_cmap('viridis', 2)(range(2)) # Main vs experiment\n",
    "    \n",
    "    plt.figure(figsize=(9, 4), dpi=dpi)\n",
    "    \n",
    "    plt.xscale('log')\n",
    "    plt.yscale('log')\n",
    "    plt.grid(linestyle=':')\n",
    "    plt.grid(visible=True, which=\"minor\", axis='x', linestyle=':')\n",
    "    \n",
    "    plt.xlabel('Generation', fontsize=label_fontsize)\n",
    "    plt.ylabel('Fitness', fontsize=label_fontsize)\n",
    "    \n",
    "    plt.tick_params(axis='both', which='major', labelsize=tick_fontsize)\n",
    "    \n",
    "    for i_exp in range(2):\n",
    "        \n",
    "        mean_data = all_stats[i_exp].groupby('Gen').mean().reset_index()\n",
    "        first_dec = all_stats[i_exp].groupby('Gen').quantile(0.1)\n",
    "        last_dec = all_stats[i_exp].groupby('Gen').quantile(0.9)\n",
    "        \n",
    "        # Average fitness\n",
    "        plt.plot(mean_data['Gen'],\n",
    "                 np.exp(mean_data['Log Fitness']),\n",
    "                 color=colors[i_exp],\n",
    "                 linewidth=2,\n",
    "                 label=name[i_exp]) \n",
    "\n",
    "        # Quantiles\n",
    "        plt.plot(mean_data['Gen'],\n",
    "                 first_dec['Fitness'],\n",
    "                 color=colors[i_exp],\n",
    "                 alpha=0.3)\n",
    "\n",
    "        plt.plot(mean_data['Gen'],\n",
    "                 last_dec['Fitness'],\n",
    "                 color=colors[i_exp],\n",
    "                 alpha=0.3)\n",
    "\n",
    "    plt.legend(loc='lower right', fontsize=legend_fontsize)\n",
    "        \n",
    "    plt.savefig(f'{exp_path}/fitness_all_with_main.pdf', dpi=dpi, bbox_inches='tight')"
   ]
  },
  {
   "cell_type": "code",
   "execution_count": null,
   "metadata": {
    "scrolled": true
   },
   "outputs": [],
   "source": [
    "plot_fitness(sc_stats, control_stats, control_path)"
   ]
  },
  {
   "cell_type": "code",
   "execution_count": null,
   "metadata": {},
   "outputs": [],
   "source": [
    "def plot_basal_sc(full_stats, exp_path):\n",
    "    \n",
    "    max_gen = full_stats.groupby('Replicate').max()['Gen'].min()\n",
    "    \n",
    "    stats = full_stats[(full_stats[\"Gen\"] > 0) & (full_stats['Gen'] <= max_gen)][['Gen', 'Basal SC']].copy()\n",
    "        \n",
    "    mean_data = stats.groupby('Gen').mean().reset_index()\n",
    "    \n",
    "    # Note: for the fitness, the mean can be above the quantile\n",
    "    first_dec = stats.groupby('Gen').quantile(0.1)\n",
    "    last_dec = stats.groupby('Gen').quantile(0.9)\n",
    "    \n",
    "    colors = mpl.cm.get_cmap('viridis', 2)(range(2)) # Main vs experiment\n",
    "    \n",
    "    plt.figure(figsize=(9,4), dpi=dpi)\n",
    "    \n",
    "    plt.xscale('log')\n",
    "    #plt.yscale('log')\n",
    "    plt.grid(linestyle=':')\n",
    "    plt.grid(visible=True, which=\"minor\", axis='x', linestyle=':')\n",
    "    \n",
    "    plt.xlabel('Generation', fontsize=label_fontsize)\n",
    "    #plt.xlim(-0.05e6, 1.05e6)\n",
    "    plt.ylabel('Basal SC', fontsize=label_fontsize)\n",
    "    \n",
    "    plt.tick_params(axis='both', which='major', labelsize=tick_fontsize)\n",
    "        \n",
    "    # Default value\n",
    "    plt.plot(mean_data['Gen'],\n",
    "             np.ones(len(mean_data['Gen'])) * sc_params['sigma_basal'],\n",
    "             color=colors[0],\n",
    "             linewidth=2,\n",
    "             label='Control')\n",
    "        \n",
    "    # Average fitness\n",
    "    plt.plot(mean_data['Gen'],\n",
    "             mean_data['Basal SC'],\n",
    "             color=colors[1],\n",
    "             linewidth=2,\n",
    "             label='SC mutations') \n",
    "    \n",
    "    # Quantiles\n",
    "    plt.plot(mean_data['Gen'],\n",
    "             first_dec['Basal SC'],\n",
    "             color=colors[1],\n",
    "             alpha=0.3)\n",
    "    \n",
    "    plt.plot(mean_data['Gen'],\n",
    "             last_dec['Basal SC'],\n",
    "             color=colors[1],\n",
    "             alpha=0.3)\n",
    "\n",
    "    plt.legend(loc='lower right', fontsize=legend_fontsize)\n",
    "    \n",
    "    plt.savefig(f'{exp_path}/basal_sc_all.pdf', dpi=dpi, bbox_inches='tight')"
   ]
  },
  {
   "cell_type": "code",
   "execution_count": null,
   "metadata": {},
   "outputs": [],
   "source": [
    "plot_basal_sc(sc_stats, sc_path)"
   ]
  },
  {
   "cell_type": "code",
   "execution_count": null,
   "metadata": {},
   "outputs": [],
   "source": [
    "def plot_basal_sc_all(full_stats, exp_path):\n",
    "    \n",
    "    max_gen = full_stats.groupby('Replicate').max()['Gen'].min()\n",
    "    nb_reps = full_stats['Replicate'].nunique()\n",
    "    \n",
    "    stats = full_stats[(full_stats[\"Gen\"] > 0) & (full_stats['Gen'] <= max_gen)][['Gen', 'Basal SC']].copy()\n",
    "        \n",
    "    mean_data = stats.groupby('Gen').mean().reset_index()\n",
    "    \n",
    "    # Note: for the fitness, the mean can be above the quantile\n",
    "    first_dec = stats.groupby('Gen').quantile(0.1)\n",
    "    last_dec = stats.groupby('Gen').quantile(0.9)\n",
    "    \n",
    "    color = 'tab:pink'\n",
    "    colors = mpl.cm.get_cmap('viridis', nb_reps)(range(nb_reps))\n",
    "    \n",
    "    plt.figure(figsize=(9,4), dpi=dpi)\n",
    "    \n",
    "    #plt.xscale('log')\n",
    "    #plt.yscale('log')\n",
    "    plt.grid(linestyle=':')\n",
    "    plt.grid(visible=True, which=\"minor\", axis='x', linestyle=':')\n",
    "    \n",
    "    plt.xlabel('Generation', fontsize=label_fontsize)\n",
    "\n",
    "    plt.ylabel('Basal SC', fontsize=label_fontsize)\n",
    "    \n",
    "    plt.tick_params(axis='both', which='major', labelsize=tick_fontsize)\n",
    "    \n",
    "    for rep in range(nb_reps):\n",
    "        stats_rep = full_stats[full_stats['Replicate'] == rep]\n",
    "        plt.plot(stats_rep['Gen'], stats_rep['Basal SC'], color=colors[rep], linewidth=2)\n",
    "            \n",
    "    plt.savefig(f'{exp_path}/all_basal_sc.pdf', dpi=dpi, bbox_inches='tight')"
   ]
  },
  {
   "cell_type": "code",
   "execution_count": null,
   "metadata": {
    "scrolled": true
   },
   "outputs": [],
   "source": [
    "plot_basal_sc_all(sc_stats, sc_path)"
   ]
  },
  {
   "cell_type": "markdown",
   "metadata": {},
   "source": [
    "# New plots for the continuous model"
   ]
  },
  {
   "cell_type": "code",
   "execution_count": null,
   "metadata": {},
   "outputs": [],
   "source": [
    "for rep_dir in sc_rep_dirs:\n",
    "    indiv = evotsc_lib.get_best_indiv(rep_dir, gen)\n",
    "    for i_gene in range(indiv.nb_genes):\n",
    "        plt.plot(indiv.expr_level[:, i_gene])\n",
    "    plt.show()"
   ]
  },
  {
   "cell_type": "code",
   "execution_count": null,
   "metadata": {},
   "outputs": [],
   "source": [
    "indiv = evotsc_lib.get_best_indiv(control_path.joinpath('rep00'), gen=gen)"
   ]
  },
  {
   "cell_type": "code",
   "execution_count": null,
   "metadata": {},
   "outputs": [],
   "source": [
    "def plot_indiv(indiv, sigma_env, plot_name):\n",
    "        \n",
    "    expr, fit = indiv.evaluate(sigma_env)\n",
    "\n",
    "    gene_exprs = [(indiv.expr_level[-2:-1, i_gene].mean(axis=0), gene.expr_target)\n",
    "                  for i_gene, gene in enumerate(indiv.genes)]\n",
    "\n",
    "    sorted_gene_exprs = sorted(gene_exprs, key=lambda x: x[1])\n",
    "\n",
    "    exprs = [p[0] for p in sorted_gene_exprs]\n",
    "    targets = [p[1] for p in sorted_gene_exprs]\n",
    "    \n",
    "    colors = mpl.cm.get_cmap('jet', indiv.nb_genes)(range(indiv.nb_genes))\n",
    "\n",
    "    # Plot\n",
    "    plt.figure(figsize=(8,5), dpi=dpi)\n",
    "\n",
    "    plt.bar(np.arange(indiv.nb_genes) + 0.5, height=targets, width=1, color=colors) \n",
    "    #plt.plot(np.arange(indiv.nb_genes), targets, linestyle='-', color='tab:green')\n",
    "    plt.plot(np.arange(indiv.nb_genes) + 0.5, exprs, linestyle='-', color='black')\n",
    "\n",
    "    plt.xlabel('Gene rank (by increasing target)')\n",
    "    plt.ylabel('Expression level')\n",
    "    plt.ylim(-0.05, 1.05)\n",
    "    plt.grid(linestyle=':')\n",
    "    plt.gca().xaxis.set_major_locator(mpl.ticker.MultipleLocator(5))\n",
    "    #plt.legend()\n",
    "\n",
    "    plt.title(f'Fitness: {fit:.3}')\n",
    "    \n",
    "    plt.savefig(plot_name, bbox_inches='tight', dpi=dpi)\n",
    "\n",
    "    plt.show()"
   ]
  },
  {
   "cell_type": "code",
   "execution_count": null,
   "metadata": {},
   "outputs": [],
   "source": [
    "plot_indiv(indiv, sc_params['sigma_env'], 'shuffle_no.pdf')"
   ]
  },
  {
   "cell_type": "code",
   "execution_count": null,
   "metadata": {},
   "outputs": [],
   "source": [
    "def plot_best_indiv(exp_path, params, gen):\n",
    "    \n",
    "    rep_dirs = sorted([d for d in exp_path.iterdir() if (d.is_dir() and d.name.startswith(\"rep\"))])\n",
    "    \n",
    "    for rep, rep_dir in enumerate(rep_dirs):\n",
    "\n",
    "        best_indiv = evotsc_lib.get_best_indiv(rep_dir, gen=gen)\n",
    "\n",
    "        plot_indiv(best_indiv, params['sigma_env'], exp_path.joinpath(f'best_rep{rep:02}.pdf'))"
   ]
  },
  {
   "cell_type": "code",
   "execution_count": null,
   "metadata": {},
   "outputs": [],
   "source": [
    "for i in range(5):\n",
    "    shuffled_indiv = evotsc_lib.shuffle_indiv(indiv=indiv,\n",
    "                                              nb_genes_to_shuffle=indiv.nb_genes // 3, rng=indiv.rng)\n",
    "    plot_indiv(shuffled_indiv, sc_params['sigma_env'], f'shuffle_{i}.pdf')\n",
    "    with open(f'shuffled_indiv_{i}.evotsc', 'wb') as save_file:\n",
    "        pickle.dump(shuffled_indiv, save_file)"
   ]
  },
  {
   "cell_type": "code",
   "execution_count": null,
   "metadata": {},
   "outputs": [],
   "source": [
    "plot_best_indiv(sc_path, sc_params, gen)"
   ]
  },
  {
   "cell_type": "code",
   "execution_count": null,
   "metadata": {},
   "outputs": [],
   "source": [
    "plot_best_indiv(control_path, control_params, gen)"
   ]
  },
  {
   "cell_type": "markdown",
   "metadata": {},
   "source": [
    "# Plot genomes"
   ]
  },
  {
   "cell_type": "code",
   "execution_count": null,
   "metadata": {},
   "outputs": [],
   "source": [
    "def plot_best_genome_and_tsc(exp_path, gen):\n",
    "    rep_dirs = sorted([d for d in exp_path.iterdir() if (d.is_dir() and d.name.startswith(\"rep\"))])\n",
    "    \n",
    "    for rep, rep_dir in enumerate(rep_dirs):\n",
    "        \n",
    "        try:\n",
    "            best_indiv = evotsc_lib.get_best_indiv(rep_dir, gen)\n",
    "                        \n",
    "            evotsc_plot.plot_genome_and_tsc(best_indiv, params['sigma_env'], show_bar=True,\n",
    "                                            coloring_type='by-id',\n",
    "                                            id_interval=best_indiv.nb_genes / 12, print_ids=True,\n",
    "                                            plot_name=exp_path.joinpath(f'genome_and_tsc_rep{rep:02}.pdf'))\n",
    "\n",
    "        except FileNotFoundError: # Skip missing data\n",
    "            pass"
   ]
  },
  {
   "cell_type": "code",
   "execution_count": null,
   "metadata": {},
   "outputs": [],
   "source": [
    "plot_best_genome_and_tsc(exp_path, gen)"
   ]
  },
  {
   "cell_type": "markdown",
   "metadata": {},
   "source": [
    "# Influence of enviromental supercoiling on final gene expression levels"
   ]
  },
  {
   "cell_type": "code",
   "execution_count": null,
   "metadata": {},
   "outputs": [],
   "source": [
    "nb_sigmas = 250\n",
    "sigma_min = -0.061\n",
    "sigma_max = 0.061"
   ]
  },
  {
   "cell_type": "code",
   "execution_count": null,
   "metadata": {},
   "outputs": [],
   "source": [
    "def compute_activity_sigma_per_type(indiv, sigmas):\n",
    "    \n",
    "    # Initialize the individual\n",
    "    indiv.evaluate(0.0, 0.0)\n",
    "\n",
    "    activ = np.zeros((3, len(sigmas))) # Compute activity for each gene type\n",
    "\n",
    "    for i_sigma, sigma_env in enumerate(sigmas):\n",
    "        # Evaluate the individual in the environment with sigma\n",
    "        temporal_expr = indiv.run_system(sigma_env)\n",
    "\n",
    "        # Compute total gene activation levels        \n",
    "        for i_gene, gene in enumerate(indiv.genes):\n",
    "            activ[gene.gene_type][i_sigma] += temporal_expr[-1, i_gene]\n",
    "            \n",
    "    activ /= (indiv.nb_genes / 3)\n",
    "    \n",
    "    return activ"
   ]
  },
  {
   "cell_type": "code",
   "execution_count": null,
   "metadata": {},
   "outputs": [],
   "source": [
    "def compute_avg_best_activ_by_sigma():\n",
    "    rep_dirs = sorted([d for d in exp_path.iterdir() if (d.is_dir() and d.name.startswith(\"rep\"))])\n",
    "    \n",
    "    sigmas = np.linspace(sigma_min, sigma_max, nb_sigmas)\n",
    "    activ = np.zeros((3, len(sigmas)))\n",
    "\n",
    "    for i_rep in range(nb_reps):\n",
    "        indiv = evotsc_lib.get_best_indiv(exp_path.joinpath(f'rep{i_rep:02}'), gen=gen)\n",
    "            \n",
    "        activ += compute_activity_sigma_per_type(indiv, sigmas)\n",
    "            \n",
    "    return activ / nb_reps"
   ]
  },
  {
   "cell_type": "code",
   "execution_count": null,
   "metadata": {},
   "outputs": [],
   "source": [
    "#activ = compute_avg_best_activ_by_sigma()"
   ]
  },
  {
   "cell_type": "code",
   "execution_count": null,
   "metadata": {},
   "outputs": [],
   "source": [
    "def generate_rand_activ_by_sigma():\n",
    "\n",
    "    sigmas = np.linspace(sigma_min, sigma_max, nb_sigmas)\n",
    "    activ = np.zeros(len(sigmas))  # Average over all genes, not gene types\n",
    "    \n",
    "    for i_rand, rand_indiv in enumerate(rand_indivs):\n",
    "        activ += np.mean(compute_activity_sigma_per_type(rand_indiv, sigmas), axis=0)\n",
    "        \n",
    "    return activ / nb_reps"
   ]
  },
  {
   "cell_type": "code",
   "execution_count": null,
   "metadata": {},
   "outputs": [],
   "source": [
    "#rand_activ = generate_rand_activ_by_sigma()"
   ]
  },
  {
   "cell_type": "code",
   "execution_count": null,
   "metadata": {},
   "outputs": [],
   "source": [
    "# See how gene activity levels depend on environmental supercoiling\n",
    "def plot_activity_sigma_per_type(activ, rand_activ, plot_title=None, plot_name=None):\n",
    "    \n",
    "    sigma_basal = params['sigma_basal']\n",
    "    sigma_opt = params['sigma_opt']      \n",
    "    \n",
    "    sigmas_env = np.linspace(sigma_min, sigma_max, nb_sigmas)\n",
    "\n",
    "    colors = ['tab:blue', 'tab:red', 'tab:green'] # AB: blue, A: red, B: green\n",
    "    \n",
    "    fig, ax = plt.subplots(figsize=(7, 4), dpi=dpi)\n",
    "    \n",
    "    plt.xlabel('Background supercoiling ($\\sigma_{basal} + \\delta\\sigma_{env}$)')\n",
    "    plt.ylabel('Average gene expression by type')\n",
    "    plt.ylim(-0.05, 1.10)\n",
    "    plt.xlim(sigmas_env[0] + sigma_basal, sigmas_env[-1] + sigma_basal)\n",
    "    plt.grid(linestyle=':')\n",
    "    \n",
    "    # Add 1/2 expression level\n",
    "    half_expr = (1 + np.exp(- params['m'])) / 2\n",
    "    plt.hlines(half_expr, sigmas_env[0] + sigma_basal, sigmas_env[-1] + sigma_basal,\n",
    "               linestyle=':', linewidth=1.5, color='tab:pink')#, label='Activation threshold')\n",
    "    \n",
    "    \n",
    "    # Add average expression per gene type\n",
    "    for i_gene_type, gene_type in enumerate(gene_types):\n",
    "        plt.plot(sigmas_env + sigma_basal, activ[i_gene_type, :],\n",
    "                 color=gene_type_color[i_gene_type],\n",
    "                 linewidth=2,\n",
    "                 label=gene_type)\n",
    "\n",
    "    # Add sigma_A and sigma_B\n",
    "    y_min, y_max = plt.ylim()\n",
    "    plt.vlines(params['sigma_A'] + sigma_basal, y_min, y_max, linestyle='--', linewidth=1, color='black')\n",
    "    plt.vlines(params['sigma_B'] + sigma_basal, y_min, y_max, linestyle='--', linewidth=1, color='black')\n",
    "    \n",
    "    plt.text(params['sigma_A'] + sigma_basal, y_max + 0.005, '$\\sigma_A$',\n",
    "             va='bottom', ha='center', fontsize='large') # Use \\mathbf{} for bold\n",
    "    plt.text(params['sigma_B'] + sigma_basal, y_max + 0.005, '$\\sigma_B$',\n",
    "             va='bottom', ha='center', fontsize='large')\n",
    "    plt.ylim(y_min, y_max)\n",
    "    \n",
    "    # Add expression for a random genome\n",
    "    plt.plot(sigmas_env + sigma_basal, rand_activ,\n",
    "         linewidth=2, color='tab:cyan', zorder=0, linestyle=(0, (3, 1, 1, 1)), label='Random')\n",
    "    \n",
    "    # Add expression for an isolated gene\n",
    "    sigmas_total = sigmas_env + sigma_basal\n",
    "    activities = 1.0 / (1.0 + np.exp((sigmas_total - sigma_opt)/ params['epsilon']))\n",
    "    plt.plot(sigmas_env + sigma_basal, np.exp(params['m'] * (activities - 1)),\n",
    "             linewidth=2, color='tab:cyan', zorder=0, linestyle='--', label='Isolated gene')\n",
    "\n",
    "    plt.legend(loc='lower left')\n",
    "    \n",
    "    # Add other ax with other sc\n",
    "    ax2 = ax.twiny()\n",
    "    xmin, xmax = ax.get_xlim()\n",
    "    ax2.set_xlim(xmin - params['sigma_basal'], xmax - params['sigma_basal'])\n",
    "    ax2.set_xlabel('Environmental shift in supercoiling ($\\delta\\sigma_{env}$)')\n",
    "    \n",
    "    # Wrap up            \n",
    "    if plot_name:\n",
    "        plt.savefig(plot_name, dpi=dpi, bbox_inches='tight')\n",
    "        \n",
    "    plt.show()\n",
    "    plt.close()"
   ]
  },
  {
   "cell_type": "code",
   "execution_count": null,
   "metadata": {
    "scrolled": false
   },
   "outputs": [],
   "source": [
    "#plot_activity_sigma_per_type(activ, rand_activ,\n",
    "#                             plot_name=exp_path.joinpath(f'activity_sigmas_avg.pdf'))"
   ]
  },
  {
   "cell_type": "markdown",
   "metadata": {},
   "source": [
    "# Gene knockouts"
   ]
  },
  {
   "cell_type": "markdown",
   "metadata": {},
   "source": [
    "## Arrange Individual and run_system() to accommodate a knocked-out gene"
   ]
  },
  {
   "cell_type": "code",
   "execution_count": null,
   "metadata": {},
   "outputs": [],
   "source": [
    "@jit(nopython=True)\n",
    "def run_system_numba_ko(nb_genes: int,\n",
    "                        init_expr: np.ndarray,\n",
    "                        inter_matrix: np.ndarray,\n",
    "                        sigma_basal: float,\n",
    "                        sigma_opt: float,\n",
    "                        epsilon: float,\n",
    "                        m: float,\n",
    "                        sigma_env: float,\n",
    "                        id_ko: int) -> np.ndarray:\n",
    "\n",
    "    step_size = 0.5\n",
    "    stop_dist = 1e-7\n",
    "    max_eval_steps = 200\n",
    "\n",
    "    temporal_expr = np.zeros((max_eval_steps+1, nb_genes))\n",
    "\n",
    "    # Initial values at t = 0\n",
    "    temporal_expr[0, :] = init_expr\n",
    "    temporal_expr[0, id_ko] = 0.0\n",
    "\n",
    "\n",
    "    # Iterate the system\n",
    "    it = 1\n",
    "    cont = True\n",
    "    while cont:\n",
    "        prev_expr = temporal_expr[it-1, :]\n",
    "        sigma_local = inter_matrix @ prev_expr\n",
    "        sigma_total = sigma_basal + sigma_local + sigma_env\n",
    "\n",
    "        promoter_activity = 1.0 / (1.0 + np.exp((sigma_total - sigma_opt)/epsilon))\n",
    "\n",
    "        # We subtract 1 to rescale between exp(-m) and 1\n",
    "        iter_expr = np.exp(m * (promoter_activity - 1.0))\n",
    "\n",
    "        nouv_expr = step_size * iter_expr + (1 - step_size) * prev_expr\n",
    "\n",
    "        # Knockout\n",
    "        nouv_expr[id_ko] = 0\n",
    "\n",
    "        temporal_expr[it, :] = nouv_expr\n",
    "\n",
    "        # Check if we're done\n",
    "        dist = np.abs(nouv_expr - prev_expr).sum() / nb_genes\n",
    "\n",
    "        prev_expr = nouv_expr\n",
    "\n",
    "        if dist < stop_dist:\n",
    "            cont = False\n",
    "\n",
    "        if it == max_eval_steps:\n",
    "            cont = False\n",
    "        it += 1\n",
    "\n",
    "    temporal_expr = temporal_expr[:it, :]\n",
    "\n",
    "    return temporal_expr"
   ]
  },
  {
   "cell_type": "code",
   "execution_count": null,
   "metadata": {},
   "outputs": [],
   "source": [
    "class KoIndividual(evotsc.Individual):\n",
    "    def __init__(self,\n",
    "                 orig_indiv: evotsc.Individual,\n",
    "                 id_ko: int) -> None:\n",
    "        \n",
    "        super().__init__([gene.clone() for gene in orig_indiv.genes],\n",
    "                         orig_indiv.interaction_dist,\n",
    "                         orig_indiv.interaction_coef,\n",
    "                         orig_indiv.sigma_basal,\n",
    "                         orig_indiv.sigma_opt,\n",
    "                         orig_indiv.epsilon,\n",
    "                         orig_indiv.m,\n",
    "                         orig_indiv.selection_coef,\n",
    "                         orig_indiv.rng)\n",
    "        \n",
    "        self.id_ko = id_ko\n",
    "                    \n",
    "\n",
    "    def run_system(self, sigma_env):\n",
    "\n",
    "        init_expr = np.array([gene.basal_expression for gene in self.genes])\n",
    "\n",
    "        self.inter_matrix = self.compute_inter_matrix()\n",
    "\n",
    "        return run_system_numba_ko(nb_genes=self.nb_genes,\n",
    "                                   init_expr=init_expr,\n",
    "                                   inter_matrix=self.inter_matrix,\n",
    "                                   sigma_basal=self.sigma_basal,\n",
    "                                   sigma_opt=self.sigma_opt,\n",
    "                                   epsilon=self.epsilon,\n",
    "                                   m=self.m,\n",
    "                                   sigma_env=sigma_env,\n",
    "                                   id_ko=self.id_ko)"
   ]
  },
  {
   "cell_type": "markdown",
   "metadata": {},
   "source": [
    "## Plot genome and TSC with one knocked-out gene"
   ]
  },
  {
   "cell_type": "code",
   "execution_count": null,
   "metadata": {},
   "outputs": [],
   "source": [
    "def plot_all_kos(rep, gen):\n",
    "    \n",
    "    rep_dir = exp_path.joinpath(f'rep{rep}')\n",
    "    \n",
    "    ko_path = exp_path.joinpath(f'kos_rep{rep:02}')\n",
    "    ko_path.mkdir(exist_ok=True)\n",
    "    \n",
    "    init_indiv = evotsc_lib.get_best_indiv(rep_dir, gen=gen)\n",
    "    n = 100  # the number of data points\n",
    "    _, genome_length = init_indiv.compute_gene_positions(include_coding=True)\n",
    "    data_positions = np.linspace(0, genome_length, n, dtype=int)\n",
    "\n",
    "    # Note: we do the difference between the supercoiling values of two genomes of the same individual,\n",
    "    # so sigma_basal and sigma_env cancel out\n",
    "    init_data = {'A': init_indiv.compute_final_sc_at(params['sigma_A'], data_positions),\n",
    "                 'B': init_indiv.compute_final_sc_at(params['sigma_B'], data_positions)}\n",
    "    \n",
    "    init_expr = {'A': init_indiv.run_system(params['sigma_A'])[-1, :],\n",
    "                 'B': init_indiv.run_system(params['sigma_B'])[-1, :]}\n",
    "    \n",
    "    \n",
    "    half_expr = (1 + np.exp(-init_indiv.m)) / 2\n",
    "    init_activ = {env: init_expr[env] > half_expr for env in envs}\n",
    "    \n",
    "    for i_ko in range(36, 37): \n",
    "    #for i_ko in range(init_indiv.nb_genes):\n",
    "        \n",
    "        ko_indiv = KoIndividual(orig_indiv=init_indiv, id_ko=i_ko)\n",
    "                                            \n",
    "        for env in envs:\n",
    "                                            \n",
    "            ko_data = ko_indiv.compute_final_sc_at(params[f'sigma_{env}'], data_positions)\n",
    "            \n",
    "            final_expr = ko_indiv.run_system(params[f'sigma_{env}'])[-1, :]\n",
    "            ko_activ = final_expr > half_expr\n",
    "            \n",
    "            switched_genes = init_activ[env] != ko_activ\n",
    "            \n",
    "            show_bar = env == 'A'\n",
    "            \n",
    "            plot_name = ko_path.joinpath(f'ko_genome_and_tsc_env_{env}_gene_{i_ko:02}.pdf')\n",
    "            \n",
    "            evotsc_plot.plot_genome_and_tsc(ko_indiv, sigma=params[f'sigma_{env}'], coloring_type='on-off',\n",
    "                                            hatched_genes=switched_genes,\n",
    "                                            print_ids=True, ring_data=np.abs(init_data[env]-ko_data), \n",
    "                                            ring_color_type='delta', \n",
    "                                            show_bar=show_bar, bar_text='$|\\Delta\\sigma_{TSC}|$',\n",
    "                                            id_interval=5, id_ko=i_ko,\n",
    "                                            plot_name=plot_name)"
   ]
  },
  {
   "cell_type": "code",
   "execution_count": null,
   "metadata": {},
   "outputs": [],
   "source": [
    "if figure_rep < nb_reps:\n",
    "    plot_all_kos(rep=figure_rep, gen=gen)"
   ]
  },
  {
   "cell_type": "markdown",
   "metadata": {},
   "source": [
    "## Compute the effective graph: genes switched on or off by a KO"
   ]
  },
  {
   "cell_type": "code",
   "execution_count": null,
   "metadata": {},
   "outputs": [],
   "source": [
    "def get_effective_graph(best_indiv, sigma):\n",
    "    \n",
    "    _, genome_length = best_indiv.compute_gene_positions(include_coding=True)\n",
    "    \n",
    "    init_expr = best_indiv.run_system(sigma)[-1, :]\n",
    "    half_expr = (1 + np.exp(-best_indiv.m)) / 2\n",
    "    init_activ = init_expr > half_expr\n",
    "    \n",
    "\n",
    "    ## Build the graph\n",
    "    inter_graph = nx.DiGraph()\n",
    "\n",
    "    # Nodes\n",
    "    for i_gene, gene in enumerate(best_indiv.genes):\n",
    "        inter_graph.add_node(i_gene, gene=gene)\n",
    "\n",
    "    ## Compute the interactions: if KOing gene A switches gene B on or off, add A -> B arrow to the graph\n",
    "\n",
    "    for i_ko in range(best_indiv.nb_genes):\n",
    "        \n",
    "        ko_indiv = KoIndividual(orig_indiv=best_indiv, id_ko=i_ko)\n",
    "                                                                    \n",
    "        final_expr = ko_indiv.run_system(sigma)[-1, :]\n",
    "        ko_activ = final_expr > half_expr\n",
    "        \n",
    "        for i_other in range(best_indiv.nb_genes):\n",
    "            if i_other == i_ko:\n",
    "                continue\n",
    "            \n",
    "            if init_activ[i_other] != ko_activ[i_other]:\n",
    "                if init_activ[i_other]: # KOing i_ko inhibits i_other: -> i_ko activates i_other\n",
    "                    inter_graph.add_edge(i_ko, i_other, kind='activ')\n",
    "                else:\n",
    "                    inter_graph.add_edge(i_ko, i_other, kind='inhib')\n",
    "\n",
    "    return best_indiv, inter_graph"
   ]
  },
  {
   "cell_type": "code",
   "execution_count": null,
   "metadata": {},
   "outputs": [],
   "source": [
    "def get_all_effective_graphs(exp_path, gen):\n",
    "    rep_dirs = sorted([d for d in exp_path.iterdir() if (d.is_dir() and d.name.startswith(\"rep\"))])\n",
    "    \n",
    "    graphs = {}\n",
    "    \n",
    "    for rep, rep_dir in enumerate(rep_dirs):\n",
    "        best_indiv = evotsc_lib.get_best_indiv(rep_path=rep_dir, gen=gen)\n",
    "\n",
    "        graphs[rep] = get_effective_graph(best_indiv, params['sigma_env'])\n",
    "    \n",
    "    return graphs"
   ]
  },
  {
   "cell_type": "code",
   "execution_count": null,
   "metadata": {},
   "outputs": [],
   "source": [
    "effective_graphs = get_all_effective_graphs(exp_path, gen)"
   ]
  },
  {
   "cell_type": "markdown",
   "metadata": {},
   "source": [
    "## Plot the effective graphs"
   ]
  },
  {
   "cell_type": "code",
   "execution_count": null,
   "metadata": {},
   "outputs": [],
   "source": [
    "def plot_effective_graph(indiv, inter_graph, method, plot_name=None):\n",
    "    \n",
    "    colors = mpl.cm.get_cmap('viridis', indiv.nb_genes)(range(indiv.nb_genes))\n",
    "\n",
    "    \n",
    "    ## Draw the figure\n",
    "    plt.figure(figsize=(12, 12), dpi=dpi)\n",
    "    plt.box(False)\n",
    "\n",
    "    # Choose the layout\n",
    "    if method == 'circular':\n",
    "        layout = nx.circular_layout(inter_graph)\n",
    "        for node in layout:\n",
    "            x, y = layout[node]\n",
    "            layout[node] = y, x # symmetry along the y=x axis to match other graphs\n",
    "\n",
    "    elif method == 'graphviz':\n",
    "        layout = nx.nx_agraph.graphviz_layout(inter_graph)\n",
    "        for node in layout:\n",
    "            x, y = layout[node]\n",
    "            layout[node] = -x, -y # 180 degree rotation\n",
    "\n",
    "\n",
    "    # Draw the nodes\n",
    "    node_size = 400\n",
    "    nx.draw_networkx_nodes(inter_graph, layout, node_size=node_size,\n",
    "                           node_color=[colors[gene.id] for gene in indiv.genes])\n",
    "    nx.draw_networkx_labels(inter_graph, layout)\n",
    "\n",
    "    # Draw the edges\n",
    "    activ_edges = [e for e in inter_graph.edges if inter_graph[e[0]][e[1]]['kind'] == 'activ'] \n",
    "    inhib_edges = [e for e in inter_graph.edges if inter_graph[e[0]][e[1]]['kind'] == 'inhib']\n",
    "\n",
    "    inhib_arrow = mpl.patches.ArrowStyle.CurveFilledB(head_length=0, head_width=0.5)\n",
    "\n",
    "    nx.draw_networkx_edges(inter_graph, layout, edgelist=activ_edges, node_size=node_size,\n",
    "                           edge_color='tab:green', connectionstyle='arc3,rad=0.1')\n",
    "    nx.draw_networkx_edges(inter_graph, layout, edgelist=inhib_edges, node_size=node_size+75,\n",
    "                           arrowstyle=inhib_arrow, edge_color='tab:red',\n",
    "                           connectionstyle='arc3,rad=0.1')\n",
    "\n",
    "    if plot_name:\n",
    "        plt.savefig(plot_name, bbox_inches='tight', dpi=dpi)\n",
    "    plt.show()\n",
    "    plt.close()"
   ]
  },
  {
   "cell_type": "code",
   "execution_count": null,
   "metadata": {},
   "outputs": [],
   "source": [
    "def plot_combined_effective_graphs(effective_graphs, method, is_random=False):\n",
    "    graph_path = exp_path.joinpath(f'effective_graphs')\n",
    "    graph_path.mkdir(exist_ok=True)\n",
    "    \n",
    "    for rep in effective_graphs.keys():\n",
    "        indiv, graph = effective_graphs[rep]\n",
    "        \n",
    "        \n",
    "        plot_name = f'combined_effective_graph_rep{rep:02}_{method}.pdf'\n",
    "        if is_random:\n",
    "            plot_name = f'rand_{plot_name}'\n",
    "\n",
    "        full_name = graph_path.joinpath(plot_name)\n",
    "        \n",
    "        plot_effective_graph(indiv, graph, method, full_name)"
   ]
  },
  {
   "cell_type": "code",
   "execution_count": null,
   "metadata": {},
   "outputs": [],
   "source": [
    "plot_combined_effective_graphs(effective_graphs,\n",
    "                                   'graphviz', is_random=False)"
   ]
  },
  {
   "cell_type": "markdown",
   "metadata": {},
   "source": [
    "## Make random individuals for comparison"
   ]
  },
  {
   "cell_type": "code",
   "execution_count": null,
   "metadata": {},
   "outputs": [],
   "source": [
    "def make_random_effective_graphs():\n",
    "    \n",
    "    graphs = {rep: {} for rep in range(nb_reps)}\n",
    "        \n",
    "    for i_rep, rand_indiv in enumerate(rand_indivs):        \n",
    "\n",
    "        graphs[i_rep] = get_effective_graph(rand_indivs[i_rep], params[f'sigma_env'])\n",
    "    \n",
    "    return graphs"
   ]
  },
  {
   "cell_type": "code",
   "execution_count": null,
   "metadata": {},
   "outputs": [],
   "source": [
    "rand_effective_graphs = make_random_effective_graphs()"
   ]
  },
  {
   "cell_type": "code",
   "execution_count": null,
   "metadata": {},
   "outputs": [],
   "source": [
    "#plot_combined_effective_graphs(rand_effective_graphs, 'graphviz', is_random=True)"
   ]
  },
  {
   "cell_type": "markdown",
   "metadata": {},
   "source": [
    "## Connected components"
   ]
  },
  {
   "cell_type": "code",
   "execution_count": null,
   "metadata": {},
   "outputs": [],
   "source": [
    "def count_largest_wcc(effective_graphs):\n",
    "    \n",
    "    largest_wcc = np.zeros(len(effective_graphs))\n",
    "    \n",
    "    for rep in list(effective_graphs.keys()):\n",
    "        indiv, graph = effective_graphs[rep]\n",
    "        \n",
    "        largest_wcc[rep] = len(max(nx.weakly_connected_components(graph), key=len))\n",
    "        \n",
    "    return largest_wcc"
   ]
  },
  {
   "cell_type": "code",
   "execution_count": null,
   "metadata": {},
   "outputs": [],
   "source": [
    "def gather_all_wccs(effective_graphs):\n",
    "    wccs = []\n",
    "    \n",
    "    for rep in list(effective_graphs.keys()):\n",
    "        indiv, graph = effective_graphs[rep]\n",
    "        \n",
    "        for wcc in nx.weakly_connected_components(graph):\n",
    "            wccs.append(len(wcc))\n",
    "                \n",
    "    return np.array(wccs)"
   ]
  },
  {
   "cell_type": "code",
   "execution_count": null,
   "metadata": {},
   "outputs": [],
   "source": [
    "def plot_all_wccs(effective_graphs, rand_effective_graphs):\n",
    "\n",
    "    evolved_wccs = gather_all_wccs(effective_graphs)\n",
    "\n",
    "    rand_wccs = gather_all_wccs(rand_effective_graphs)\n",
    "\n",
    "    plt.figure(figsize=(3, 7), dpi=dpi)\n",
    "    plt.boxplot([evolved_wccs, rand_wccs],\n",
    "                #showmeans=True,\n",
    "                #meanprops={'marker':'_', 'markerfacecolor':'black', 'markeredgecolor':'black'},\n",
    "                medianprops={'color':'black'})\n",
    "    plt.xticks(ticks=[1, 2], labels=['Evolved', 'Random'])\n",
    "    plt.ylim(-3, 63)\n",
    "    plt.ylabel('Number of genes in the WCC')\n",
    "    plt.grid(linestyle=':', axis='y')\n",
    "    plt.savefig(exp_path.joinpath('effective_graph_wcc_distr.pdf'), bbox_inches='tight', dpi=dpi)\n",
    "    plt.show()"
   ]
  },
  {
   "cell_type": "code",
   "execution_count": null,
   "metadata": {},
   "outputs": [],
   "source": [
    "plot_all_wccs(effective_graphs, rand_effective_graphs)"
   ]
  },
  {
   "cell_type": "markdown",
   "metadata": {},
   "source": [
    "### Show the exact count for every WCC size"
   ]
  },
  {
   "cell_type": "code",
   "execution_count": null,
   "metadata": {},
   "outputs": [],
   "source": [
    "np.unique(gather_all_wccs(effective_graphs), return_counts=True)"
   ]
  },
  {
   "cell_type": "markdown",
   "metadata": {},
   "source": [
    "## Stats on the effective graphs: out degree (number of switches)"
   ]
  },
  {
   "cell_type": "code",
   "execution_count": null,
   "metadata": {},
   "outputs": [],
   "source": [
    "def dist_in_genes(nb_genes, i, j):\n",
    "    pos_1_minus_2 = i - j\n",
    "    pos_2_minus_1 = - pos_1_minus_2\n",
    "\n",
    "    # We want to know whether gene 1 comes before or after gene 2\n",
    "    # Before: -------1--2-------- or -2---------------1-\n",
    "    # After:  -------2--1-------- or -1---------------2-\n",
    "\n",
    "    if pos_1_minus_2 < 0: # -------1--2-------- ou -1---------------2-\n",
    "        if pos_2_minus_1 < nb_genes + pos_1_minus_2: # -------1--2--------\n",
    "            distance = pos_2_minus_1\n",
    "        else: # -1---------------2-\n",
    "            distance = nb_genes + pos_1_minus_2\n",
    "\n",
    "    else: # -------2--1-------- ou -2---------------1-\n",
    "        if pos_1_minus_2 < nb_genes + pos_2_minus_1: # -------2--1--------\n",
    "            distance = pos_1_minus_2\n",
    "        else:\n",
    "            distance = nb_genes + pos_2_minus_1\n",
    "\n",
    "    return distance"
   ]
  },
  {
   "cell_type": "code",
   "execution_count": null,
   "metadata": {},
   "outputs": [],
   "source": [
    "def get_effective_graph_stats(effective_graphs):\n",
    "    res_dict = {'Replicate': [],\n",
    "                'out_deg': [],\n",
    "                'avg_dist': [],\n",
    "                'max_dist': []}\n",
    "\n",
    "    for rep in effective_graphs.keys():\n",
    "        indiv, graph = effective_graphs[rep]\n",
    "        for i_gene, gene in enumerate(indiv.genes):\n",
    "            res_dict['Replicate'].append(rep)\n",
    "            res_dict['out_deg'].append(graph.out_degree[i_gene])\n",
    "\n",
    "            if graph.out_degree[i_gene] > 0:\n",
    "                dists = np.zeros(len(graph[i_gene].keys()), dtype=int)                \n",
    "                for i_neighbor, neighbor in enumerate(graph[i_gene].keys()):\n",
    "                    dists[i_neighbor] = dist_in_genes(indiv.nb_genes, i_gene, neighbor)\n",
    "\n",
    "                res_dict['avg_dist'].append(np.mean(dists))\n",
    "                res_dict['max_dist'].append(np.max(dists))\n",
    "\n",
    "            else:\n",
    "                res_dict['avg_dist'].append(0)\n",
    "                res_dict['max_dist'].append(0)\n",
    "\n",
    "    return pd.DataFrame.from_dict(res_dict)"
   ]
  },
  {
   "cell_type": "code",
   "execution_count": null,
   "metadata": {},
   "outputs": [],
   "source": [
    "graph_stats = get_effective_graph_stats(effective_graphs)"
   ]
  },
  {
   "cell_type": "code",
   "execution_count": null,
   "metadata": {},
   "outputs": [],
   "source": [
    "rand_graph_stats = get_effective_graph_stats(rand_effective_graphs)"
   ]
  },
  {
   "cell_type": "code",
   "execution_count": null,
   "metadata": {},
   "outputs": [],
   "source": [
    "def get_combined_graph_stats(effective_graphs):\n",
    "    res_dict = {'Replicate': [],\n",
    "                'out_deg': [],\n",
    "                'in_deg': [],\n",
    "                'avg_dist': [],\n",
    "                'max_dist': []}\n",
    "\n",
    "    for rep in effective_graphs.keys():\n",
    "\n",
    "        indiv, graph = effective_graphs[rep]\n",
    "        \n",
    "        for i_gene, gene in enumerate(indiv.genes):\n",
    "            res_dict['Replicate'].append(rep)\n",
    "            res_dict['out_deg'].append(graph.out_degree[i_gene])\n",
    "            res_dict['in_deg'].append(graph.in_degree[i_gene])\n",
    "\n",
    "            if graph.out_degree[i_gene] > 0:\n",
    "                dists = np.zeros(len(graph[i_gene].keys()), dtype=int)                \n",
    "                for i_neighbor, neighbor in enumerate(graph[i_gene].keys()):\n",
    "                    dists[i_neighbor] = dist_in_genes(indiv.nb_genes, i_gene, neighbor)\n",
    "\n",
    "                res_dict['avg_dist'].append(np.mean(dists))\n",
    "                res_dict['max_dist'].append(np.max(dists))\n",
    "\n",
    "            else:\n",
    "                res_dict['avg_dist'].append(0)\n",
    "                res_dict['max_dist'].append(0)\n",
    "                \n",
    "    return pd.DataFrame.from_dict(res_dict)"
   ]
  },
  {
   "cell_type": "code",
   "execution_count": null,
   "metadata": {},
   "outputs": [],
   "source": [
    "combined_stats = get_combined_graph_stats(effective_graphs)"
   ]
  },
  {
   "cell_type": "code",
   "execution_count": null,
   "metadata": {},
   "outputs": [],
   "source": [
    "combined_rand_stats = get_combined_graph_stats(rand_effective_graphs)"
   ]
  },
  {
   "cell_type": "code",
   "execution_count": null,
   "metadata": {},
   "outputs": [],
   "source": []
  }
 ],
 "metadata": {
  "kernelspec": {
   "display_name": "Python 3 (ipykernel)",
   "language": "python",
   "name": "python3"
  },
  "language_info": {
   "codemirror_mode": {
    "name": "ipython",
    "version": 3
   },
   "file_extension": ".py",
   "mimetype": "text/x-python",
   "name": "python",
   "nbconvert_exporter": "python",
   "pygments_lexer": "ipython3",
   "version": "3.9.7"
  }
 },
 "nbformat": 4,
 "nbformat_minor": 4
}
