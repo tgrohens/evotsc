{
 "cells": [
  {
   "cell_type": "markdown",
   "id": "972321f6",
   "metadata": {},
   "source": [
    "# Figures for the Plos CB paper that use data from evolutionary runs"
   ]
  },
  {
   "cell_type": "code",
   "execution_count": null,
   "id": "15f9d6d7",
   "metadata": {},
   "outputs": [],
   "source": [
    "import matplotlib as mpl\n",
    "import matplotlib.pyplot as plt\n",
    "import matplotlib.ticker as ticker\n",
    "import numpy as np\n",
    "import pandas as pd\n",
    "import pathlib\n",
    "import pickle\n",
    "from numba import jit"
   ]
  },
  {
   "cell_type": "code",
   "execution_count": null,
   "id": "78111170",
   "metadata": {},
   "outputs": [],
   "source": [
    "import importlib\n",
    "import evotsc\n",
    "import evotsc_lib\n",
    "import evotsc_plot\n",
    "importlib.reload(evotsc)\n",
    "importlib.reload(evotsc_lib)\n",
    "importlib.reload(evotsc_plot)"
   ]
  },
  {
   "cell_type": "code",
   "execution_count": null,
   "id": "5ae51f61",
   "metadata": {},
   "outputs": [],
   "source": [
    "exp_path = pathlib.Path('/Users/theotime/Desktop/evotsc/pci/main/')\n",
    "gen=1_000_000"
   ]
  },
  {
   "cell_type": "code",
   "execution_count": null,
   "id": "d4600ece",
   "metadata": {},
   "outputs": [],
   "source": [
    "rep_dirs = sorted([d for d in exp_path.iterdir() if (d.is_dir() and d.name.startswith(\"rep\"))])\n",
    "params = evotsc_lib.read_params(rep_dirs[0])\n",
    "params['m'] = 2.5 # Temporary fix because the parameter wasn't saved"
   ]
  },
  {
   "cell_type": "code",
   "execution_count": null,
   "id": "a44fb52a",
   "metadata": {},
   "outputs": [],
   "source": [
    "params"
   ]
  },
  {
   "cell_type": "code",
   "execution_count": null,
   "id": "9dac7216",
   "metadata": {},
   "outputs": [],
   "source": [
    "rng = np.random.default_rng(seed=123456)"
   ]
  },
  {
   "cell_type": "code",
   "execution_count": null,
   "id": "5558094a",
   "metadata": {},
   "outputs": [],
   "source": [
    "gene_types = ['AB', 'A', 'B'] # Name of each gene type\n",
    "gene_type_color = ['tab:blue', 'tab:red', 'tab:green'] #AB, A, B\n",
    "dpi = 300"
   ]
  },
  {
   "cell_type": "markdown",
   "id": "58d84e79",
   "metadata": {},
   "source": [
    "## Evolved individual: influence of env. supercoiling on final gene expression levels"
   ]
  },
  {
   "cell_type": "code",
   "execution_count": null,
   "id": "a61681c5",
   "metadata": {},
   "outputs": [],
   "source": [
    "def compute_activity_sigma_per_type(indiv, sigmas):\n",
    "    \n",
    "    # Initialize the individual\n",
    "    indiv.evaluate(0.0, 0.0)\n",
    "\n",
    "    activ = np.zeros((3, len(sigmas))) # Compute activity for each gene type\n",
    "\n",
    "    for i_sigma, sigma_env in enumerate(sigmas):\n",
    "        # Evaluate the individual in the environment with sigma\n",
    "        temporal_expr = indiv.run_system(sigma_env)\n",
    "\n",
    "        # Compute total gene activation levels        \n",
    "        for i_gene, gene in enumerate(indiv.genes):\n",
    "            activ[gene.gene_type][i_sigma] += temporal_expr[-1, i_gene]\n",
    "            \n",
    "    activ /= (indiv.nb_genes / 3)\n",
    "    \n",
    "    return activ"
   ]
  },
  {
   "cell_type": "code",
   "execution_count": null,
   "id": "b21df0fc",
   "metadata": {},
   "outputs": [],
   "source": [
    "# See how gene activity levels depend on environmental supercoiling\n",
    "def plot_activity_sigma_per_type(activ, sigmas, plot_title=None, plot_name=None):\n",
    "    \n",
    "    colors = ['tab:blue', 'tab:red', 'tab:green'] # AB: blue, A: red, B: green\n",
    "            \n",
    "        \n",
    "    plt.figure(figsize=(6, 4), dpi=dpi)\n",
    "    plt.xlabel('Environment supercoiling $\\sigma_{env}$')\n",
    "    plt.ylabel('Average gene expression by type')\n",
    "    plt.ylim(-0.05, 1.05)\n",
    "    plt.xlim(sigmas[0], sigmas[-1])\n",
    "    plt.grid(linestyle=':')\n",
    "    \n",
    "    if plot_title:\n",
    "        plt.title(plot_title)\n",
    "        \n",
    "    # Add average expression per gene type\n",
    "    for i_gene_type, gene_type in enumerate(gene_types):\n",
    "        plt.plot(sigmas, activ[i_gene_type, :],\n",
    "                 color=gene_type_color[i_gene_type],\n",
    "                 linewidth=2,\n",
    "                 label=gene_type)\n",
    "\n",
    "        \n",
    "    # Add sigma_A and sigma_B\n",
    "    y_min, y_max = plt.ylim()\n",
    "    plt.vlines(params['sigma_A'], y_min, y_max, linestyle='--', linewidth=1, color='black')\n",
    "    plt.vlines(params['sigma_B'], y_min, y_max, linestyle='--', linewidth=1, color='black')\n",
    "    # To make math bold, use \\mathbf{}\n",
    "    plt.text(params['sigma_A'], y_min, '$\\sigma_A$', va='top', fontsize='large')\n",
    "    plt.text(params['sigma_B'], y_min, '$\\sigma_B$', va='top', fontsize='large')\n",
    "    plt.ylim(y_min, y_max)\n",
    "    \n",
    "    # Add 1/2 expression level\n",
    "    half_expr = (1 + np.exp(- params['m'])) / 2\n",
    "    plt.hlines(half_expr, sigmas[0], sigmas[-1], linestyle=':', linewidth=1,\n",
    "           color='tab:pink')#, label='Activation threshold')\n",
    "    \n",
    "    \n",
    "        # Add expression for an isolated gene\n",
    "    activities = 1.0 / (1.0 + np.exp((sigmas + params['sigma_basal'] - params['sigma_opt']) / params['epsilon']))\n",
    "    plt.plot(sigmas, np.exp(params['m'] * (activities - 1)), linewidth=2, color='tab:cyan', zorder=0,\n",
    "             linestyle='--', label='Theory')\n",
    "    \n",
    "    plt.legend(loc='lower left')\n",
    "    \n",
    "    plt.tight_layout()\n",
    "        \n",
    "    if plot_name:\n",
    "        plt.savefig(plot_name, dpi=dpi, bbox_inches='tight')\n",
    "        \n",
    "    plt.show()\n",
    "    plt.close()"
   ]
  },
  {
   "cell_type": "code",
   "execution_count": null,
   "id": "c0cb9f0e",
   "metadata": {},
   "outputs": [],
   "source": [
    "def plot_best_activ_by_sigma():\n",
    "    rep_dirs = sorted([d for d in exp_path.iterdir() if (d.is_dir() and d.name.startswith(\"rep\"))])\n",
    "    nb_reps = len(rep_dirs)\n",
    "    \n",
    "    nb_sigmas = 250\n",
    "    sigmas = np.linspace(-0.05, 0.05, nb_sigmas)\n",
    "\n",
    "    for i_rep in range(nb_reps):\n",
    "        indiv = evotsc_lib.get_best_indiv(exp_path.joinpath(f'rep{i_rep:02}'), gen=gen)\n",
    "            \n",
    "            \n",
    "        activ = compute_activity_sigma_per_type(indiv, sigmas)\n",
    "\n",
    "        plot_activity_sigma_per_type(activ, sigmas, plot_title=f'Best replicate {i_rep}',\n",
    "                                     plot_name=exp_path.joinpath(f'activity_sigmas_best_rep{i_rep}.pdf'))"
   ]
  },
  {
   "cell_type": "code",
   "execution_count": null,
   "id": "1bec0abe",
   "metadata": {},
   "outputs": [],
   "source": [
    "#plot_best_activ_by_sigma()"
   ]
  },
  {
   "cell_type": "code",
   "execution_count": null,
   "id": "889ef2a8",
   "metadata": {},
   "outputs": [],
   "source": [
    "def plot_avg_best_activ_by_sigma():\n",
    "    rep_dirs = sorted([d for d in exp_path.iterdir() if (d.is_dir() and d.name.startswith(\"rep\"))])\n",
    "    nb_reps = len(rep_dirs)\n",
    "    \n",
    "    nb_sigmas = 250\n",
    "    sigmas = np.linspace(-0.05, 0.05, nb_sigmas)\n",
    "    activ = np.zeros((3, len(sigmas)))\n",
    "\n",
    "    for i_rep in range(nb_reps):\n",
    "        indiv = evotsc_lib.get_best_indiv(exp_path.joinpath(f'rep{i_rep:02}'), gen=gen)\n",
    "            \n",
    "            \n",
    "        activ += compute_activity_sigma_per_type(indiv, sigmas)\n",
    "        \n",
    "    activ /= nb_reps\n",
    "\n",
    "    plot_activity_sigma_per_type(activ, sigmas, #plot_title='Average over all replicas',\n",
    "                                 plot_name=exp_path.joinpath(f'activity_sigmas_avg.pdf'))"
   ]
  },
  {
   "cell_type": "code",
   "execution_count": null,
   "id": "10ad3068",
   "metadata": {},
   "outputs": [],
   "source": [
    "plot_avg_best_activ_by_sigma()"
   ]
  },
  {
   "cell_type": "markdown",
   "id": "aaece912",
   "metadata": {},
   "source": [
    "## See how SC and gene activity locally change after reversing or knocking out each gene"
   ]
  },
  {
   "cell_type": "code",
   "execution_count": null,
   "id": "786cf620",
   "metadata": {},
   "outputs": [],
   "source": [
    "@jit(nopython=True)\n",
    "def run_system_numba_ko(nb_genes: int,\n",
    "                  init_expr: np.ndarray,\n",
    "                  inter_matrix: np.ndarray,\n",
    "                  sigma_basal: float,\n",
    "                  sigma_opt: float,\n",
    "                  epsilon: float,\n",
    "                  m: float,\n",
    "                  sigma_env: float,\n",
    "                  id_ko:int) -> np.ndarray:\n",
    "\n",
    "    step_size = 0.5\n",
    "    stop_dist = 1e-7\n",
    "    max_eval_steps = 200\n",
    "\n",
    "    temporal_expr = np.zeros((max_eval_steps+1, nb_genes))\n",
    "\n",
    "    # Initial values at t = 0\n",
    "    temporal_expr[0, :] = init_expr\n",
    "\n",
    "    # Iterate the system\n",
    "    it = 1\n",
    "    cont = True\n",
    "    while cont:\n",
    "        prev_expr = temporal_expr[it-1, :]\n",
    "        sigma_local = inter_matrix @ prev_expr\n",
    "        sigma_total = sigma_basal + sigma_local + sigma_env\n",
    "\n",
    "        promoter_activity = 1.0 / (1.0 + np.exp((sigma_total - sigma_opt)/epsilon))\n",
    "\n",
    "        # We subtract 1 to rescale between exp(-m) and 1\n",
    "        iter_expr = np.exp(m * (promoter_activity - 1.0))\n",
    "\n",
    "        nouv_expr = step_size * iter_expr + (1 - step_size) * prev_expr\n",
    "        \n",
    "        # Knockout\n",
    "        nouv_expr[id_ko] = 0\n",
    "\n",
    "        temporal_expr[it, :] = nouv_expr\n",
    "\n",
    "        # Check if we're done\n",
    "        dist = np.abs(nouv_expr - prev_expr).sum() / nb_genes\n",
    "\n",
    "        prev_expr = nouv_expr\n",
    "\n",
    "        if dist < stop_dist:\n",
    "            cont = False\n",
    "\n",
    "        if it == max_eval_steps:\n",
    "            cont = False\n",
    "        it += 1\n",
    "\n",
    "    temporal_expr = temporal_expr[:it, :]\n",
    "\n",
    "    return temporal_expr\n",
    "\n",
    "    \n",
    "def run_system_ko(self, sigma_env, id_ko):\n",
    "\n",
    "    init_expr = np.array([gene.basal_expression for gene in self.genes])\n",
    "    init_expr[id_ko] = 0.0\n",
    "\n",
    "    self.inter_matrix = self.compute_inter_matrix()\n",
    "\n",
    "    return run_system_numba_ko(nb_genes=self.nb_genes,\n",
    "                               init_expr=init_expr,\n",
    "                               inter_matrix=self.inter_matrix,\n",
    "                               sigma_basal=self.sigma_basal,\n",
    "                               sigma_opt=self.sigma_opt,\n",
    "                               epsilon=self.epsilon,\n",
    "                               m=self.m,\n",
    "                               sigma_env=sigma_env,\n",
    "                               id_ko=id_ko)"
   ]
  },
  {
   "cell_type": "code",
   "execution_count": null,
   "id": "60334b8c",
   "metadata": {},
   "outputs": [],
   "source": [
    "def count_genes_affected_by_change(indiv, change_type, sigma):\n",
    "        \n",
    "    if indiv.inter_matrix is None:\n",
    "        indiv.inter_matrix = indiv.compute_inter_matrix()\n",
    "    orig_activ = indiv.run_system(sigma)[-1, :] > (1 + np.exp(- indiv.m)) / 2\n",
    "\n",
    "    total_diff = [0, 0, 0] # Count per gene type\n",
    "\n",
    "    for i_changed in range(indiv.nb_genes):\n",
    "        clone = indiv.clone()\n",
    "        if change_type == 'inversion':\n",
    "            clone.genes[i_changed].orientation = 1 - clone.genes[i_changed].orientation\n",
    "            clone.inter_matrix = clone.compute_inter_matrix()\n",
    "            clone_activ = clone.run_system(sigma)[-1, :] > (1 + np.exp(- indiv.m)) / 2\n",
    "            \n",
    "        elif change_type == 'knockout':\n",
    "            clone_expr = run_system_ko(clone, sigma, id_ko=i_changed)\n",
    "            clone_activ = clone_expr[-1, :] > (1 + np.exp(- indiv.m)) / 2\n",
    "\n",
    "        for i_gene in range(indiv.nb_genes):\n",
    "            if (i_gene != i_changed) and (orig_activ[i_gene] != clone_activ[i_gene]):\n",
    "                # count by class of the modified gene\n",
    "                total_diff[indiv.genes[i_changed].gene_type] += 1\n",
    "        \n",
    "\n",
    "    return total_diff"
   ]
  },
  {
   "cell_type": "code",
   "execution_count": null,
   "id": "4e32eb2f",
   "metadata": {},
   "outputs": [],
   "source": [
    "def count_genes_affected_by_change_all(exp_path, gen, change_type, sigma):\n",
    "    rep_dirs = sorted([d for d in exp_path.iterdir() if (d.is_dir() and d.name.startswith(\"rep\"))])\n",
    "    nb_reps = len(rep_dirs)\n",
    "    \n",
    "    count = [] # list of (1, 3) np arrays\n",
    "    \n",
    "    for i_rep in range(nb_reps):\n",
    "        indiv = evotsc_lib.get_best_indiv(exp_path.joinpath(f'rep{i_rep:02}'), gen=gen)\n",
    "        count.append(count_genes_affected_by_change(indiv, change_type, sigma))\n",
    "        \n",
    "    nb_genes_per_type = params[\"nb_genes\"] / len(gene_types)\n",
    "        \n",
    "    return pd.DataFrame(count, columns=gene_types) / nb_genes_per_type"
   ]
  },
  {
   "cell_type": "code",
   "execution_count": null,
   "id": "7760382a",
   "metadata": {},
   "outputs": [],
   "source": [
    "def count_genes_affected_by_change_random(rand_indivs, change_type, sigma):\n",
    "    count = []\n",
    "        \n",
    "    for indiv in rand_indivs:\n",
    "        count.append(count_genes_affected_by_change(indiv, change_type, sigma))\n",
    "        \n",
    "    nb_genes_per_type = params[\"nb_genes\"] / len(gene_types)\n",
    "    \n",
    "    return pd.DataFrame(count, columns=gene_types) / nb_genes_per_type"
   ]
  },
  {
   "cell_type": "code",
   "execution_count": null,
   "id": "034c2987",
   "metadata": {},
   "outputs": [],
   "source": [
    "def gather_genes_affected_by_change(exp_path, gen, change_type, nb_rand):\n",
    "    \n",
    "    # Experimental data\n",
    "    exp_env_A = count_genes_affected_by_change_all(exp_path, gen, change_type, sigma=params['sigma_A'])\n",
    "    exp_env_B = count_genes_affected_by_change_all(exp_path, gen, change_type, sigma=params['sigma_B'])\n",
    "\n",
    "    # Random individuals\n",
    "    rand_indivs = []\n",
    "    mutation = evotsc.Mutation(inversion_poisson_lam=params['inversion_poisson_lam'])\n",
    "    for i_rand in range(nb_rand):\n",
    "        indiv = evotsc_lib.make_random_indiv(intergene=int(params['intergene']),\n",
    "                                             gene_length=int(params['gene_length']),\n",
    "                                             nb_genes=int(params['nb_genes']),\n",
    "                                             default_basal_expression=params['default_basal_expression'],\n",
    "                                             interaction_dist=params['interaction_dist'],\n",
    "                                             interaction_coef=params['interaction_coef'],\n",
    "                                             sigma_basal=params['sigma_basal'],\n",
    "                                             sigma_opt=params['sigma_opt'],\n",
    "                                             epsilon=params['epsilon'],\n",
    "                                             m=params['m'],\n",
    "                                             selection_coef=params['selection_coef'],\n",
    "                                             mutation=mutation,\n",
    "                                             rng=rng,\n",
    "                                             nb_mutations=100)\n",
    "        rand_indivs.append(indiv)\n",
    "    \n",
    "    rand_env_A = count_genes_affected_by_change_random(rand_indivs, change_type, sigma=params['sigma_A'])\n",
    "    rand_env_B = count_genes_affected_by_change_random(rand_indivs, change_type, sigma=params['sigma_B'])\n",
    "    \n",
    "    return [exp_env_A, rand_env_A, exp_env_B, rand_env_B]"
   ]
  },
  {
   "cell_type": "code",
   "execution_count": null,
   "id": "51324012",
   "metadata": {
    "scrolled": false
   },
   "outputs": [],
   "source": [
    "affected_genes_ko = gather_genes_affected_by_change(exp_path, gen, 'knockout', nb_rand=100)"
   ]
  },
  {
   "cell_type": "code",
   "execution_count": null,
   "id": "01e53530",
   "metadata": {},
   "outputs": [],
   "source": [
    "affected_genes_inversion = gather_genes_affected_by_change(exp_path, gen, 'inversion', nb_rand=100)"
   ]
  },
  {
   "cell_type": "code",
   "execution_count": null,
   "id": "2189b883",
   "metadata": {},
   "outputs": [],
   "source": [
    "def plot_single_change_effect(affected_genes, change_type):\n",
    "    \n",
    "    fig, ax = plt.subplots(figsize=(8, 5), dpi=300)\n",
    "        \n",
    "    [exp_env_A, rand_env_A, exp_env_B, rand_env_B] = affected_genes\n",
    "    \n",
    "    width = 0.2\n",
    "    x_pos = np.array([0, 4*width, 9*width, 13*width])\n",
    "    delta = np.array([-width, 0, width])\n",
    "\n",
    "    rects = {}\n",
    "    \n",
    "    for i_gene_type, gene_type in enumerate(gene_types):\n",
    "        rects[gene_type] = plt.bar(x_pos + delta[i_gene_type],\n",
    "                                   [exp_env_A[gene_type].mean(), rand_env_A[gene_type].mean(),\n",
    "                                    exp_env_B[gene_type].mean(), rand_env_B[gene_type].mean()],\n",
    "                                    width=width, color=gene_type_color[i_gene_type])\n",
    "        plt.boxplot([exp[gene_type] for exp in affected_genes], positions=x_pos + delta[i_gene_type], \n",
    "                    manage_ticks=False, widths=0.1, medianprops={'color':'black'})\n",
    "    \n",
    "    for i_rect, rect in enumerate(rects['A']):  # middle rects\n",
    "        plt.annotate(f\"n = {len(affected_genes[i_rect]['A'])}\",\n",
    "                    xy=(rect.get_x() + rect.get_width()/2, 0),\n",
    "                    xytext=(0, 3),\n",
    "                    ha='center',\n",
    "                    textcoords=\"offset points\",\n",
    "                    color='black')\n",
    "    \n",
    "    plt.xticks(ticks=x_pos, labels=['Evolved env. A', 'Random env. A', 'Evolved env. B', 'Random env. B'])\n",
    "\n",
    "    ax.yaxis.set_major_locator(ticker.MultipleLocator(1))\n",
    "\n",
    "    plt.ylabel(f'Genes switched on or off ({change_type})')\n",
    "    plt.ylim(0, 11)\n",
    "    plt.grid(axis='y', linestyle=':')\n",
    "    \n",
    "    patches = ([mpl.patches.Patch(facecolor=color, edgecolor='black', label=label)\n",
    "                    for color, label in zip(gene_type_color, gene_types)])\n",
    "    plt.legend(handles=patches, title='Gene type')#, title_fontsize=15, fontsize=15)\n",
    "\n",
    "    #plt.suptitle(exp_path.name)\n",
    "    \n",
    "    plt.savefig(exp_path.joinpath(f'switches_{change_type}.pdf'), bbox_inches='tight')\n",
    "    plt.show()"
   ]
  },
  {
   "cell_type": "code",
   "execution_count": null,
   "id": "3104e9f2",
   "metadata": {},
   "outputs": [],
   "source": [
    "plot_single_change_effect(affected_genes_ko, change_type='knockout')"
   ]
  },
  {
   "cell_type": "code",
   "execution_count": null,
   "id": "02034db4",
   "metadata": {},
   "outputs": [],
   "source": [
    "plot_single_change_effect(affected_genes_inversion, change_type='inversion')"
   ]
  },
  {
   "cell_type": "code",
   "execution_count": null,
   "id": "fc858456",
   "metadata": {},
   "outputs": [],
   "source": []
  }
 ],
 "metadata": {
  "kernelspec": {
   "display_name": "Python 3 (ipykernel)",
   "language": "python",
   "name": "python3"
  },
  "language_info": {
   "codemirror_mode": {
    "name": "ipython",
    "version": 3
   },
   "file_extension": ".py",
   "mimetype": "text/x-python",
   "name": "python",
   "nbconvert_exporter": "python",
   "pygments_lexer": "ipython3",
   "version": "3.9.7"
  }
 },
 "nbformat": 4,
 "nbformat_minor": 5
}
