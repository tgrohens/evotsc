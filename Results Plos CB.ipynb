{
 "cells": [
  {
   "cell_type": "markdown",
   "id": "972321f6",
   "metadata": {},
   "source": [
    "# Figures for the Plos CB paper that use data from evolutionary runs"
   ]
  },
  {
   "cell_type": "code",
   "execution_count": null,
   "id": "15f9d6d7",
   "metadata": {},
   "outputs": [],
   "source": [
    "import matplotlib as mpl\n",
    "import matplotlib.pyplot as plt\n",
    "import numpy as np\n",
    "import pandas as pd\n",
    "import pathlib\n",
    "import pickle\n",
    "import itertools"
   ]
  },
  {
   "cell_type": "code",
   "execution_count": null,
   "id": "78111170",
   "metadata": {},
   "outputs": [],
   "source": [
    "import importlib\n",
    "import evotsc\n",
    "import evotsc_run\n",
    "import evotsc_plot\n",
    "importlib.reload(evotsc)\n",
    "importlib.reload(evotsc_run)\n",
    "importlib.reload(evotsc_plot)"
   ]
  },
  {
   "cell_type": "code",
   "execution_count": null,
   "id": "5ae51f61",
   "metadata": {},
   "outputs": [],
   "source": [
    "exp_path = pathlib.Path('/Users/theotime/Desktop/evotsc/pci/main/')\n",
    "gen=1000_000"
   ]
  },
  {
   "cell_type": "code",
   "execution_count": null,
   "id": "d4600ece",
   "metadata": {},
   "outputs": [],
   "source": [
    "rep_dirs = sorted([d for d in exp_path.iterdir() if (d.is_dir() and d.name.startswith(\"rep\"))])\n",
    "params = evotsc_run.read_params(rep_dirs[0])\n",
    "params['m'] = 2.5 # Temporary fix because the parameter wasn't saved"
   ]
  },
  {
   "cell_type": "code",
   "execution_count": null,
   "id": "9dac7216",
   "metadata": {},
   "outputs": [],
   "source": [
    "rng = np.random.default_rng(seed=123456)"
   ]
  },
  {
   "cell_type": "code",
   "execution_count": null,
   "id": "5558094a",
   "metadata": {},
   "outputs": [],
   "source": [
    "gene_types = ['AB', 'A', 'B'] # Name of each gene type\n",
    "gene_type_color = ['tab:blue', 'tab:red', 'tab:green'] #AB, A, B\n",
    "dpi = 300"
   ]
  },
  {
   "cell_type": "markdown",
   "id": "8234b4f4",
   "metadata": {},
   "source": [
    "## Helper funcs"
   ]
  },
  {
   "cell_type": "code",
   "execution_count": null,
   "id": "87f6e58f",
   "metadata": {},
   "outputs": [],
   "source": [
    "def get_best_indiv(rep_path, gen):\n",
    "    \n",
    "    with open(rep_path.joinpath(f'pop_gen_{gen:06}.evotsc'), 'rb') as save_file:\n",
    "        pop_rep = pickle.load(save_file)\n",
    "        \n",
    "    pop_rep.evaluate()\n",
    "    \n",
    "    best_fit = 0\n",
    "    best_indiv = pop_rep.individuals[0]\n",
    "    \n",
    "    try:\n",
    "        for indiv in pop_rep.individuals:\n",
    "            if indiv.fitness > best_fit:\n",
    "                best_fit = indiv.fitness\n",
    "                best_indiv = indiv\n",
    "    except AttributeError: # In the neutral control, individuals are not evaluated so there is no fitness field\n",
    "        pass\n",
    "    \n",
    "    return best_indiv"
   ]
  },
  {
   "cell_type": "code",
   "execution_count": null,
   "id": "2d466e03",
   "metadata": {},
   "outputs": [],
   "source": [
    "def make_random_indiv(default_basal_expression=None, nb_mut=0):\n",
    "    genes = evotsc.Gene.generate(intergene=int(params['intergene']),\n",
    "                                 length=int(params['gene_length']),\n",
    "                                 nb_genes=int(params['nb_genes']),\n",
    "                                 default_basal_expression=default_basal_expression,\n",
    "                                 rng=rng)\n",
    "    \n",
    "    indiv = evotsc.Individual(genes=genes,\n",
    "                              interaction_dist=int(params['interaction_dist']),\n",
    "                              interaction_coef=params['interaction_coef'],\n",
    "                              sigma_basal=params['sigma_basal'],\n",
    "                              sigma_opt=params['sigma_opt'],\n",
    "                              epsilon=params['epsilon'],\n",
    "                              m=params['m'],\n",
    "                              selection_coef=params['selection_coef'],\n",
    "                              rng=rng)\n",
    "    \n",
    "    mutation = evotsc.Mutation(inversion_poisson_lam=params['inversion_poisson_lam'])\n",
    "    \n",
    "    for i_mut in range(nb_mut):\n",
    "        indiv.mutate(mutation)\n",
    "    \n",
    "    return indiv"
   ]
  },
  {
   "cell_type": "markdown",
   "id": "58d84e79",
   "metadata": {},
   "source": [
    "## Evolved individual: influence of env. supercoiling on final gene expression levels"
   ]
  },
  {
   "cell_type": "code",
   "execution_count": null,
   "id": "a61681c5",
   "metadata": {},
   "outputs": [],
   "source": [
    "def compute_activity_sigma_per_type(indiv, sigmas):\n",
    "    \n",
    "    # Initialize the individual\n",
    "    indiv.evaluate(0.0, 0.0)\n",
    "\n",
    "    activ = np.zeros((3, len(sigmas))) # Compute activity for each gene type\n",
    "\n",
    "    for i_sigma, sigma_env in enumerate(sigmas):\n",
    "        # Evaluate the individual in the environment with sigma\n",
    "        temporal_expr = indiv.run_system(sigma_env)\n",
    "\n",
    "        # Compute total gene activation levels        \n",
    "        for i_gene, gene in enumerate(indiv.genes):\n",
    "            activ[gene.gene_type][i_sigma] += temporal_expr[-1, i_gene]\n",
    "            \n",
    "    activ /= (indiv.nb_genes / 3)\n",
    "    \n",
    "    return activ"
   ]
  },
  {
   "cell_type": "code",
   "execution_count": null,
   "id": "b21df0fc",
   "metadata": {},
   "outputs": [],
   "source": [
    "# See how gene activity levels depend on environmental supercoiling\n",
    "def plot_activity_sigma_per_type(activ, sigmas, plot_title=None, plot_name=None):\n",
    "    \n",
    "    colors = ['tab:blue', 'tab:red', 'tab:green'] # AB: blue, A: red, B: green\n",
    "            \n",
    "        \n",
    "    plt.figure(figsize=(6, 4), dpi=dpi)\n",
    "    plt.xlabel('Environment supercoiling $\\sigma_{env}$')\n",
    "    plt.ylabel('Average gene activity by type')\n",
    "    plt.ylim(-0.05, 1.05)\n",
    "    plt.xlim(sigmas[0], sigmas[-1])\n",
    "    plt.grid(linestyle=':')\n",
    "    \n",
    "    if plot_title:\n",
    "        plt.title(plot_title)\n",
    "\n",
    "    for i_gene_type, gene_type in enumerate(gene_types):\n",
    "        plt.plot(sigmas, activ[i_gene_type, :],\n",
    "                 color=gene_type_color[i_gene_type],\n",
    "                 linewidth=2,\n",
    "                 label=gene_type)\n",
    "\n",
    "    # Add sigma_A and sigma_B\n",
    "    y_min, y_max = plt.ylim()\n",
    "    plt.vlines(params['sigma_A'], y_min, y_max, linestyle='--', linewidth=2, color='black')\n",
    "    plt.vlines(params['sigma_B'], y_min, y_max, linestyle='--', linewidth=2, color='black')\n",
    "    # To make math bold, use \\mathbf{}\n",
    "    plt.text(params['sigma_A'], y_min, '$\\sigma_A$', va='top', fontsize='large')\n",
    "    plt.text(params['sigma_B'], y_min, '$\\sigma_B$', va='top', fontsize='large')\n",
    "    plt.ylim(y_min, y_max)\n",
    "    \n",
    "    # Add 1/2 expression level\n",
    "    half_expr = (1 + np.exp(- params['m'])) / 2\n",
    "    plt.hlines(half_expr, sigmas[0], sigmas[-1], linestyle=':', linewidth=2,\n",
    "           color='tab:pink', label='Activation threshold')\n",
    "\n",
    "    \n",
    "    plt.legend()\n",
    "    \n",
    "    plt.tight_layout()\n",
    "        \n",
    "    if plot_name:\n",
    "        plt.savefig(plot_name, dpi=dpi, bbox_inches='tight')\n",
    "        \n",
    "    plt.show()\n",
    "    plt.close()"
   ]
  },
  {
   "cell_type": "code",
   "execution_count": null,
   "id": "c0cb9f0e",
   "metadata": {},
   "outputs": [],
   "source": [
    "def plot_best_activ_by_sigma():\n",
    "    rep_dirs = sorted([d for d in exp_path.iterdir() if (d.is_dir() and d.name.startswith(\"rep\"))])\n",
    "    nb_reps = len(rep_dirs)\n",
    "    \n",
    "    nb_sigmas = 250\n",
    "    sigmas = np.linspace(-0.05, 0.05, nb_sigmas)\n",
    "\n",
    "    for i_rep in range(nb_reps):\n",
    "        indiv = get_best_indiv(exp_path.joinpath(f'rep{i_rep:02}'), gen=gen)\n",
    "            \n",
    "            \n",
    "        activ = compute_activity_sigma_per_type(indiv, sigmas)\n",
    "\n",
    "        plot_activity_sigma_per_type(activ, sigmas, plot_title=f'Best replicate {i_rep}',\n",
    "                                     plot_name=exp_path.joinpath(f'activity_sigmas_best_rep{i_rep}.pdf'))"
   ]
  },
  {
   "cell_type": "code",
   "execution_count": null,
   "id": "1bec0abe",
   "metadata": {},
   "outputs": [],
   "source": [
    "#plot_best_activ_by_sigma()"
   ]
  },
  {
   "cell_type": "code",
   "execution_count": null,
   "id": "889ef2a8",
   "metadata": {},
   "outputs": [],
   "source": [
    "def plot_avg_best_activ_by_sigma():\n",
    "    rep_dirs = sorted([d for d in exp_path.iterdir() if (d.is_dir() and d.name.startswith(\"rep\"))])\n",
    "    nb_reps = len(rep_dirs)\n",
    "    \n",
    "    nb_sigmas = 250\n",
    "    sigmas = np.linspace(-0.05, 0.05, nb_sigmas)\n",
    "    activ = np.zeros((3, len(sigmas)))\n",
    "\n",
    "    for i_rep in range(nb_reps):\n",
    "        indiv = get_best_indiv(exp_path.joinpath(f'rep{i_rep:02}'), gen=gen)\n",
    "            \n",
    "            \n",
    "        activ += compute_activity_sigma_per_type(indiv, sigmas)\n",
    "        \n",
    "    activ /= nb_reps\n",
    "\n",
    "    plot_activity_sigma_per_type(activ, sigmas, #plot_title='Average over all replicas',\n",
    "                                 plot_name=exp_path.joinpath(f'activity_sigmas_avg.pdf'))"
   ]
  },
  {
   "cell_type": "code",
   "execution_count": null,
   "id": "10ad3068",
   "metadata": {},
   "outputs": [],
   "source": [
    "plot_avg_best_activ_by_sigma()"
   ]
  },
  {
   "cell_type": "markdown",
   "id": "aaece912",
   "metadata": {},
   "source": [
    "## See how supercoiling / gene activity locally changes after switching each gene"
   ]
  },
  {
   "cell_type": "code",
   "execution_count": null,
   "id": "60334b8c",
   "metadata": {},
   "outputs": [],
   "source": [
    "def count_genes_affected_by_reversal(indiv, sigma):\n",
    "        \n",
    "    if indiv.inter_matrix is None:\n",
    "        indiv.inter_matrix = indiv.compute_inter_matrix()\n",
    "    orig_activ = indiv.run_system(sigma)[-1, :] > (1 + np.exp(- indiv.m)) / 2\n",
    "\n",
    "    total_diff = [0, 0, 0] # Count per gene type\n",
    "\n",
    "    for i_switched in range(indiv.nb_genes):\n",
    "        clone = indiv.clone()\n",
    "        clone.genes[i_switched].orientation = 1 - clone.genes[i_switched].orientation\n",
    "        clone.inter_matrix = clone.compute_inter_matrix()\n",
    "        #evotsc_plot.plot_genome_and_tsc(indiv=clone,\n",
    "        #                    sigma=sigma,\n",
    "        #                    show_bar=True,\n",
    "        #                    plot_name=exp_path.joinpath(f'switch/rep_{i_gene:02}_switch_gene_{i_switched:02}.pdf'))\n",
    "\n",
    "        clone_activ = clone.run_system(sigma)[-1, :] > (1 + np.exp(- indiv.m)) / 2\n",
    "\n",
    "        for i_gene in range(indiv.nb_genes):\n",
    "            if orig_activ[i_gene] != clone_activ[i_gene]:\n",
    "                # count by class of the switched gene\n",
    "                total_diff[indiv.genes[i_switched].gene_type] += 1\n",
    "        \n",
    "\n",
    "    return total_diff"
   ]
  },
  {
   "cell_type": "code",
   "execution_count": null,
   "id": "4e32eb2f",
   "metadata": {},
   "outputs": [],
   "source": [
    "def count_genes_affected_by_reversal_all(exp_path, gen, sigma):\n",
    "    rep_dirs = sorted([d for d in exp_path.iterdir() if (d.is_dir() and d.name.startswith(\"rep\"))])\n",
    "    nb_reps = len(rep_dirs)\n",
    "    \n",
    "    count = [] # list of (1, 3) np arrays\n",
    "    \n",
    "    for i_rep in range(nb_reps):\n",
    "        indiv = get_best_indiv(exp_path.joinpath(f'rep{i_rep:02}'), gen=gen)\n",
    "        count.append(count_genes_affected_by_reversal(indiv, sigma))\n",
    "        \n",
    "    nb_genes_per_type = params[\"nb_genes\"] / len(gene_types)\n",
    "        \n",
    "    return pd.DataFrame(count, columns=gene_types) / nb_genes_per_type"
   ]
  },
  {
   "cell_type": "code",
   "execution_count": null,
   "id": "7760382a",
   "metadata": {},
   "outputs": [],
   "source": [
    "def count_genes_affected_by_reversal_random(nb_indiv, sigma):\n",
    "    count = []\n",
    "    \n",
    "    for i_rep in range(nb_indiv):\n",
    "        indiv = make_random_indiv(nb_mut=100)\n",
    "        count.append(count_genes_affected_by_reversal(indiv, sigma))\n",
    "        \n",
    "    nb_genes_per_type = params[\"nb_genes\"] / len(gene_types)\n",
    "    \n",
    "    return pd.DataFrame(count, columns=gene_types) / nb_genes_per_type"
   ]
  },
  {
   "cell_type": "code",
   "execution_count": null,
   "id": "2189b883",
   "metadata": {},
   "outputs": [],
   "source": [
    "def plot_single_inversion_effect(exp_path, gen):\n",
    "    \n",
    "    plt.figure(figsize=(8, 5), dpi=300)\n",
    "    \n",
    "    exp_env_A = count_genes_affected_by_reversal_all(exp_path, gen, sigma=params['sigma_A'])\n",
    "    exp_env_B = count_genes_affected_by_reversal_all(exp_path, gen, sigma=params['sigma_B'])\n",
    "    rand_env_A = count_genes_affected_by_reversal_random(100, params['sigma_A'])\n",
    "    rand_env_B = count_genes_affected_by_reversal_random(100, params['sigma_B'])\n",
    "    \n",
    "    all_data = [exp_env_A, rand_env_A, exp_env_B, rand_env_B]\n",
    "    \n",
    "    width = 0.2\n",
    "    x_pos = np.array([0, 4*width, 9*width, 13*width])\n",
    "    delta = np.array([-width, 0, width])\n",
    "\n",
    "    rects = {}\n",
    "    \n",
    "    for i_gene_type, gene_type in enumerate(gene_types):\n",
    "        rects[gene_type] = plt.bar(x_pos + delta[i_gene_type],\n",
    "                                   [exp_env_A[gene_type].mean(), rand_env_A[gene_type].mean(),\n",
    "                                    exp_env_B[gene_type].mean(), rand_env_B[gene_type].mean()],\n",
    "                                    width=width, color=gene_type_color[i_gene_type])\n",
    "        plt.boxplot([exp[gene_type] for exp in all_data], positions=x_pos + delta[i_gene_type], \n",
    "                    manage_ticks=False, widths=0.1, medianprops={'color':'black'})\n",
    "    \n",
    "    for i_rect, rect in enumerate(rects['A']):  # middle rects\n",
    "        plt.annotate(f\"n = {len(all_data[i_rect]['A'])}\",\n",
    "                    xy=(rect.get_x() + rect.get_width()/2, 0),\n",
    "                    xytext=(0, 3),\n",
    "                    ha='center',\n",
    "                    textcoords=\"offset points\",\n",
    "                    color='black')\n",
    "    \n",
    "    plt.xticks(ticks=x_pos, labels=['Evolved env. A', 'Random env. A', 'Evolved env. B', 'Random env. B'])\n",
    "\n",
    "    plt.ylabel('Avg. # of genes switched by inverting a gene of type')\n",
    "    #plt.ylim(0, 11)\n",
    "    plt.grid(axis='y', linestyle=':')\n",
    "    \n",
    "    patches = ([mpl.patches.Patch(facecolor=color, edgecolor='black', label=label)\n",
    "                    for color, label in zip(gene_type_color, gene_types)])\n",
    "    plt.legend(handles=patches, title='Gene type')#, title_fontsize=15, fontsize=15)\n",
    "\n",
    "    #plt.suptitle(exp_path.name)\n",
    "    \n",
    "    plt.savefig(exp_path.joinpath('inversion_switches.pdf'), bbox_inches='tight')\n",
    "    plt.show()"
   ]
  },
  {
   "cell_type": "code",
   "execution_count": null,
   "id": "02034db4",
   "metadata": {},
   "outputs": [],
   "source": [
    "plot_single_inversion_effect(exp_path, gen)"
   ]
  },
  {
   "cell_type": "code",
   "execution_count": null,
   "id": "69758f89",
   "metadata": {},
   "outputs": [],
   "source": []
  }
 ],
 "metadata": {
  "kernelspec": {
   "display_name": "Python 3 (ipykernel)",
   "language": "python",
   "name": "python3"
  },
  "language_info": {
   "codemirror_mode": {
    "name": "ipython",
    "version": 3
   },
   "file_extension": ".py",
   "mimetype": "text/x-python",
   "name": "python",
   "nbconvert_exporter": "python",
   "pygments_lexer": "ipython3",
   "version": "3.9.7"
  }
 },
 "nbformat": 4,
 "nbformat_minor": 5
}
