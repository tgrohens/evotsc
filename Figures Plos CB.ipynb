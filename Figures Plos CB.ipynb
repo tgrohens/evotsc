{
 "cells": [
  {
   "cell_type": "markdown",
   "id": "bdc5e382",
   "metadata": {},
   "source": [
    "# Figures for the Plos CB paper that do not use data from evolutionary runs"
   ]
  },
  {
   "cell_type": "code",
   "execution_count": null,
   "id": "a43097c8",
   "metadata": {},
   "outputs": [],
   "source": [
    "import matplotlib as mpl\n",
    "import matplotlib.pyplot as plt\n",
    "import numpy as np\n",
    "import pathlib\n",
    "import pickle\n",
    "import itertools"
   ]
  },
  {
   "cell_type": "code",
   "execution_count": null,
   "id": "17a5ee8c",
   "metadata": {},
   "outputs": [],
   "source": [
    "import importlib\n",
    "import evotsc\n",
    "import evotsc_run\n",
    "import evotsc_plot\n",
    "importlib.reload(evotsc)\n",
    "importlib.reload(evotsc_run)\n",
    "importlib.reload(evotsc_plot)"
   ]
  },
  {
   "cell_type": "code",
   "execution_count": null,
   "id": "7cca8c7b",
   "metadata": {},
   "outputs": [],
   "source": [
    "## Constants\n",
    "# Population\n",
    "nb_indivs = 100\n",
    "nb_genes = 60\n",
    "\n",
    "# Genome\n",
    "intergene = 125\n",
    "gene_length = 1000\n",
    "interaction_dist = 5000\n",
    "interaction_coef = 0.03\n",
    "sigma_basal = -0.066\n",
    "sigma_opt = -0.042\n",
    "epsilon = 0.005\n",
    "m = 2.5\n",
    "default_basal_expression = (1 + np.exp(- m)) / 2 # Average of the maximum and minimum expression levels in the model\n",
    "\n",
    "# Fitness\n",
    "selection_coef = 50\n",
    "\n",
    "# Selection\n",
    "selection_method = \"fit-prop\" # Choices: \"fit-prop\", \"rank\", \"exp-rank\"\n",
    "\n",
    "# Environment\n",
    "sigma_A = 0.01\n",
    "sigma_B = -0.01\n",
    "\n",
    "# Mutations\n",
    "inversion_poisson_lam = 2.0\n",
    "intergene_poisson_lam = 0.0 #2.0\n",
    "intergene_mutation_var = 0.0 #1e1\n",
    "basal_sc_mutation_prob = 0.0 #1e-1\n",
    "basal_sc_mutation_var = 0.0 #1e-4"
   ]
  },
  {
   "cell_type": "code",
   "execution_count": null,
   "id": "f7b2f4e9",
   "metadata": {},
   "outputs": [],
   "source": [
    "gene_types = ['AB', 'A', 'B'] # Name of each gene type\n",
    "gene_type_color = ['tab:blue', 'tab:red', 'tab:green'] #AB, A, B\n",
    "dpi = 300"
   ]
  },
  {
   "cell_type": "code",
   "execution_count": null,
   "id": "0abf279c",
   "metadata": {},
   "outputs": [],
   "source": [
    "rng = np.random.default_rng(seed=123456)"
   ]
  },
  {
   "cell_type": "markdown",
   "id": "a3adca56",
   "metadata": {},
   "source": [
    "# Helper functions"
   ]
  },
  {
   "cell_type": "code",
   "execution_count": null,
   "id": "6a1ef1dc",
   "metadata": {},
   "outputs": [],
   "source": [
    "def plot_expr(indiv, sigma_env, plot_title=None, plot_name=None):\n",
    "    \n",
    "    if not indiv.already_evaluated:\n",
    "        indiv.evaluate(sigma_env, sigma_env)\n",
    "    \n",
    "    # Plot only environment A\n",
    "    temporal_expr = indiv.run_system(sigma_env)\n",
    "\n",
    "    nb_genes, nb_steps = temporal_expr.shape\n",
    "\n",
    "    colors = mpl.cm.get_cmap('viridis', indiv.nb_genes)(range(indiv.nb_genes))\n",
    "\n",
    "    plt.figure(figsize=(8, 5), dpi=dpi)\n",
    "\n",
    "    plt.ylim(-0.05, 1.05)\n",
    "\n",
    "    for gene in range(indiv.nb_genes):\n",
    "        linestyle = 'solid' if indiv.genes[gene].orientation == 0 else 'dashed'\n",
    "        plt.plot(temporal_expr[:, indiv.genes[gene].id],\n",
    "                 linestyle=linestyle,\n",
    "                 linewidth=2,\n",
    "                 color=colors[indiv.genes[gene].id],\n",
    "                 label=f'Gene {indiv.genes[gene].id}')\n",
    "\n",
    "    plt.grid(linestyle=':')\n",
    "    plt.xlabel('Iteration steps', fontsize='large')\n",
    "    plt.ylabel('Gene expression level', fontsize='large')\n",
    "    \n",
    "    #plt.legend(ncol=2)\n",
    "\n",
    "    if plot_title:\n",
    "        plt.title(plot_title)\n",
    "\n",
    "    plt.tight_layout()\n",
    "    if plot_name:\n",
    "        plt.savefig(plot_name + '.pdf', dpi=300, bbox_inches='tight')\n",
    "    plt.show()\n",
    "    plt.close()\n"
   ]
  },
  {
   "cell_type": "code",
   "execution_count": null,
   "id": "c6a7af11",
   "metadata": {},
   "outputs": [],
   "source": [
    "def make_random_indiv(nb_genes=nb_genes, default_basal_expression=None, nb_mut=0):\n",
    "    genes = evotsc.Gene.generate(intergene=intergene,\n",
    "                                 length=gene_length,\n",
    "                                 nb_genes=nb_genes,\n",
    "                                 default_basal_expression=default_basal_expression,\n",
    "                                 rng=rng)\n",
    "    \n",
    "    indiv = evotsc.Individual(genes=genes,\n",
    "                              interaction_dist=interaction_dist,\n",
    "                              interaction_coef=interaction_coef,\n",
    "                              sigma_basal=sigma_basal,\n",
    "                              sigma_opt=sigma_opt,\n",
    "                              epsilon=epsilon,\n",
    "                              m=m,\n",
    "                              selection_coef=selection_coef,\n",
    "                              rng=rng)\n",
    "    \n",
    "    mutation = evotsc.Mutation(basal_sc_mutation_prob=basal_sc_mutation_prob,\n",
    "                               basal_sc_mutation_var=basal_sc_mutation_var,\n",
    "                               intergene_poisson_lam=intergene_poisson_lam,\n",
    "                               intergene_mutation_var=intergene_mutation_var,\n",
    "                               inversion_poisson_lam=inversion_poisson_lam)\n",
    "    \n",
    "    for i_mut in range(nb_mut):\n",
    "        indiv.mutate(mutation)\n",
    "    \n",
    "    return indiv"
   ]
  },
  {
   "cell_type": "code",
   "execution_count": null,
   "id": "9d62cc7b",
   "metadata": {},
   "outputs": [],
   "source": [
    "def compute_extended_phenotype(indiv, sigmas):\n",
    "\n",
    "    # Initialize the individual (compute the inter matrix)\n",
    "    indiv.evaluate(0, 0)\n",
    "\n",
    "    nb_sigmas = len(sigmas)\n",
    "    ext_phen = np.zeros((indiv.nb_genes, nb_sigmas))\n",
    "\n",
    "    for i_sigma, sigma_env in enumerate(sigmas):\n",
    "        temporal_expr = indiv.run_system(sigma_env)\n",
    "        for i_gene, gene in enumerate(indiv.genes):\n",
    "            ext_phen[i_gene, i_sigma] = temporal_expr[-1, i_gene]\n",
    "    \n",
    "    return ext_phen"
   ]
  },
  {
   "cell_type": "markdown",
   "id": "691fcc9e",
   "metadata": {},
   "source": [
    "# Random individual: influence of environmental supercoiling on final gene expression levels"
   ]
  },
  {
   "cell_type": "code",
   "execution_count": null,
   "id": "e653f8d4",
   "metadata": {},
   "outputs": [],
   "source": [
    "init_indiv = make_random_indiv(nb_genes=20, nb_mut=25)"
   ]
  },
  {
   "cell_type": "code",
   "execution_count": null,
   "id": "3bab58b3",
   "metadata": {},
   "outputs": [],
   "source": [
    "plot_expr(init_indiv, sigma_env=0, plot_title='', plot_name='random_gene_expr')"
   ]
  },
  {
   "cell_type": "code",
   "execution_count": null,
   "id": "8aa95639",
   "metadata": {},
   "outputs": [],
   "source": [
    "init_indiv.already_evaluated=False\n",
    "evotsc_plot.plot_expr_AB(init_indiv, sigma_A=sigma_A, sigma_B=sigma_B, color_by_type=False, plot_name='random_gene_expr_AB')"
   ]
  },
  {
   "cell_type": "code",
   "execution_count": null,
   "id": "81308ce6",
   "metadata": {},
   "outputs": [],
   "source": [
    "importlib.reload(evotsc_plot)\n",
    "evotsc_plot.plot_genome_and_tsc(init_indiv, sigma=0, color_by_type=False, print_ids=True, id_interval=1,\n",
    "                                use_letters=True, show_bar=True, plot_name='random_genome_and_tsc.pdf')"
   ]
  },
  {
   "cell_type": "code",
   "execution_count": null,
   "id": "c6aafd27",
   "metadata": {},
   "outputs": [],
   "source": [
    "# See how gene activity levels depend on environmental supercoiling\n",
    "def plot_activity_sigma_all_genes(indiv, plot_title=None, plot_name=None):\n",
    "\n",
    "    colors = mpl.cm.get_cmap('viridis', indiv.nb_genes)(range(indiv.nb_genes))\n",
    "    \n",
    "    nb_sigmas = 1000\n",
    "    \n",
    "    plt.figure(figsize=(6, 4), dpi=dpi)\n",
    "    plt.xlabel('Environment supercoiling')\n",
    "    plt.ylabel('Final gene activity')\n",
    "    plt.ylim(-0.05, 1.05)\n",
    "    plt.grid(linestyle=':')\n",
    "    if plot_title:\n",
    "        plt.title(plot_title)\n",
    "\n",
    "    sigmas = np.linspace(sigma_opt - 0.0125, sigma_opt + 0.1, nb_sigmas)\n",
    "    ext_phen = compute_extended_phenotype(indiv, sigmas)\n",
    "\n",
    "    for i_gene in range(indiv.nb_genes):\n",
    "        linestyle = 'solid' if indiv.genes[i_gene].orientation == 0 else 'dashed'\n",
    "        plt.plot(sigmas, ext_phen[i_gene, :],\n",
    "                 linestyle=linestyle,\n",
    "                 color=colors[i_gene],\n",
    "                 label=f'Gene {i_gene}')\n",
    "        \n",
    "    # Plot what an isolated gene looks like\n",
    "    final_exprs = np.exp(m * (1.0 / (1.0 + np.exp((indiv.sigma_basal + sigmas - indiv.sigma_opt)/indiv.epsilon)) - 1.0))\n",
    "\n",
    "    plt.plot(sigmas, final_exprs, color='tab:red')\n",
    "        \n",
    "    #plt.legend(ncol=1)\n",
    "                \n",
    "    if plot_name:\n",
    "        plt.savefig(plot_name + '.pdf', dpi=dpi, bbox_inches='tight')"
   ]
  },
  {
   "cell_type": "code",
   "execution_count": null,
   "id": "d0ff015f",
   "metadata": {},
   "outputs": [],
   "source": [
    "plot_activity_sigma_all_genes(init_indiv, plot_title='Random individual', plot_name='random_no_switch')"
   ]
  },
  {
   "cell_type": "code",
   "execution_count": null,
   "id": "74c6318d",
   "metadata": {},
   "outputs": [],
   "source": [
    "def plot_all_single_switches(indiv):\n",
    "    for i_gene in range(indiv.nb_genes):\n",
    "        new_indiv = indiv.clone()\n",
    "        new_indiv.already_evaluated = False\n",
    "        # Switch one gene\n",
    "        new_indiv.genes[i_gene].orientation = 1 - new_indiv.genes[i_gene].orientation\n",
    "        plot_activity_sigma_all_genes(new_indiv,\n",
    "                                      plot_title=f'Random individual switched gene {i_gene}',\n",
    "                                      plot_name=f'random_switch_{i_gene}')"
   ]
  },
  {
   "cell_type": "code",
   "execution_count": null,
   "id": "69b0786c",
   "metadata": {},
   "outputs": [],
   "source": [
    "plot_all_single_switches(init_indiv)"
   ]
  },
  {
   "cell_type": "code",
   "execution_count": null,
   "id": "a303171d",
   "metadata": {},
   "outputs": [],
   "source": [
    "def plot_phenotypic_distance(indiv):\n",
    "\n",
    "    nb_sigmas = 50\n",
    "    sigmas = np.linspace(-0.25, 0.15, nb_sigmas)\n",
    "\n",
    "    indiv_phen = compute_extended_phenotype(indiv, sigmas)\n",
    "\n",
    "    max_switches = 3\n",
    "\n",
    "    all_switches = []\n",
    "\n",
    "    # The distance of each individual with k gene switches from the original individual\n",
    "    for nb_switches in range(1, max_switches+1):\n",
    "        phen_dist = []\n",
    "\n",
    "        for genes_to_switch in itertools.combinations(range(indiv.nb_genes), nb_switches):\n",
    "            new_indiv = indiv.clone()\n",
    "            new_indiv.already_evaluated = False\n",
    "\n",
    "            # Switch genes\n",
    "            for i_gene in genes_to_switch: \n",
    "                new_indiv.genes[i_gene].orientation = 1 - new_indiv.genes[i_gene].orientation\n",
    "\n",
    "            new_indiv_phen = compute_extended_phenotype(new_indiv, sigmas)\n",
    "\n",
    "            phen_dist.append(np.sqrt(np.square(indiv_phen - new_indiv_phen).sum()))\n",
    "\n",
    "        all_switches.append(phen_dist)\n",
    "            \n",
    "    plt.xlabel('Number of switches')\n",
    "    plt.xticks(range(1, max_switches+1))\n",
    "    plt.ylabel('L2 distance')\n",
    "\n",
    "    plt.violinplot(all_switches, showmeans=True)\n"
   ]
  },
  {
   "cell_type": "code",
   "execution_count": null,
   "id": "fdeb15a7",
   "metadata": {},
   "outputs": [],
   "source": [
    "plot_phenotypic_distance(init_indiv)"
   ]
  },
  {
   "cell_type": "markdown",
   "id": "7da4c03b",
   "metadata": {},
   "source": [
    "## Dispersion of gene activity levels with mutations"
   ]
  },
  {
   "cell_type": "code",
   "execution_count": null,
   "id": "3e87c5a3",
   "metadata": {},
   "outputs": [],
   "source": [
    "# Generate N mutants from an individual to see dispersion of gene activity levels\n",
    "def plot_activity_mutation(indiv, sigma, mutation, plot_name=None):\n",
    "    \n",
    "    nb_mut = 1000\n",
    "\n",
    "    activ = np.zeros(nb_mut)\n",
    "\n",
    "    rng = np.random.default_rng()\n",
    "    \n",
    "    gene_positions, genome_size = indiv.compute_gene_positions(include_coding=False)\n",
    "\n",
    "    for i_mut in range(nb_mut):\n",
    "        \n",
    "\n",
    "\n",
    "        # Generate a new mutant and evaluate it\n",
    "        mut_indiv = indiv.clone()\n",
    "        \n",
    "        start_pos = rng.integers(0, genome_size)\n",
    "        end_pos = rng.integers(0, genome_size)\n",
    "        \n",
    "        if end_pos < start_pos:\n",
    "            start_pos, end_pos = end_pos, start_pos\n",
    "\n",
    "        mut_indiv.perform_inversion(gene_positions, start_pos, end_pos)\n",
    "        mut_indiv.already_evaluated = False\n",
    "        \n",
    "        (temporal_expr, _), _ = mut_indiv.evaluate(sigma, sigma)\n",
    "\n",
    "        # Compute total gene activation levels\n",
    "        activ[i_mut] = np.sum(np.square(temporal_expr[:, -1])) /  mut_indiv.nb_genes\n",
    "\n",
    "    # Plot setup    \n",
    "    plt.figure(figsize=(9, 3), dpi=dpi)\n",
    "    plt.xlabel('Average squared gene activity')\n",
    "    #plt.xlim(-0.025, 0.525)\n",
    "    plt.ylabel('Number of mutants')\n",
    "    plt.grid(linestyle=':')\n",
    "    \n",
    "    # Plot the histogram\n",
    "    plt.hist(activ)\n",
    "    \n",
    "    # Plot the original activity\n",
    "    (orig_expr, _), _ = indiv.evaluate(sigma, sigma)\n",
    "    orig_activ = np.sum(np.square(temporal_expr[:, -1])) / indiv.nb_genes\n",
    "    y_min, y_max = plt.ylim()\n",
    "    plt.vlines(orig_activ, y_min, y_max, linestyle='--', linewidth=1,\n",
    "                   color='tab:red', label='Original activity level')\n",
    "    plt.ylim(y_min, y_max)\n",
    "    \n",
    "    plt.legend()\n",
    "\n",
    "    plt.tight_layout()\n",
    "    \n",
    "    if plot_name:\n",
    "        plt.savefig(plot_name + '.pdf', dpi=dpi, bbox_inches='tight')"
   ]
  },
  {
   "cell_type": "code",
   "execution_count": null,
   "id": "28335aa8",
   "metadata": {
    "scrolled": false
   },
   "outputs": [],
   "source": [
    "for i in range(1):\n",
    "    plot_activity_mutation(make_random_indiv(nb_mut=100), sigma=sigma_A, mutation=evotsc.Mutation(inversion_poisson_lam=inversion_poisson_lam), plot_name=f'robustness_random_{i}')"
   ]
  },
  {
   "cell_type": "code",
   "execution_count": null,
   "id": "a98aa8ca",
   "metadata": {},
   "outputs": [],
   "source": []
  }
 ],
 "metadata": {
  "interpreter": {
   "hash": "4af4ad38b24e346bac4a01c43b89b341085d1000b7b93cf2ecd0ab0adb9a79f7"
  },
  "kernelspec": {
   "display_name": "Python 3 (ipykernel)",
   "language": "python",
   "name": "python3"
  },
  "language_info": {
   "codemirror_mode": {
    "name": "ipython",
    "version": 3
   },
   "file_extension": ".py",
   "mimetype": "text/x-python",
   "name": "python",
   "nbconvert_exporter": "python",
   "pygments_lexer": "ipython3",
   "version": "3.9.7"
  }
 },
 "nbformat": 4,
 "nbformat_minor": 5
}
