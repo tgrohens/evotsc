{
 "cells": [
  {
   "cell_type": "markdown",
   "id": "06d52f85",
   "metadata": {},
   "source": [
    "The goal of this notebook is to extract the best individual from each replicate at the end of evolution in a list of EvoTSC runs, in order to first shuffle them and then be able to start a new set of simulations seeded with these individuals."
   ]
  },
  {
   "cell_type": "code",
   "execution_count": null,
   "id": "7f147020",
   "metadata": {},
   "outputs": [],
   "source": [
    "import pathlib\n",
    "import pickle\n",
    "import re\n",
    "import numpy as np"
   ]
  },
  {
   "cell_type": "code",
   "execution_count": null,
   "id": "8e4cfb8b",
   "metadata": {},
   "outputs": [],
   "source": [
    "import evotsc_lib\n",
    "import evotsc_run"
   ]
  },
  {
   "cell_type": "code",
   "execution_count": null,
   "id": "9012d891",
   "metadata": {},
   "outputs": [],
   "source": [
    "rng = np.random.default_rng(seed=424242)"
   ]
  },
  {
   "cell_type": "code",
   "execution_count": null,
   "id": "9f89582c",
   "metadata": {},
   "outputs": [],
   "source": [
    "main_path = pathlib.Path('/Users/theotime/Desktop/evotsc/phd/param-explor/main/')"
   ]
  },
  {
   "cell_type": "code",
   "execution_count": null,
   "id": "6bd557cb",
   "metadata": {},
   "outputs": [],
   "source": [
    "gen = 1_000_000"
   ]
  },
  {
   "cell_type": "code",
   "execution_count": null,
   "id": "759a3c9b",
   "metadata": {},
   "outputs": [],
   "source": [
    "def extract_best_indivs(exp_path):\n",
    "\n",
    "    rep_dirs = sorted([d for d in exp_path.iterdir() if (d.is_dir() and d.name.startswith(\"rep\"))])\n",
    "    params = evotsc_lib.read_params(rep_dirs[0])\n",
    "\n",
    "    best_indivs_path = exp_path.joinpath(f'best_indivs-{exp_path.name}')\n",
    "    best_indivs_path.mkdir(exist_ok=True)\n",
    "\n",
    "    for i_rep, rep_dir in enumerate(rep_dirs):\n",
    "\n",
    "        best_indiv = evotsc_lib.get_best_indiv(rep_dir, gen)\n",
    "        \n",
    "        save_path = best_indivs_path.joinpath(f'best_rep_{i_rep:02}_gen_{gen:07}.evotsc')\n",
    "        with open(save_path, 'wb') as save_file:\n",
    "            pickle.dump(best_indiv, save_file)\n",
    "    \n",
    "    return best_indivs_path"
   ]
  },
  {
   "cell_type": "code",
   "execution_count": null,
   "id": "016397dc",
   "metadata": {},
   "outputs": [],
   "source": [
    "main_indivs_path = extract_best_indivs(main_path)"
   ]
  },
  {
   "cell_type": "code",
   "execution_count": null,
   "id": "0a4d1e42",
   "metadata": {},
   "outputs": [],
   "source": [
    "def create_shuffles(indivs_path, nb_shuffles, rng):\n",
    "    indiv_paths = sorted([d for d in indivs_path.iterdir() if (d.is_file() and d.name.startswith(\"best\"))])\n",
    "        \n",
    "    for indiv_path in indiv_paths:\n",
    "                \n",
    "        with open(indiv_path, 'rb') as indiv_file:\n",
    "            indiv = pickle.load(indiv_file)\n",
    "                    \n",
    "        indiv_name = indiv_path.stem\n",
    "        indiv_dir = indivs_path.joinpath(f'{indiv_name}_shuffled')\n",
    "        indiv_dir.mkdir(exist_ok=True)\n",
    "        \n",
    "        for i_shuffle in range(nb_shuffles):\n",
    "            shuffled_indiv = evotsc_lib.shuffle_indiv(indiv, indiv.nb_genes, rng)\n",
    "            shuffled_indiv_path = indiv_dir.joinpath(f'{indiv_name}_shuffled_{i_shuffle:02}.evotsc')\n",
    "            with open(shuffled_indiv_path, 'wb') as shuffled_indiv_file:\n",
    "                pickle.dump(shuffled_indiv, shuffled_indiv_file)\n",
    "        \n"
   ]
  },
  {
   "cell_type": "code",
   "execution_count": null,
   "id": "f5e5c103",
   "metadata": {},
   "outputs": [],
   "source": [
    "create_shuffles(main_indivs_path, 5, rng)"
   ]
  },
  {
   "cell_type": "code",
   "execution_count": null,
   "id": "c6ffa354",
   "metadata": {},
   "outputs": [],
   "source": []
  }
 ],
 "metadata": {
  "kernelspec": {
   "display_name": "Python 3 (ipykernel)",
   "language": "python",
   "name": "python3"
  },
  "language_info": {
   "codemirror_mode": {
    "name": "ipython",
    "version": 3
   },
   "file_extension": ".py",
   "mimetype": "text/x-python",
   "name": "python",
   "nbconvert_exporter": "python",
   "pygments_lexer": "ipython3",
   "version": "3.9.7"
  }
 },
 "nbformat": 4,
 "nbformat_minor": 5
}
