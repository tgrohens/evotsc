{
 "cells": [
  {
   "cell_type": "code",
   "execution_count": null,
   "metadata": {},
   "outputs": [],
   "source": [
    "import numpy as np\n",
    "import matplotlib as mpl\n",
    "import matplotlib.pyplot as plt\n",
    "import pickle\n",
    "import datetime"
   ]
  },
  {
   "cell_type": "code",
   "execution_count": null,
   "metadata": {},
   "outputs": [],
   "source": [
    "import importlib\n",
    "import evotsc\n",
    "import evotsc_plot\n",
    "importlib.reload(evotsc)\n",
    "importlib.reload(evotsc_plot)"
   ]
  },
  {
   "cell_type": "code",
   "execution_count": null,
   "metadata": {},
   "outputs": [],
   "source": [
    "## Constants\n",
    "# Population\n",
    "nb_indivs = 100\n",
    "nb_genes = 60\n",
    "\n",
    "# Genome\n",
    "intergene = 500\n",
    "gene_length = 1000\n",
    "interaction_dist = 5000\n",
    "interaction_coef = 0.3\n",
    "sigma_basal = -0.066\n",
    "sigma_opt = -0.042\n",
    "epsilon = 0.005\n",
    "m = 2.5\n",
    "default_basal_expression = (1 + np.exp(- m)) / 2\n",
    "\n",
    "# Fitness\n",
    "selection_coef = 50\n",
    "\n",
    "# Selection\n",
    "selection_method = 'fit-prop'\n",
    "\n",
    "# Environment\n",
    "sigma_A = 0.01\n",
    "sigma_B = -0.01\n",
    "\n",
    "# Mutations\n",
    "inversion_poisson_lam = 2.0\n",
    "intergene_poisson_lam = 0.0 #2.0\n",
    "intergene_mutation_var = 0.0 #1e1\n",
    "basal_sc_mutation_prob = 0.0 #1e-1\n",
    "basal_sc_mutation_var = 0.0 #1e-4"
   ]
  },
  {
   "cell_type": "code",
   "execution_count": null,
   "metadata": {},
   "outputs": [],
   "source": [
    "rng = np.random.default_rng(seed=424242)"
   ]
  },
  {
   "cell_type": "code",
   "execution_count": null,
   "metadata": {},
   "outputs": [],
   "source": [
    "init_genes = evotsc.Gene.generate(intergene=intergene,\n",
    "                                  length=gene_length,\n",
    "                                  nb_genes=nb_genes,\n",
    "                                  default_basal_expression=default_basal_expression,\n",
    "                                  rng=rng)"
   ]
  },
  {
   "cell_type": "code",
   "execution_count": null,
   "metadata": {},
   "outputs": [],
   "source": [
    "init_indiv = evotsc.Individual(genes=init_genes,\n",
    "                               interaction_dist=interaction_dist,\n",
    "                               interaction_coef=interaction_coef,\n",
    "                               sigma_basal=sigma_basal,\n",
    "                               sigma_opt=sigma_opt,\n",
    "                               epsilon=epsilon,\n",
    "                               m=m,\n",
    "                               selection_coef=selection_coef,\n",
    "                               rng=rng)"
   ]
  },
  {
   "cell_type": "code",
   "execution_count": null,
   "metadata": {},
   "outputs": [],
   "source": [
    "mutation = evotsc.Mutation(basal_sc_mutation_prob=basal_sc_mutation_prob,\n",
    "                           basal_sc_mutation_var=basal_sc_mutation_var,\n",
    "                           intergene_poisson_lam=intergene_poisson_lam,\n",
    "                           intergene_mutation_var=intergene_mutation_var,\n",
    "                           inversion_poisson_lam=inversion_poisson_lam)"
   ]
  },
  {
   "cell_type": "code",
   "execution_count": null,
   "metadata": {},
   "outputs": [],
   "source": [
    "evotsc_plot.plot_expr_AB(indiv=init_indiv, sigma_A=sigma_A, sigma_B=sigma_B,\n",
    "                         plot_title='best generation 0', plot_name=f'best generation {0:05}.pdf')\n",
    "evotsc_plot.explain(indiv=init_indiv, sigma_A=sigma_A, sigma_B=sigma_B)\n",
    "evotsc_plot.plot_genome_and_tsc(init_indiv, print_ids=True, sigma=sigma_B, name=f'best genome gen {0:05}.pdf')"
   ]
  },
  {
   "cell_type": "code",
   "execution_count": null,
   "metadata": {},
   "outputs": [],
   "source": [
    "population = evotsc.Population(init_indiv=init_indiv,\n",
    "                               nb_indivs=nb_indivs,\n",
    "                               mutation=mutation,\n",
    "                               sigma_A=sigma_A,\n",
    "                               sigma_B=sigma_B,\n",
    "                               selection_method=selection_method,\n",
    "                               rng=rng)\n",
    "population.evaluate()"
   ]
  },
  {
   "cell_type": "code",
   "execution_count": null,
   "metadata": {},
   "outputs": [],
   "source": [
    "step = 50"
   ]
  },
  {
   "cell_type": "code",
   "execution_count": null,
   "metadata": {},
   "outputs": [],
   "source": [
    "for gen in range(1001):\n",
    "    best_indiv, avg_fit = population.step()\n",
    "    \n",
    "    if gen % 10 == 0:\n",
    "        time = datetime.datetime.now().strftime(\"%H:%M:%S\")\n",
    "        print(f'Generation {gen:05} ({time}): best fit {best_indiv.fitness:.5}, avg fit {avg_fit:.5}')\n",
    "    \n",
    "    if gen % step == 0:\n",
    "        #evotsc_plot.plot_expr_AB(indiv=best_indiv, sigma_A=sigma_A, sigma_B=sigma_B,\n",
    "                                 #plot_title=f'best generation {gen:05}',\n",
    "                                 #plot_name=f'best generation {gen:05}.pdf')\n",
    "        evotsc_plot.explain(best_indiv, sigma_A=sigma_A, sigma_B=sigma_B)\n",
    "        #evotsc_plot.plot_genome(best_indiv, name=f'best genome gen {gen:05}.png')\n",
    "        print()"
   ]
  },
  {
   "cell_type": "code",
   "execution_count": null,
   "metadata": {},
   "outputs": [],
   "source": [
    "last_indiv, avg = population.step()"
   ]
  },
  {
   "cell_type": "code",
   "execution_count": null,
   "metadata": {},
   "outputs": [],
   "source": [
    "evotsc_plot.explain(last_indiv, sigma_A=sigma_A, sigma_B=sigma_B)"
   ]
  },
  {
   "cell_type": "code",
   "execution_count": null,
   "metadata": {},
   "outputs": [],
   "source": [
    "def run(pop, nb_steps):\n",
    "    for i in range(nb_steps):\n",
    "        if i % 10 == 0:\n",
    "            print(f'Generation {i}')\n",
    "        pop.step()"
   ]
  }
 ],
 "metadata": {
  "kernelspec": {
   "display_name": "Python 3 (ipykernel)",
   "language": "python",
   "name": "python3"
  },
  "language_info": {
   "codemirror_mode": {
    "name": "ipython",
    "version": 3
   },
   "file_extension": ".py",
   "mimetype": "text/x-python",
   "name": "python",
   "nbconvert_exporter": "python",
   "pygments_lexer": "ipython3",
   "version": "3.9.7"
  }
 },
 "nbformat": 4,
 "nbformat_minor": 4
}
