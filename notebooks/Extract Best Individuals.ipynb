{
 "cells": [
  {
   "cell_type": "markdown",
   "id": "06d52f85",
   "metadata": {},
   "source": [
    "The goal of this notebook is to extract the best individual from each replicate at the end of evolution in a list of EvoTSC runs, in order to be able to start a new set of simulations seeded with these individuals."
   ]
  },
  {
   "cell_type": "code",
   "execution_count": null,
   "id": "7f147020",
   "metadata": {},
   "outputs": [],
   "source": [
    "import pathlib\n",
    "import pickle\n",
    "import re\n",
    "import numpy as np"
   ]
  },
  {
   "cell_type": "code",
   "execution_count": null,
   "id": "8e4cfb8b",
   "metadata": {},
   "outputs": [],
   "source": [
    "import evotsc_lib\n",
    "import evotsc_run"
   ]
  },
  {
   "cell_type": "code",
   "execution_count": null,
   "id": "9f89582c",
   "metadata": {},
   "outputs": [],
   "source": [
    "exp_path = pathlib.Path('/Users/theotime/Desktop/evotsc/pci/main/')"
   ]
  },
  {
   "cell_type": "code",
   "execution_count": null,
   "id": "eaf7829e",
   "metadata": {},
   "outputs": [],
   "source": [
    "rep_dirs = sorted([d for d in exp_path.iterdir() if (d.is_dir() and d.name.startswith(\"rep\"))])\n",
    "params = evotsc_lib.read_params(rep_dirs[0])"
   ]
  },
  {
   "cell_type": "code",
   "execution_count": null,
   "id": "a218fbc0",
   "metadata": {},
   "outputs": [],
   "source": [
    "best_indivs_path = exp_path.joinpath(f'best_indivs_{exp_path.name}')\n",
    "best_indivs_path.mkdir(exist_ok=True)"
   ]
  },
  {
   "cell_type": "code",
   "execution_count": null,
   "id": "bebb4c88",
   "metadata": {},
   "outputs": [],
   "source": [
    "for i_rep, rep_dir in enumerate(rep_dirs):\n",
    "    save_files = [f for f in rep_dir.iterdir() if 'pop_gen' in f.name]\n",
    "\n",
    "    if len(save_files) == 0:\n",
    "        raise FileNotFoundError('No save files found: corrupted directory?.')\n",
    "        \n",
    "    last_save_path = sorted(save_files)[-1]\n",
    "    \n",
    "    start_gen = int(re.search(r'\\d+', last_save_path.name).group(0))\n",
    "    \n",
    "    pop = evotsc_run.load_pop(last_save_path)\n",
    "    \n",
    "    pop.evaluate()\n",
    "    fitnesses = [indiv.fitness for indiv in pop.individuals]\n",
    "    best_indiv = pop.individuals[np.argmax(fitnesses)]\n",
    "    \n",
    "    save_path = best_indivs_path.joinpath(f'best_rep_{i_rep:02}_gen_{start_gen:07}.evotsc')\n",
    "    with open(save_path, 'wb') as save_file:\n",
    "        pickle.dump(best_indiv, save_file)"
   ]
  },
  {
   "cell_type": "code",
   "execution_count": null,
   "id": "016397dc",
   "metadata": {},
   "outputs": [],
   "source": []
  }
 ],
 "metadata": {
  "kernelspec": {
   "display_name": "Python 3 (ipykernel)",
   "language": "python",
   "name": "python3"
  },
  "language_info": {
   "codemirror_mode": {
    "name": "ipython",
    "version": 3
   },
   "file_extension": ".py",
   "mimetype": "text/x-python",
   "name": "python",
   "nbconvert_exporter": "python",
   "pygments_lexer": "ipython3",
   "version": "3.9.7"
  }
 },
 "nbformat": 4,
 "nbformat_minor": 5
}
