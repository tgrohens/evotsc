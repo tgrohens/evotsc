{
 "cells": [
  {
   "cell_type": "code",
   "execution_count": null,
   "id": "a1b263b0",
   "metadata": {},
   "outputs": [],
   "source": [
    "import matplotlib as mpl\n",
    "import matplotlib.pyplot as plt\n",
    "import numpy as np\n",
    "import pandas as pd\n",
    "import networkx as nx\n",
    "import pathlib\n",
    "import pickle\n",
    "from numba import jit"
   ]
  },
  {
   "cell_type": "code",
   "execution_count": null,
   "id": "b4692a99",
   "metadata": {},
   "outputs": [],
   "source": [
    "import importlib\n",
    "import evotsc\n",
    "import evotsc_lib\n",
    "import evotsc_plot\n",
    "importlib.reload(evotsc)\n",
    "importlib.reload(evotsc_lib)\n",
    "importlib.reload(evotsc_plot)"
   ]
  },
  {
   "cell_type": "code",
   "execution_count": null,
   "id": "b65d0b55",
   "metadata": {},
   "outputs": [],
   "source": [
    "exp_path = pathlib.Path('/Users/theotime/Desktop/evotsc/pci/main/')\n",
    "gen=1_000_000\n",
    "gene_types = ['AB', 'A', 'B'] # Name of each gene type\n",
    "gene_type_color = ['tab:blue', 'tab:red', 'tab:green'] #AB, A, B\n",
    "envs = ['A', 'B']\n",
    "dpi=300"
   ]
  },
  {
   "cell_type": "code",
   "execution_count": null,
   "id": "edf26699",
   "metadata": {},
   "outputs": [],
   "source": [
    "rep_dirs = sorted([d for d in exp_path.iterdir() if (d.is_dir() and d.name.startswith(\"rep\"))])\n",
    "params = evotsc_lib.read_params(rep_dirs[0])\n",
    "params['m'] = 2.5 # Temporary fix because the parameter wasn't saved"
   ]
  },
  {
   "cell_type": "code",
   "execution_count": null,
   "id": "b052471b",
   "metadata": {},
   "outputs": [],
   "source": [
    "rng = np.random.default_rng(seed=123456)"
   ]
  },
  {
   "cell_type": "markdown",
   "id": "2b141b85",
   "metadata": {},
   "source": [
    "## Arrange Individual and run_system() to accommodate a knocked-out gene"
   ]
  },
  {
   "cell_type": "code",
   "execution_count": null,
   "id": "f9a00d1c",
   "metadata": {},
   "outputs": [],
   "source": [
    "@jit(nopython=True)\n",
    "def run_system_numba_ko(nb_genes: int,\n",
    "                        init_expr: np.ndarray,\n",
    "                        inter_matrix: np.ndarray,\n",
    "                        sigma_basal: float,\n",
    "                        sigma_opt: float,\n",
    "                        epsilon: float,\n",
    "                        m: float,\n",
    "                        sigma_env: float,\n",
    "                        id_ko: int) -> np.ndarray:\n",
    "\n",
    "    step_size = 0.5\n",
    "    stop_dist = 1e-7\n",
    "    max_eval_steps = 200\n",
    "\n",
    "    temporal_expr = np.zeros((max_eval_steps+1, nb_genes))\n",
    "\n",
    "    # Initial values at t = 0\n",
    "    temporal_expr[0, :] = init_expr\n",
    "    temporal_expr[0, id_ko] = 0.0\n",
    "\n",
    "\n",
    "    # Iterate the system\n",
    "    it = 1\n",
    "    cont = True\n",
    "    while cont:\n",
    "        prev_expr = temporal_expr[it-1, :]\n",
    "        sigma_local = inter_matrix @ prev_expr\n",
    "        sigma_total = sigma_basal + sigma_local + sigma_env\n",
    "\n",
    "        promoter_activity = 1.0 / (1.0 + np.exp((sigma_total - sigma_opt)/epsilon))\n",
    "\n",
    "        # We subtract 1 to rescale between exp(-m) and 1\n",
    "        iter_expr = np.exp(m * (promoter_activity - 1.0))\n",
    "\n",
    "        nouv_expr = step_size * iter_expr + (1 - step_size) * prev_expr\n",
    "\n",
    "        # Knockout\n",
    "        nouv_expr[id_ko] = 0\n",
    "\n",
    "        temporal_expr[it, :] = nouv_expr\n",
    "\n",
    "        # Check if we're done\n",
    "        dist = np.abs(nouv_expr - prev_expr).sum() / nb_genes\n",
    "\n",
    "        prev_expr = nouv_expr\n",
    "\n",
    "        if dist < stop_dist:\n",
    "            cont = False\n",
    "\n",
    "        if it == max_eval_steps:\n",
    "            cont = False\n",
    "        it += 1\n",
    "\n",
    "    temporal_expr = temporal_expr[:it, :]\n",
    "\n",
    "    return temporal_expr"
   ]
  },
  {
   "cell_type": "code",
   "execution_count": null,
   "id": "dbb8d76d",
   "metadata": {},
   "outputs": [],
   "source": [
    "class KoIndividual(evotsc.Individual):\n",
    "    def __init__(self,\n",
    "                 orig_indiv: evotsc.Individual,\n",
    "                 id_ko: int) -> None:\n",
    "        \n",
    "        super().__init__([gene.clone() for gene in orig_indiv.genes],\n",
    "                         orig_indiv.interaction_dist,\n",
    "                         orig_indiv.interaction_coef,\n",
    "                         orig_indiv.sigma_basal,\n",
    "                         orig_indiv.sigma_opt,\n",
    "                         orig_indiv.epsilon,\n",
    "                         orig_indiv.m,\n",
    "                         orig_indiv.selection_coef,\n",
    "                         orig_indiv.rng)\n",
    "        \n",
    "        self.id_ko = id_ko\n",
    "                    \n",
    "\n",
    "    def run_system(self, sigma_env):\n",
    "\n",
    "        init_expr = np.array([gene.basal_expression for gene in self.genes])\n",
    "\n",
    "        self.inter_matrix = self.compute_inter_matrix()\n",
    "\n",
    "        return run_system_numba_ko(nb_genes=self.nb_genes,\n",
    "                                   init_expr=init_expr,\n",
    "                                   inter_matrix=self.inter_matrix,\n",
    "                                   sigma_basal=self.sigma_basal,\n",
    "                                   sigma_opt=self.sigma_opt,\n",
    "                                   epsilon=self.epsilon,\n",
    "                                   m=self.m,\n",
    "                                   sigma_env=sigma_env,\n",
    "                                   id_ko=self.id_ko)"
   ]
  },
  {
   "cell_type": "markdown",
   "id": "801af265",
   "metadata": {},
   "source": [
    "## Plot genome and TSC with one knocked-out gene"
   ]
  },
  {
   "cell_type": "code",
   "execution_count": null,
   "id": "28dc5bf9",
   "metadata": {},
   "outputs": [],
   "source": [
    "def plot_all_kos(rep, gen):\n",
    "    \n",
    "    rep_dir = exp_path.joinpath(f'rep{rep}')\n",
    "    \n",
    "    ko_path = exp_path.joinpath(f'kos_rep{rep:02}')\n",
    "    ko_path.mkdir(exist_ok=True)\n",
    "    \n",
    "    init_indiv = evotsc_lib.get_best_indiv(rep_dir, gen=gen)\n",
    "    n = 100  # the number of data points\n",
    "    _, genome_length = init_indiv.compute_gene_positions(include_coding=True)\n",
    "    data_positions = np.linspace(0, genome_length, n, dtype=int)\n",
    "\n",
    "    # Note: we do the difference between the supercoiling values of two genomes of the same individual,\n",
    "    # so sigma_basal and sigma_env cancel out\n",
    "    init_data = {'A': init_indiv.compute_final_sc_at(params['sigma_A'], data_positions),\n",
    "                 'B': init_indiv.compute_final_sc_at(params['sigma_B'], data_positions)}\n",
    "    \n",
    "    init_expr = {'A': init_indiv.run_system(params['sigma_A'])[-1, :],\n",
    "                 'B': init_indiv.run_system(params['sigma_B'])[-1, :]}\n",
    "    \n",
    "    \n",
    "    half_expr = (1 + np.exp(-init_indiv.m)) / 2\n",
    "    init_activ = {env: init_expr[env] > half_expr for env in envs}\n",
    "    \n",
    "    #for i_ko in range(36, 37): \n",
    "    for i_ko in range(init_indiv.nb_genes):\n",
    "        \n",
    "        ko_indiv = KoIndividual(orig_indiv=init_indiv, id_ko=i_ko)\n",
    "                                            \n",
    "        for env in envs:\n",
    "                                            \n",
    "            ko_data = ko_indiv.compute_final_sc_at(params[f'sigma_{env}'], data_positions)\n",
    "            \n",
    "            final_expr = ko_indiv.run_system(params[f'sigma_{env}'])[-1, :]\n",
    "            ko_activ = final_expr > half_expr\n",
    "            \n",
    "            switched_genes = init_activ[env] != ko_activ\n",
    "            \n",
    "            show_bar = env == 'A'\n",
    "            \n",
    "            plot_name = ko_path.joinpath(f'ko_genome_and_tsc_env_{env}_gene_{i_ko:02}.pdf')\n",
    "            \n",
    "            evotsc_plot.plot_genome_and_tsc(ko_indiv, sigma=params[f'sigma_{env}'], coloring_type='on-off',\n",
    "                                            hatched_genes=switched_genes,\n",
    "                                            print_ids=True, ring_data=np.abs(init_data[env]-ko_data), \n",
    "                                            ring_color_type='delta', \n",
    "                                            show_bar=show_bar, bar_text='$|\\Delta\\sigma_{TSC}|$',\n",
    "                                            id_interval=5, id_ko=i_ko,\n",
    "                                            plot_name=plot_name)"
   ]
  },
  {
   "cell_type": "code",
   "execution_count": null,
   "id": "59abaf63",
   "metadata": {},
   "outputs": [],
   "source": [
    "plot_all_kos(rep=21, gen=gen)"
   ]
  },
  {
   "cell_type": "markdown",
   "id": "bf09cd7c",
   "metadata": {},
   "source": [
    "## Compute the effective graph: genes switched on or off by a KO"
   ]
  },
  {
   "cell_type": "code",
   "execution_count": null,
   "id": "316a1d64",
   "metadata": {},
   "outputs": [],
   "source": [
    "def get_effective_graph(best_indiv, sigma):\n",
    "    \n",
    "    _, genome_length = best_indiv.compute_gene_positions(include_coding=True)\n",
    "    \n",
    "    init_expr = best_indiv.run_system(sigma)[-1, :]\n",
    "    half_expr = (1 + np.exp(-best_indiv.m)) / 2\n",
    "    init_activ = init_expr > half_expr\n",
    "    \n",
    "\n",
    "    ## Build the graph\n",
    "    inter_graph = nx.DiGraph()\n",
    "\n",
    "    # Nodes\n",
    "    for i_gene, gene in enumerate(best_indiv.genes):\n",
    "        inter_graph.add_node(i_gene, gene=gene)\n",
    "\n",
    "    ## Compute the interactions: if KOing gene A switches gene B on or off, add A -> B arrow to the graph\n",
    "\n",
    "    for i_ko in range(best_indiv.nb_genes):\n",
    "        \n",
    "        ko_indiv = KoIndividual(orig_indiv=best_indiv, id_ko=i_ko)\n",
    "                                                                    \n",
    "        final_expr = ko_indiv.run_system(sigma)[-1, :]\n",
    "        ko_activ = final_expr > half_expr\n",
    "        \n",
    "        for i_other in range(best_indiv.nb_genes):\n",
    "            if i_other == i_ko:\n",
    "                continue\n",
    "            \n",
    "            if init_activ[i_other] != ko_activ[i_other]:\n",
    "                if init_activ[i_other]: # KOing i_ko inhibits i_other: -> i_ko activates i_other\n",
    "                    inter_graph.add_edge(i_ko, i_other, kind='activ')\n",
    "                else:\n",
    "                    inter_graph.add_edge(i_ko, i_other, kind='inhib')\n",
    "\n",
    "    return best_indiv, inter_graph"
   ]
  },
  {
   "cell_type": "code",
   "execution_count": null,
   "id": "6e95a9f9",
   "metadata": {},
   "outputs": [],
   "source": [
    "def get_all_effective_graphs(exp_path, gen):\n",
    "    rep_dirs = sorted([d for d in exp_path.iterdir() if (d.is_dir() and d.name.startswith(\"rep\"))])\n",
    "    \n",
    "    graphs = {rep: {} for rep in range(len(rep_dirs))}\n",
    "    \n",
    "    for rep, rep_dir in enumerate(rep_dirs):\n",
    "        best_indiv = evotsc_lib.get_best_indiv(rep_path=rep_dir, gen=gen)\n",
    "        for env in ['A', 'B']:\n",
    "            graphs[rep][env] = get_effective_graph(best_indiv, params[f'sigma_{env}'])\n",
    "    \n",
    "    return graphs"
   ]
  },
  {
   "cell_type": "code",
   "execution_count": null,
   "id": "b3f7f708",
   "metadata": {},
   "outputs": [],
   "source": [
    "effective_graphs = get_all_effective_graphs(exp_path, gen)"
   ]
  },
  {
   "cell_type": "markdown",
   "id": "a8112188",
   "metadata": {},
   "source": [
    "## Plot genomes again (with interaction graphs inside)"
   ]
  },
  {
   "cell_type": "code",
   "execution_count": null,
   "id": "2c0d659b",
   "metadata": {},
   "outputs": [],
   "source": [
    "def plot_best_genome_and_tsc(exp_path, gen, effective_graphs):\n",
    "    rep_dirs = sorted([d for d in exp_path.iterdir() if (d.is_dir() and d.name.startswith(\"rep\"))])\n",
    "    \n",
    "    genome_path = exp_path.joinpath(f'genomes')\n",
    "    genome_path.mkdir(exist_ok=True)\n",
    "    \n",
    "    for rep in effective_graphs.keys():\n",
    "        \n",
    "        best_indiv, graph_A = effective_graphs[rep]['A']\n",
    "        best_indiv, graph_B = effective_graphs[rep]['B']\n",
    "\n",
    "        evotsc_plot.plot_genome_and_tsc(best_indiv, params['sigma_A'], show_bar=True,\n",
    "                                        coloring_type='type',\n",
    "                                        id_interval=best_indiv.nb_genes / 12, print_ids=True,\n",
    "                                        inter_graph=nx.compose(graph_A, graph_B),\n",
    "                                    plot_name=genome_path.joinpath(f'genome_and_tsc_rep{rep:02}_combined.pdf'))\n"
   ]
  },
  {
   "cell_type": "code",
   "execution_count": null,
   "id": "d2254f69",
   "metadata": {},
   "outputs": [],
   "source": [
    "plot_best_genome_and_tsc(exp_path, gen, effective_graphs)"
   ]
  },
  {
   "cell_type": "code",
   "execution_count": null,
   "id": "8fafa5b8",
   "metadata": {},
   "outputs": [],
   "source": [
    "def make_random_effective_graphs(nb_indiv):\n",
    "    \n",
    "    graphs = {rep: {} for rep in range(nb_indiv)}\n",
    "    \n",
    "    mutation = evotsc.Mutation(inversion_poisson_lam=params['inversion_poisson_lam'])\n",
    "    \n",
    "    for rep in range(nb_indiv):\n",
    "        indiv = evotsc_lib.make_random_indiv(intergene=int(params['intergene']),\n",
    "                                             gene_length=int(params['gene_length']),\n",
    "                                             nb_genes=int(params['nb_genes']),\n",
    "                                             default_basal_expression=params['default_basal_expression'],\n",
    "                                             interaction_dist=params['interaction_dist'],\n",
    "                                             interaction_coef=params['interaction_coef'],\n",
    "                                             sigma_basal=params['sigma_basal'],\n",
    "                                             sigma_opt=params['sigma_opt'],\n",
    "                                             epsilon=params['epsilon'],\n",
    "                                             m=params['m'],\n",
    "                                             selection_coef=params['selection_coef'],\n",
    "                                             mutation=mutation,\n",
    "                                             rng=rng,\n",
    "                                             nb_mutations=100)\n",
    "        \n",
    "        indiv.inter_matrix = indiv.compute_inter_matrix()\n",
    "\n",
    "        for env in ['A', 'B']:\n",
    "            graphs[rep][env] = get_effective_graph(indiv, params[f'sigma_{env}'])\n",
    "    \n",
    "    return graphs"
   ]
  },
  {
   "cell_type": "code",
   "execution_count": null,
   "id": "14b2da9d",
   "metadata": {},
   "outputs": [],
   "source": [
    "rand_effective_graphs = make_random_effective_graphs(nb_indiv=30)"
   ]
  },
  {
   "cell_type": "markdown",
   "id": "01b1917f",
   "metadata": {},
   "source": [
    "## Plot the effective graphs"
   ]
  },
  {
   "cell_type": "code",
   "execution_count": null,
   "id": "f97f7e76",
   "metadata": {},
   "outputs": [],
   "source": [
    "def plot_effective_graph(indiv, inter_graph, method, plot_name=None):\n",
    "    \n",
    "    ## Draw the figure\n",
    "    plt.figure(figsize=(12, 12), dpi=dpi)\n",
    "    plt.box(False)\n",
    "\n",
    "    # Choose the layout\n",
    "    if method == 'circular':\n",
    "        layout = nx.circular_layout(inter_graph)\n",
    "        for node in layout:\n",
    "            x, y = layout[node]\n",
    "            layout[node] = y, x # symmetry along the y=x axis to match other graphs\n",
    "\n",
    "    elif method == 'graphviz':\n",
    "        layout = nx.nx_agraph.graphviz_layout(inter_graph)\n",
    "        for node in layout:\n",
    "            x, y = layout[node]\n",
    "            layout[node] = -x, -y # 180 degree rotation\n",
    "\n",
    "\n",
    "    # Draw the nodes\n",
    "    node_size = 400\n",
    "    nx.draw_networkx_nodes(inter_graph, layout, node_size=node_size,\n",
    "                           node_color=[gene_type_color[gene.gene_type] for gene in indiv.genes])\n",
    "    nx.draw_networkx_labels(inter_graph, layout)\n",
    "\n",
    "    # Draw the edges\n",
    "    activ_edges = [e for e in inter_graph.edges if inter_graph[e[0]][e[1]]['kind'] == 'activ'] \n",
    "    inhib_edges = [e for e in inter_graph.edges if inter_graph[e[0]][e[1]]['kind'] == 'inhib']\n",
    "\n",
    "    inhib_arrow = mpl.patches.ArrowStyle.CurveFilledB(head_length=0, head_width=0.5)\n",
    "\n",
    "    nx.draw_networkx_edges(inter_graph, layout, edgelist=activ_edges, node_size=node_size,\n",
    "                           edge_color='tab:green', connectionstyle='arc3,rad=0.1')\n",
    "    nx.draw_networkx_edges(inter_graph, layout, edgelist=inhib_edges, node_size=node_size+75,\n",
    "                           arrowstyle=inhib_arrow, edge_color='tab:red',\n",
    "                           connectionstyle='arc3,rad=0.1')\n",
    "\n",
    "    if plot_name:\n",
    "        plt.savefig(plot_name, bbox_inches='tight', dpi=dpi)\n",
    "    plt.show()\n",
    "    plt.close()"
   ]
  },
  {
   "cell_type": "code",
   "execution_count": null,
   "id": "025d0248",
   "metadata": {},
   "outputs": [],
   "source": [
    "def plot_all_effective_graphs(effective_graphs, method, is_random=False):\n",
    "        \n",
    "    graph_path = exp_path.joinpath(f'effective_graphs')\n",
    "    graph_path.mkdir(exist_ok=True)\n",
    "    \n",
    "    for rep in list(effective_graphs.keys()):\n",
    "        \n",
    "        for env in ['A', 'B']:\n",
    "\n",
    "            indiv, inter_graph = effective_graphs[rep][env]\n",
    "            \n",
    "            plot_name = f'effective_graph_rep{rep:02}_env_{env}_{method}.pdf'\n",
    "            if is_random:\n",
    "                plot_name = f'rand_{plot_name}'\n",
    "    \n",
    "            full_name = graph_path.joinpath(plot_name)\n",
    "\n",
    "            plot_effective_graph(indiv, inter_graph, method, full_name)"
   ]
  },
  {
   "cell_type": "code",
   "execution_count": null,
   "id": "528351ec",
   "metadata": {},
   "outputs": [],
   "source": [
    "#plot_all_effective_graphs(effective_graphs, method='circular')\n",
    "#plot_all_effective_graphs(effective_graphs, method='graphviz')"
   ]
  },
  {
   "cell_type": "code",
   "execution_count": null,
   "id": "23858678",
   "metadata": {},
   "outputs": [],
   "source": [
    "#plot_all_effective_graphs(rand_effective_graphs, method='circular', is_random=True)\n",
    "#plot_all_effective_graphs(rand_effective_graphs, method='graphviz', is_random=True)"
   ]
  },
  {
   "cell_type": "code",
   "execution_count": null,
   "id": "c106d0b6",
   "metadata": {},
   "outputs": [],
   "source": [
    "def plot_combined_effective_graphs(effective_graphs, method, is_random=False):\n",
    "    graph_path = exp_path.joinpath(f'effective_graphs')\n",
    "    graph_path.mkdir(exist_ok=True)\n",
    "    \n",
    "    for rep in list(effective_graphs.keys()):\n",
    "        indiv, graph_A = effective_graphs[rep]['A']\n",
    "        indiv, graph_B = effective_graphs[rep]['B']\n",
    "        \n",
    "        combined_graph = nx.compose(graph_A, graph_B)\n",
    "        \n",
    "        plot_name = f'combined_effective_graph_rep{rep:02}_{method}.pdf'\n",
    "        if is_random:\n",
    "            plot_name = f'rand_{plot_name}'\n",
    "\n",
    "        full_name = graph_path.joinpath(plot_name)\n",
    "        \n",
    "        plot_effective_graph(indiv, combined_graph, method, full_name)"
   ]
  },
  {
   "cell_type": "code",
   "execution_count": null,
   "id": "1128324c",
   "metadata": {},
   "outputs": [],
   "source": [
    "plot_combined_effective_graphs(effective_graphs, 'graphviz', is_random=False)"
   ]
  },
  {
   "cell_type": "code",
   "execution_count": null,
   "id": "de7bc236",
   "metadata": {},
   "outputs": [],
   "source": [
    "#plot_combined_effective_graphs(rand_effective_graphs, 'graphviz', is_random=True)"
   ]
  },
  {
   "cell_type": "markdown",
   "id": "64a70e75",
   "metadata": {},
   "source": [
    "## Connected components"
   ]
  },
  {
   "cell_type": "code",
   "execution_count": null,
   "id": "bc7f89c5",
   "metadata": {},
   "outputs": [],
   "source": [
    "def count_largest_wcc(effective_graphs):\n",
    "    \n",
    "    largest_wcc = np.zeros(len(effective_graphs))\n",
    "    \n",
    "    for rep in list(effective_graphs.keys()):\n",
    "        indiv, graph_A = effective_graphs[rep]['A']\n",
    "        indiv, graph_B = effective_graphs[rep]['B']\n",
    "\n",
    "        combined_graph = nx.compose(graph_A, graph_B)\n",
    "        \n",
    "        largest_wcc[rep] = len(max(nx.weakly_connected_components(combined_graph), key=len))\n",
    "        \n",
    "    return largest_wcc"
   ]
  },
  {
   "cell_type": "code",
   "execution_count": null,
   "id": "299dea22",
   "metadata": {},
   "outputs": [],
   "source": [
    "def plot_largest_wccs(effective_graphs, rand_effective_graphs):\n",
    "\n",
    "    evolved_wccs = count_largest_wcc(effective_graphs)\n",
    "\n",
    "    rand_wccs = count_largest_wcc(rand_effective_graphs)\n",
    "\n",
    "    plt.figure(figsize=(7, 4), dpi=300)\n",
    "    plt.violinplot([evolved_wccs, rand_wccs])\n",
    "    plt.xticks(ticks=[1, 2], labels=['Evolved', 'Random'])\n",
    "    plt.ylim(-3, 63)\n",
    "    plt.ylabel('Number of genes in the largest WCC')\n",
    "    plt.grid(linestyle=':', axis='y')\n",
    "    plt.show()"
   ]
  },
  {
   "cell_type": "code",
   "execution_count": null,
   "id": "dc2e0e13",
   "metadata": {},
   "outputs": [],
   "source": [
    "plot_largest_wccs(effective_graphs, rand_effective_graphs)"
   ]
  },
  {
   "cell_type": "code",
   "execution_count": null,
   "id": "0ef07dff",
   "metadata": {},
   "outputs": [],
   "source": [
    "def gather_all_wccs(effective_graphs):\n",
    "    wccs = []\n",
    "    \n",
    "    for rep in list(effective_graphs.keys()):\n",
    "        indiv, graph_A = effective_graphs[rep]['A']\n",
    "        indiv, graph_B = effective_graphs[rep]['B']\n",
    "\n",
    "        combined_graph = nx.compose(graph_A, graph_B)\n",
    "        \n",
    "        for wcc in nx.weakly_connected_components(combined_graph):\n",
    "            wccs.append(len(wcc))\n",
    "                \n",
    "    return np.array(wccs)"
   ]
  },
  {
   "cell_type": "code",
   "execution_count": null,
   "id": "2aaf3e8d",
   "metadata": {},
   "outputs": [],
   "source": [
    "def plot_all_wccs(effective_graphs, rand_effective_graphs):\n",
    "\n",
    "    evolved_wccs = gather_all_wccs(effective_graphs)\n",
    "\n",
    "    rand_wccs = gather_all_wccs(rand_effective_graphs)\n",
    "\n",
    "    plt.figure(figsize=(8, 5), dpi=dpi)\n",
    "    plt.boxplot([evolved_wccs, rand_wccs], medianprops={'color':'black'})\n",
    "    plt.xticks(ticks=[1, 2], labels=['Evolved', 'Random'])\n",
    "    plt.ylim(-3, 63)\n",
    "    plt.ylabel('Number of genes in the WCC')\n",
    "    plt.grid(linestyle=':', axis='y')\n",
    "    plt.savefig(exp_path.joinpath('effective_graph_wcc_distr.pdf'), bbox_inches='tight', dpi=dpi)\n",
    "    plt.show()"
   ]
  },
  {
   "cell_type": "code",
   "execution_count": null,
   "id": "8b3764f9",
   "metadata": {},
   "outputs": [],
   "source": [
    "plot_all_wccs(effective_graphs, rand_effective_graphs)"
   ]
  },
  {
   "cell_type": "markdown",
   "id": "058e6c3a",
   "metadata": {},
   "source": [
    "### Show the exact count for every WCC size"
   ]
  },
  {
   "cell_type": "code",
   "execution_count": null,
   "id": "a917a4a4",
   "metadata": {},
   "outputs": [],
   "source": [
    "np.unique(gather_all_wccs(effective_graphs), return_counts=True)"
   ]
  },
  {
   "cell_type": "code",
   "execution_count": null,
   "id": "579002b6",
   "metadata": {},
   "outputs": [],
   "source": [
    "np.unique(gather_all_wccs(rand_effective_graphs), return_counts=True)"
   ]
  },
  {
   "cell_type": "markdown",
   "id": "801c94f6",
   "metadata": {},
   "source": [
    "## Stats on the effective graphs: out degree (number of switches) and farthest switch"
   ]
  },
  {
   "cell_type": "code",
   "execution_count": null,
   "id": "fafb6087",
   "metadata": {},
   "outputs": [],
   "source": [
    "def dist_in_genes(nb_genes, i, j):\n",
    "    pos_1_minus_2 = i - j\n",
    "    pos_2_minus_1 = - pos_1_minus_2\n",
    "\n",
    "    # We want to know whether gene 1 comes before or after gene 2\n",
    "    # Before: -------1--2-------- or -2---------------1-\n",
    "    # After:  -------2--1-------- or -1---------------2-\n",
    "\n",
    "    if pos_1_minus_2 < 0: # -------1--2-------- ou -1---------------2-\n",
    "        if pos_2_minus_1 < nb_genes + pos_1_minus_2: # -------1--2--------\n",
    "            distance = pos_2_minus_1\n",
    "        else: # -1---------------2-\n",
    "            distance = nb_genes + pos_1_minus_2\n",
    "\n",
    "    else: # -------2--1-------- ou -2---------------1-\n",
    "        if pos_1_minus_2 < nb_genes + pos_2_minus_1: # -------2--1--------\n",
    "            distance = pos_1_minus_2\n",
    "        else:\n",
    "            distance = nb_genes + pos_2_minus_1\n",
    "\n",
    "    return distance"
   ]
  },
  {
   "cell_type": "code",
   "execution_count": null,
   "id": "40786c59",
   "metadata": {},
   "outputs": [],
   "source": [
    "def get_effective_graph_stats(effective_graphs):\n",
    "    res_dict = {'Replicate': [],\n",
    "                'gene_type': [],\n",
    "                'env': [],\n",
    "                'out_deg': [],\n",
    "                'avg_dist': [],\n",
    "                'max_dist': []}\n",
    "\n",
    "    for rep in effective_graphs.keys():\n",
    "        for env in ['A', 'B']:\n",
    "            indiv, graph = effective_graphs[rep][env]\n",
    "            for i_gene, gene in enumerate(indiv.genes):\n",
    "                res_dict['Replicate'].append(rep)\n",
    "                res_dict['gene_type'].append(gene_types[gene.gene_type])\n",
    "                res_dict['env'].append(env)\n",
    "                res_dict['out_deg'].append(graph.out_degree[i_gene])\n",
    "                \n",
    "                if graph.out_degree[i_gene] > 0:\n",
    "                    dists = np.zeros(len(graph[i_gene].keys()), dtype=int)                \n",
    "                    for i_neighbor, neighbor in enumerate(graph[i_gene].keys()):\n",
    "                        dists[i_neighbor] = dist_in_genes(indiv.nb_genes, i_gene, neighbor)\n",
    "\n",
    "                    res_dict['avg_dist'].append(np.mean(dists))\n",
    "                    res_dict['max_dist'].append(np.max(dists))\n",
    "                \n",
    "                else:\n",
    "                    res_dict['avg_dist'].append(0)\n",
    "                    res_dict['max_dist'].append(0)\n",
    "                \n",
    "    return pd.DataFrame.from_dict(res_dict)"
   ]
  },
  {
   "cell_type": "code",
   "execution_count": null,
   "id": "ee4662f1",
   "metadata": {},
   "outputs": [],
   "source": [
    "graph_stats = get_effective_graph_stats(effective_graphs)"
   ]
  },
  {
   "cell_type": "code",
   "execution_count": null,
   "id": "7a7039cf",
   "metadata": {},
   "outputs": [],
   "source": [
    "rand_graph_stats = get_effective_graph_stats(rand_effective_graphs)"
   ]
  },
  {
   "cell_type": "code",
   "execution_count": null,
   "id": "3b925641",
   "metadata": {},
   "outputs": [],
   "source": [
    "def get_combined_graph_stats(effective_graphs):\n",
    "    res_dict = {'Replicate': [],\n",
    "                'gene_type': [],\n",
    "                'out_deg': [],\n",
    "                'avg_dist': [],\n",
    "                'max_dist': []}\n",
    "\n",
    "    for rep in effective_graphs.keys():\n",
    "\n",
    "        indiv, graph_A = effective_graphs[rep]['A']\n",
    "        indiv, graph_B = effective_graphs[rep]['B']\n",
    "        combined_graph = nx.compose(graph_A, graph_B)\n",
    "        \n",
    "        for i_gene, gene in enumerate(indiv.genes):\n",
    "            res_dict['Replicate'].append(rep)\n",
    "            res_dict['gene_type'].append(gene_types[gene.gene_type])\n",
    "            res_dict['out_deg'].append(combined_graph.out_degree[i_gene])\n",
    "\n",
    "            if combined_graph.out_degree[i_gene] > 0:\n",
    "                dists = np.zeros(len(combined_graph[i_gene].keys()), dtype=int)                \n",
    "                for i_neighbor, neighbor in enumerate(combined_graph[i_gene].keys()):\n",
    "                    dists[i_neighbor] = dist_in_genes(indiv.nb_genes, i_gene, neighbor)\n",
    "\n",
    "                res_dict['avg_dist'].append(np.mean(dists))\n",
    "                res_dict['max_dist'].append(np.max(dists))\n",
    "\n",
    "            else:\n",
    "                res_dict['avg_dist'].append(0)\n",
    "                res_dict['max_dist'].append(0)\n",
    "                \n",
    "    return pd.DataFrame.from_dict(res_dict)"
   ]
  },
  {
   "cell_type": "code",
   "execution_count": null,
   "id": "7c00dd48",
   "metadata": {},
   "outputs": [],
   "source": [
    "combined_stats = get_combined_graph_stats(effective_graphs)"
   ]
  },
  {
   "cell_type": "code",
   "execution_count": null,
   "id": "52d189cb",
   "metadata": {},
   "outputs": [],
   "source": [
    "combined_rand_stats = get_combined_graph_stats(rand_effective_graphs)"
   ]
  },
  {
   "cell_type": "markdown",
   "id": "13e456dd",
   "metadata": {},
   "source": [
    "## Plot the average out degree of nodes in the network"
   ]
  },
  {
   "cell_type": "code",
   "execution_count": null,
   "id": "2aa7615a",
   "metadata": {},
   "outputs": [],
   "source": [
    "def plot_out_degree_by_env(graph_stats, rand_graph_stats):\n",
    "    \n",
    "    fig, ax = plt.subplots(figsize=(8, 5), dpi=300)\n",
    "\n",
    "    mean_stats = graph_stats.groupby(['env', 'gene_type']).mean()['out_deg']\n",
    "    rep_stats = graph_stats.groupby(['gene_type', 'env', 'Replicate']).mean()['out_deg']\n",
    "    rand_mean_stats = rand_graph_stats.groupby(['env', 'gene_type']).mean()['out_deg']\n",
    "    rand_rep_stats = rand_graph_stats.groupby(['gene_type', 'env', 'Replicate']).mean()['out_deg']\n",
    "    \n",
    "    width = 0.2\n",
    "    x_pos = np.array([0, 4*width, 9*width, 13*width])\n",
    "    delta = np.array([-width, 0, width])\n",
    "\n",
    "    rects = {}\n",
    "\n",
    "    for i_gene_type, gene_type in enumerate(gene_types):\n",
    "        rects[gene_type] = plt.bar(x_pos + delta[i_gene_type],\n",
    "                                   [mean_stats.loc['A'][gene_type], rand_mean_stats.loc['A'][gene_type],\n",
    "                                    mean_stats.loc['B'][gene_type], rand_mean_stats.loc['B'][gene_type]],\n",
    "                                    width=width, color=gene_type_color[i_gene_type])\n",
    "\n",
    "        plt.boxplot([rep_stats.loc[(gene_type, 'A')], rand_rep_stats.loc[(gene_type, 'A')],\n",
    "                     rep_stats.loc[(gene_type, 'B')], rand_rep_stats.loc[(gene_type, 'B')]],\n",
    "                    positions=x_pos + delta[i_gene_type], \n",
    "                manage_ticks=False, widths=0.1, medianprops={'color':'black'})\n",
    "\n",
    "    plt.xticks(ticks=x_pos, labels=['Evolved env. A', 'Random env. A', 'Evolved env. B', 'Random env. B'])\n",
    "    ax.yaxis.set_major_locator(mpl.ticker.MultipleLocator(1))\n",
    "\n",
    "    plt.ylabel(f'Out degree in the effective graph')\n",
    "    plt.ylim(0, 11)\n",
    "    plt.grid(axis='y', linestyle=':')\n",
    "    \n",
    "    patches = ([mpl.patches.Patch(facecolor=color, edgecolor='black', label=label)\n",
    "                for color, label in zip(gene_type_color, gene_types)])\n",
    "    plt.legend(handles=patches, title='Gene type')#, title_fontsize=15, fontsize=15)\n",
    "\n",
    "    \n",
    "    plt.savefig(exp_path.joinpath('effective_graph_out_degree_by_env.pdf'), bbox_inches='tight', dpi=dpi)"
   ]
  },
  {
   "cell_type": "code",
   "execution_count": null,
   "id": "57f7ed74",
   "metadata": {},
   "outputs": [],
   "source": [
    "plot_out_degree_by_env(graph_stats, rand_graph_stats)"
   ]
  },
  {
   "cell_type": "markdown",
   "id": "46ffd20b",
   "metadata": {},
   "source": [
    "### Do the same for the combined graphs"
   ]
  },
  {
   "cell_type": "code",
   "execution_count": null,
   "id": "a8bb4450",
   "metadata": {},
   "outputs": [],
   "source": [
    "def plot_out_degree_by_env_combined(graph_stats, rand_graph_stats):\n",
    "    \n",
    "    fig, ax = plt.subplots(figsize=(8, 5), dpi=300)\n",
    "\n",
    "    mean_stats = graph_stats.groupby(['gene_type']).mean()['out_deg']\n",
    "    rep_stats = graph_stats.groupby(['gene_type', 'Replicate']).mean()['out_deg']\n",
    "    rand_mean_stats = rand_graph_stats.groupby(['gene_type']).mean()['out_deg']\n",
    "    rand_rep_stats = rand_graph_stats.groupby(['gene_type', 'Replicate']).mean()['out_deg']\n",
    "    \n",
    "    width = 0.2\n",
    "    x_pos = np.array([1, 2])\n",
    "    delta = np.array([-width, 0, width])\n",
    "\n",
    "    rects = {}\n",
    "\n",
    "    for i_gene_type, gene_type in enumerate(gene_types):\n",
    "        rects[gene_type] = plt.bar(x_pos + delta[i_gene_type],\n",
    "                                   [mean_stats.loc[gene_type], rand_mean_stats.loc[gene_type]],\n",
    "                                    width=width, color=gene_type_color[i_gene_type])\n",
    "\n",
    "        plt.boxplot([rep_stats.loc[gene_type], rand_rep_stats.loc[gene_type]],\n",
    "                    positions=x_pos + delta[i_gene_type], \n",
    "                    #manage_ticks=False, \n",
    "                    widths=0.1, medianprops={'color':'black'})\n",
    "\n",
    "    plt.xticks(ticks=x_pos, labels=['Evolved', 'Random'])\n",
    "    ax.yaxis.set_major_locator(mpl.ticker.MultipleLocator(1))\n",
    "\n",
    "    plt.ylabel(f'Out degree in the effective interaction graph')\n",
    "    plt.ylim(0, 11)\n",
    "    plt.grid(axis='y', linestyle=':')\n",
    "    \n",
    "    patches = ([mpl.patches.Patch(facecolor=color, edgecolor='black', label=label)\n",
    "                for color, label in zip(gene_type_color, gene_types)])\n",
    "    plt.legend(handles=patches, title='Gene type')#, title_fontsize=15, fontsize=15)\n",
    "\n",
    "    \n",
    "    plt.savefig(exp_path.joinpath('effective_graph_combined_out_degree.pdf'), bbox_inches='tight', dpi=dpi)"
   ]
  },
  {
   "cell_type": "code",
   "execution_count": null,
   "id": "e41d9382",
   "metadata": {},
   "outputs": [],
   "source": [
    "plot_out_degree_by_env_combined(combined_stats, combined_rand_stats)"
   ]
  },
  {
   "cell_type": "markdown",
   "id": "952372f8",
   "metadata": {},
   "source": [
    "## Plot the mean distance to switched genes"
   ]
  },
  {
   "cell_type": "code",
   "execution_count": null,
   "id": "364968ba",
   "metadata": {},
   "outputs": [],
   "source": [
    "def plot_avg_dist_by_env(graph_stats, rand_graph_stats):\n",
    "    \n",
    "    fig, ax = plt.subplots(figsize=(8, 5), dpi=300)\n",
    "    \n",
    "    graph_stats = graph_stats[graph_stats['out_deg'] > 0]\n",
    "    rand_graph_stats = rand_graph_stats[rand_graph_stats['out_deg'] > 0]\n",
    "\n",
    "    mean_stats = graph_stats.groupby(['env', 'gene_type']).mean()['avg_dist']\n",
    "    rep_stats = graph_stats.groupby(['gene_type', 'env', 'Replicate']).mean()['avg_dist']\n",
    "    rand_mean_stats = rand_graph_stats.groupby(['env', 'gene_type']).mean()['avg_dist']\n",
    "    rand_rep_stats = rand_graph_stats.groupby(['gene_type', 'env', 'Replicate']).mean()['avg_dist']\n",
    "    \n",
    "    width = 0.2\n",
    "    x_pos = np.array([0, 4*width, 9*width, 13*width])\n",
    "    delta = np.array([-width, 0, width])\n",
    "\n",
    "    rects = {}\n",
    "\n",
    "    for i_gene_type, gene_type in enumerate(gene_types):\n",
    "        rects[gene_type] = plt.bar(x_pos + delta[i_gene_type],\n",
    "                                   [mean_stats.loc['A'][gene_type], rand_mean_stats.loc['A'][gene_type],\n",
    "                                    mean_stats.loc['B'][gene_type], rand_mean_stats.loc['B'][gene_type]],\n",
    "                                    width=width, color=gene_type_color[i_gene_type])\n",
    "\n",
    "        plt.boxplot([rep_stats.loc[(gene_type, 'A')], rand_rep_stats.loc[(gene_type, 'A')],\n",
    "                     rep_stats.loc[(gene_type, 'B')], rand_rep_stats.loc[(gene_type, 'B')]],\n",
    "                    positions=x_pos + delta[i_gene_type], \n",
    "                manage_ticks=False, widths=0.1, medianprops={'color':'black'})\n",
    "\n",
    "    plt.xticks(ticks=x_pos, labels=['Evolved env. A', 'Random env. A', 'Evolved env. B', 'Random env. B'])\n",
    "    ax.yaxis.set_major_locator(mpl.ticker.MultipleLocator(1))\n",
    "\n",
    "    plt.ylabel(f'Mean distance to neighbors in the effective graph')\n",
    "    plt.ylim(0, 11)\n",
    "    plt.grid(axis='y', linestyle=':')\n",
    "    \n",
    "    patches = ([mpl.patches.Patch(facecolor=color, edgecolor='black', label=label)\n",
    "                for color, label in zip(gene_type_color, gene_types)])\n",
    "    plt.legend(handles=patches, title='Gene type')#, title_fontsize=15, fontsize=15)\n",
    "\n",
    "    plt.savefig(exp_path.joinpath('effective_graph_avg_dist_by_env.pdf'), bbox_inches='tight', dpi=dpi)"
   ]
  },
  {
   "cell_type": "code",
   "execution_count": null,
   "id": "11230030",
   "metadata": {},
   "outputs": [],
   "source": [
    "plot_avg_dist_by_env(graph_stats, rand_graph_stats)"
   ]
  },
  {
   "cell_type": "markdown",
   "id": "7dccfd38",
   "metadata": {},
   "source": [
    "## Plot the max distance to a switched gene"
   ]
  },
  {
   "cell_type": "code",
   "execution_count": null,
   "id": "a5449b90",
   "metadata": {},
   "outputs": [],
   "source": [
    "def plot_max_dist_by_env(graph_stats, rand_graph_stats):\n",
    "    \n",
    "    fig, ax = plt.subplots(figsize=(8, 5), dpi=300)\n",
    "\n",
    "    # For each gene type, take the furthest switched gene by a gene of that type\n",
    "    rep_stats = graph_stats.groupby(['gene_type', 'env', 'Replicate']).max()['max_dist']\n",
    "    mean_stats = rep_stats.groupby(['env', 'gene_type']).mean() # Average the max of each replica\n",
    "    rand_rep_stats = rand_graph_stats.groupby(['gene_type', 'env', 'Replicate']).max()['max_dist']\n",
    "    rand_mean_stats = rand_rep_stats.groupby(['env', 'gene_type']).mean() # Average the max of each replica\n",
    "\n",
    "    width = 0.2\n",
    "    x_pos = np.array([0, 4*width, 9*width, 13*width])\n",
    "    delta = np.array([-width, 0, width])\n",
    "\n",
    "    rects = {}\n",
    "\n",
    "    for i_gene_type, gene_type in enumerate(gene_types):\n",
    "        rects[gene_type] = plt.bar(x_pos + delta[i_gene_type],\n",
    "                                   [mean_stats.loc['A'][gene_type], rand_mean_stats.loc['A'][gene_type],\n",
    "                                    mean_stats.loc['B'][gene_type], rand_mean_stats.loc['B'][gene_type]],\n",
    "                                    width=width, color=gene_type_color[i_gene_type])\n",
    "\n",
    "        plt.boxplot([rep_stats.loc[(gene_type, 'A')], rand_rep_stats.loc[(gene_type, 'A')],\n",
    "                     rep_stats.loc[(gene_type, 'B')], rand_rep_stats.loc[(gene_type, 'B')]],\n",
    "                    positions=x_pos + delta[i_gene_type], \n",
    "                manage_ticks=False, widths=0.1, medianprops={'color':'black'})\n",
    "\n",
    "    plt.xticks(ticks=x_pos, labels=['Evolved env. A', 'Random env. A', 'Evolved env. B', 'Random env. B'])\n",
    "    #ax.yaxis.set_major_locator(mpl.ticker.MultipleLocator(1))\n",
    "\n",
    "    plt.ylabel(f'Furthest switch in the effective graph')\n",
    "    plt.grid(axis='y', linestyle=':')\n",
    "    \n",
    "    patches = ([mpl.patches.Patch(facecolor=color, edgecolor='black', label=label)\n",
    "                for color, label in zip(gene_type_color, gene_types)])\n",
    "    plt.legend(handles=patches, title='Gene type')#, title_fontsize=15, fontsize=15)\n",
    "\n",
    "    \n",
    "    plt.savefig(exp_path.joinpath('effective_graph_max_dist_by_env.pdf'), bbox_inches='tight', dpi=dpi)"
   ]
  },
  {
   "cell_type": "code",
   "execution_count": null,
   "id": "5745ade5",
   "metadata": {},
   "outputs": [],
   "source": [
    "plot_max_dist_by_env(graph_stats, rand_graph_stats)"
   ]
  },
  {
   "cell_type": "code",
   "execution_count": null,
   "id": "52445428",
   "metadata": {},
   "outputs": [],
   "source": []
  }
 ],
 "metadata": {
  "kernelspec": {
   "display_name": "Python 3 (ipykernel)",
   "language": "python",
   "name": "python3"
  },
  "language_info": {
   "codemirror_mode": {
    "name": "ipython",
    "version": 3
   },
   "file_extension": ".py",
   "mimetype": "text/x-python",
   "name": "python",
   "nbconvert_exporter": "python",
   "pygments_lexer": "ipython3",
   "version": "3.9.7"
  }
 },
 "nbformat": 4,
 "nbformat_minor": 5
}
