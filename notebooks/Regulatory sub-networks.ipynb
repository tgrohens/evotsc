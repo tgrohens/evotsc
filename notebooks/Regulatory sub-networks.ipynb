{
 "cells": [
  {
   "cell_type": "code",
   "execution_count": null,
   "id": "50a38260",
   "metadata": {},
   "outputs": [],
   "source": [
    "import matplotlib as mpl\n",
    "import matplotlib.pyplot as plt\n",
    "import numpy as np\n",
    "import pandas as pd\n",
    "import pathlib\n",
    "import itertools"
   ]
  },
  {
   "cell_type": "code",
   "execution_count": null,
   "id": "037c7763",
   "metadata": {},
   "outputs": [],
   "source": [
    "import importlib\n",
    "import evotsc\n",
    "import evotsc_lib\n",
    "import evotsc_plot\n",
    "importlib.reload(evotsc)\n",
    "importlib.reload(evotsc_lib)\n",
    "importlib.reload(evotsc_plot)"
   ]
  },
  {
   "cell_type": "code",
   "execution_count": null,
   "id": "3db62f37",
   "metadata": {},
   "outputs": [],
   "source": [
    "exp_path = pathlib.Path('/Users/theotime/Desktop/evotsc/pci/main/')\n",
    "gen=1_000_000\n",
    "gene_types = ['AB', 'A', 'B'] # Name of each gene type\n",
    "gene_type_color = ['tab:blue', 'tab:red', 'tab:green'] #AB, A, B\n",
    "orient_name = ['leading', 'lagging'] # Name of each gene orientation\n",
    "dpi=300"
   ]
  },
  {
   "cell_type": "code",
   "execution_count": null,
   "id": "963c4fc3",
   "metadata": {},
   "outputs": [],
   "source": [
    "rep_dirs = sorted([d for d in exp_path.iterdir() if (d.is_dir() and d.name.startswith(\"rep\"))])\n",
    "nb_rep = len(rep_dirs)\n",
    "params = evotsc_lib.read_params(rep_dirs[0])\n",
    "params['m'] = 2.5 # Temporary fix because the parameter wasn't saved"
   ]
  },
  {
   "cell_type": "code",
   "execution_count": null,
   "id": "e147fd0b",
   "metadata": {},
   "outputs": [],
   "source": [
    "rng = np.random.default_rng(seed=123456)"
   ]
  },
  {
   "cell_type": "markdown",
   "id": "3da2f347",
   "metadata": {},
   "source": [
    "## Generate sub-networks of _k_ consecutive genes"
   ]
  },
  {
   "cell_type": "code",
   "execution_count": null,
   "id": "a94c3c13",
   "metadata": {},
   "outputs": [],
   "source": [
    "def extract_subnetwork(indiv, i_start, size, keep_ids=False):\n",
    "    \n",
    "    orig_pos, indiv_len = indiv.compute_gene_positions(include_coding=True)\n",
    "    \n",
    "    new_genes = []\n",
    "    for i_gene in range(i_start, i_start + size):\n",
    "        new_gene = indiv.genes[(i_gene % indiv.nb_genes)].clone()\n",
    "        if keep_ids == False:\n",
    "            new_gene.id = i_gene % indiv.nb_genes\n",
    "        new_genes.append(new_gene)\n",
    "\n",
    "\n",
    "    clone = evotsc.Individual(genes=new_genes,\n",
    "                              interaction_dist=indiv.interaction_dist,\n",
    "                              interaction_coef=indiv.interaction_coef,\n",
    "                              sigma_basal=indiv.sigma_basal,\n",
    "                              sigma_opt=indiv.sigma_opt,\n",
    "                              epsilon=indiv.epsilon,\n",
    "                              m=indiv.m,\n",
    "                              selection_coef=indiv.selection_coef,\n",
    "                              rng=indiv.rng)\n",
    "\n",
    "    _, clone_len = clone.compute_gene_positions(include_coding=True)\n",
    "\n",
    "    new_genes[-1].intergene += indiv_len - clone_len\n",
    "\n",
    "    return clone"
   ]
  },
  {
   "cell_type": "code",
   "execution_count": null,
   "id": "094ada6a",
   "metadata": {},
   "outputs": [],
   "source": [
    "def plot_subnetworks(rep, gen, network_sizes):\n",
    "    \n",
    "    indiv = evotsc_lib.get_best_indiv(exp_path.joinpath(f'rep{rep:02}'), gen)\n",
    "    \n",
    "    orig_pos, indiv_len = indiv.compute_gene_positions(include_coding=True)\n",
    "    \n",
    "    sub_path = exp_path.joinpath(f'sub_rep{rep:02}')\n",
    "    sub_path.mkdir(exist_ok=True)\n",
    "\n",
    "    for network_size in network_sizes:\n",
    "        for i_start in range(indiv.nb_genes):\n",
    "            clone = extract_subnetwork(indiv, i_start, network_size)\n",
    "            \n",
    "            # For plotting at the same position as the original individual\n",
    "            shift = orig_pos[i_start]\n",
    "            if indiv.genes[i_start].orientation == 1: # Lagging\n",
    "                shift -= (indiv.genes[i_start].length - 1)\n",
    "                \n",
    "            for env in ['A', 'B']:\n",
    "                sigma = params[f'sigma_{env}']\n",
    "                name = sub_path.joinpath(f'sub_{network_size}_genes_{i_start:02}_env_{env}.pdf')\n",
    "\n",
    "                evotsc_plot.plot_genome_and_tsc(clone, sigma=sigma, coloring_type='on-off',\n",
    "                                                show_bar=(env == 'A'),\n",
    "                                                id_interval=1, print_ids=True, naming_type='id',\n",
    "                                                shift=-shift, plot_name=name, show_plot=False)   "
   ]
  },
  {
   "cell_type": "code",
   "execution_count": null,
   "id": "5a9e3d20",
   "metadata": {},
   "outputs": [],
   "source": [
    "plot_subnetworks(rep=21, gen=gen, network_sizes=[3, 7])"
   ]
  },
  {
   "cell_type": "markdown",
   "id": "6d671e7c",
   "metadata": {},
   "source": [
    "## Statistics of the subnetworks: final expression of each gene and fitness"
   ]
  },
  {
   "cell_type": "code",
   "execution_count": null,
   "id": "b70b125c",
   "metadata": {},
   "outputs": [],
   "source": [
    "def compute_subnetwork_fitness(indiv):\n",
    "    # Take into account the fact that the individual has k_A, k_B, k_AB < 20 genes of each type\n",
    "    \n",
    "    expr_levels_A = indiv.run_system(params['sigma_A'])\n",
    "    expr_levels_B = indiv.run_system(params['sigma_B'])\n",
    "    \n",
    "    # The minimal expression level is exp(-m)\n",
    "    target_A = np.array([1.0, 1.0, np.exp(-indiv.m)]) # Gene types are AB, A, B\n",
    "    target_B = np.array([1.0, np.exp(-indiv.m), 1.0])\n",
    "\n",
    "    \n",
    "    nb_genes_per_type = np.array([0, 0, 0], dtype=int)\n",
    "    \n",
    "    for gene in indiv.genes:\n",
    "        nb_genes_per_type[gene.gene_type] += 1\n",
    "        \n",
    "    for i_type in range(len(gene_types)):\n",
    "        if nb_genes_per_type[i_type] == 0:\n",
    "            nb_genes_per_type[i_type] = 1  # No genes of that type: expr should be 0, but divide by 1\n",
    "            target_A[i_type] = target_B[i_type] = 0 # Also don't count this type in the fitness\n",
    "\n",
    "    # Environment A\n",
    "    gene_expr_A = np.zeros(3)\n",
    "    for i_gene, gene in enumerate(indiv.genes):\n",
    "        gene_expr_A[gene.gene_type] += expr_levels_A[-1, i_gene]\n",
    "\n",
    "\n",
    "    gap_A = np.square(gene_expr_A / nb_genes_per_type - target_A).sum()\n",
    "\n",
    "    # Environment B\n",
    "    gene_expr_B = np.zeros(3)\n",
    "    for i_gene, gene in enumerate(indiv.genes):\n",
    "        gene_expr_B[gene.gene_type] += expr_levels_B[-1, i_gene]\n",
    "\n",
    "\n",
    "    gap_B = np.square(gene_expr_B / nb_genes_per_type - target_B).sum()\n",
    "\n",
    "    fitness = np.exp(- indiv.selection_coef * (gap_A + gap_B))\n",
    "\n",
    "    return fitness"
   ]
  },
  {
   "cell_type": "code",
   "execution_count": null,
   "id": "a1cae518",
   "metadata": {},
   "outputs": [],
   "source": [
    "def compute_subnetwork_stats(exp_path, gen, network_sizes):\n",
    "    \n",
    "    rep_dirs = sorted([d for d in exp_path.iterdir() if (d.is_dir() and d.name.startswith(\"rep\"))])\n",
    "    \n",
    "    full_stats = pd.DataFrame()\n",
    "        \n",
    "    for rep, rep_dir in enumerate(rep_dirs):\n",
    "        \n",
    "        indiv = evotsc_lib.get_best_indiv(rep_dir, gen)\n",
    "        \n",
    "        result_dict = {'Replicate': [],\n",
    "               'network_size': [],\n",
    "               'start_pos': [],\n",
    "               'subnetwork_pos': [],\n",
    "               'gene_id': [],\n",
    "               'gene_type': [],\n",
    "               'gene_orient': [],\n",
    "               'final_expr_A': [],\n",
    "               'final_expr_B': [],\n",
    "               'fitness': []}\n",
    "    \n",
    "        for size in network_sizes:\n",
    "\n",
    "            for i_start in range(indiv.nb_genes):\n",
    "                sub_indiv = extract_subnetwork(indiv, i_start, size, keep_ids=True)\n",
    "\n",
    "                (expr_A, expr_B), _ = sub_indiv.evaluate(params['sigma_A'], params['sigma_B'])\n",
    "                fitness = compute_subnetwork_fitness(sub_indiv)\n",
    "\n",
    "                for i_gene, gene in enumerate(sub_indiv.genes):\n",
    "                    result_dict['Replicate'].append(rep)\n",
    "                    result_dict['network_size'].append(size)\n",
    "                    result_dict['start_pos'].append(i_start)\n",
    "                    result_dict['subnetwork_pos'].append(i_gene)\n",
    "                    result_dict['gene_id'].append(gene.id)\n",
    "                    result_dict['gene_type'].append(gene_types[gene.gene_type])\n",
    "                    result_dict['gene_orient'].append(orient_name[gene.orientation])\n",
    "                    result_dict['final_expr_A'].append(expr_A[-1, i_gene])\n",
    "                    result_dict['final_expr_B'].append(expr_B[-1, i_gene])\n",
    "                    result_dict['fitness'].append(fitness)\n",
    "\n",
    "\n",
    "        indiv_stats = pd.DataFrame.from_dict(result_dict)\n",
    "\n",
    "        full_stats = pd.concat([full_stats, indiv_stats])\n",
    "            \n",
    "    return full_stats"
   ]
  },
  {
   "cell_type": "code",
   "execution_count": null,
   "id": "995553c4",
   "metadata": {},
   "outputs": [],
   "source": [
    "# Full stats\n",
    "stats = compute_subnetwork_stats(exp_path, gen, network_sizes=range(1, int(params['nb_genes'])+1))"
   ]
  },
  {
   "cell_type": "code",
   "execution_count": null,
   "id": "538dff5b",
   "metadata": {},
   "outputs": [],
   "source": [
    "# Statistics for the genes at the middle position of a subnetwork (of odd sizes only)\n",
    "central_gene_stats = pd.concat(stats[(stats[\"network_size\"] == network_size) &\n",
    "                                     (stats[\"subnetwork_pos\"] == network_size // 2)]\n",
    "                               for network_size in np.arange(1, 60, 2)).copy()"
   ]
  },
  {
   "cell_type": "markdown",
   "id": "762356df",
   "metadata": {},
   "source": [
    "## Plot the mean and median expression level by gene type for each network size"
   ]
  },
  {
   "cell_type": "code",
   "execution_count": null,
   "id": "6fb089f0",
   "metadata": {},
   "outputs": [],
   "source": [
    "def plot_expr_by_network_size(stats):\n",
    "    \n",
    "    mean_stats = stats.groupby(['gene_type', 'network_size']).mean()\n",
    "    med_stats = stats.groupby(['gene_type', 'network_size']).median()\n",
    "    \n",
    "\n",
    "    custom_lines = [mpl.lines.Line2D([0], [0], color='k', linewidth=2),\n",
    "                    mpl.lines.Line2D([0], [0], color='k', linestyle=':', linewidth=2)]\n",
    "    \n",
    "    for i_env, env in enumerate(['A', 'B']):\n",
    "        plt.figure(figsize=(9, 4), dpi=dpi)\n",
    "        plt.grid(linestyle=':')\n",
    "        plt.ylim(-0.05, 1.05)\n",
    "        for i_gene_type, gene_type in enumerate(gene_types):\n",
    "            plt.plot(med_stats.loc[(gene_type)][f'final_expr_{env}'],\n",
    "                     color=gene_type_color[i_gene_type], linewidth=2)\n",
    "            plt.plot(mean_stats.loc[(gene_type)][f'final_expr_{env}'],\n",
    "                     color=gene_type_color[i_gene_type], linewidth=2, linestyle=':')\n",
    "    \n",
    "        plt.ylabel('Expression level')    \n",
    "        \n",
    "        plt.xlabel('Subnetwork size')\n",
    "        plt.legend(custom_lines, ['Medians', 'Means'])\n",
    "\n",
    "        plt.savefig(exp_path.joinpath(f'med_expr_by_network_size_all_env_{env}.pdf'), bbox_inches='tight')\n",
    "    \n",
    "        plt.show()"
   ]
  },
  {
   "cell_type": "code",
   "execution_count": null,
   "id": "09de07b8",
   "metadata": {},
   "outputs": [],
   "source": [
    "plot_expr_by_network_size(stats)"
   ]
  },
  {
   "cell_type": "code",
   "execution_count": null,
   "id": "d311dd9b",
   "metadata": {},
   "outputs": [],
   "source": [
    "plot_expr_by_network_size(central_gene_stats)"
   ]
  },
  {
   "cell_type": "code",
   "execution_count": null,
   "id": "08325bd2",
   "metadata": {},
   "outputs": [],
   "source": [
    "#for i_rep in range(nb_rep):\n",
    "#    plot_expr_by_network_size(stats[stats['Replicate'] == i_rep], \n",
    "#                               plot_name=exp_path.joinpath(f'med_expr_by_network_size_rep{i_rep}.pdf'))"
   ]
  },
  {
   "cell_type": "markdown",
   "id": "d9733adc",
   "metadata": {},
   "source": [
    "## Plot the distribution of gene expression levels in each env. for each network size"
   ]
  },
  {
   "cell_type": "code",
   "execution_count": null,
   "id": "e93c8da1",
   "metadata": {},
   "outputs": [],
   "source": [
    "def plot_distrib_by_network_size(stats, network_size):\n",
    "    \n",
    "    for env in ['A', 'B']:\n",
    "    \n",
    "        # Data\n",
    "        size_stats = stats[stats['network_size'] == network_size].copy().reindex()\n",
    "\n",
    "        median_stats = size_stats.groupby('gene_type').median()[f'final_expr_{env}']\n",
    "        mean_stats = size_stats.groupby('gene_type').mean()[f'final_expr_{env}']\n",
    "\n",
    "        x = range(1, 4)\n",
    "\n",
    "        # Plot\n",
    "        fig, ax = plt.subplots(dpi=300)\n",
    "\n",
    "        colors = plt.cm.get_cmap('tab20').colors\n",
    "        light_type_color = [colors[1], colors[7], colors[5]]\n",
    "        dark_type_color = [colors[0], colors[6], colors[4]]\n",
    "\n",
    "        violins = []\n",
    "        for i_gene_type, gene_type in enumerate(gene_types):\n",
    "            type_stats = size_stats[size_stats['gene_type'] == gene_type][f'final_expr_{env}']\n",
    "            violins.append(ax.violinplot(type_stats, positions=[x[i_gene_type]],\n",
    "                                         showmeans=True, showmedians=True))\n",
    "\n",
    "            if i_gene_type == 0:\n",
    "                ax.scatter([x[i_gene_type]], median_stats.loc[gene_type], marker='o', \n",
    "                            color=dark_type_color[i_gene_type], label='Medians')\n",
    "                ax.scatter([x[i_gene_type]], mean_stats.loc[gene_type], marker='x',\n",
    "                            color=dark_type_color[i_gene_type], label='Means')\n",
    "            else:\n",
    "                ax.scatter([x[i_gene_type]], median_stats.loc[gene_type], marker='o', \n",
    "                            color=dark_type_color[i_gene_type])\n",
    "                ax.scatter([x[i_gene_type]], mean_stats.loc[gene_type], marker='x',\n",
    "                            color=dark_type_color[i_gene_type])\n",
    "\n",
    "\n",
    "        for i_violin, violin in enumerate(violins):\n",
    "            for i_pc, pc in enumerate(violin['bodies']):\n",
    "                pc.set_facecolor(light_type_color[i_violin])\n",
    "\n",
    "            for partname in ['cbars','cmins','cmaxes','cmeans','cmedians']:\n",
    "                violin[partname].set_edgecolor(dark_type_color[i_violin])\n",
    "\n",
    "        ax.set_ylim(-0.05, 1.05)\n",
    "        ax.set_ylabel('Expression level')\n",
    "        ax.set_xticks(x)\n",
    "        ax.set_xticklabels(gene_types)\n",
    "        ax.set_xlabel('Gene type')\n",
    "        ax.grid(axis='y', linestyle=':')\n",
    "\n",
    "        plt.legend(loc='lower left')\n",
    "\n",
    "        plt.savefig(f'distrib_expr_size_env_{env}_{network_size}.pdf', bbox_inches='tight')\n",
    "\n",
    "        plt.show()\n",
    "        plt.close()"
   ]
  },
  {
   "cell_type": "code",
   "execution_count": null,
   "id": "71f31544",
   "metadata": {},
   "outputs": [],
   "source": [
    "#plot_distrib_by_network_size(stats, network_size=59)"
   ]
  },
  {
   "cell_type": "markdown",
   "id": "24e9511d",
   "metadata": {},
   "source": [
    "## Plot proportion of activated genes for each network size"
   ]
  },
  {
   "cell_type": "code",
   "execution_count": null,
   "id": "8fb589de",
   "metadata": {},
   "outputs": [],
   "source": [
    "def plot_activ_by_network_size(stats, plot_name=None):\n",
    "    \n",
    "    stats = stats.copy()\n",
    "    \n",
    "    half_expr = (1 + np.exp(- params['m'])) / 2\n",
    "    for env in ['A', 'B']:\n",
    "        stats[f'activ_{env}'] = stats[f'final_expr_{env}'] > half_expr\n",
    "\n",
    "    mean_stats = stats.groupby(['gene_type', 'network_size']).mean()\n",
    "        \n",
    "    \n",
    "    for i_env, env in enumerate(['A', 'B']):\n",
    "        plt.figure(figsize=(9, 4), dpi=dpi)\n",
    "        plt.grid(linestyle=':')\n",
    "        plt.ylim(-0.05, 1.05)\n",
    "        for i_gene_type, gene_type in enumerate(gene_types):\n",
    "            plt.plot(mean_stats.loc[(gene_type)][f'activ_{env}'],\n",
    "                     color=gene_type_color[i_gene_type], linewidth=2)\n",
    "    \n",
    "        plt.ylabel('Proportion of activated genes')\n",
    "        plt.xlabel('Subnetwork size')\n",
    "     \n",
    "        plt.savefig(exp_path.joinpath(f'med_activ_by_network_size_all_env_{env}.pdf'), bbox_inches='tight')\n",
    "        plt.show()"
   ]
  },
  {
   "cell_type": "code",
   "execution_count": null,
   "id": "653a0ad9",
   "metadata": {},
   "outputs": [],
   "source": [
    "plot_activ_by_network_size(stats)"
   ]
  },
  {
   "cell_type": "code",
   "execution_count": null,
   "id": "135a095b",
   "metadata": {},
   "outputs": [],
   "source": [
    "plot_activ_by_network_size(central_gene_stats)"
   ]
  },
  {
   "cell_type": "markdown",
   "id": "05304528",
   "metadata": {},
   "source": [
    "## Plot fitness (not averaged by subnetwork) for each network size\n",
    "For each subnetwork, compute the difference between the mean expression of the genes in the subnetwork and the target, neutralizing gene types that are not present in the subnetwork."
   ]
  },
  {
   "cell_type": "code",
   "execution_count": null,
   "id": "ce3e5aa3",
   "metadata": {},
   "outputs": [],
   "source": [
    "def plot_fitness_by_network_size(stats, plot_name=None):\n",
    "    \n",
    "    stats = stats.copy()\n",
    "    \n",
    "    mean_stats = stats.groupby(['network_size']).mean()\n",
    "        \n",
    "    plt.figure(figsize=(9, 4), dpi=dpi)\n",
    "    \n",
    "    plt.grid(linestyle=':')\n",
    "    plt.ylim(-0.05, 1.05)\n",
    "    plt.yscale('log')\n",
    "    plt.ylim(1e-8 - 1e-100, 1)\n",
    "    \n",
    "    plt.plot(mean_stats['fitness'], color='tab:cyan', linewidth=2)\n",
    "\n",
    "    plt.ylabel('Fitness')\n",
    "    plt.xlabel('Subnetwork size')\n",
    "     \n",
    "    if plot_name:\n",
    "        plt.savefig(plot_name, bbox_inches='tight')\n",
    "    plt.show()"
   ]
  },
  {
   "cell_type": "code",
   "execution_count": null,
   "id": "d1d9b8a9",
   "metadata": {},
   "outputs": [],
   "source": [
    "plot_fitness_by_network_size(stats)"
   ]
  },
  {
   "cell_type": "markdown",
   "id": "00d3c9dd",
   "metadata": {},
   "source": [
    "## \"Fitness\" by size of the subnetwork\n",
    "For a given subnetwork size, compute the average expression of each gene in all subnetworks of that size, and then compute fitness based on this: this removes the problem of missing gene types in a given subnetwork."
   ]
  },
  {
   "cell_type": "code",
   "execution_count": null,
   "id": "83cff38a",
   "metadata": {},
   "outputs": [],
   "source": [
    "def plot_fitness_by_network_size_avg(stats, plot_name=None):\n",
    "    \n",
    "    grouped_stats = stats.groupby(['network_size', 'gene_type']).mean()\n",
    "    fitnesses = {}\n",
    "    \n",
    "    for size in stats['network_size'].unique():\n",
    "\n",
    "        target_A = np.array([1.0, 1.0, np.exp(-params['m'])]) # Gene types are AB, A, B\n",
    "        expr_A = grouped_stats.loc[(size)]['final_expr_A'][gene_types].to_numpy()\n",
    "        gap_A = np.square(expr_A - target_A).sum()\n",
    "\n",
    "        target_B = np.array([1.0, np.exp(-params['m']), 1.0]) # Gene types are AB, A, B\n",
    "        expr_B = grouped_stats.loc[(size)]['final_expr_B'][gene_types].to_numpy()\n",
    "        gap_B = np.square(expr_B - target_B).sum()\n",
    "\n",
    "        fitnesses[size-1] = np.exp(- params['selection_coef'] * (gap_A + gap_B))\n",
    "        \n",
    "    plt.figure(figsize=(9, 4), dpi=300)\n",
    "\n",
    "    plt.plot(fitnesses.keys(), fitnesses.values(), color='tab:cyan')\n",
    "    plt.yscale('log')\n",
    "    plt.grid(linestyle=':')\n",
    "    plt.ylabel('Fitness')\n",
    "    plt.xlabel('Subnetwork size')\n",
    "    \n",
    "    if plot_name:\n",
    "        plt.savefig(plot_name, bbox_inches='tight')\n",
    "    plt.show()"
   ]
  },
  {
   "cell_type": "code",
   "execution_count": null,
   "id": "ba90fbdd",
   "metadata": {},
   "outputs": [],
   "source": [
    "plot_fitness_by_network_size_avg(stats)"
   ]
  },
  {
   "cell_type": "markdown",
   "id": "0247e782",
   "metadata": {},
   "source": [
    "## Minimum network size for the central gene to regain its function"
   ]
  },
  {
   "cell_type": "code",
   "execution_count": null,
   "id": "c105dca1",
   "metadata": {},
   "outputs": [],
   "source": [
    "def compute_min_subnetwork_size(stats, central_gene_stats):\n",
    "    \n",
    "    half_dist = (1 - np.exp(- params['m'])) / 2 # Distance between min_expr and half_expr or half_expr and 1\n",
    "    nb_genes = stats['gene_id'].nunique()\n",
    "    \n",
    "    whole_stats = stats[stats['network_size'] == 60]\n",
    "\n",
    "    data = {'A': {'A': [], 'B': []},\n",
    "            'B': {'A': [], 'B': []},\n",
    "            'AB': {'A': [], 'B': []}}\n",
    "    \n",
    "    res_dict = {'Replicate': [],\n",
    "                'gene_id': [],\n",
    "                'gene_pos': [], # position in the gene list\n",
    "                'gene_type': [],\n",
    "                'min_size_A': [],\n",
    "                'min_size_B': []}\n",
    "    \n",
    "    target_A = {'A': 1, 'B': np.exp(- params['m']), 'AB': 1}\n",
    "    target_B = {'A': np.exp(- params['m']), 'B': 1, 'AB': 1}\n",
    "\n",
    "    for rep in range(nb_rep):\n",
    "        rep_stats = whole_stats[whole_stats['Replicate'] == rep]\n",
    "        for gene_id in range(nb_genes):\n",
    "            \n",
    "            gene_stats = rep_stats[rep_stats['gene_id'] == gene_id].iloc[0]\n",
    "            cur_gene_type = gene_stats['gene_type']\n",
    "            \n",
    "            for gene_type in gene_types:\n",
    "                if cur_gene_type == gene_type:\n",
    "                    if (np.abs(gene_stats['final_expr_A'] - target_A[gene_type]) < half_dist and\n",
    "                        np.abs(gene_stats['final_expr_B'] - target_B[gene_type]) < half_dist):\n",
    "\n",
    "                        gene_stats = central_gene_stats[(central_gene_stats['Replicate'] == rep) &\n",
    "                                                        (central_gene_stats['gene_id'] == gene_id)]\n",
    "\n",
    "                        for min_size_A in np.arange(1, nb_genes+1, step=2):\n",
    "                            size_data = gene_stats[gene_stats['network_size'] == min_size_A].iloc[0]\n",
    "                            if np.abs(size_data['final_expr_A'] - target_A[gene_type]) < half_dist:\n",
    "                                break\n",
    "\n",
    "                        for min_size_B in np.arange(1, nb_genes+1, step=2):\n",
    "                            size_data = gene_stats[gene_stats['network_size'] == min_size_B].iloc[0]\n",
    "                            if np.abs(size_data['final_expr_B'] - target_B[gene_type]) < half_dist:\n",
    "                                break\n",
    "\n",
    "                        res_dict['Replicate'].append(rep)\n",
    "                        res_dict['gene_id'].append(gene_id)\n",
    "                        \n",
    "                        gene_pos = (gene_stats.iloc[0]['start_pos'] + gene_stats.iloc[0]['subnetwork_pos']) % nb_genes\n",
    "                        res_dict['gene_pos'].append(gene_pos)\n",
    "                        res_dict['gene_type'].append(gene_type)\n",
    "                        res_dict['min_size_A'].append(min_size_A)\n",
    "                        res_dict['min_size_B'].append(min_size_B)\n",
    "                        \n",
    "    return pd.DataFrame.from_dict(res_dict)"
   ]
  },
  {
   "cell_type": "code",
   "execution_count": null,
   "id": "435122c3",
   "metadata": {},
   "outputs": [],
   "source": [
    "data = compute_min_subnetwork_size(stats, central_gene_stats)"
   ]
  },
  {
   "cell_type": "code",
   "execution_count": null,
   "id": "ce8f0f88",
   "metadata": {},
   "outputs": [],
   "source": [
    "data.groupby('gene_type').count()"
   ]
  },
  {
   "cell_type": "code",
   "execution_count": null,
   "id": "d3f661a7",
   "metadata": {},
   "outputs": [],
   "source": [
    "def plot_min_needed_size(data):\n",
    "    fig, ax = plt.subplots(figsize=(8, 5), dpi=300)\n",
    "    ax.set_ylim(0, 30)\n",
    "    ax.grid(linestyle=':', axis='y')\n",
    "    \n",
    "    delta = 2.5\n",
    "    \n",
    "    x_pos = [0, 1, delta, delta + 1, 2*delta, 2*delta + 1]\n",
    "        \n",
    "    ax.set_xticks(x_pos, labels=[f'{gene_type} env. {env}' for gene_type, env in\n",
    "                                 itertools.product(gene_types, ['A', 'B'])])\n",
    "    \n",
    "    for i_gene_type, gene_type in enumerate(gene_types):\n",
    "        violin = ax.violinplot(data[data['gene_type'] == gene_type][['min_size_A', 'min_size_B']],\n",
    "                               positions=[delta*i_gene_type, delta*i_gene_type+1])\n",
    "        \n",
    "        for pc in violin['bodies']:\n",
    "            pc.set_facecolor(gene_type_color[i_gene_type])\n",
    "\n",
    "        for partname in ('cbars','cmins','cmaxes'):\n",
    "            vp = violin[partname]\n",
    "            vp.set_edgecolor(gene_type_color[i_gene_type])\n",
    "            #vp.set_linewidth(1)\n",
    "\n",
    "    for i_gene_type, gene_type in enumerate(gene_types):\n",
    "        ax.boxplot(data[data['gene_type'] == gene_type][['min_size_A', 'min_size_B']],\n",
    "                   positions=[delta*i_gene_type, delta*i_gene_type+1], showmeans=True,\n",
    "                   manage_ticks=False, medianprops={'color':'black'},\n",
    "                   meanprops={'marker':'_', 'markerfacecolor':'black', 'markeredgecolor':'black'})\n",
    "    \n",
    "    #ax.yaxis.set_major_locator(mpl.ticker.MultipleLocator(2))\n",
    "    ax.set_yticks(np.arange(1, 31, step=4))\n",
    "    ax.set_ylim(-1, 31)\n",
    "    \n",
    "    ax.set_ylabel('Minimum network size to reach activation target')\n",
    "    \n",
    "    plt.savefig(exp_path.joinpath('min_network_size.pdf'), dpi=dpi, bbox_inches='tight')"
   ]
  },
  {
   "cell_type": "code",
   "execution_count": null,
   "id": "3515c354",
   "metadata": {
    "scrolled": false
   },
   "outputs": [],
   "source": [
    "plot_min_needed_size(data)"
   ]
  },
  {
   "cell_type": "code",
   "execution_count": null,
   "id": "35241554",
   "metadata": {},
   "outputs": [],
   "source": [
    "data.groupby(['gene_type']).median()[['min_size_A', 'min_size_B']]"
   ]
  },
  {
   "cell_type": "code",
   "execution_count": null,
   "id": "5dd8708a",
   "metadata": {},
   "outputs": [],
   "source": [
    "data.groupby(['gene_type']).mean()[['min_size_A', 'min_size_B']]"
   ]
  },
  {
   "cell_type": "code",
   "execution_count": null,
   "id": "0b0268f8",
   "metadata": {},
   "outputs": [],
   "source": [
    "data[(data['gene_type'] == 'A') & (data['min_size_B'] == 9) & (data['Replicate'] == 21)]"
   ]
  },
  {
   "cell_type": "code",
   "execution_count": null,
   "id": "f82aef78",
   "metadata": {},
   "outputs": [],
   "source": [
    "data[(data['gene_type'] == 'B') & (data['min_size_A'] == 5) & (data['Replicate'] == 21)]"
   ]
  },
  {
   "cell_type": "code",
   "execution_count": null,
   "id": "e3e7b34c",
   "metadata": {},
   "outputs": [],
   "source": []
  }
 ],
 "metadata": {
  "kernelspec": {
   "display_name": "Python 3 (ipykernel)",
   "language": "python",
   "name": "python3"
  },
  "language_info": {
   "codemirror_mode": {
    "name": "ipython",
    "version": 3
   },
   "file_extension": ".py",
   "mimetype": "text/x-python",
   "name": "python",
   "nbconvert_exporter": "python",
   "pygments_lexer": "ipython3",
   "version": "3.9.7"
  }
 },
 "nbformat": 4,
 "nbformat_minor": 5
}
