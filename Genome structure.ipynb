{
 "cells": [
  {
   "cell_type": "code",
   "execution_count": null,
   "metadata": {},
   "outputs": [],
   "source": [
    "import numpy as np\n",
    "import pandas as pd\n",
    "import matplotlib.pyplot as plt\n",
    "import matplotlib as mpl\n",
    "import datetime\n",
    "import pickle\n",
    "import pathlib"
   ]
  },
  {
   "cell_type": "code",
   "execution_count": null,
   "metadata": {},
   "outputs": [],
   "source": [
    "import autoreload\n",
    "import evotsc\n",
    "import evotsc_plot\n",
    "autoreload.reload(evotsc)\n",
    "autoreload.reload(evotsc_plot)"
   ]
  },
  {
   "cell_type": "code",
   "execution_count": null,
   "metadata": {},
   "outputs": [],
   "source": [
    "exp_path = pathlib.Path('/Users/theotime/Desktop/evotsc/sigma_0.1_augustus/')\n",
    "neutral_exp_path = pathlib.Path('/Users/theotime/Desktop/evotsc/neutral_100k/')\n",
    "gen=500_000\n",
    "gene_types = ['AB', 'A', 'B'] # Name of each gene type\n",
    "gene_type_color = ['tab:blue', 'tab:red', 'tab:green'] #AB, A, B\n",
    "orient_name = ['leading', 'lagging'] # Name of each gene orientation\n",
    "rel_orient = ['conv', 'div', 'upstr', 'downstr']"
   ]
  },
  {
   "cell_type": "code",
   "execution_count": null,
   "metadata": {},
   "outputs": [],
   "source": [
    "label_fontsize=20\n",
    "tick_fontsize=15\n",
    "legend_fontsize=15\n",
    "dpi=300"
   ]
  },
  {
   "cell_type": "code",
   "execution_count": null,
   "metadata": {},
   "outputs": [],
   "source": [
    "def get_params(exp_path):\n",
    "    rep_dirs = sorted([d for d in exp_path.iterdir() if (d.is_dir() and d.name.startswith(\"rep\"))])\n",
    "    \n",
    "    with open(rep_dirs[0].joinpath('params.txt'), 'r') as params_file:\n",
    "        param_lines = params_file.readlines()\n",
    "        \n",
    "    params = {}\n",
    "    for line in param_lines:\n",
    "        param_name = line.split(':')[0]\n",
    "        if param_name == 'commit':\n",
    "            param_val = line.split(':')[1].strip()\n",
    "        else:\n",
    "            param_val = float(line.split(':')[1])\n",
    "        \n",
    "        params[param_name] = param_val\n",
    "        \n",
    "    return params"
   ]
  },
  {
   "cell_type": "code",
   "execution_count": null,
   "metadata": {},
   "outputs": [],
   "source": [
    "params = get_params(exp_path)"
   ]
  },
  {
   "cell_type": "code",
   "execution_count": null,
   "metadata": {},
   "outputs": [],
   "source": [
    "params"
   ]
  },
  {
   "cell_type": "code",
   "execution_count": null,
   "metadata": {},
   "outputs": [],
   "source": [
    "def get_best_indiv(rep_path, gen):\n",
    "    \n",
    "    with open(rep_path.joinpath(f'pop_gen_{gen:06}.evotsc'), 'rb') as save_file:\n",
    "        pop_rep = pickle.load(save_file)\n",
    "        \n",
    "    pop_rep.evaluate()\n",
    "    \n",
    "    best_fit = 0\n",
    "    best_indiv = pop_rep.individuals[0]\n",
    "    \n",
    "    try:\n",
    "        for indiv in pop_rep.individuals:\n",
    "            if indiv.fitness > best_fit:\n",
    "                best_fit = indiv.fitness\n",
    "                best_indiv = indiv\n",
    "    except AttributeError: # In the neutral control, individuals are not evaluated so there is no fitness field\n",
    "        pass\n",
    "    \n",
    "    return best_indiv"
   ]
  },
  {
   "cell_type": "markdown",
   "metadata": {},
   "source": [
    "# Plot genomes"
   ]
  },
  {
   "cell_type": "code",
   "execution_count": null,
   "metadata": {},
   "outputs": [],
   "source": [
    "def plot_best_genome(exp_path, gen):\n",
    "    rep_dirs = sorted([d for d in exp_path.iterdir() if (d.is_dir() and d.name.startswith(\"rep\"))])\n",
    "    \n",
    "    for rep, rep_dir in enumerate(rep_dirs):\n",
    "        \n",
    "        best_indiv = get_best_indiv(rep_dir, gen)\n",
    "\n",
    "        evotsc_plot.plot_genome(best_indiv, name=exp_path.joinpath(f'genome_rep{rep:02}.pdf'), print_ids=True)"
   ]
  },
  {
   "cell_type": "code",
   "execution_count": null,
   "metadata": {},
   "outputs": [],
   "source": [
    "plot_best_genome(exp_path, gen)"
   ]
  },
  {
   "cell_type": "code",
   "execution_count": null,
   "metadata": {},
   "outputs": [],
   "source": [
    "def plot_best_genome_and_tsc(exp_path, gen):\n",
    "    rep_dirs = sorted([d for d in exp_path.iterdir() if (d.is_dir() and d.name.startswith(\"rep\"))])\n",
    "    \n",
    "    for rep, rep_dir in enumerate(rep_dirs):\n",
    "        \n",
    "        best_indiv = get_best_indiv(rep_dir, gen)\n",
    "\n",
    "        evotsc_plot.plot_genome_and_tsc(best_indiv, params['sigma_A'], show_bar=True,\n",
    "                            name=exp_path.joinpath(f'genome_and_tsc_rep{rep:02}_env_A.pdf'), print_ids=True)\n",
    "        evotsc_plot.plot_genome_and_tsc(best_indiv, params['sigma_B'], show_bar=True,\n",
    "                            name=exp_path.joinpath(f'genome_and_tsc_rep{rep:02}_env_B.pdf'), print_ids=True)"
   ]
  },
  {
   "cell_type": "code",
   "execution_count": null,
   "metadata": {},
   "outputs": [],
   "source": [
    "plot_best_genome_and_tsc(exp_path, gen)"
   ]
  },
  {
   "cell_type": "markdown",
   "metadata": {},
   "source": [
    "# Plot gene pairs"
   ]
  },
  {
   "cell_type": "code",
   "execution_count": null,
   "metadata": {},
   "outputs": [],
   "source": [
    "def get_gene_stats(indiv):\n",
    "    result_dict = {'gene_id': [],\n",
    "                   'gene_type': [],\n",
    "                   'gene_orient': [],\n",
    "                   'other_id': [],\n",
    "                   'other_type': [],\n",
    "                   'other_orient': [],\n",
    "                   'rel_orient': [],\n",
    "                   'distance': []}\n",
    "    \n",
    "    for i_gene, gene in enumerate(indiv.genes):\n",
    "        #                                                      other - gene\n",
    "        other = indiv.genes[i_gene - 1]\n",
    "        result_dict['gene_id'].append(gene.id)\n",
    "        result_dict['gene_type'].append(gene_types[gene.gene_type])\n",
    "        result_dict['gene_orient'].append(orient_name[gene.orientation])\n",
    "        result_dict['other_id'].append(other.id)\n",
    "        result_dict['other_type'].append(gene_types[other.gene_type])\n",
    "        result_dict['other_orient'].append(orient_name[other.orientation])\n",
    "        if other.orientation == 0 and gene.orientation == 1:   # ---> <---\n",
    "            rel_orient = 'conv'\n",
    "        elif other.orientation == 0 and gene.orientation == 0: # ---> --->\n",
    "            rel_orient = 'downstr'\n",
    "        elif other.orientation == 1 and gene.orientation == 0: # <--- --->\n",
    "            rel_orient = 'div'\n",
    "        else:                                                  # <--- <---\n",
    "            rel_orient = 'upstr'\n",
    "        result_dict['rel_orient'].append(rel_orient)\n",
    "        result_dict['distance'].append(other.intergene)\n",
    "\n",
    "        #                                                       gene - other\n",
    "        other = indiv.genes[(i_gene + 1) % indiv.nb_genes]\n",
    "        result_dict['gene_id'].append(gene.id)\n",
    "        result_dict['gene_type'].append(gene_types[gene.gene_type])\n",
    "        result_dict['gene_orient'].append(orient_name[gene.orientation])\n",
    "        result_dict['other_id'].append(other.id)\n",
    "        result_dict['other_type'].append(gene_types[other.gene_type])\n",
    "        result_dict['other_orient'].append(orient_name[other.orientation])\n",
    "        if gene.orientation == 0 and other.orientation == 1:   # ---> <---\n",
    "            rel_orient = 'conv'\n",
    "        elif gene.orientation == 0 and other.orientation == 0: # ---> --->\n",
    "            rel_orient = 'upstr'\n",
    "        elif gene.orientation == 1 and other.orientation == 0: # <--- --->\n",
    "            rel_orient = 'div'\n",
    "        else:                                                  # <--- <---\n",
    "            rel_orient = 'downstr'\n",
    "        result_dict['rel_orient'].append(rel_orient)\n",
    "        result_dict['distance'].append(gene.intergene)\n",
    "\n",
    "    return pd.DataFrame.from_dict(result_dict)"
   ]
  },
  {
   "cell_type": "code",
   "execution_count": null,
   "metadata": {},
   "outputs": [],
   "source": [
    "def get_full_stats(exp_path, gen):\n",
    "    rep_dirs = sorted([d for d in exp_path.iterdir() if (d.is_dir() and d.name.startswith(\"rep\"))])\n",
    "    \n",
    "    full_stats = pd.DataFrame()\n",
    "        \n",
    "    for rep, rep_dir in enumerate(rep_dirs):\n",
    "        \n",
    "        best_indiv = get_best_indiv(rep_dir, gen)\n",
    "\n",
    "        indiv_stats = get_gene_stats(best_indiv)\n",
    "        indiv_stats.insert(0, 'Replicate', rep)\n",
    "        full_stats = pd.concat([full_stats, indiv_stats])\n",
    "            \n",
    "    return full_stats"
   ]
  },
  {
   "cell_type": "code",
   "execution_count": null,
   "metadata": {},
   "outputs": [],
   "source": [
    "evol_stats = get_full_stats(exp_path, gen)"
   ]
  },
  {
   "cell_type": "code",
   "execution_count": null,
   "metadata": {},
   "outputs": [],
   "source": [
    "#neutral_stats = get_full_stats(neutral_exp_path, 100000)"
   ]
  },
  {
   "cell_type": "code",
   "execution_count": null,
   "metadata": {},
   "outputs": [],
   "source": [
    "def plot_gene_stats(stats, plot_name, count_bars):\n",
    "    \n",
    "    # If count_bars is true, the bars represent the count for each pair type and\n",
    "    # we annotate them with the average distances; if count_bars is false, we \n",
    "    # plot the opposite: the bars represent average distances, and are annotated\n",
    "    # with the count for each pair type.\n",
    "    \n",
    "    fig, axs = plt.subplots(3, 3, sharey='all', figsize=(12, 12), dpi=300)\n",
    "    \n",
    "    group_cols = ['gene_type', 'other_type', 'rel_orient']\n",
    "    \n",
    "    idx = pd.MultiIndex.from_product([gene_types, gene_types, rel_orient], names=group_cols)\n",
    "\n",
    "    grouped_stats = stats.groupby(group_cols).count().reindex(idx, fill_value=0).sort_index()\n",
    "    mean_stats = stats.groupby(group_cols).mean().reindex(idx, fill_value=0).sort_index()\n",
    "    std_stats = stats.groupby(group_cols).mean().reindex(idx, fill_value=0).sort_index()\n",
    "    \n",
    "    nb_reps = stats['Replicate'].nunique()\n",
    "    \n",
    "    colors = ['tab:blue', 'tab:orange', 'tab:green', 'tab:red']\n",
    "    \n",
    "    x = np.arange(len(rel_orient))\n",
    "\n",
    "    for i_gene_type, gene_type in enumerate(gene_types):\n",
    "        for i_other_type, other_type in enumerate(gene_types):\n",
    "            for cur_orient in enumerate(rel_orient):\n",
    "                \n",
    "                if count_bars:\n",
    "                    bar_data = grouped_stats.loc[(gene_type, other_type)]['Replicate'] / nb_reps\n",
    "                    text_data = mean_stats.loc[(gene_type, other_type)]['distance']\n",
    "                    \n",
    "                else:\n",
    "                    bar_data = mean_stats.loc[(gene_type, other_type)]['distance'] / nb_reps\n",
    "                    text_data = grouped_stats.loc[(gene_type, other_type)]['Replicate']\n",
    "                \n",
    "\n",
    "                ax = axs[i_gene_type][i_other_type]\n",
    "                \n",
    "                rects = ax.bar(x, bar_data, color=colors)\n",
    "                \n",
    "                if count_bars:\n",
    "                    ax.set_ylim(0, 20)\n",
    "                #    \n",
    "                #else:\n",
    "                #    ax.set_ylim(0, 3250)\n",
    "                \n",
    "                ax.set_xticks(x)\n",
    "                ax.set_xticklabels(labels=rel_orient, fontsize=\"large\")\n",
    "                ax.yaxis.set_tick_params(labelsize=\"large\")\n",
    "                \n",
    "                #Label rects with # of events (deactivated for now)\n",
    "                for i_rect, rect in enumerate([]): #enumerate(rects):\n",
    "                    ax.annotate(f\"{text_data[i_rect]:.1f}\",\n",
    "                                xy=(rect.get_x() + rect.get_width()/2, 0),\n",
    "                                xytext=(0, 3),\n",
    "                                ha='center',\n",
    "                                textcoords=\"offset points\",\n",
    "                                color='black')\n",
    "                \n",
    "                ax.grid(b=True, axis='y', linestyle=':')\n",
    "\n",
    "                if i_gene_type == 0: # First line\n",
    "                    ax.set_title(other_type, fontsize='xx-large')\n",
    "                if i_other_type == 0:\n",
    "                    ax.set_ylabel(gene_type, rotation='horizontal', ha='right', fontsize='xx-large')\n",
    "\n",
    "    plt.savefig(plot_name, dpi=300, bbox_inches='tight')\n",
    "    plt.show()"
   ]
  },
  {
   "cell_type": "code",
   "execution_count": null,
   "metadata": {},
   "outputs": [],
   "source": [
    "plot_gene_stats(evol_stats, count_bars=True, plot_name=exp_path.joinpath('gene_pair_counts.pdf'))"
   ]
  },
  {
   "cell_type": "code",
   "execution_count": null,
   "metadata": {},
   "outputs": [],
   "source": [
    "plot_gene_stats(evol_stats, count_bars=False, plot_name=exp_path.joinpath('gene_pair_distances.pdf'))"
   ]
  },
  {
   "cell_type": "code",
   "execution_count": null,
   "metadata": {},
   "outputs": [],
   "source": [
    "#plot_gene_stats(neutral_stats, count_bars=True, plot_name=neutral_exp_path.joinpath('gene_pair_counts'))"
   ]
  },
  {
   "cell_type": "code",
   "execution_count": null,
   "metadata": {},
   "outputs": [],
   "source": [
    "#plot_gene_stats(neutral_stats, count_bars=False, plot_name=neutral_exp_path.joinpath('gene_pair_distances'))"
   ]
  },
  {
   "cell_type": "markdown",
   "metadata": {},
   "source": [
    "# Plot intergene distribution"
   ]
  },
  {
   "cell_type": "code",
   "execution_count": null,
   "metadata": {},
   "outputs": [],
   "source": [
    "def get_intergene_distances(exp_path, gen):\n",
    "    rep_dirs = sorted([d for d in exp_path.iterdir() if (d.is_dir() and d.name.startswith(\"rep\"))])\n",
    "    full_res = pd.DataFrame()\n",
    "    for rep, rep_dir in enumerate(rep_dirs):\n",
    "\n",
    "        best_indiv = get_best_indiv(rep_dir, gen)\n",
    "        \n",
    "        intergenes = np.zeros(best_indiv.nb_genes)\n",
    "        for i_gene, gene in enumerate(best_indiv.genes):\n",
    "            intergenes[i_gene] = gene.intergene\n",
    "        indiv_res = pd.DataFrame(data={'Intergene':intergenes}, dtype=int)\n",
    "        indiv_res.insert(0, 'Replicate', rep)\n",
    "\n",
    "        full_res = pd.concat([full_res, indiv_res])\n",
    "    \n",
    "    return full_res"
   ]
  },
  {
   "cell_type": "code",
   "execution_count": null,
   "metadata": {},
   "outputs": [],
   "source": [
    "def plot_intergenes(exp_path, neutral_exp_path, gen, cutoff, plot_name):\n",
    "    \n",
    "    intergenes = get_intergene_distances(exp_path, gen)\n",
    "    neutral_intergenes = get_intergene_distances(neutral_exp_path, 100000)\n",
    "    \n",
    "    bins = np.linspace(0.0, 4.0, 40)\n",
    "    \n",
    "    data = [intergenes, neutral_intergenes]\n",
    "    titles = ['With selection', 'Without selection']\n",
    "    \n",
    "    plt.figure(figsize=(9, 4), dpi=300)\n",
    "\n",
    "    for i in range(2):\n",
    "\n",
    "        plt.subplot(1, 2, i+1)\n",
    "        plt.ylim(0, 1)\n",
    "        plt.xlim(-0.2, 4.2)\n",
    "        plt.xlabel('Distance (log)')\n",
    "        plt.ylabel('Density')\n",
    "        # Plot intergene distances\n",
    "        plt.hist(np.log10(data[i]['Intergene']), bins=bins, density=True)\n",
    "        # Plot cutoff line\n",
    "        plt.vlines(np.log10(cutoff), 0, 1, linestyle='--', linewidth=1,\n",
    "                   color='tab:red', label='Cutoff distance')\n",
    "        plt.grid(linestyle=':')\n",
    "        plt.title(titles[i])\n",
    "        plt.legend(loc='upper left')\n",
    "        \n",
    "    plt.savefig(plot_name + '.pdf', dpi=300)\n",
    "    plt.show()"
   ]
  },
  {
   "cell_type": "code",
   "execution_count": null,
   "metadata": {},
   "outputs": [],
   "source": [
    "#plot_intergenes(exp_path, neutral_exp_path, gen=gen, cutoff=params['interaction_dist'],\n",
    "#                plot_name=exp_path.joinpath('intergene_distr'))"
   ]
  },
  {
   "cell_type": "markdown",
   "metadata": {},
   "source": [
    "# Explore the gene interaction graph"
   ]
  },
  {
   "cell_type": "code",
   "execution_count": null,
   "metadata": {},
   "outputs": [],
   "source": [
    "import networkx as nx"
   ]
  },
  {
   "cell_type": "code",
   "execution_count": null,
   "metadata": {},
   "outputs": [],
   "source": [
    "def plot_interaction_graph(exp_path, gen, method='spring'):\n",
    "    \n",
    "    rep_dirs = sorted([d for d in exp_path.iterdir() if (d.is_dir() and d.name.startswith(\"rep\"))])\n",
    "    \n",
    "    for rep, rep_dir in enumerate(rep_dirs):\n",
    "\n",
    "        indiv = get_best_indiv(rep_path=rep_dir, gen=gen)\n",
    "        \n",
    "        ## Build the graph\n",
    "        inter_graph = nx.DiGraph()\n",
    "        \n",
    "        # Nodes\n",
    "        for i_gene, gene in enumerate(indiv.genes):\n",
    "            inter_graph.add_node(i_gene, gene=gene)\n",
    "        \n",
    "        # Edges\n",
    "        for i_gene in range(indiv.nb_genes):\n",
    "            for j_gene in range(indiv.nb_genes):\n",
    "                if i_gene == j_gene:\n",
    "                    continue\n",
    "                if indiv.inter_matrix[i_gene][j_gene] == 0.0:\n",
    "                    continue\n",
    "                # influence of gene j on gene i, so the edge is j -> i\n",
    "                inter_graph.add_edge(j_gene, i_gene, inter=indiv.inter_matrix[i_gene][j_gene])\n",
    "\n",
    "        ## Draw the figure\n",
    "        plt.figure(figsize=(16,16), dpi=dpi)\n",
    "        plt.box(False)\n",
    "\n",
    "        # Choose the layout\n",
    "        if method == 'spring':\n",
    "            layout = nx.spring_layout(inter_graph, k=0.6)\n",
    "        elif method == 'circular':\n",
    "            layout = nx.circular_layout(inter_graph)\n",
    "        else:\n",
    "            raise ValueError(f\"Unknown graph layout '{method}'\")\n",
    "        \n",
    "        # Draw the nodes\n",
    "        nx.draw_networkx_nodes(inter_graph, layout, node_size=600,\n",
    "                               node_color=[gene_type_color[gene.gene_type] for gene in indiv.genes])\n",
    "        nx.draw_networkx_labels(inter_graph, layout)\n",
    "        \n",
    "        # Draw the edges\n",
    "        activ_edges = [e for e in inter_graph.edges if inter_graph[e[0]][e[1]]['inter'] < 0] # Negative sigma \n",
    "        inhib_edges = [e for e in inter_graph.edges if inter_graph[e[0]][e[1]]['inter'] > 0]\n",
    "\n",
    "        coef = 10\n",
    "        activ_widths = [inter_graph[e[0]][e[1]]['inter'] * coef for e in activ_edges]\n",
    "        inhib_widths = [abs(inter_graph[e[0]][e[1]]['inter']) * coef for e in inhib_edges]\n",
    "\n",
    "        nx.draw_networkx_edges(inter_graph, layout, edgelist=inhib_edges,\n",
    "                               width=inhib_widths, edge_color='tab:red', connectionstyle='arc3,rad=0.1')\n",
    "        nx.draw_networkx_edges(inter_graph, layout, edgelist=activ_edges,\n",
    "                               width=activ_widths, edge_color='tab:green', connectionstyle='arc3,rad=0.1')\n",
    "\n",
    "        \n",
    "        plt.savefig(exp_path.joinpath(f'genome_graph_rep{rep:02}_{method}.png'), dpi=dpi)"
   ]
  },
  {
   "cell_type": "code",
   "execution_count": null,
   "metadata": {},
   "outputs": [],
   "source": [
    "plot_interaction_graph(exp_path, gen)"
   ]
  },
  {
   "cell_type": "code",
   "execution_count": null,
   "metadata": {},
   "outputs": [],
   "source": [
    "#plot_interaction_graph(exp_path, gen, method='circular')"
   ]
  },
  {
   "cell_type": "code",
   "execution_count": null,
   "metadata": {},
   "outputs": [],
   "source": []
  }
 ],
 "metadata": {
  "kernelspec": {
   "display_name": "Python 3 (ipykernel)",
   "language": "python",
   "name": "python3"
  },
  "language_info": {
   "codemirror_mode": {
    "name": "ipython",
    "version": 3
   },
   "file_extension": ".py",
   "mimetype": "text/x-python",
   "name": "python",
   "nbconvert_exporter": "python",
   "pygments_lexer": "ipython3",
   "version": "3.9.7"
  }
 },
 "nbformat": 4,
 "nbformat_minor": 4
}
